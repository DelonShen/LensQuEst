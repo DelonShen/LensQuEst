{
 "cells": [
  {
   "cell_type": "code",
   "execution_count": 1,
   "id": "6bd01c97",
   "metadata": {},
   "outputs": [],
   "source": [
    "#######\n",
    "IN_DATA_FNAMES = ['/oak/stanford/orgs/kipac/users/delon/LensQuEst/map_sims_%d.pkl'%(i) for i in range(1,51)]\n",
    "import warnings\n",
    "warnings.filterwarnings(\"ignore\")\n",
    "#####"
   ]
  },
  {
   "cell_type": "code",
   "execution_count": 2,
   "id": "4d077b80",
   "metadata": {},
   "outputs": [],
   "source": [
    "import os, sys\n",
    "WORKING_DIR = os.path.dirname(os.path.abspath(''))\n",
    "sys.path.insert(1, os.path.join(WORKING_DIR,'LensQuEst'))"
   ]
  },
  {
   "cell_type": "code",
   "execution_count": 3,
   "id": "8221081f",
   "metadata": {},
   "outputs": [],
   "source": [
    "from universe import *\n",
    "from halo_fit import *\n",
    "from cmb import *\n",
    "from flat_map import *\n",
    "from weight import *\n",
    "from pn_2d import *\n",
    "import pickle\n",
    "import seaborn as sns\n",
    "from scipy.stats import spearmanr\n",
    "import matplotlib\n",
    "from tqdm import trange, tqdm"
   ]
  },
  {
   "cell_type": "code",
   "execution_count": 4,
   "id": "b176a88f",
   "metadata": {},
   "outputs": [
    {
     "name": "stdout",
     "output_type": "stream",
     "text": [
      "Map properties\n"
     ]
    }
   ],
   "source": [
    "print(\"Map properties\")\n",
    "\n",
    "# number of pixels for the flat map\n",
    "nX = 800\n",
    "nY = 800\n",
    "\n",
    "# map dimensions in degrees\n",
    "sizeX = 20.\n",
    "sizeY = 20.\n",
    "\n",
    "# basic map object\n",
    "baseMap = FlatMap(nX=nX, nY=nY, sizeX=sizeX*np.pi/180., sizeY=sizeY*np.pi/180.)\n",
    "\n",
    "# multipoles to include in the lensing reconstruction\n",
    "lMin = 30.; lMax = 3.5e3\n",
    "\n",
    "# ell bins for power spectra\n",
    "nBins = 51  # number of bins\n",
    "lRange = (1., 2.*lMax)  # range for power spectra"
   ]
  },
  {
   "cell_type": "code",
   "execution_count": 5,
   "id": "4f44ea52",
   "metadata": {},
   "outputs": [
    {
     "name": "stdout",
     "output_type": "stream",
     "text": [
      "../data/input/universe_Planck15/camb/CAMB_outputs.pkl\n"
     ]
    }
   ],
   "source": [
    "oup_fname = '../data/input/universe_Planck15/camb/CAMB_outputs.pkl'\n",
    "print(oup_fname)\n",
    "f = open(oup_fname, 'rb') \n",
    "powers,cl,c_lensed,c_lens_response = pickle.load(f)\n",
    "f.close()\n",
    "\n",
    "totCL=powers['total']\n",
    "unlensedCL=powers['unlensed_scalar']\n",
    "\n",
    "L = np.arange(unlensedCL.shape[0])\n",
    "\n",
    "unlensedTT = unlensedCL[:,0]/(L*(L+1))*2*np.pi\n",
    "F = unlensedTT\n",
    "funlensedTT = interp1d(L, F, kind='linear', bounds_error=False, fill_value=0.)\n",
    "\n",
    "L = np.arange(cl.shape[0])\n",
    "PP = cl[:,0]\n",
    "rawPP = PP*2*np.pi/((L*(L+1))**2)\n",
    "rawKK = L**4/4 * rawPP\n",
    "\n",
    "fKK = interp1d(L, rawKK, kind='linear', bounds_error=False, fill_value=0.)\n",
    "\n",
    "L = np.arange(totCL.shape[0])\n",
    "\n",
    "lensedTT = totCL[:,0]/(L*(L+1))*2*np.pi\n",
    "F = lensedTT\n",
    "flensedTT = interp1d(L, F, kind='linear', bounds_error=False, fill_value=0.)\n",
    "\n",
    "\n",
    "ftot = lambda l : flensedTT(l) + cmb.fForeground(l) + cmb.fdetectorNoise(l)\n",
    "\n",
    "\n",
    "L = np.arange(c_lens_response.shape[0])\n",
    "\n",
    "cTgradT = c_lens_response.T[0]/(L*(L+1))*2*np.pi\n",
    "\n",
    "fTgradT = interp1d(L, cTgradT, kind='linear', bounds_error=False, fill_value=0.)"
   ]
  },
  {
   "cell_type": "code",
   "execution_count": 6,
   "id": "84118eed",
   "metadata": {},
   "outputs": [
    {
     "data": {
      "text/plain": [
       "(29901, 4)"
      ]
     },
     "execution_count": 6,
     "metadata": {},
     "output_type": "execute_result"
    }
   ],
   "source": [
    "powers['unlensed_scalar'].shape"
   ]
  },
  {
   "cell_type": "code",
   "execution_count": 7,
   "id": "c25c6c65",
   "metadata": {},
   "outputs": [
    {
     "data": {
      "text/plain": [
       "(30001, 3)"
      ]
     },
     "execution_count": 7,
     "metadata": {},
     "output_type": "execute_result"
    }
   ],
   "source": [
    "cl.shape"
   ]
  },
  {
   "cell_type": "code",
   "execution_count": 8,
   "id": "be4293a4",
   "metadata": {},
   "outputs": [],
   "source": [
    "# Adjust the lMin and lMax to the assumptions of the analysis\n",
    "# CMB S4/SO specs\n",
    "cmb = StageIVCMB(beam=1.4, noise=7., lMin=lMin, lMaxT=lMax, lMaxP=lMax, atm=False)\n",
    "\n",
    "# Total power spectrum, for the lens reconstruction\n",
    "# basiscally gets what we theoretically expect the\n",
    "# power spectrum will look like\n",
    "forCtotal = lambda l: ftot(l) \n",
    "\n",
    "# reinterpolate: gain factor 10 in speed\n",
    "L = np.logspace(np.log10(lMin/2.), np.log10(2.*lMax), 1001, 10.)\n",
    "F = np.array(list(map(forCtotal, L)))\n",
    "cmb.fCtotal = interp1d(L, F, kind='linear', bounds_error=False, fill_value=0.)"
   ]
  },
  {
   "cell_type": "code",
   "execution_count": 9,
   "id": "1df5ff75",
   "metadata": {},
   "outputs": [
    {
     "name": "stdout",
     "output_type": "stream",
     "text": [
      "Gets a theoretical prediction for the noise\n",
      "computing the reconstruction noise\n"
     ]
    }
   ],
   "source": [
    "print(\"Gets a theoretical prediction for the noise\")\n",
    "fNqCmb_fft = baseMap.forecastN0Kappa(fTgradT, cmb.fCtotal, lMin=lMin, lMax=lMax, test=False)\n",
    "Ntheory = lambda l: fNqCmb_fft(l) "
   ]
  },
  {
   "cell_type": "code",
   "execution_count": 10,
   "id": "4e6702ea",
   "metadata": {},
   "outputs": [],
   "source": [
    "ps_data = {}\n",
    "data = {}"
   ]
  },
  {
   "cell_type": "code",
   "execution_count": 11,
   "id": "c133f7b7",
   "metadata": {},
   "outputs": [
    {
     "name": "stderr",
     "output_type": "stream",
     "text": [
      "100%|██████████| 50/50 [01:02<00:00,  1.24s/it]\n"
     ]
    }
   ],
   "source": [
    "pairs = [\n",
    "    [-1, -1], #lensed\n",
    "    [-2, -2], #GRF\n",
    "    [-3, -3]  #randomized phase\n",
    "]\n",
    "data_names = {\n",
    "    0: 'cmb0F_1',\n",
    "    1: 'lCmbF_o1_1',\n",
    "    2: 'lCmbF_o2_1',\n",
    "    3: 'lCmbF_o3_1',\n",
    "    4: 'lCmbF_o4_1',\n",
    "    -1: 'lCmbF_1',\n",
    "    -2: 'totalF_0',\n",
    "}\n",
    "\n",
    "# pbar = trange(len(pairs))\n",
    "for file_idx in trange(1,51): \n",
    "    for pair_idx in range(len(pairs)):\n",
    "        pair = pairs[pair_idx]\n",
    "        c_fname = '/oak/stanford/orgs/kipac/users/delon/LensQuEst/estimators_FILE%d_pair_%d_%d.pkl'%(file_idx, pair[0], pair[1])\n",
    "        if(not os.path.isfile(c_fname)):\n",
    "            continue\n",
    "        f = open(c_fname, 'rb')  \n",
    "        c_data = pickle.load(f)\n",
    "        f.close()\n",
    "        \n",
    "        pair_things = '%d%d'%(pair[0],pair[1])\n",
    "        ck = pair_things\n",
    "        for data_idx in range(len(c_data['%s_sqrtN'%(pair_things)])):\n",
    "            sqrtNhat = c_data['%s_sqrtN'%(pair_things)][data_idx]\n",
    "\n",
    "            c_ps_data = {}\n",
    "            c_ps_data[ck] = [0,0,0]\n",
    "            c_ps_data[ck][0], c_ps_data[ck][1], c_ps_data[ck][2] = baseMap.powerSpectrum(dataFourier=sqrtNhat, nBins=nBins)\n",
    "            if(ck not in ps_data.keys()):\n",
    "                ps_data[ck] = np.array([c_ps_data[ck]])\n",
    "            else:\n",
    "                ps_data[ck] = np.vstack((ps_data[ck],np.array([c_ps_data[ck]])))  \n",
    "        "
   ]
  },
  {
   "cell_type": "code",
   "execution_count": 12,
   "id": "95b5792e",
   "metadata": {},
   "outputs": [
    {
     "name": "stdout",
     "output_type": "stream",
     "text": [
      "dict_keys([])\n"
     ]
    }
   ],
   "source": [
    "print(data.keys())"
   ]
  },
  {
   "cell_type": "code",
   "execution_count": 13,
   "id": "01c5a65c",
   "metadata": {},
   "outputs": [],
   "source": [
    "# #estimate Nhat\n",
    "# ck = 'Nhat'\n",
    "# for data_idx in trange(len(data['-1-1_sqrtN'])):\n",
    "#     sqrtNhat = data['-1-1_sqrtN'][data_idx]\n",
    "    \n",
    "#     c_ps_data = {}\n",
    "#     c_ps_data[ck] = [0,0,0]\n",
    "#     c_ps_data[ck][0], c_ps_data[ck][1], c_ps_data[ck][2] = baseMap.powerSpectrum(dataFourier=sqrtNhat, nBins=nBins)\n",
    "#     if(ck not in ps_data.keys()):\n",
    "#         ps_data[ck] = np.array([c_ps_data[ck]])\n",
    "#     else:\n",
    "#         ps_data[ck] = np.vstack((ps_data[ck],np.array([c_ps_data[ck]])))  \n",
    "        \n",
    "# print(ps_data[ck].shape)"
   ]
  },
  {
   "cell_type": "code",
   "execution_count": 14,
   "id": "a767dcc1",
   "metadata": {},
   "outputs": [],
   "source": [
    "# #estimate GRF Nhat\n",
    "# ck = 'GRF'\n",
    "# for data_idx in trange(len(data['-2-2_sqrtN'])):\n",
    "#     sqrtNhat = data['-2-2_sqrtN'][data_idx]\n",
    "    \n",
    "#     c_ps_data = {}\n",
    "#     c_ps_data[ck] = [0,0,0]\n",
    "#     c_ps_data[ck][0], c_ps_data[ck][1], c_ps_data[ck][2] = baseMap.powerSpectrum(dataFourier=sqrtNhat, nBins=nBins)\n",
    "#     if(ck not in ps_data.keys()):\n",
    "#         ps_data[ck] = np.array([c_ps_data[ck]])\n",
    "#     else:\n",
    "#         ps_data[ck] = np.vstack(( ps_data[ck], np.array([c_ps_data[ck]])))  "
   ]
  },
  {
   "cell_type": "code",
   "execution_count": 15,
   "id": "83d1abca",
   "metadata": {},
   "outputs": [],
   "source": [
    "# #estimate GRF Nhat\n",
    "# ck = 'GRF random'\n",
    "# for data_idx in trange(len(data['-3-3_sqrtN'])):\n",
    "#     sqrtNhat = data['-3-3_sqrtN'][data_idx]\n",
    "    \n",
    "#     c_ps_data = {}\n",
    "#     c_ps_data[ck] = [0,0,0]\n",
    "#     c_ps_data[ck][0], c_ps_data[ck][1], c_ps_data[ck][2] = baseMap.powerSpectrum(dataFourier=sqrtNhat, nBins=nBins)\n",
    "#     if(ck not in ps_data.keys()):\n",
    "#         ps_data[ck] = np.array([c_ps_data[ck]])\n",
    "#     else:\n",
    "#         ps_data[ck] = np.vstack(( ps_data[ck], np.array([c_ps_data[ck]])))  "
   ]
  },
  {
   "cell_type": "code",
   "execution_count": 16,
   "id": "06c3fb4e",
   "metadata": {},
   "outputs": [],
   "source": [
    "# ck = 'QEQE'\n",
    "# for data_idx in trange(len(data['-1-1'])):\n",
    "#     sqrtNhat = data['-1-1'][data_idx]\n",
    "    \n",
    "#     c_ps_data = {}\n",
    "#     c_ps_data[ck] = [0,0,0]\n",
    "#     c_ps_data[ck][0], c_ps_data[ck][1], c_ps_data[ck][2] = baseMap.powerSpectrum(dataFourier=sqrtNhat, nBins=nBins)\n",
    "#     if(ck not in ps_data.keys()):\n",
    "#         ps_data[ck] = np.array([c_ps_data[ck]])\n",
    "#     else:\n",
    "#         ps_data[ck] = np.vstack((ps_data[ck],np.array([c_ps_data[ck]])))  \n",
    "        \n",
    "# print(ps_data[ck].shape)"
   ]
  },
  {
   "cell_type": "code",
   "execution_count": 17,
   "id": "6973b03c",
   "metadata": {},
   "outputs": [
    {
     "data": {
      "text/plain": [
       "dict_keys(['-1-1', '-2-2', '-3-3'])"
      ]
     },
     "execution_count": 17,
     "metadata": {},
     "output_type": "execute_result"
    }
   ],
   "source": [
    "ps_data.keys()"
   ]
  },
  {
   "cell_type": "code",
   "execution_count": 18,
   "id": "36c84268",
   "metadata": {},
   "outputs": [],
   "source": [
    "\n",
    "\n",
    "LBinned, NtheoryBinned = baseMap.binTheoryPowerSpectrum(Ntheory, nBins=nBins)\n"
   ]
  },
  {
   "cell_type": "code",
   "execution_count": 19,
   "id": "13ed284c",
   "metadata": {},
   "outputs": [],
   "source": [
    "LBinned, fKKBinned = baseMap.binTheoryPowerSpectrum(fKK, nBins=nBins)\n"
   ]
  },
  {
   "cell_type": "code",
   "execution_count": 20,
   "id": "4b29f92c",
   "metadata": {},
   "outputs": [],
   "source": [
    "def combine_Cl(Cls_tot):\n",
    "    n_runs = np.shape(Cls_tot)[0]\n",
    "    print(n_runs, np.shape(Cls_tot))\n",
    "    lCen = Cls_tot[0][0]\n",
    "    \n",
    "    Cls = np.mean(Cls_tot[:,1,:], axis=0)\n",
    "    sCls = np.std(Cls_tot[:,1,:], axis=0)/np.sqrt(n_runs)\n",
    "#     sCls = np.sqrt(np.sum(np.square(Cls_tot[:,2,:]), axis=0))/n_runs \n",
    "\n",
    "    return lCen, Cls, sCls"
   ]
  },
  {
   "cell_type": "code",
   "execution_count": 21,
   "id": "dfe9207c",
   "metadata": {},
   "outputs": [
    {
     "name": "stdout",
     "output_type": "stream",
     "text": [
      "500 (500, 3, 50)\n",
      "[0.00000000e+00 0.00000000e+00 0.00000000e+00 0.00000000e+00\n",
      " 0.00000000e+00 0.00000000e+00 0.00000000e+00 0.00000000e+00\n",
      " 0.00000000e+00 0.00000000e+00 0.00000000e+00 0.00000000e+00\n",
      " 0.00000000e+00 0.00000000e+00 0.00000000e+00 7.80936999e-08\n",
      " 0.00000000e+00 7.83570697e-08 0.00000000e+00 7.85932050e-08\n",
      " 7.88211583e-08 7.94899296e-08 8.01001300e-08 8.08127934e-08\n",
      " 8.20802244e-08 8.37807893e-08 8.62458167e-08 8.90440861e-08\n",
      " 9.26800589e-08 9.66891750e-08 9.99261902e-08 1.01694377e-07\n",
      " 1.01623923e-07 1.01438723e-07 1.02344776e-07 1.02382804e-07\n",
      " 1.02128223e-07 1.02266247e-07 1.02252551e-07 1.02995390e-07\n",
      " 1.06475036e-07 1.17871204e-07 1.54697139e-07 2.56138407e-07\n",
      " 3.18590753e-07 9.32920059e-07 8.03439614e-06 0.00000000e+00\n",
      " 0.00000000e+00 0.00000000e+00]\n",
      "500 (500, 3, 50)\n",
      "[0.00000000e+00 0.00000000e+00 0.00000000e+00 0.00000000e+00\n",
      " 0.00000000e+00 0.00000000e+00 0.00000000e+00 0.00000000e+00\n",
      " 0.00000000e+00 0.00000000e+00 0.00000000e+00 0.00000000e+00\n",
      " 0.00000000e+00 0.00000000e+00 0.00000000e+00 7.85000959e-08\n",
      " 0.00000000e+00 7.86824575e-08 0.00000000e+00 7.90173755e-08\n",
      " 7.91852015e-08 7.98629879e-08 8.04570470e-08 8.11960937e-08\n",
      " 8.24576555e-08 8.41725872e-08 8.66552144e-08 8.94522290e-08\n",
      " 9.31016892e-08 9.71334049e-08 1.00386717e-07 1.02173776e-07\n",
      " 1.02101593e-07 1.01910803e-07 1.02809892e-07 1.02841211e-07\n",
      " 1.02565393e-07 1.02679573e-07 1.02650757e-07 1.03378012e-07\n",
      " 1.06850811e-07 1.18264248e-07 1.55128665e-07 2.56758661e-07\n",
      " 3.19656344e-07 9.36863515e-07 8.08603938e-06 0.00000000e+00\n",
      " 0.00000000e+00 0.00000000e+00]\n",
      "500 (500, 3, 50)\n"
     ]
    },
    {
     "data": {
      "image/png": "[encoded data removed]",
      "text/plain": [
       "<Figure size 864x576 with 1 Axes>"
      ]
     },
     "metadata": {
      "needs_background": "light"
     },
     "output_type": "display_data"
    }
   ],
   "source": [
    "offset=0.01\n",
    "\n",
    "\n",
    "fig, ax = plt.subplots(nrows=1, ncols=1, figsize =(12,8))\n",
    "\n",
    "\n",
    "plt.rcParams['text.usetex'] = True\n",
    "plt.rcParams['font.size'] = 32\n",
    "\n",
    "ell = baseMap.l.flatten()\n",
    "\n",
    "lCen0, Cl0, sCl0 = combine_Cl(np.array(ps_data['-1-1']))\n",
    "lCen1, Cl1, sCl1 = LBinned, NtheoryBinned, np.zeros_like(sCl0)\n",
    "\n",
    "\n",
    "\n",
    "\n",
    "# print((Cl0-Cl1)/Cl0)\n",
    "assert(all(lCen0 == lCen1))\n",
    "ax.errorbar(lCen0, (Cl0-Cl1)/(Cl1), yerr=sCl0/Cl1, alpha=0.75, \n",
    "            fmt='o-', capsize=3, capthick=1, c='red', label=r'$\\hat N$ on Lensed Maps')#, label=labels[key], c=colors[key])\n",
    "print(Cl0)\n",
    "tmp = [l*np.exp(offset*1)-l for l in lCen0]\n",
    "\n",
    "\n",
    "lCen0, Cl0, sCl0 = combine_Cl(np.array(ps_data['-3-3']))\n",
    "ax.errorbar(lCen0+tmp, (Cl0-Cl1)/(Cl1), yerr=sCl0/Cl1, alpha=0.75, \n",
    "            fmt='x-', capsize=3, capthick=1, c='blue', label=r'$\\hat N$ on $T_\\ell = \\sqrt{C_\\ell^{\\rm tot}} e^{i\\phi_\\ell^{\\rm random}}$')#, label=labels[key], c=colors[key])\n",
    "print(Cl0)\n",
    "\n",
    "tmp = [l*np.exp(offset*2)-l for l in lCen0]\n",
    "\n",
    "lCen0, Cl0, sCl0 = combine_Cl(np.array(ps_data['-2-2']))\n",
    "ax.errorbar(lCen0+tmp, (Cl0-Cl1)/(Cl1), yerr=sCl0/Cl1, alpha=0.75, \n",
    "            fmt='x-', capsize=3, capthick=1, c='Green', label=r'$\\hat N$ on GRF')#, label=labels[key], c=colors[key])\n",
    "\n",
    "# lCen0, Cl0, sCl0 = combine_Cl(np.array(ps_data['GRF havled']))\n",
    "# ax.errorbar(lCen0, (Cl0-Cl1)/(Cl1), yerr=sCl0/Cl1, alpha=0.75, \n",
    "#             fmt='x-', capsize=3, capthick=1, c='lightgreen', label=r'$\\hat N$ on GRF [Halved Stats]')#, label=labels[key], c=colors[key])\n",
    "\n",
    "\n",
    "ax.legend(frameon=False)\n",
    "ax.set_xscale('log')\n",
    "ax.set_xlabel(r'$\\ell$')\n",
    "ax.set_ylabel(r'$\\frac{\\hat N-N_{\\rm theory}}{N_{\\rm theory}}$')\n",
    "\n",
    "# ax.set_yscale('log')\n",
    "ax.set_xlim(lMin,2*lMax)\n",
    "# ax.set_ylim(1.1e-10,.9e-3)\n",
    "\n",
    "ax.fill_between([0, 1e20], [-0.001, -0.001], [0.001, 0.001], alpha=1, color='0.95')#, label=r'$<1\\%$ Error')\n",
    "\n",
    "# ax.set_yscale('symlog', linthresh=.5e-2) \n",
    "\n",
    "ax.axhline(0, c='k')\n",
    "\n",
    "ax.set_ylim(-.25e-2, .25e-2)\n",
    "ax.set_xlim(32, 3000)\n",
    "ax.set_yticks([-0.001,- 0.002,0.001, 0.002])\n",
    "ax.legend(frameon=False)\n",
    "# ax.set_yticks([-1e-1,-1e-2,-1e-3,1e-1,1e-2,1e-3])\n",
    "plt.savefig('figures/Nhat various.pdf', bbox_inches='tight')"
   ]
  },
  {
   "cell_type": "code",
   "execution_count": 22,
   "id": "6f51ffa6",
   "metadata": {},
   "outputs": [],
   "source": [
    "ra = (baseMap.sizeX + baseMap.dX)*(baseMap.sizeY + baseMap.dY)/ (baseMap.sizeX * baseMap.sizeY)\n",
    "ra = ra**(3/2)"
   ]
  },
  {
   "cell_type": "code",
   "execution_count": 23,
   "id": "2f125bec",
   "metadata": {},
   "outputs": [
    {
     "name": "stdout",
     "output_type": "stream",
     "text": [
      "500 (500, 3, 50)\n",
      "500 (500, 3, 50)\n",
      "500 (500, 3, 50)\n"
     ]
    },
    {
     "data": {
      "text/plain": [
       "<matplotlib.legend.Legend at 0x7f5199285c70>"
      ]
     },
     "execution_count": 23,
     "metadata": {},
     "output_type": "execute_result"
    },
    {
     "data": {
      "image/png": "[encoded data removed]",
      "text/plain": [
       "<Figure size 864x576 with 1 Axes>"
      ]
     },
     "metadata": {
      "needs_background": "light"
     },
     "output_type": "display_data"
    }
   ],
   "source": [
    "offset=0.01\n",
    "\n",
    "\n",
    "fig, ax = plt.subplots(nrows=1, ncols=1, figsize =(12,8))\n",
    "\n",
    "\n",
    "plt.rcParams['text.usetex'] = True\n",
    "plt.rcParams['font.size'] = 32\n",
    "\n",
    "ell = baseMap.l.flatten()\n",
    "\n",
    "lCen0, Cl0, sCl0 = combine_Cl(np.array(ps_data['-1-1']))\n",
    "lCen1, Cl1, sCl1 = LBinned, NtheoryBinned, np.zeros_like(sCl0)\n",
    "\n",
    "\n",
    "\n",
    "\n",
    "# print((Cl0-Cl1)/Cl0)\n",
    "assert(all(lCen0 == lCen1))\n",
    "ax.errorbar(lCen0, (ra*Cl0-Cl1)/(Cl1), yerr=sCl0/Cl1, alpha=0.75, \n",
    "            fmt='o-', capsize=3, capthick=1, c='red', label=r'$\\hat N$ on Lensed Maps')#, label=labels[key], c=colors[key])\n",
    "\n",
    "tmp = [l*np.exp(offset*1)-l for l in lCen0]\n",
    "\n",
    "\n",
    "lCen0, Cl0, sCl0 = combine_Cl(np.array(ps_data['-3-3']))\n",
    "ax.errorbar(lCen0+tmp, (Cl0-Cl1)/(Cl1), yerr=sCl0/Cl1, alpha=0.75, \n",
    "            fmt='x-', capsize=3, capthick=1, c='blue', label=r'$\\hat N$ on $T_\\ell = \\sqrt{C_\\ell^{\\rm tot}} e^{i\\phi_\\ell^{\\rm random}}$')#, label=labels[key], c=colors[key])\n",
    "\n",
    "\n",
    "tmp = [l*np.exp(offset*2)-l for l in lCen0]\n",
    "\n",
    "lCen0, Cl0, sCl0 = combine_Cl(np.array(ps_data['-2-2']))\n",
    "ax.errorbar(lCen0+tmp, (Cl0-Cl1)/(Cl1), yerr=sCl0/Cl1, alpha=0.75, \n",
    "            fmt='x-', capsize=3, capthick=1, c='Green', label=r'$\\hat N$ on GRF')#, label=labels[key], c=colors[key])\n",
    "\n",
    "# lCen0, Cl0, sCl0 = combine_Cl(np.array(ps_data['GRF havled']))\n",
    "# ax.errorbar(lCen0, (Cl0-Cl1)/(Cl1), yerr=sCl0/Cl1, alpha=0.75, \n",
    "#             fmt='x-', capsize=3, capthick=1, c='lightgreen', label=r'$\\hat N$ on GRF [Halved Stats]')#, label=labels[key], c=colors[key])\n",
    "\n",
    "\n",
    "ax.legend(frameon=False)\n",
    "ax.set_xscale('log')\n",
    "ax.set_xlabel(r'$\\ell$')\n",
    "ax.set_ylabel(r'$\\frac{\\hat N-N_{\\rm theory}}{N_{\\rm theory}}$')\n",
    "\n",
    "# ax.set_yscale('log')\n",
    "ax.set_xlim(lMin,2*lMax)\n",
    "# ax.set_ylim(1.1e-10,.9e-3)\n",
    "\n",
    "ax.fill_between([0, 1e20], [-0.001, -0.001], [0.001, 0.001], alpha=1, color='0.95')#, label=r'$<1\\%$ Error')\n",
    "\n",
    "# ax.set_yscale('symlog', linthresh=.5e-2) \n",
    "\n",
    "ax.axhline(0, c='k')\n",
    "\n",
    "ax.set_ylim(-.06e-1, .06e-1)\n",
    "ax.set_xlim(32, 3000)\n",
    "ax.set_yticks([-0.001,0.001,])#- 0.002,0.001, 0.002])\n",
    "ax.legend(frameon=False)\n",
    "# ax.set_yticks([-1e-1,-1e-2,-1e-3,1e-1,1e-2,1e-3])\n"
   ]
  },
  {
   "cell_type": "code",
   "execution_count": null,
   "id": "3e146955",
   "metadata": {},
   "outputs": [],
   "source": []
  },
  {
   "cell_type": "code",
   "execution_count": null,
   "id": "779a4d18",
   "metadata": {},
   "outputs": [],
   "source": []
  },
  {
   "cell_type": "code",
   "execution_count": null,
   "id": "89464695",
   "metadata": {},
   "outputs": [],
   "source": []
  },
  {
   "cell_type": "code",
   "execution_count": 24,
   "id": "2d50128d",
   "metadata": {},
   "outputs": [],
   "source": [
    "# offset=0.03\n",
    "\n",
    "\n",
    "# fig, ax = plt.subplots(nrows=1, ncols=1, figsize =(12,8))\n",
    "\n",
    "\n",
    "# plt.rcParams['text.usetex'] = True\n",
    "# plt.rcParams['font.size'] = 20\n",
    "\n",
    "# ell = baseMap.l.flatten()\n",
    "\n",
    "# lCen0, Cl0, sCl0 = combine_Cl(np.array(ps_data['QEQE']))\n",
    "# lCen1, Cl1, sCl1 = LBinned, NtheoryBinned, np.zeros_like(sCl0)\n",
    "\n",
    "\n",
    "# # print((Cl0-Cl1)/Cl0)\n",
    "# assert(all(lCen0 == lCen1))\n",
    "# ax.errorbar(lCen0, Cl0, yerr=sCl0, alpha=0.75, \n",
    "#             fmt='o-', capsize=3, capthick=1, c='red', label=r'QEQE')#, label=labels[key], c=colors[key])\n",
    "\n",
    "\n",
    "\n",
    "# lCen1, Cl1, sCl1 = LBinned, fKKBinned, np.zeros_like(fKK)\n",
    "# ax.errorbar(lCen1, Cl1, yerr=sCl1, alpha=0.75, \n",
    "#             fmt='o-', capsize=3, capthick=1, c='black', label=r'KK')#, label=labels[key], c=colors[key])\n",
    "\n",
    "# # tmp = [l*np.exp(offset*1)-l for l in lCen0]\n",
    "\n",
    "\n",
    "# # lCen0, Cl0, sCl0 = combine_Cl(np.array(ps_data['GRF random']))\n",
    "# # ax.errorbar(lCen0+tmp, (Cl0-Cl1)/(Cl1), yerr=sCl0/Cl1, alpha=0.75, \n",
    "# #             fmt='x-', capsize=3, capthick=1, c='blue', label=r'$\\hat N$ on $T_\\ell = \\sqrt{C_\\ell^{\\rm tot}} e^{i\\phi_\\ell^{\\rm random}}$')#, label=labels[key], c=colors[key])\n",
    "\n",
    "\n",
    "# # tmp = [l*np.exp(offset*2)-l for l in lCen0]\n",
    "\n",
    "# # lCen0, Cl0, sCl0 = combine_Cl(np.array(ps_data['GRF']))\n",
    "# # ax.errorbar(lCen0+tmp, (Cl0-Cl1)/(Cl1), yerr=sCl0/Cl1, alpha=0.75, \n",
    "# #             fmt='x-', capsize=3, capthick=1, c='Green', label=r'$\\hat N$ on GRF')#, label=labels[key], c=colors[key])\n",
    "\n",
    "# # lCen0, Cl0, sCl0 = combine_Cl(np.array(ps_data['GRF havled']))\n",
    "# # ax.errorbar(lCen0, (Cl0-Cl1)/(Cl1), yerr=sCl0/Cl1, alpha=0.75, \n",
    "# #             fmt='x-', capsize=3, capthick=1, c='lightgreen', label=r'$\\hat N$ on GRF [Halved Stats]')#, label=labels[key], c=colors[key])\n",
    "\n",
    "\n",
    "# ax.legend(frameon=False)\n",
    "# ax.set_xscale('log')\n",
    "# ax.set_xlabel(r'$\\ell$')\n",
    "# ax.set_ylabel(r'$\\frac{\\hat N-N_{\\rm theory}}{N_{\\rm theory}}$')\n",
    "\n",
    "# ax.set_yscale('log')\n",
    "# ax.set_xlim(lMin,2*lMax)\n",
    "# ax.set_ylim(1.1e-10,.9e-3)\n",
    "\n",
    "# # ax.fill_between([0, 1e20], [-0.1, -0.1], [0.1, 0.1], alpha=1, color='0.95')#, label=r'$<10\\%$ Error')\n",
    "# # ax.fill_between([0, 1e20], [-0.01, -0.01], [0.01, 0.01], alpha=1, color='0.85')#, label=r'$<1\\%$ Error')\n",
    "# ax.fill_between([0, 1e20], [-0.001, -0.001], [0.001, 0.001], alpha=1, color='0.75')#, label=r'$<1\\%$ Error')\n",
    "\n",
    "# # ax.set_yscale('symlog', linthresh=.5e-2) \n",
    "\n",
    "# ax.axhline(0, c='k')\n",
    "\n",
    "# ax.set_ylim(-.98e-2, .98e-2)\n",
    "# ax.set_xlim(42, 3000)\n",
    "# ax.legend(frameon=False)\n",
    "# # ax.set_yticks([-1e-1,-1e-2,-1e-3,1e-1,1e-2,1e-3])\n"
   ]
  },
  {
   "cell_type": "code",
   "execution_count": 23,
   "id": "6e61b88c",
   "metadata": {},
   "outputs": [],
   "source": [
    "tmp_norm = baseMap.computeQuadEstPhiNormalizationFFT(fTgradT, cmb.fCtotal)\n",
    "\n",
    "tmp_norm = np.real(tmp_norm)\n",
    "# remove the nans\n",
    "tmp_norm = np.nan_to_num(tmp_norm)\n",
    "# make sure every value is positive\n",
    "tmp_norm = np.abs(tmp_norm)"
   ]
  },
  {
   "cell_type": "code",
   "execution_count": 24,
   "id": "b11f5366",
   "metadata": {},
   "outputs": [],
   "source": [
    "lnorm, normps, _ = baseMap.powerSpectrum(tmp_norm)"
   ]
  },
  {
   "cell_type": "code",
   "execution_count": 33,
   "id": "3492740e",
   "metadata": {},
   "outputs": [],
   "source": [
    "fnorm = interp1d(lnorm, normps, kind='linear', bounds_error=False, fill_value=0.)"
   ]
  },
  {
   "cell_type": "code",
   "execution_count": 26,
   "id": "78b8eda3",
   "metadata": {},
   "outputs": [
    {
     "name": "stdout",
     "output_type": "stream",
     "text": [
      "computing the reconstruction noise\n"
     ]
    }
   ],
   "source": [
    "fnorm = baseMap.forecastN0Kappa(fTgradT, cmb.fCtotal, lMin=lMin, lMax=lMax)"
   ]
  },
  {
   "cell_type": "code",
   "execution_count": 27,
   "id": "8493870d",
   "metadata": {},
   "outputs": [
    {
     "data": {
      "text/plain": [
       "(7e-08, 1e-06)"
      ]
     },
     "execution_count": 27,
     "metadata": {},
     "output_type": "execute_result"
    },
    {
     "data": {
      "image/png": "[encoded data removed]",
      "text/plain": [
       "<Figure size 432x288 with 1 Axes>"
      ]
     },
     "metadata": {
      "needs_background": "light"
     },
     "output_type": "display_data"
    }
   ],
   "source": [
    "plt.plot(L, np.array(list(map(fnorm, L))), label='norm')\n",
    "plt.plot(L, list(map(Ntheory,L)),label='ntheory')\n",
    "\n",
    "plt.legend()\n",
    "plt.xscale('log')\n",
    "plt.yscale('log')\n",
    "plt.ylim([7e-8,1e-6])"
   ]
  },
  {
   "cell_type": "code",
   "execution_count": 28,
   "id": "82cb62ec",
   "metadata": {},
   "outputs": [
    {
     "data": {
      "image/png": "[encoded data removed]",
      "text/plain": [
       "<Figure size 432x288 with 1 Axes>"
      ]
     },
     "metadata": {
      "needs_background": "light"
     },
     "output_type": "display_data"
    }
   ],
   "source": [
    "plt.plot(L, list(map(flensedTT, L)))\n",
    "plt.plot(L, list(map(ftot,L)))\n",
    "plt.plot(L, list(map(fTgradT,L)))\n",
    "\n",
    "plt.xscale('log')\n",
    "plt.yscale('log')"
   ]
  },
  {
   "cell_type": "markdown",
   "id": "51e399c9",
   "metadata": {},
   "source": [
    "We showed in the paper tthat Nhat(GRF) should be biased by\n",
    "$${\\rm correction} = 2 N_{\\rm theory}^2 F_{L/2, L/2}^2 (C_{L/2}^{\\rm tot})^2$$\n",
    "\n",
    "$$F_{L/2, L/2} = \\frac{f_{L/2, L/2}}{2 (C_{L/2}^{\\rm tot})^2}$$\n",
    "$$f_{L/2, L/2} = 2/(L)^2 \\times (L)\\cdot L C_{L/2}^{T\\nabla T}=2 C_{L/2}^{T\\nabla T}$$\n",
    "\n",
    "$$F_{L/2, L/2} = \\frac{ C_{L/2}^{T\\nabla T}}{ (C_{L/2}^{\\rm tot})^2}$$\n",
    "\n",
    "$${\\rm correction} = 2 N_{\\rm theory}^2 \\times  \\frac{(C_{L/2}^{T\\nabla T})^2}{ (C_{L/2}^{\\rm tot})^2}  $$\n",
    "EDIT: IGNORE AND SEE PAPER"
   ]
  },
  {
   "cell_type": "code",
   "execution_count": 29,
   "id": "1bfd4095",
   "metadata": {},
   "outputs": [],
   "source": [
    "correction = lambda L: 1/2*fnorm(L)**2*fTgradT(L/2)**2 / ftot(L/2)**2  * 1/(baseMap.sizeX * baseMap.sizeY)"
   ]
  },
  {
   "cell_type": "code",
   "execution_count": null,
   "id": "f96db05f",
   "metadata": {},
   "outputs": [],
   "source": [
    "offset=0\n",
    "\n",
    "fig, ax = plt.subplots(nrows=1, ncols=1, figsize =(16,10))\n",
    "\n",
    "\n",
    "plt.rcParams['text.usetex'] = True\n",
    "plt.rcParams['font.size'] = 20\n",
    "\n",
    "ell = baseMap.l.flatten()\n",
    "\n",
    "lCen0, Cl0, sCl0 = combine_Cl(np.array(ps_data['Nhat']))\n",
    "lCen1, Cl1, sCl1 = LBinned, NtheoryBinned, np.zeros_like(sCl0)\n",
    "\n",
    "\n",
    "\n",
    "# print((Cl0-Cl1)/Cl0)\n",
    "assert(all(lCen0 == lCen1))\n",
    "ax.errorbar(lCen0, (Cl0-Cl1)/(Cl1), yerr=sCl0/Cl1, alpha=0.75, \n",
    "            fmt='o-', capsize=3, capthick=1, c='red', label=r'$\\hat N$ on \"Real\" Data')#, label=labels[key], c=colors[key])\n",
    "\n",
    "\n",
    "\n",
    "lCen0, Cl0, sCl0 = combine_Cl(np.array(ps_data['GRF random']))\n",
    "ax.errorbar(lCen0, (Cl0-Cl1)/(Cl1), yerr=sCl0/Cl1, alpha=0.75, \n",
    "            fmt='x-', capsize=3, capthick=1, c='blue', label=r'$\\hat N$ on $T_\\ell = \\sqrt{C_\\ell^{\\rm tot}} e^{i\\phi_\\ell^{\\rm random}}$')#, label=labels[key], c=colors[key])\n",
    "\n",
    "lCen0, Cl0, sCl0 = combine_Cl(np.array(ps_data['GRF']))\n",
    "ax.errorbar(lCen0, (Cl0-Cl1)/(Cl1), yerr=sCl0/Cl1, alpha=0.75, \n",
    "            fmt='x-', capsize=3, capthick=1, c='Green', label=r'$\\hat N$ on GRF')#, label=labels[key], c=colors[key])\n",
    "\n",
    "# lCen0, Cl0, sCl0 = combine_Cl(np.array(ps_data['GRF havled']))\n",
    "# ax.errorbar(lCen0, (Cl0-Cl1)/(Cl1), yerr=sCl0/Cl1, alpha=0.75, \n",
    "#             fmt='x-', capsize=3, capthick=1, c='lightgreen', label=r'$\\hat N$ on GRF [Halved Stats]')#, label=labels[key], c=colors[key])\n",
    "\n",
    "ax.legend(frameon=False)\n",
    "ax.set_xscale('log')\n",
    "ax.set_xlabel(r'$\\ell$')\n",
    "ax.set_ylabel(r'$\\frac{\\hat N-N_{\\rm theory}}{N_{\\rm theory}}$')\n",
    "\n",
    "# ax.set_yscale('log')\n",
    "ax.set_xlim(lMin,2*lMax)\n",
    "# ax.set_ylim(1.1e-10,.9e-3)\n",
    "\n",
    "# ax.fill_between([0, 1e20], [-0.1, -0.1], [0.1, 0.1], alpha=1, color='0.95')#, label=r'$<10\\%$ Error')\n",
    "# ax.fill_between([0, 1e20], [-0.01, -0.01], [0.01, 0.01], alpha=1, color='0.85')#, label=r'$<1\\%$ Error')\n",
    "ax.fill_between([0, 1e20], [-0.001, -0.001], [0.001, 0.001], alpha=1, color='0.85')#, label=r'$<1\\%$ Error')\n",
    "\n",
    "\n",
    "corr = np.array(list(map(correction, lCen0)))\n",
    "# print((corr)/Cl1)\n",
    "# plt.scatter(lCen0, (16)*(corr)/Cl1, label=r'correction $\\times$ 16', c='purple', s=10)\n",
    "plt.scatter(lCen0, (corr)/Cl1, label='correction', c='k', s=10)\n",
    "# print((corr)/Cl1)\n",
    "# plt.scatter(lCen0, (2*np.pi)**2/2*(corr)/Cl1, label=r'correction $\\times (2\\pi)^2/2$', c='pink', s=10)\n",
    "\n",
    "\n",
    "# lCen0, Cl0, sCl0 = combine_Cl(np.array(ps_data['GRF']))\n",
    "# ax.errorbar(lCen0, (Cl0-16*corr-Cl1)/(Cl1), yerr=sCl0/Cl1, alpha=0.75, \n",
    "#             fmt='x-', capsize=3, capthick=1, c='purple', label=r'$\\hat N$ on GRF $-16\\times$Correction')#, label=labels[key], c=colors[key])\n",
    "# ax.errorbar(lCen0, (Cl0-(2*np.pi)**2/2*corr-Cl1)/(Cl1), yerr=sCl0/Cl1, alpha=0.75, \n",
    "#             fmt='x-', capsize=3, capthick=1, c='pink', label=r'$\\hat N$ on GRF $-(2\\pi)^2/2\\times$Correction')#, label=labels[key], c=colors[key])\n",
    "\n",
    "# ax.set_yscale('symlog', linthresh=.5e-2) \n",
    "\n",
    "ax.axhline(0, c='k')\n",
    "\n",
    "ax.set_ylim(-.98e-2, .98e-2)\n",
    "ax.legend(frameon=False)\n",
    "# ax.set_yticks([-1e-1,-1e-2,-1e-3,1e-1,1e-2,1e-3])\n"
   ]
  },
  {
   "cell_type": "code",
   "execution_count": null,
   "id": "d8c8dff3",
   "metadata": {},
   "outputs": [],
   "source": []
  }
 ],
 "metadata": {
  "kernelspec": {
   "display_name": "nblensing",
   "language": "python",
   "name": "nblensing"
  },
  "language_info": {
   "codemirror_mode": {
    "name": "ipython",
    "version": 3
   },
   "file_extension": ".py",
   "mimetype": "text/x-python",
   "name": "python",
   "nbconvert_exporter": "python",
   "pygments_lexer": "ipython3",
   "version": "3.9.16"
  }
 },
 "nbformat": 4,
 "nbformat_minor": 5
}
