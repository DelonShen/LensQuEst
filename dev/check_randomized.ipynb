{
 "cells": [
  {
   "cell_type": "code",
   "execution_count": 1,
   "id": "6bd01c97",
   "metadata": {},
   "outputs": [],
   "source": [
    "#######\n",
    "IN_DATA_FNAMES = ['/oak/stanford/orgs/kipac/users/delon/LensQuEst/map_sims_800x800_20x20_%d.pkl'%(i) for i in range(1,51)]\n",
    "import warnings\n",
    "warnings.filterwarnings(\"ignore\")\n",
    "#####"
   ]
  },
  {
   "cell_type": "code",
   "execution_count": 2,
   "id": "4d077b80",
   "metadata": {},
   "outputs": [],
   "source": [
    "import os, sys\n",
    "WORKING_DIR = os.path.dirname(os.path.abspath(''))\n",
    "sys.path.insert(1, os.path.join(WORKING_DIR,'LensQuEst'))"
   ]
  },
  {
   "cell_type": "code",
   "execution_count": 3,
   "id": "8221081f",
   "metadata": {},
   "outputs": [],
   "source": [
    "from universe import *\n",
    "from halo_fit import *\n",
    "from cmb import *\n",
    "from flat_map import *\n",
    "from weight import *\n",
    "from pn_2d import *\n",
    "import pickle\n",
    "import seaborn as sns\n",
    "from scipy.stats import spearmanr\n",
    "import matplotlib\n",
    "from tqdm import trange, tqdm"
   ]
  },
  {
   "cell_type": "code",
   "execution_count": 4,
   "id": "b176a88f",
   "metadata": {},
   "outputs": [
    {
     "name": "stdout",
     "output_type": "stream",
     "text": [
      "Map properties\n"
     ]
    }
   ],
   "source": [
    "print(\"Map properties\")\n",
    "\n",
    "# number of pixels for the flat map\n",
    "nX = 800\n",
    "nY =800\n",
    "\n",
    "# map dimensions in degrees\n",
    "sizeX = 20.\n",
    "sizeY = 20.\n",
    "\n",
    "# basic map object\n",
    "baseMap = FlatMap(nX=nX, nY=nY, sizeX=sizeX*np.pi/180., sizeY=sizeY*np.pi/180.)\n",
    "\n",
    "# multipoles to include in the lensing reconstruction\n",
    "lMin = 30.; lMax = 3.5e3\n",
    "\n",
    "# ell bins for power spectra\n",
    "nBins = 51  # number of bins\n",
    "lRange = (1., 2.*lMax)  # range for power spectra"
   ]
  },
  {
   "cell_type": "code",
   "execution_count": 5,
   "id": "4f44ea52",
   "metadata": {},
   "outputs": [
    {
     "name": "stdout",
     "output_type": "stream",
     "text": [
      "../data/input/universe_Planck15/camb/CAMB_outputs.pkl\n"
     ]
    }
   ],
   "source": [
    "oup_fname = '../data/input/universe_Planck15/camb/CAMB_outputs.pkl'\n",
    "print(oup_fname)\n",
    "f = open(oup_fname, 'rb') \n",
    "powers,cl,c_lensed,c_lens_response = pickle.load(f)\n",
    "f.close()\n",
    "\n",
    "totCL=powers['total']\n",
    "unlensedCL=powers['unlensed_scalar']\n",
    "\n",
    "L = np.arange(unlensedCL.shape[0])\n",
    "\n",
    "unlensedTT = unlensedCL[:,0]/(L*(L+1))*2*np.pi\n",
    "F = unlensedTT\n",
    "funlensedTT = interp1d(L, F, kind='linear', bounds_error=False, fill_value=0.)\n",
    "\n",
    "L = np.arange(cl.shape[0])\n",
    "PP = cl[:,0]\n",
    "rawPP = PP*2*np.pi/((L*(L+1))**2)\n",
    "rawKK = L**4/4 * rawPP\n",
    "\n",
    "fKK = interp1d(L, rawKK, kind='linear', bounds_error=False, fill_value=0.)\n",
    "\n",
    "L = np.arange(totCL.shape[0])\n",
    "\n",
    "lensedTT = totCL[:,0]/(L*(L+1))*2*np.pi\n",
    "F = lensedTT\n",
    "flensedTT = interp1d(L, F, kind='linear', bounds_error=False, fill_value=0.)\n",
    "\n",
    "\n",
    "ftot = lambda l : flensedTT(l) + cmb.fForeground(l) + cmb.fdetectorNoise(l)\n",
    "\n",
    "\n",
    "L = np.arange(c_lens_response.shape[0])\n",
    "\n",
    "cTgradT = c_lens_response.T[0]/(L*(L+1))*2*np.pi\n",
    "\n",
    "fTgradT = interp1d(L, cTgradT, kind='linear', bounds_error=False, fill_value=0.)"
   ]
  },
  {
   "cell_type": "code",
   "execution_count": 6,
   "id": "84118eed",
   "metadata": {},
   "outputs": [
    {
     "data": {
      "text/plain": [
       "(29901, 4)"
      ]
     },
     "execution_count": 6,
     "metadata": {},
     "output_type": "execute_result"
    }
   ],
   "source": [
    "powers['unlensed_scalar'].shape"
   ]
  },
  {
   "cell_type": "code",
   "execution_count": 7,
   "id": "c25c6c65",
   "metadata": {},
   "outputs": [
    {
     "data": {
      "text/plain": [
       "(30001, 3)"
      ]
     },
     "execution_count": 7,
     "metadata": {},
     "output_type": "execute_result"
    }
   ],
   "source": [
    "cl.shape"
   ]
  },
  {
   "cell_type": "code",
   "execution_count": 8,
   "id": "be4293a4",
   "metadata": {},
   "outputs": [],
   "source": [
    "# Adjust the lMin and lMax to the assumptions of the analysis\n",
    "# CMB S4/SO specs\n",
    "cmb = StageIVCMB(beam=1.4, noise=7., lMin=lMin, lMaxT=lMax, lMaxP=lMax, atm=False)\n",
    "\n",
    "# Total power spectrum, for the lens reconstruction\n",
    "# basiscally gets what we theoretically expect the\n",
    "# power spectrum will look like\n",
    "forCtotal = lambda l: ftot(l) \n",
    "\n",
    "# reinterpolate: gain factor 10 in speed\n",
    "L = np.logspace(np.log10(lMin/2.), np.log10(2.*lMax), 1001, 10.)\n",
    "F = np.array(list(map(forCtotal, L)))\n",
    "cmb.fCtotal = interp1d(L, F, kind='linear', bounds_error=False, fill_value=0.)"
   ]
  },
  {
   "cell_type": "code",
   "execution_count": 9,
   "id": "1df5ff75",
   "metadata": {},
   "outputs": [
    {
     "name": "stdout",
     "output_type": "stream",
     "text": [
      "Gets a theoretical prediction for the noise\n",
      "computing the reconstruction noise\n"
     ]
    }
   ],
   "source": [
    "print(\"Gets a theoretical prediction for the noise\")\n",
    "fNqCmb_fft = baseMap.forecastN0Kappa(fTgradT, cmb.fCtotal, lMin=lMin, lMax=lMax, test=False)\n",
    "Ntheory = lambda l: fNqCmb_fft(l) "
   ]
  },
  {
   "cell_type": "code",
   "execution_count": 10,
   "id": "eb86efda",
   "metadata": {},
   "outputs": [],
   "source": [
    "data = np.random.normal(loc=0., \n",
    "                        scale=1./np.sqrt(baseMap.dX*baseMap.dY), \n",
    "                        size=len(baseMap.x.flatten()))\n",
    "\n",
    "data = data.reshape(np.shape(baseMap.x))\n",
    "\n",
    "dataFourier = baseMap.fourier(data)\n",
    "\n",
    "dataFourier = np.ones_like(dataFourier)\n",
    "f = lambda l: np.sqrt(cmb.fCtotal(l))\n",
    "clFourier = np.array(list(map(f, baseMap.l.flatten())))\n",
    "clFourier = np.nan_to_num(clFourier)\n",
    "clFourier = clFourier.reshape(np.shape(baseMap.l))\n",
    "\n",
    "dataFourier *= clFourier * np.sqrt(baseMap.sizeX* baseMap.sizeY)\n",
    "TRand = baseMap.randomizePhases(dataFourier=dataFourier)"
   ]
  },
  {
   "cell_type": "code",
   "execution_count": 11,
   "id": "ad4ec463",
   "metadata": {},
   "outputs": [
    {
     "data": {
      "image/png": "[encoded data removed]",
      "text/plain": [
       "<Figure size 432x288 with 1 Axes>"
      ]
     },
     "metadata": {
      "needs_background": "light"
     },
     "output_type": "display_data"
    }
   ],
   "source": [
    "baseMap.powerSpectrum(TRand, \n",
    "                      theory=[cmb.fCtotal], \n",
    "                      plot=True);"
   ]
  },
  {
   "cell_type": "code",
   "execution_count": 12,
   "id": "f3616c80",
   "metadata": {},
   "outputs": [],
   "source": [
    "TRand2 = baseMap.randomizePhases(dataFourier=dataFourier)"
   ]
  },
  {
   "cell_type": "code",
   "execution_count": null,
   "id": "f40a97aa",
   "metadata": {},
   "outputs": [],
   "source": []
  },
  {
   "cell_type": "code",
   "execution_count": 13,
   "id": "a63ae404",
   "metadata": {},
   "outputs": [
    {
     "name": "stderr",
     "output_type": "stream",
     "text": [
      "100%|██████████| 500/500 [03:47<00:00,  2.20it/s]\n"
     ]
    }
   ],
   "source": [
    "from multiprocessing import Pool\n",
    "from tqdm import tqdm\n",
    "import numpy as np\n",
    "\n",
    "def process_data(_):\n",
    "    TRand = baseMap.randomizePhases(dataFourier=dataFourier)\n",
    "    sqrtNhat = baseMap.computeQuadEstKappaAutoCorrectionMap(fTgradT,\n",
    "                                                            cmb.fCtotal, \n",
    "                                                            lMin=lMin, lMax=lMax, \n",
    "                                                            dataFourier=TRand)\n",
    "    return sqrtNhat\n",
    "\n",
    "with Pool() as p:\n",
    "    res = list(tqdm(p.imap(process_data, range(500)), total=500))\n",
    "c_data = np.array(res)"
   ]
  },
  {
   "cell_type": "code",
   "execution_count": 14,
   "id": "4e6702ea",
   "metadata": {},
   "outputs": [],
   "source": [
    "data = {}\n",
    "data['sqrtN'] = c_data\n",
    "ps_data = {}"
   ]
  },
  {
   "cell_type": "code",
   "execution_count": 15,
   "id": "217b6bb8",
   "metadata": {},
   "outputs": [
    {
     "name": "stderr",
     "output_type": "stream",
     "text": [
      "100%|██████████| 500/500 [00:07<00:00, 65.24it/s]"
     ]
    },
    {
     "name": "stdout",
     "output_type": "stream",
     "text": [
      "(500, 3, 50)\n"
     ]
    },
    {
     "name": "stderr",
     "output_type": "stream",
     "text": [
      "\n"
     ]
    }
   ],
   "source": [
    "#estimate Nhat\n",
    "ck = 'Nhat TTRand'\n",
    "nBins=51\n",
    "for data_idx in trange(len(data['sqrtN'])):\n",
    "    sqrtNhat = data['sqrtN'][data_idx]\n",
    "    \n",
    "    c_ps_data = {}\n",
    "    c_ps_data[ck] = [0,0,0]\n",
    "    c_ps_data[ck][0], c_ps_data[ck][1], c_ps_data[ck][2] = baseMap.powerSpectrum(dataFourier=sqrtNhat, nBins=nBins)\n",
    "    if(ck not in ps_data.keys()):\n",
    "        ps_data[ck] = np.array([c_ps_data[ck]])\n",
    "    else:\n",
    "        ps_data[ck] = np.vstack((ps_data[ck],np.array([c_ps_data[ck]])))  \n",
    "        \n",
    "print(ps_data[ck].shape)"
   ]
  },
  {
   "cell_type": "code",
   "execution_count": 16,
   "id": "c133f7b7",
   "metadata": {},
   "outputs": [
    {
     "name": "stderr",
     "output_type": "stream",
     "text": [
      "100%|██████████| 50/50 [01:30<00:00,  1.81s/it]\n"
     ]
    }
   ],
   "source": [
    "pairs = [\n",
    "#    [0,0], #N0\n",
    "#    [0,1], #kappa\n",
    "#    [1,0], #kappa\n",
    "#    [0,2], #N1\n",
    "#    [1,1], #N1\n",
    "#    [2,0], #N1\n",
    "#     [0,3], #should vanish\n",
    "#     [1,2], #should vanish\n",
    "#     [2,1], #should vanish\n",
    "#     [3,0], #should vanish\n",
    "#     [0,4], #N2 \n",
    "#     [1,3], #N2\n",
    "#     [2,2], #N2\n",
    "#     [3,1], #N2\n",
    "#     [4,0], #N2\n",
    "   [-1, -1], #QE\n",
    "   [-2, -2], #unlensed\n",
    "]\n",
    "\n",
    "# random seed\n",
    "# Nhat <TTTT> look at to see if its subtract (11)\n",
    "# compute (B12)\n",
    "data_names = {\n",
    "    0: 'cmb0F_1',\n",
    "    1: 'lCmbF_o1_1',\n",
    "    2: 'lCmbF_o2_1',\n",
    "    3: 'lCmbF_o3_1',\n",
    "    4: 'lCmbF_o4_1',\n",
    "    -1: 'lCmbF_1',\n",
    "    -2: 'totalF_0',\n",
    "}\n",
    "\n",
    "# pbar = trange(len(pairs))\n",
    "for file_idx in trange(1,51):\n",
    "    for pair_idx in range(len(pairs)):\n",
    "        pair = pairs[pair_idx]\n",
    "        c_fname = '/oak/stanford/orgs/kipac/users/delon/LensQuEst/QE_and_Nhat_from_map_sims_800x800_20x20_FILE%d_pair_%d_%d.pkl'%(file_idx, pair[0], pair[1])\n",
    "        if(not os.path.isfile(c_fname)):\n",
    "            continue\n",
    "        f = open(c_fname, 'rb')  \n",
    "        c_data = pickle.load(f)\n",
    "        f.close()        \n",
    "        for key in c_data:\n",
    "            if(key not in data.keys()):\n",
    "                data[key] = np.array(c_data[key])\n",
    "            else:\n",
    "                data[key] = np.vstack((data[key], np.array(c_data[key])))  \n",
    "#             print(np.shape(data[key]))"
   ]
  },
  {
   "cell_type": "code",
   "execution_count": 17,
   "id": "95b5792e",
   "metadata": {},
   "outputs": [
    {
     "name": "stdout",
     "output_type": "stream",
     "text": [
      "dict_keys(['sqrtN', '-1-1', '-1-1_sqrtN', '-2-2', '-2-2_sqrtN'])\n"
     ]
    }
   ],
   "source": [
    "print(data.keys())"
   ]
  },
  {
   "cell_type": "code",
   "execution_count": 18,
   "id": "01c5a65c",
   "metadata": {},
   "outputs": [
    {
     "name": "stderr",
     "output_type": "stream",
     "text": [
      "100%|██████████| 500/500 [00:07<00:00, 64.73it/s]"
     ]
    },
    {
     "name": "stdout",
     "output_type": "stream",
     "text": [
      "(500, 3, 50)\n"
     ]
    },
    {
     "name": "stderr",
     "output_type": "stream",
     "text": [
      "\n"
     ]
    }
   ],
   "source": [
    "#estimate Nhat\n",
    "ck = 'Nhat'\n",
    "for data_idx in trange(len(data['-1-1_sqrtN'])):\n",
    "    sqrtNhat = data['-1-1_sqrtN'][data_idx]\n",
    "    \n",
    "    c_ps_data = {}\n",
    "    c_ps_data[ck] = [0,0,0]\n",
    "    c_ps_data[ck][0], c_ps_data[ck][1], c_ps_data[ck][2] = baseMap.powerSpectrum(dataFourier=sqrtNhat, nBins=nBins)\n",
    "    if(ck not in ps_data.keys()):\n",
    "        ps_data[ck] = np.array([c_ps_data[ck]])\n",
    "    else:\n",
    "        ps_data[ck] = np.vstack((ps_data[ck],np.array([c_ps_data[ck]])))  \n",
    "        \n",
    "print(ps_data[ck].shape)"
   ]
  },
  {
   "cell_type": "code",
   "execution_count": 19,
   "id": "a767dcc1",
   "metadata": {},
   "outputs": [
    {
     "name": "stderr",
     "output_type": "stream",
     "text": [
      "100%|██████████| 500/500 [00:07<00:00, 65.11it/s]\n"
     ]
    }
   ],
   "source": [
    "#estimate GRF Nhat\n",
    "ck = 'GRF'\n",
    "for data_idx in trange(len(data['-2-2_sqrtN'])):\n",
    "    sqrtNhat = data['-2-2_sqrtN'][data_idx]\n",
    "    \n",
    "    c_ps_data = {}\n",
    "    c_ps_data[ck] = [0,0,0]\n",
    "    c_ps_data[ck][0], c_ps_data[ck][1], c_ps_data[ck][2] = baseMap.powerSpectrum(dataFourier=sqrtNhat, nBins=nBins)\n",
    "    if(ck not in ps_data.keys()):\n",
    "        ps_data[ck] = np.array([c_ps_data[ck]])\n",
    "    else:\n",
    "        ps_data[ck] = np.vstack(( ps_data[ck], np.array([c_ps_data[ck]])))  "
   ]
  },
  {
   "cell_type": "code",
   "execution_count": 20,
   "id": "5528b651",
   "metadata": {},
   "outputs": [
    {
     "name": "stderr",
     "output_type": "stream",
     "text": [
      "100%|██████████| 250/250 [00:04<00:00, 61.11it/s]\n"
     ]
    }
   ],
   "source": [
    "#estimate GRF Nhat\n",
    "ck = 'GRF havled'\n",
    "for data_idx in trange(len(data['-2-2_sqrtN'])//2):\n",
    "    sqrtNhat = data['-2-2_sqrtN'][data_idx]\n",
    "    \n",
    "    c_ps_data = {}\n",
    "    c_ps_data[ck] = [0,0,0]\n",
    "    c_ps_data[ck][0], c_ps_data[ck][1], c_ps_data[ck][2] = baseMap.powerSpectrum(dataFourier=sqrtNhat, nBins=nBins)\n",
    "    if(ck not in ps_data.keys()):\n",
    "        ps_data[ck] = np.array([c_ps_data[ck]])\n",
    "    else:\n",
    "        ps_data[ck] = np.vstack(( ps_data[ck], np.array([c_ps_data[ck]])))  "
   ]
  },
  {
   "cell_type": "code",
   "execution_count": 21,
   "id": "6973b03c",
   "metadata": {},
   "outputs": [
    {
     "data": {
      "text/plain": [
       "dict_keys(['Nhat TTRand', 'Nhat', 'GRF', 'GRF havled'])"
      ]
     },
     "execution_count": 21,
     "metadata": {},
     "output_type": "execute_result"
    }
   ],
   "source": [
    "ps_data.keys()"
   ]
  },
  {
   "cell_type": "code",
   "execution_count": 22,
   "id": "36c84268",
   "metadata": {},
   "outputs": [
    {
     "name": "stderr",
     "output_type": "stream",
     "text": [
      "100%|██████████| 500/500 [01:10<00:00,  7.08it/s]\n"
     ]
    }
   ],
   "source": [
    "import numpy as np\n",
    "from multiprocessing import Pool\n",
    "from tqdm import trange\n",
    "\n",
    "# Define a function to compute Ntheory_evaled for a given iteration\n",
    "def compute_Ntheory_evaled(_):\n",
    "    # Replace your original code here\n",
    "    t0, t1 = baseMap.binTheoryPowerSpectrum(Ntheory, nBins=nBins)\n",
    "    t2 = np.zeros_like(t1)\n",
    "    return [t0, t1, t2]\n",
    "\n",
    "# Set the number of iterations for parallel processing\n",
    "num_iterations = ps_data['Nhat'].shape[0]\n",
    "\n",
    "# Create a pool of worker processes using all available CPU cores\n",
    "pool = Pool()\n",
    "\n",
    "# Use the map function to parallelize the computation of Ntheory_evaled\n",
    "Ntheory_evaled = list(tqdm(pool.imap(compute_Ntheory_evaled, range(num_iterations)), total=num_iterations))\n",
    "\n",
    "# Convert the list of results to a NumPy array\n",
    "Ntheory_evaled = np.array(Ntheory_evaled)\n",
    "\n",
    "# Clean up the pool of worker processes\n",
    "pool.close()\n",
    "pool.join()"
   ]
  },
  {
   "cell_type": "code",
   "execution_count": 23,
   "id": "4b29f92c",
   "metadata": {},
   "outputs": [],
   "source": [
    "def combine_Cl(Cls_tot):\n",
    "    n_runs = np.shape(Cls_tot)[0]\n",
    "    print(n_runs, np.shape(Cls_tot))\n",
    "    lCen = Cls_tot[0][0]\n",
    "    Cls = np.sum(np.transpose(Cls_tot, axes=[1,2,0])[1], axis=1)/n_runs\n",
    "#     sCls = np.sqrt(np.sum(np.square(np.transpose(Cls_tot, axes=[1,2,0])[2]), axis=1))/n_runs\n",
    "    sCls = np.std(np.transpose(Cls_tot, axes=[1,2,0])[1], axis=1)/np.sqrt(n_runs)\n",
    "\n",
    "    return lCen, Cls, sCls"
   ]
  },
  {
   "cell_type": "code",
   "execution_count": 24,
   "id": "dfe9207c",
   "metadata": {},
   "outputs": [
    {
     "name": "stdout",
     "output_type": "stream",
     "text": [
      "500 (500, 3, 50)\n",
      "500 (500, 3, 50)\n",
      "500 (500, 3, 50)\n",
      "500 (500, 3, 50)\n"
     ]
    },
    {
     "data": {
      "image/png": "[encoded data removed]",
      "text/plain": [
       "<Figure size 864x576 with 1 Axes>"
      ]
     },
     "metadata": {
      "needs_background": "light"
     },
     "output_type": "display_data"
    }
   ],
   "source": [
    "offset=0\n",
    "\n",
    "fig, ax = plt.subplots(nrows=1, ncols=1, figsize =(12,8))\n",
    "\n",
    "\n",
    "plt.rcParams['text.usetex'] = True\n",
    "plt.rcParams['font.size'] = 20\n",
    "\n",
    "ell = baseMap.l.flatten()\n",
    "\n",
    "lCen0, Cl0, sCl0 = combine_Cl(np.array(ps_data['Nhat']))\n",
    "lCen1, Cl1, sCl1 = combine_Cl(Ntheory_evaled)\n",
    "\n",
    "\n",
    "\n",
    "# print((Cl0-Cl1)/Cl0)\n",
    "assert(all(lCen0 == lCen1))\n",
    "ax.errorbar(lCen0, (Cl0-Cl1)/(Cl1), yerr=sCl0/Cl1, alpha=0.75, \n",
    "            fmt='o-', capsize=3, capthick=1, c='red', label=r'$\\hat N$ on \"Real\" Data')#, label=labels[key], c=colors[key])\n",
    "\n",
    "\n",
    "\n",
    "lCen0, Cl0, sCl0 = combine_Cl(np.array(ps_data['Nhat TTRand']))\n",
    "ax.errorbar(lCen0, (Cl0-Cl1)/(Cl1), yerr=sCl0/Cl1, alpha=0.75, \n",
    "            fmt='x-', capsize=3, capthick=1, c='blue', label=r'$\\hat N$ on $T_\\ell = \\sqrt{C_\\ell^{\\rm tot}} e^{i\\phi_\\ell^{\\rm random}}$')#, label=labels[key], c=colors[key])\n",
    "\n",
    "lCen0, Cl0, sCl0 = combine_Cl(np.array(ps_data['GRF']))\n",
    "ax.errorbar(lCen0, (Cl0-Cl1)/(Cl1), yerr=sCl0/Cl1, alpha=0.75, \n",
    "            fmt='x-', capsize=3, capthick=1, c='Green', label=r'$\\hat N$ on GRF')#, label=labels[key], c=colors[key])\n",
    "\n",
    "# lCen0, Cl0, sCl0 = combine_Cl(np.array(ps_data['GRF havled']))\n",
    "# ax.errorbar(lCen0, (Cl0-Cl1)/(Cl1), yerr=sCl0/Cl1, alpha=0.75, \n",
    "#             fmt='x-', capsize=3, capthick=1, c='lightgreen', label=r'$\\hat N$ on GRF [Halved Stats]')#, label=labels[key], c=colors[key])\n",
    "\n",
    "\n",
    "ax.legend(frameon=False)\n",
    "ax.set_xscale('log')\n",
    "ax.set_xlabel(r'$\\ell$')\n",
    "ax.set_ylabel(r'$\\frac{\\hat N-N_{\\rm theory}}{N_{\\rm theory}}$')\n",
    "\n",
    "# ax.set_yscale('log')\n",
    "ax.set_xlim(lMin,2*lMax)\n",
    "# ax.set_ylim(1.1e-10,.9e-3)\n",
    "\n",
    "ax.fill_between([0, 1e20], [-0.1, -0.1], [0.1, 0.1], alpha=1, color='0.95')#, label=r'$<10\\%$ Error')\n",
    "ax.fill_between([0, 1e20], [-0.01, -0.01], [0.01, 0.01], alpha=1, color='0.85')#, label=r'$<1\\%$ Error')\n",
    "ax.fill_between([0, 1e20], [-0.001, -0.001], [0.001, 0.001], alpha=1, color='0.75')#, label=r'$<1\\%$ Error')\n",
    "\n",
    "# ax.set_yscale('symlog', linthresh=.5e-2) \n",
    "\n",
    "ax.axhline(0, c='k')\n",
    "\n",
    "ax.set_ylim(-.98e-2, .98e-2)\n",
    "ax.legend(frameon=False)\n",
    "# ax.set_yticks([-1e-1,-1e-2,-1e-3,1e-1,1e-2,1e-3])\n",
    "plt.savefig('figures/Nhat various.pdf')"
   ]
  },
  {
   "cell_type": "code",
   "execution_count": 128,
   "id": "6e61b88c",
   "metadata": {},
   "outputs": [],
   "source": [
    "tmp_norm = baseMap.computeQuadEstPhiNormalizationFFT(fTgradT, cmb.fCtotal)"
   ]
  },
  {
   "cell_type": "code",
   "execution_count": 169,
   "id": "b11f5366",
   "metadata": {},
   "outputs": [],
   "source": [
    "lnorm, normps, _ = baseMap.powerSpectrum(tmp_norm)"
   ]
  },
  {
   "cell_type": "code",
   "execution_count": 170,
   "id": "3492740e",
   "metadata": {},
   "outputs": [],
   "source": [
    "fnorm = interp1d(lnorm, normps, kind='linear', bounds_error=False, fill_value=0.)"
   ]
  },
  {
   "cell_type": "code",
   "execution_count": 171,
   "id": "8493870d",
   "metadata": {},
   "outputs": [
    {
     "data": {
      "image/png": "[encoded data removed]",
      "text/plain": [
       "<Figure size 432x288 with 1 Axes>"
      ]
     },
     "metadata": {
      "needs_background": "light"
     },
     "output_type": "display_data"
    }
   ],
   "source": [
    "plt.plot(L, list(map(fnorm, L)), label='norm')\n",
    "plt.plot(L, list(map(Ntheory,L)),label='ntheory')\n",
    "\n",
    "plt.legend()\n",
    "plt.xscale('log')\n",
    "plt.yscale('log')"
   ]
  },
  {
   "cell_type": "code",
   "execution_count": 107,
   "id": "82cb62ec",
   "metadata": {},
   "outputs": [
    {
     "data": {
      "image/png": "[encoded data removed]",
      "text/plain": [
       "<Figure size 432x288 with 1 Axes>"
      ]
     },
     "metadata": {
      "needs_background": "light"
     },
     "output_type": "display_data"
    }
   ],
   "source": [
    "plt.plot(L, list(map(flensedTT, L)))\n",
    "plt.plot(L, list(map(ftot,L)))\n",
    "plt.plot(L, list(map(fTgradT,L)))\n",
    "\n",
    "plt.xscale('log')\n",
    "plt.yscale('log')"
   ]
  },
  {
   "cell_type": "markdown",
   "id": "51e399c9",
   "metadata": {},
   "source": [
    "We showed in the paper tthat Nhat(GRF) should be biased by\n",
    "$${\\rm correction} = 2 N_{\\rm theory}^2 F_{L/2, L/2}^2 (C_{L/2}^{\\rm tot})^2$$\n",
    "\n",
    "$$F_{L/2, L/2} = \\frac{f_{L/2, L/2}}{2 (C_{L/2}^{\\rm tot})^2}$$\n",
    "$$f_{L/2, L/2} = 2/(L/2)^2 \\times (L/2)\\cdot L C_{L/2}^{T\\nabla T}=4 C_{L/2}^{T\\nabla T}$$\n",
    "\n",
    "$$F_{L/2, L/2} = \\frac{2 C_{L/2}^{T\\nabla T}}{ (C_{L/2}^{\\rm tot})^2}$$\n",
    "\n",
    "$${\\rm correction} = 2 N_{\\rm theory}^2 \\times 4 \\frac{(C_{L/2}^{T\\nabla T})^2}{ (C_{L/2}^{\\rm tot})^2}  $$"
   ]
  },
  {
   "cell_type": "code",
   "execution_count": 205,
   "id": "1bfd4095",
   "metadata": {},
   "outputs": [],
   "source": [
    "correction = lambda L: 2*Ntheory(L)**2*fTgradT(L/2)**2 / ftot(L/2)**2  * (2*np.pi)**4"
   ]
  },
  {
   "cell_type": "code",
   "execution_count": null,
   "id": "85bd4831",
   "metadata": {},
   "outputs": [],
   "source": []
  },
  {
   "cell_type": "code",
   "execution_count": 210,
   "id": "f96db05f",
   "metadata": {},
   "outputs": [
    {
     "name": "stdout",
     "output_type": "stream",
     "text": [
      "500 (500, 3, 50)\n",
      "500 (500, 3, 50)\n",
      "500 (500, 3, 50)\n",
      "500 (500, 3, 50)\n",
      "[       nan        nan        nan        nan        inf        inf\n",
      "        inf        inf        inf        inf        inf        inf\n",
      "        inf        inf        inf 0.00024467        inf 0.00024524\n",
      "        inf 0.00024628 0.00024681 0.00024892 0.0002508  0.00025311\n",
      " 0.00025706 0.0002624  0.00027019 0.00027896 0.00029048 0.00030325\n",
      " 0.00031362 0.00031928 0.00031831 0.00031714 0.00032044 0.00031968\n",
      " 0.00031824 0.0003196  0.00031934 0.00031979 0.00032818 0.00035872\n",
      " 0.00043878 0.00077494 0.00076381 0.00172453 0.00682899 0.\n",
      "        nan        nan]\n"
     ]
    },
    {
     "data": {
      "text/plain": [
       "<matplotlib.legend.Legend at 0x7f35bb042ac0>"
      ]
     },
     "execution_count": 210,
     "metadata": {},
     "output_type": "execute_result"
    },
    {
     "data": {
      "image/png": "[encoded data removed]",
      "text/plain": [
       "<Figure size 864x576 with 1 Axes>"
      ]
     },
     "metadata": {
      "needs_background": "light"
     },
     "output_type": "display_data"
    }
   ],
   "source": [
    "offset=0\n",
    "\n",
    "fig, ax = plt.subplots(nrows=1, ncols=1, figsize =(12,8))\n",
    "\n",
    "\n",
    "plt.rcParams['text.usetex'] = True\n",
    "plt.rcParams['font.size'] = 20\n",
    "\n",
    "ell = baseMap.l.flatten()\n",
    "\n",
    "lCen0, Cl0, sCl0 = combine_Cl(np.array(ps_data['Nhat']))\n",
    "lCen1, Cl1, sCl1 = combine_Cl(Ntheory_evaled)\n",
    "\n",
    "\n",
    "\n",
    "# print((Cl0-Cl1)/Cl0)\n",
    "assert(all(lCen0 == lCen1))\n",
    "ax.errorbar(lCen0, (Cl0-Cl1)/(Cl1), yerr=sCl0/Cl1, alpha=0.75, \n",
    "            fmt='o-', capsize=3, capthick=1, c='red', label=r'$\\hat N$ on \"Real\" Data')#, label=labels[key], c=colors[key])\n",
    "\n",
    "\n",
    "\n",
    "lCen0, Cl0, sCl0 = combine_Cl(np.array(ps_data['Nhat TTRand']))\n",
    "ax.errorbar(lCen0, (Cl0-Cl1)/(Cl1), yerr=sCl0/Cl1, alpha=0.75, \n",
    "            fmt='x-', capsize=3, capthick=1, c='blue', label=r'$\\hat N$ on $T_\\ell = \\sqrt{C_\\ell^{\\rm tot}} e^{i\\phi_\\ell^{\\rm random}}$')#, label=labels[key], c=colors[key])\n",
    "\n",
    "lCen0, Cl0, sCl0 = combine_Cl(np.array(ps_data['GRF']))\n",
    "ax.errorbar(lCen0, (Cl0-Cl1)/(Cl1), yerr=sCl0/Cl1, alpha=0.75, \n",
    "            fmt='x-', capsize=3, capthick=1, c='Green', label=r'$\\hat N$ on GRF')#, label=labels[key], c=colors[key])\n",
    "\n",
    "# lCen0, Cl0, sCl0 = combine_Cl(np.array(ps_data['GRF havled']))\n",
    "# ax.errorbar(lCen0, (Cl0-Cl1)/(Cl1), yerr=sCl0/Cl1, alpha=0.75, \n",
    "#             fmt='x-', capsize=3, capthick=1, c='lightgreen', label=r'$\\hat N$ on GRF [Halved Stats]')#, label=labels[key], c=colors[key])\n",
    "\n",
    "ax.legend(frameon=False)\n",
    "ax.set_xscale('log')\n",
    "ax.set_xlabel(r'$\\ell$')\n",
    "ax.set_ylabel(r'$\\frac{\\hat N-N_{\\rm theory}}{N_{\\rm theory}}$')\n",
    "\n",
    "# ax.set_yscale('log')\n",
    "ax.set_xlim(lMin,2*lMax)\n",
    "# ax.set_ylim(1.1e-10,.9e-3)\n",
    "\n",
    "ax.fill_between([0, 1e20], [-0.1, -0.1], [0.1, 0.1], alpha=1, color='0.95')#, label=r'$<10\\%$ Error')\n",
    "ax.fill_between([0, 1e20], [-0.01, -0.01], [0.01, 0.01], alpha=1, color='0.85')#, label=r'$<1\\%$ Error')\n",
    "ax.fill_between([0, 1e20], [-0.001, -0.001], [0.001, 0.001], alpha=1, color='0.75')#, label=r'$<1\\%$ Error')\n",
    "\n",
    "\n",
    "corr = np.array(list(map(correction, lCen0)))\n",
    "print((corr)/Cl1)\n",
    "plt.scatter(lCen0, 16*(corr)/Cl1, label='correction times 16', c='purple')\n",
    "plt.scatter(lCen0, (corr)/Cl1, label='correction', c='k')\n",
    "\n",
    "# ax.set_yscale('symlog', linthresh=.5e-2) \n",
    "\n",
    "ax.axhline(0, c='k')\n",
    "\n",
    "ax.set_ylim(-.98e-2, .98e-2)\n",
    "ax.legend(frameon=False)\n",
    "# ax.set_yticks([-1e-1,-1e-2,-1e-3,1e-1,1e-2,1e-3])\n",
    "# plt.savefig('figures/Nhat various.pdf')"
   ]
  },
  {
   "cell_type": "code",
   "execution_count": 29,
   "id": "e8b1bd3e",
   "metadata": {},
   "outputs": [],
   "source": [
    "# aliasing issue?"
   ]
  },
  {
   "cell_type": "code",
   "execution_count": 26,
   "id": "aa97dc2f",
   "metadata": {},
   "outputs": [
    {
     "data": {
      "text/plain": [
       "7200.0"
      ]
     },
     "execution_count": 26,
     "metadata": {},
     "output_type": "execute_result"
    }
   ],
   "source": [
    "np.max(baseMap.lx)"
   ]
  },
  {
   "cell_type": "code",
   "execution_count": 28,
   "id": "dee266ef",
   "metadata": {},
   "outputs": [
    {
     "data": {
      "text/plain": [
       "14000.0"
      ]
     },
     "execution_count": 28,
     "metadata": {},
     "output_type": "execute_result"
    }
   ],
   "source": [
    "4*lMax"
   ]
  },
  {
   "cell_type": "code",
   "execution_count": 30,
   "id": "e27c2eb1",
   "metadata": {},
   "outputs": [
    {
     "data": {
      "text/plain": [
       "1800.0"
      ]
     },
     "execution_count": 30,
     "metadata": {},
     "output_type": "execute_result"
    }
   ],
   "source": [
    "7200/4"
   ]
  },
  {
   "cell_type": "code",
   "execution_count": null,
   "id": "9bfd2f6e",
   "metadata": {},
   "outputs": [],
   "source": []
  }
 ],
 "metadata": {
  "kernelspec": {
   "display_name": "nblensing",
   "language": "python",
   "name": "nblensing"
  },
  "language_info": {
   "codemirror_mode": {
    "name": "ipython",
    "version": 3
   },
   "file_extension": ".py",
   "mimetype": "text/x-python",
   "name": "python",
   "nbconvert_exporter": "python",
   "pygments_lexer": "ipython3",
   "version": "3.9.16"
  }
 },
 "nbformat": 4,
 "nbformat_minor": 5
}
