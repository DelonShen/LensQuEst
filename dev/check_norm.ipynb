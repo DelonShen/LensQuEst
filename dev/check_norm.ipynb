{
 "cells": [
  {
   "cell_type": "markdown",
   "metadata": {},
   "source": [
    "to check the normalization of the QE is to cross-correlate QE with the true input kappa, and compare that with the power spectrum of the true kappa. The ratio should be unity"
   ]
  },
  {
   "cell_type": "code",
   "execution_count": 1,
   "metadata": {},
   "outputs": [],
   "source": [
    "%load_ext autoreload\n",
    "%autoreload 2"
   ]
  },
  {
   "cell_type": "code",
   "execution_count": 2,
   "metadata": {},
   "outputs": [],
   "source": [
    "import os, sys\n",
    "WORKING_DIR = os.path.dirname(os.path.abspath(''))\n",
    "sys.path.insert(1, os.path.join(WORKING_DIR,'LensQuEst'))\n",
    "\n",
    "#to get latex to work, shoulldn't be necessary for most ppl\n",
    "os.environ['PATH'] = \"%s:/usr/local/cuda-11.2/bin:/usr/local/bin:/usr/bin:/usr/local/sbin:/usr/sbin:/opt/anaconda/bin:/home/delon/texlive/bin/x86_64-linux:/home/delon/.local/bin:/home/delon/bin\"%os.environ['PATH']"
   ]
  },
  {
   "cell_type": "code",
   "execution_count": 3,
   "metadata": {},
   "outputs": [],
   "source": [
    "from universe import *\n",
    "from halo_fit import *\n",
    "from cmb import *\n",
    "from flat_map import *\n",
    "from weight import *\n",
    "from pn_2d import *\n",
    "import pickle\n",
    "import seaborn as sns\n",
    "from scipy.stats import spearmanr\n"
   ]
  },
  {
   "cell_type": "code",
   "execution_count": 87,
   "metadata": {},
   "outputs": [
    {
     "name": "stdout",
     "output_type": "stream",
     "text": [
      "Map properties\n"
     ]
    }
   ],
   "source": [
    "print(\"Map properties\")\n",
    "\n",
    "# number of pixels for the flat map\n",
    "nX = 800 # 1200\n",
    "nY = 800 #1200\n",
    "\n",
    "# map dimensions in degrees\n",
    "sizeX = 20.\n",
    "sizeY = 20.\n",
    "\n",
    "# basic map object\n",
    "baseMap = FlatMap(nX=nX, nY=nY, sizeX=sizeX*np.pi/180., sizeY=sizeY*np.pi/180.)\n",
    "\n",
    "# multipoles to include in the lensing reconstruction\n",
    "lMin = 30.; lMax = 3.5e3\n",
    "\n",
    "# ell bins for power spectra\n",
    "nBins = 21  # number of bins\n",
    "lRange = (1., 2.*lMax)  # range for power spectra"
   ]
  },
  {
   "cell_type": "code",
   "execution_count": 88,
   "metadata": {},
   "outputs": [
    {
     "name": "stdout",
     "output_type": "stream",
     "text": [
      "CMB experiment properties\n"
     ]
    }
   ],
   "source": [
    "print(\"CMB experiment properties\")\n",
    "\n",
    "# Adjust the lMin and lMax to the assumptions of the analysis\n",
    "# CMB S3 specs\n",
    "cmb = StageIVCMB(beam=1., noise=1., lMin=lMin, lMaxT=lMax, lMaxP=lMax, atm=False)\n",
    "\n",
    "# Total power spectrum, for the lens reconstruction\n",
    "# basiscally gets what we theoretically expect the\n",
    "# power spectrum will look like\n",
    "forCtotal = lambda l: cmb.ftotal(l) \n",
    "\n",
    "# reinterpolate: gain factor 10 in speed\n",
    "L = np.logspace(np.log10(lMin/2.), np.log10(2.*lMax), 1001, 10.)\n",
    "F = np.array(list(map(forCtotal, L)))\n",
    "cmb.fCtotal = interp1d(L, F, kind='linear', bounds_error=False, fill_value=0.)"
   ]
  },
  {
   "cell_type": "code",
   "execution_count": 90,
   "metadata": {},
   "outputs": [
    {
     "name": "stdout",
     "output_type": "stream",
     "text": [
      "CMB lensing power spectrum\n"
     ]
    }
   ],
   "source": [
    "print(\"CMB lensing power spectrum\")\n",
    "u = UnivPlanck15()\n",
    "halofit = Halofit(u, save=False)\n",
    "w_cmblens = WeightLensSingle(u, z_source=1100., name=\"cmblens\")\n",
    "p2d_cmblens = P2dAuto(u, halofit, w_cmblens, save=False)"
   ]
  },
  {
   "cell_type": "code",
   "execution_count": 91,
   "metadata": {},
   "outputs": [
    {
     "name": "stdout",
     "output_type": "stream",
     "text": [
      "Gets a theoretical prediction for the noise\n",
      "computing the reconstruction noise\n"
     ]
    },
    {
     "name": "stderr",
     "output_type": "stream",
     "text": [
      "/code/delon/LensQuEst/LensQuEst/flat_map.py:1668: RuntimeWarning: divide by zero encountered in divide\n",
      "  resultFourier = 1./resultFourier\n",
      "/code/delon/LensQuEst/LensQuEst/flat_map.py:1668: RuntimeWarning: invalid value encountered in divide\n",
      "  resultFourier = 1./resultFourier\n"
     ]
    }
   ],
   "source": [
    "print(\"Gets a theoretical prediction for the noise\")\n",
    "fNqCmb_fft = baseMap.forecastN0Kappa(cmb.funlensedTT, cmb.fCtotal, lMin=lMin, lMax=lMax, test=False)\n",
    "Ntheory = lambda l: fNqCmb_fft(l) "
   ]
  },
  {
   "cell_type": "code",
   "execution_count": 92,
   "metadata": {},
   "outputs": [
    {
     "name": "stderr",
     "output_type": "stream",
     "text": [
      "/code/delon/LensQuEst/LensQuEst/cmb.py:32: RuntimeWarning: divide by zero encountered in scalar divide\n",
      "  self.fdl_to_cl = lambda l: 1./( l*(l+1.)/(2.*np.pi) )\n",
      "/code/delon/LensQuEst/LensQuEst/cmb.py:42: RuntimeWarning: invalid value encountered in scalar multiply\n",
      "  self.funlensedTT = lambda l: (l>=lmin_unlensedCMB and l<=lmax_unlensedCMB) * self.funlensedTT_template(l) * self.fdl_to_cl(l)\n",
      "/code/delon/LensQuEst/LensQuEst/flat_map.py:462: RuntimeWarning: invalid value encountered in divide\n",
      "  sCl /= np.sqrt(Nmodes)\n"
     ]
    }
   ],
   "source": [
    "cmb0Fourier = baseMap.genGRF(cmb.funlensedTT, test=False)\n",
    "\n",
    "tmp_lCen, _, _ = baseMap.powerSpectrum(cmb0Fourier)"
   ]
  },
  {
   "cell_type": "code",
   "execution_count": 93,
   "metadata": {},
   "outputs": [],
   "source": [
    "data = [-1]\n",
    "cnt = 0"
   ]
  },
  {
   "cell_type": "code",
   "execution_count": null,
   "metadata": {},
   "outputs": [
    {
     "name": "stderr",
     "output_type": "stream",
     "text": [
      " 21%|██        | 21/100 [36:13<2:00:27, 91.48s/it]]"
     ]
    }
   ],
   "source": [
    "from tqdm import trange\n",
    "for i in trange(100):\n",
    "    cmb0Fourier = baseMap.genGRF(cmb.funlensedTT, test=False)\n",
    "    cmb0 = baseMap.inverseFourier(cmb0Fourier)\n",
    "\n",
    "    kCmbFourier = baseMap.genGRF(p2d_cmblens.fPinterp, test=False)\n",
    "    kCmb = baseMap.inverseFourier(kCmbFourier)\n",
    "\n",
    "    lensedCmb = baseMap.doLensing(cmb0, kappaFourier=kCmbFourier)\n",
    "    lensedCmbFourier = baseMap.fourier(lensedCmb)\n",
    "\n",
    "    fgFourier = baseMap.genGRF(cmb.fForeground, test=False)\n",
    "    lensedCmbFourier = lensedCmbFourier + fgFourier\n",
    "    lensedCmb = baseMap.inverseFourier(lensedCmbFourier)\n",
    "\n",
    "    noiseFourier = baseMap.genGRF(cmb.fdetectorNoise, test=False)\n",
    "    totalCmbFourier = lensedCmbFourier + noiseFourier\n",
    "    totalCmb = baseMap.inverseFourier(totalCmbFourier)\n",
    "    Cls = {}\n",
    "    kap  = baseMap.computeQuadEstKappaNorm(cmb.funlensedTT, cmb.fCtotal, \n",
    "                                lMin=lMin, lMax=lMax,dataFourier=totalCmbFourier)\n",
    "    Cls['kkT'] = [0,0,0]\n",
    "    Cls['kkT'][0],Cls['kkT'][1],Cls['kkT'][2] = baseMap.crossPowerSpectrum(kap, kCmbFourier)\n",
    "    if(data[0]==-1):\n",
    "        data = np.zeros_like(Cls['kkT'][1])\n",
    "    data += Cls['kkT'][1]/np.array(list(map(p2d_cmblens.fPinterp, Cls['kkT'][0])))\n",
    "    cnt += 1"
   ]
  },
  {
   "cell_type": "code",
   "execution_count": 95,
   "metadata": {},
   "outputs": [
    {
     "data": {
      "image/png": "[encoded data removed]",
      "text/plain": [
       "<Figure size 640x480 with 1 Axes>"
      ]
     },
     "metadata": {},
     "output_type": "display_data"
    }
   ],
   "source": [
    "plt.scatter(tmp_lCen, data/cnt)\n",
    "plt.xscale('log')\n",
    "plt.xlabel(r'$\\ell$')\n",
    "# plt.yscale('log')\n",
    "plt.ylabel(r'$\\left<\\hat\\kappa \\kappa\\right>/\\left<\\kappa \\kappa\\right>$ (100 sims)')\n",
    "plt.ylim(0.8,1.2)\n",
    "plt.xlim(30,1e4)\n",
    "plt.axhline(1, linewidth=1, linestyle=\"--\", color=\"black\")\n",
    "plt.savefig('figures/khatk_over_kk_800x800_20x20.png')"
   ]
  },
  {
   "cell_type": "code",
   "execution_count": 83,
   "metadata": {},
   "outputs": [
    {
     "name": "stdout",
     "output_type": "stream",
     "text": [
      "[[   0.    0.    0. ...    0.    0.    0.]\n",
      " [  36.   36.   36. ...   36.   36.   36.]\n",
      " [  72.   72.   72. ...   72.   72.   72.]\n",
      " ...\n",
      " [-108. -108. -108. ... -108. -108. -108.]\n",
      " [ -72.  -72.  -72. ...  -72.  -72.  -72.]\n",
      " [ -36.  -36.  -36. ...  -36.  -36.  -36.]]\n"
     ]
    }
   ],
   "source": [
    "print(baseMap.lx[0])"
   ]
  },
  {
   "cell_type": "code",
   "execution_count": 85,
   "metadata": {},
   "outputs": [
    {
     "name": "stdout",
     "output_type": "stream",
     "text": [
      "7200.0\n"
     ]
    }
   ],
   "source": [
    "print(baseMap.lx.max())"
   ]
  },
  {
   "cell_type": "code",
   "execution_count": null,
   "metadata": {},
   "outputs": [],
   "source": []
  }
 ],
 "metadata": {
  "kernelspec": {
   "display_name": "nblensing",
   "language": "python",
   "name": "nblensing"
  },
  "language_info": {
   "codemirror_mode": {
    "name": "ipython",
    "version": 3
   },
   "file_extension": ".py",
   "mimetype": "text/x-python",
   "name": "python",
   "nbconvert_exporter": "python",
   "pygments_lexer": "ipython3",
   "version": "3.10.9"
  }
 },
 "nbformat": 4,
 "nbformat_minor": 2
}
