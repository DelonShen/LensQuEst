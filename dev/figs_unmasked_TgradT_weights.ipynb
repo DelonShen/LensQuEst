{
 "cells": [
  {
   "cell_type": "code",
   "execution_count": 1,
   "id": "a1681bf6",
   "metadata": {},
   "outputs": [],
   "source": [
    "%load_ext autoreload\n",
    "%autoreload 2"
   ]
  },
  {
   "cell_type": "code",
   "execution_count": 2,
   "id": "eaaf27ab",
   "metadata": {},
   "outputs": [],
   "source": [
    "#######\n",
    "IN_DATA_FNAMES = ['/oak/stanford/orgs/kipac/users/delon/LensQuEst/map_sims_%d.pkl'%(i) for i in range(1,51)]\n",
    "import warnings\n",
    "warnings.filterwarnings(\"ignore\")\n",
    "#####"
   ]
  },
  {
   "cell_type": "code",
   "execution_count": 3,
   "id": "243b210c",
   "metadata": {},
   "outputs": [],
   "source": [
    "import os, sys\n",
    "WORKING_DIR = os.path.dirname(os.path.abspath(''))\n",
    "sys.path.insert(1, os.path.join(WORKING_DIR,'LensQuEst'))"
   ]
  },
  {
   "cell_type": "code",
   "execution_count": 4,
   "id": "ed8b7184",
   "metadata": {},
   "outputs": [],
   "source": [
    "from universe import *\n",
    "from halo_fit import *\n",
    "from cmb import *\n",
    "from flat_map import *\n",
    "from weight import *\n",
    "from pn_2d import *\n",
    "import pickle\n",
    "import seaborn as sns\n",
    "from scipy.stats import spearmanr\n",
    "import matplotlib\n",
    "from tqdm import trange, tqdm"
   ]
  },
  {
   "cell_type": "code",
   "execution_count": 5,
   "id": "ec7be6cf",
   "metadata": {},
   "outputs": [
    {
     "name": "stdout",
     "output_type": "stream",
     "text": [
      "Map properties\n"
     ]
    }
   ],
   "source": [
    "print(\"Map properties\")\n",
    "\n",
    "# number of pixels for the flat map\n",
    "nX = 800 \n",
    "nY = 800\n",
    "\n",
    "# map dimensions in degrees\n",
    "sizeX = 20.\n",
    "sizeY = 20.\n",
    "\n",
    "# basic map object\n",
    "baseMap = FlatMap(nX=nX, nY=nY, sizeX=sizeX*np.pi/180., sizeY=sizeY*np.pi/180.)\n",
    "\n",
    "# multipoles to include in the lensing reconstruction\n",
    "lMin = 30.; lMax = 3.5e3\n",
    "\n",
    "# ell bins for power spectra\n",
    "nBins = 51  # number of bins\n",
    "lRange = (1., 2.*lMax)  # range for power spectra"
   ]
  },
  {
   "cell_type": "code",
   "execution_count": 6,
   "id": "450eb2be",
   "metadata": {},
   "outputs": [
    {
     "name": "stdout",
     "output_type": "stream",
     "text": [
      "../data/input/universe_Planck15/camb/CAMB_outputs.pkl\n"
     ]
    }
   ],
   "source": [
    "oup_fname = '../data/input/universe_Planck15/camb/CAMB_outputs.pkl'\n",
    "print(oup_fname)\n",
    "f = open(oup_fname, 'rb') \n",
    "powers,cl,c_lensed,c_lens_response = pickle.load(f)\n",
    "f.close()\n",
    "\n",
    "totCL=powers['total']\n",
    "unlensedCL=powers['unlensed_scalar']\n",
    "\n",
    "L = np.arange(unlensedCL.shape[0])\n",
    "\n",
    "unlensedTT = unlensedCL[:,0]/(L*(L+1))*2*np.pi\n",
    "F = unlensedTT\n",
    "funlensedTT = interp1d(L, F, kind='linear', bounds_error=False, fill_value=0.)\n",
    "\n",
    "L = np.arange(cl.shape[0])\n",
    "PP = cl[:,0]\n",
    "rawPP = PP*2*np.pi/((L*(L+1))**2)\n",
    "rawKK = L**4/4 * rawPP\n",
    "\n",
    "fKK = interp1d(L, rawKK, kind='linear', bounds_error=False, fill_value=0.)\n",
    "\n",
    "L = np.arange(totCL.shape[0])\n",
    "\n",
    "lensedTT = totCL[:,0]/(L*(L+1))*2*np.pi\n",
    "F = lensedTT\n",
    "flensedTT = interp1d(L, F, kind='linear', bounds_error=False, fill_value=0.)\n",
    "\n",
    "\n",
    "ftot = lambda l : flensedTT(l) + cmb.fForeground(l) + cmb.fdetectorNoise(l)\n",
    "\n",
    "\n",
    "L = np.arange(c_lens_response.shape[0])\n",
    "\n",
    "cTgradT = c_lens_response.T[0]/(L*(L+1))*2*np.pi\n",
    "\n",
    "fTgradT = interp1d(L, cTgradT, kind='linear', bounds_error=False, fill_value=0.)"
   ]
  },
  {
   "cell_type": "code",
   "execution_count": 7,
   "id": "ec0b96e9",
   "metadata": {},
   "outputs": [
    {
     "data": {
      "text/plain": [
       "(29901, 4)"
      ]
     },
     "execution_count": 7,
     "metadata": {},
     "output_type": "execute_result"
    }
   ],
   "source": [
    "powers['unlensed_scalar'].shape"
   ]
  },
  {
   "cell_type": "code",
   "execution_count": 8,
   "id": "4aefe05c",
   "metadata": {},
   "outputs": [
    {
     "data": {
      "text/plain": [
       "(30001, 3)"
      ]
     },
     "execution_count": 8,
     "metadata": {},
     "output_type": "execute_result"
    }
   ],
   "source": [
    "cl.shape"
   ]
  },
  {
   "cell_type": "code",
   "execution_count": 9,
   "id": "9fec7056",
   "metadata": {},
   "outputs": [
    {
     "data": {
      "image/png": "[encoded data removed]",
      "text/plain": [
       "<Figure size 432x288 with 1 Axes>"
      ]
     },
     "metadata": {
      "needs_background": "light"
     },
     "output_type": "display_data"
    }
   ],
   "source": [
    "plt.plot(L,list(map(flensedTT,L))*L*(L+1)/(2*np.pi))\n",
    "plt.plot(np.arange(totCL.shape[0]), totCL[:,0])\n",
    "plt.xscale('log')\n",
    "plt.yscale('log')"
   ]
  },
  {
   "cell_type": "code",
   "execution_count": 10,
   "id": "d4fa693b",
   "metadata": {},
   "outputs": [],
   "source": [
    "# Adjust the lMin and lMax to the assumptions of the analysis\n",
    "# CMB S4/SO specs\n",
    "cmb = StageIVCMB(beam=1.4, noise=7., lMin=lMin, lMaxT=lMax, lMaxP=lMax, atm=False)\n",
    "\n",
    "# Total power spectrum, for the lens reconstruction\n",
    "# basiscally gets what we theoretically expect the\n",
    "# power spectrum will look like\n",
    "forCtotal = lambda l: ftot(l) \n",
    "\n",
    "# reinterpolate: gain factor 10 in speed\n",
    "L = np.logspace(np.log10(lMin/2.), np.log10(2.*lMax), 1001, 10.)\n",
    "F = np.array(list(map(forCtotal, L)))\n",
    "cmb.fCtotal = interp1d(L, F, kind='linear', bounds_error=False, fill_value=0.)"
   ]
  },
  {
   "cell_type": "code",
   "execution_count": null,
   "id": "ca840072",
   "metadata": {},
   "outputs": [],
   "source": []
  },
  {
   "cell_type": "code",
   "execution_count": 11,
   "id": "5dcd7c24",
   "metadata": {},
   "outputs": [
    {
     "name": "stdout",
     "output_type": "stream",
     "text": [
      "Gets a theoretical prediction for the noise\n",
      "computing the reconstruction noise\n"
     ]
    }
   ],
   "source": [
    "print(\"Gets a theoretical prediction for the noise\")\n",
    "fNqCmb_fft = baseMap.forecastN0Kappa(fTgradT, cmb.fCtotal, lMin=lMin, lMax=lMax, test=False)\n",
    "Ntheory = lambda l: fNqCmb_fft(l) "
   ]
  },
  {
   "cell_type": "code",
   "execution_count": 12,
   "id": "e3b4a01a",
   "metadata": {},
   "outputs": [
    {
     "name": "stderr",
     "output_type": "stream",
     "text": [
      "100%|██████████| 50/50 [01:13<00:00,  1.47s/it]"
     ]
    },
    {
     "name": "stdout",
     "output_type": "stream",
     "text": [
      "kCmbF_1 (500, 800, 401)\n"
     ]
    },
    {
     "name": "stderr",
     "output_type": "stream",
     "text": [
      "\n"
     ]
    }
   ],
   "source": [
    "in_data = {}\n",
    "\n",
    "for fname in tqdm(IN_DATA_FNAMES):\n",
    "    f = open(fname, 'rb') \n",
    "    c_in_data = pickle.load(f) \n",
    "    f.close()\n",
    "    for key in c_in_data:\n",
    "        if(key != 'kCmbF_1'):\n",
    "            continue\n",
    "        if(key not in in_data.keys()):\n",
    "            in_data[key] = np.array(c_in_data[key])\n",
    "        else:\n",
    "            in_data[key] = np.vstack( (in_data[key],np.array(c_in_data[key])) )\n",
    "\n",
    "\n",
    "for key in in_data:\n",
    "    print(key, np.shape(in_data[key]))\n"
   ]
  },
  {
   "cell_type": "code",
   "execution_count": 13,
   "id": "61dc75b6",
   "metadata": {},
   "outputs": [],
   "source": [
    "pairs = [\n",
    "#    [0,0], #N0\n",
    "#    [0,1], #kappa\n",
    "#    [1,0], #kappa\n",
    "#    [0,2], #N1\n",
    "#    [1,1], #N1\n",
    "#    [2,0], #N1\n",
    "#     [0,3], #should vanish\n",
    "#     [1,2], #should vanish\n",
    "#     [2,1], #should vanish\n",
    "#     [3,0], #should vanish\n",
    "#     [0,4], #N2 \n",
    "#     [1,3], #N2\n",
    "#     [2,2], #N2\n",
    "#     [3,1], #N2\n",
    "#     [4,0], #N2\n",
    "   [-1, -1], #QE\n",
    "   [-2, -2], #unlensed\n",
    "]\n",
    "\n",
    "\n",
    "data_names = {\n",
    "    0: 'cmb0F_1',\n",
    "    1: 'lCmbF_o1_1',\n",
    "    2: 'lCmbF_o2_1',\n",
    "    3: 'lCmbF_o3_1',\n",
    "    4: 'lCmbF_o4_1',\n",
    "    -1: 'lCmbF_1',\n",
    "    -2: 'totalF_0',\n",
    "}"
   ]
  },
  {
   "cell_type": "code",
   "execution_count": 14,
   "id": "a684ee0b",
   "metadata": {},
   "outputs": [],
   "source": [
    "nBins=51"
   ]
  },
  {
   "cell_type": "code",
   "execution_count": 15,
   "id": "da83425d",
   "metadata": {},
   "outputs": [
    {
     "name": "stderr",
     "output_type": "stream",
     "text": [
      "100%|██████████| 50/50 [01:29<00:00,  1.79s/it]\n"
     ]
    }
   ],
   "source": [
    "data = {}\n",
    "# pbar = trange(len(pairs))\n",
    "for file_idx in trange(1,51):\n",
    "    for pair_idx in range(len(pairs)):\n",
    "        pair = pairs[pair_idx]\n",
    "        c_fname = '/oak/stanford/orgs/kipac/users/delon/LensQuEst/estimators_FILE%d_pair_%d_%d.pkl'%(file_idx, pair[0], pair[1])\n",
    "        if(not os.path.isfile(c_fname)):\n",
    "            continue\n",
    "        f = open(c_fname, 'rb')  \n",
    "        c_data = pickle.load(f)\n",
    "        f.close()        \n",
    "        for key in c_data:\n",
    "            if(key not in data.keys()):\n",
    "                data[key] = np.array(c_data[key])\n",
    "            else:\n",
    "                data[key] = np.vstack((data[key], np.array(c_data[key])))  \n",
    "#             print(np.shape(data[key]))"
   ]
  },
  {
   "cell_type": "code",
   "execution_count": 16,
   "id": "60d0e89a",
   "metadata": {
    "scrolled": true
   },
   "outputs": [
    {
     "name": "stdout",
     "output_type": "stream",
     "text": [
      "-1-1 (500, 800, 401)\n",
      "-1-1_sqrtN (500, 800, 401)\n",
      "-2-2 (500, 800, 401)\n",
      "-2-2_sqrtN (500, 800, 401)\n"
     ]
    }
   ],
   "source": [
    "for key in data:\n",
    "    print(key, np.shape(data[key]))"
   ]
  },
  {
   "cell_type": "code",
   "execution_count": 17,
   "id": "4f9d6ba2",
   "metadata": {},
   "outputs": [],
   "source": [
    "def combine_Cl(Cls_tot):\n",
    "    n_runs = np.shape(Cls_tot)[0]\n",
    "    print(n_runs, np.shape(Cls_tot))\n",
    "    lCen = Cls_tot[0][0]\n",
    "    Cls = np.sum(np.transpose(Cls_tot, axes=[1,2,0])[1], axis=1)/n_runs\n",
    "#     sCls = np.sqrt(np.sum(np.square(np.transpose(Cls_tot, axes=[1,2,0])[2]), axis=1))/n_runs\n",
    "    sCls = np.std(np.transpose(Cls_tot, axes=[1,2,0])[1], axis=1)/np.sqrt(n_runs)\n",
    "    return lCen, Cls, sCls\n",
    "\n",
    "def combine_sketchy(Cl0, Cli):\n",
    "    n_runs = np.shape(Cl0)[0]\n",
    "    print(n_runs, np.shape(Cl0))\n",
    "    ret = np.copy(Cl0)\n",
    "    ret = np.transpose(ret, axes=[1,2,0])\n",
    "    ret[1] = np.array([\n",
    "        [Cl0[run_idx][1][bin_idx]+\n",
    "         sum([Cli[i][run_idx][1][bin_idx] for i in range(len(Cli))]) \n",
    "                     for run_idx in range(n_runs)] \n",
    "                    for bin_idx in range(len(Cl0[0][1]))])\n",
    "    ret[2] = np.array([[np.sqrt(Cl0[run_idx][2][bin_idx]**2+sum([Cli[i][run_idx][2][bin_idx]**2 \n",
    "                                                               for i in range(len(Cli))]))\n",
    "                     for run_idx in range(n_runs)] \n",
    "                    for bin_idx in range(len(Cl0[0][1]))])\n",
    "    return np.transpose(ret, axes=[2,0,1])"
   ]
  },
  {
   "cell_type": "code",
   "execution_count": 18,
   "id": "a42b71de",
   "metadata": {},
   "outputs": [],
   "source": [
    "ps_data = {}"
   ]
  },
  {
   "cell_type": "code",
   "execution_count": 19,
   "id": "8164a8e7",
   "metadata": {},
   "outputs": [],
   "source": [
    "# #estimate RDN0\n",
    "# ck = 'RDN(0)'\n",
    "\n",
    "\n",
    "# for d_idx in trange(len(in_data['kCmbF_1'])):\n",
    "#     RDN0_fname = '/oak/stanford/orgs/kipac/users/delon/LensQuEst/RDN0-combined-%d-nBins%d.pkl'%(d_idx, nBins)\n",
    "#     tot = None\n",
    "#     with open(RDN0_fname,\"rb\") as f:\n",
    "#         tot = pickle.load(f)\n",
    "    \n",
    "#     if(ck not in ps_data.keys()):\n",
    "#         ps_data[ck] = np.array([tot])\n",
    "#     else:\n",
    "#         ps_data[ck] = np.vstack((ps_data[ck], np.array([tot])))  \n",
    "# print(ps_data[ck].shape)"
   ]
  },
  {
   "cell_type": "code",
   "execution_count": 20,
   "id": "d0dd165b",
   "metadata": {},
   "outputs": [],
   "source": [
    "# #estimate RDN0\n",
    "# ck = 'RDN(0) reduced'\n",
    "\n",
    "\n",
    "# for d_idx in trange(len(in_data['kCmbF_1'])):\n",
    "#     RDN0_fname = '/oak/stanford/orgs/kipac/users/delon/LensQuEst/RDN0-combined-%d-nBins%d_halved.pkl'%(d_idx, nBins)\n",
    "#     tot = None\n",
    "#     with open(RDN0_fname,\"rb\") as f:\n",
    "#         tot = pickle.load(f)\n",
    "    \n",
    "#     if(ck not in ps_data.keys()):\n",
    "#         ps_data[ck] = np.array([tot])\n",
    "#     else:\n",
    "#         ps_data[ck] = np.vstack((ps_data[ck], np.array([tot])))  \n",
    "# print(ps_data[ck].shape)"
   ]
  },
  {
   "cell_type": "code",
   "execution_count": 21,
   "id": "49e87832",
   "metadata": {},
   "outputs": [],
   "source": [
    "# #estimate RDN0\n",
    "# ck = 'RDN(0) reduceder'\n",
    "\n",
    "\n",
    "# for d_idx in trange(len(in_data['kCmbF_1'])):\n",
    "#     RDN0_fname = '/oak/stanford/orgs/kipac/users/delon/LensQuEst/RDN0-combined-%d-nBins%d_quartered.pkl'%(d_idx, nBins)\n",
    "#     tot = None\n",
    "#     with open(RDN0_fname,\"rb\") as f:\n",
    "#         tot = pickle.load(f)\n",
    "    \n",
    "#     if(ck not in ps_data.keys()):\n",
    "#         ps_data[ck] = np.array([tot])\n",
    "#     else:\n",
    "#         ps_data[ck] = np.vstack((ps_data[ck], np.array([tot])))  \n",
    "# print(ps_data[ck].shape)"
   ]
  },
  {
   "cell_type": "code",
   "execution_count": 22,
   "id": "b440872c",
   "metadata": {},
   "outputs": [],
   "source": [
    "# #estimate N0\n",
    "# ck = 'N0'\n",
    "\n",
    "# for data_idx in range(len(data['00'])):\n",
    "#     q00 = data['00'][data_idx]\n",
    "#     c_ps_data = {}\n",
    "#     c_ps_data[ck] = [0,0,0]\n",
    "#     c_ps_data[ck][0], c_ps_data[ck][1], c_ps_data[ck][2] = baseMap.powerSpectrum(dataFourier=q00, nBins=15)\n",
    "#     if(ck not in ps_data.keys()):\n",
    "#         ps_data[ck] = np.array([c_ps_data[ck]])\n",
    "#     else:\n",
    "#         ps_data[ck] = np.vstack((ps_data[ck], np.array([c_ps_data[ck]])))  "
   ]
  },
  {
   "cell_type": "code",
   "execution_count": null,
   "id": "a589797f",
   "metadata": {},
   "outputs": [],
   "source": []
  },
  {
   "cell_type": "code",
   "execution_count": 23,
   "id": "44a08ed0",
   "metadata": {},
   "outputs": [],
   "source": [
    "# #estimate kk\n",
    "# ck = 'kk'\n",
    "\n",
    "\n",
    "# for data_idx in range(min(len(data['01']), len(data['10']))):\n",
    "#     q01 = data['01'][data_idx]\n",
    "#     q10 = data['10'][data_idx]\n",
    "#     kCmbFourier = in_data['kCmbF_1'][data_idx]\n",
    "#     c_ps_data = {}\n",
    "#     c_ps_data[ck] = [0,0,0]\n",
    "#     c_ps_data[ck][0], c_ps_data[ck][1], c_ps_data[ck][2] = baseMap.crossPowerSpectrum(dataFourier1=q10+q01, dataFourier2=kCmbFourier, nBins=nBins)\n",
    "#     if(ck not in ps_data.keys()):\n",
    "#         ps_data[ck] = np.array([c_ps_data[ck]])\n",
    "#     else:\n",
    "#         ps_data[ck] = np.vstack((ps_data[ck], np.array([c_ps_data[ck]])))  "
   ]
  },
  {
   "cell_type": "code",
   "execution_count": 24,
   "id": "0213d69e",
   "metadata": {},
   "outputs": [
    {
     "name": "stderr",
     "output_type": "stream",
     "text": [
      "100%|██████████| 500/500 [00:08<00:00, 60.86it/s]"
     ]
    },
    {
     "name": "stdout",
     "output_type": "stream",
     "text": [
      "(500, 3, 50)\n"
     ]
    },
    {
     "name": "stderr",
     "output_type": "stream",
     "text": [
      "\n"
     ]
    }
   ],
   "source": [
    "#estimate <QE QE>\n",
    "ck = 'QEQE'\n",
    "for data_idx in trange(len(data['-1-1'])):\n",
    "    QE = data['-1-1'][data_idx]\n",
    "\n",
    "    c_ps_data = {}\n",
    "    c_ps_data[ck] = [0,0,0]\n",
    "    c_ps_data[ck][0], c_ps_data[ck][1], c_ps_data[ck][2] = baseMap.powerSpectrum(dataFourier=QE, nBins=nBins)\n",
    "    if(ck not in ps_data.keys()):\n",
    "        ps_data[ck] = np.array([c_ps_data[ck]])\n",
    "    else:\n",
    "        ps_data[ck] = np.vstack((ps_data[ck], np.array([c_ps_data[ck]])))  \n",
    "print(ps_data[ck].shape)"
   ]
  },
  {
   "cell_type": "code",
   "execution_count": 25,
   "id": "69f026ed",
   "metadata": {},
   "outputs": [
    {
     "name": "stdout",
     "output_type": "stream",
     "text": [
      "[(1.101349500020528, nan), (1.3245919423704064, nan), (1.593085404551328, nan), (1.9160022230338838, nan), (2.3043739577192928, nan), (2.7714682546696445, nan), (3.3332420985367124, nan), (4.0088869388048565, nan), (4.821484312578252, nan), (5.7987943614515025, nan), (6.974204179961436, nan), (8.387868393321774, nan), (10.08808092912408, nan), (12.132924845790779, nan), (14.592256579605856, nan), (18.0, 0.8164965809277261), (21.107478576060444, nan), (25.45584412271571, 1.0000000000000002), (30.53164871439537, nan), (36.0, 0.8164965809277263), (40.24922359499622, 0.7071067811865476), (54.6119297803318, 0.4714045207910316), (64.89992295835181, 0.7071067811865476), (75.96865065697968, 0.3922322702763681), (92.32408473949098, 0.36514837167011077), (111.39271211565703, 0.28284271247461906), (135.79670487274876, 0.23570226039551587), (161.11271594809554, 0.2208630521496931), (193.6046851450755, 0.1643989873053573), (233.43749892638175, 0.14509525002200238), (278.2178501140245, 0.12216944435630524), (336.08172110936215, 0.09578262852211514), (406.00745994618046, 0.08247860988423225), (487.7201546288269, 0.06859943405700353), (587.0257264062835, 0.05661385170722979), (705.8684393769958, 0.047592075627294894), (848.6365057814019, 0.0393597088022076), (1020.9225216515814, 0.03279129178919766), (1227.754299788139, 0.02729247070474676), (1476.879847059822, 0.022660071028103957), (1776.2206231373812, 0.018888107730216267), (2135.756702459466, 0.015703793316826607), (2568.759013700233, 0.013048782719527276), (3089.2726545379032, 0.010863470343470532), (3715.2199296029753, 0.009028080373312751), (4468.826217803769, 0.0075041753591384396), (5375.02335138214, 0.006242627810441403), (6464.459025989119, 0.005191181650545866), (7623.292829336242, nan), (9027.012464122656, nan)]\n"
     ]
    }
   ],
   "source": [
    "print(list(zip(ps_data['QEQE'][0][0], ps_data['QEQE'][0][2] / ps_data['QEQE'][0][1] )))"
   ]
  },
  {
   "cell_type": "code",
   "execution_count": 26,
   "id": "0fd862bb",
   "metadata": {},
   "outputs": [
    {
     "name": "stderr",
     "output_type": "stream",
     "text": [
      "100%|██████████| 500/500 [00:07<00:00, 67.47it/s]"
     ]
    },
    {
     "name": "stdout",
     "output_type": "stream",
     "text": [
      "(500, 3, 50)\n"
     ]
    },
    {
     "name": "stderr",
     "output_type": "stream",
     "text": [
      "\n"
     ]
    }
   ],
   "source": [
    "#estimate Nhat\n",
    "ck = 'Nhat'\n",
    "for data_idx in trange(len(data['-1-1_sqrtN'])):\n",
    "    sqrtNhat = data['-1-1_sqrtN'][data_idx]\n",
    "    \n",
    "    c_ps_data = {}\n",
    "    c_ps_data[ck] = [0,0,0]\n",
    "    c_ps_data[ck][0], c_ps_data[ck][1], c_ps_data[ck][2] = baseMap.powerSpectrum(dataFourier=sqrtNhat, nBins=nBins)\n",
    "    if(ck not in ps_data.keys()):\n",
    "        ps_data[ck] = np.array([c_ps_data[ck]])\n",
    "    else:\n",
    "        ps_data[ck] = np.vstack((ps_data[ck],np.array([c_ps_data[ck]])))  \n",
    "        \n",
    "print(ps_data[ck].shape)"
   ]
  },
  {
   "cell_type": "code",
   "execution_count": 27,
   "id": "8c101a5b",
   "metadata": {},
   "outputs": [
    {
     "name": "stderr",
     "output_type": "stream",
     "text": [
      "100%|██████████| 500/500 [00:07<00:00, 66.02it/s]\n"
     ]
    }
   ],
   "source": [
    "#estimate GRF Nhat\n",
    "ck = 'GRF'\n",
    "for data_idx in trange(len(data['-2-2_sqrtN'])):\n",
    "    sqrtNhat = data['-2-2_sqrtN'][data_idx]\n",
    "    \n",
    "    c_ps_data = {}\n",
    "    c_ps_data[ck] = [0,0,0]\n",
    "    c_ps_data[ck][0], c_ps_data[ck][1], c_ps_data[ck][2] = baseMap.powerSpectrum(dataFourier=sqrtNhat, nBins=nBins)\n",
    "    if(ck not in ps_data.keys()):\n",
    "        ps_data[ck] = np.array([c_ps_data[ck]])\n",
    "    else:\n",
    "        ps_data[ck] = np.vstack(( ps_data[ck], np.array([c_ps_data[ck]])))  "
   ]
  },
  {
   "cell_type": "code",
   "execution_count": 28,
   "id": "2ed4642e",
   "metadata": {},
   "outputs": [
    {
     "name": "stderr",
     "output_type": "stream",
     "text": [
      "100%|██████████| 500/500 [00:08<00:00, 60.73it/s]\n"
     ]
    }
   ],
   "source": [
    "#estimate <kT kT>\n",
    "ck = 'kT'\n",
    "\n",
    "for data_idx in trange(len(in_data['kCmbF_1'])):\n",
    "    kT = in_data['kCmbF_1'][data_idx]\n",
    "    c_ps_data = {}\n",
    "    c_ps_data[ck] = [0,0,0]\n",
    "    c_ps_data[ck][0], c_ps_data[ck][1], c_ps_data[ck][2] = baseMap.powerSpectrum(dataFourier=kT, nBins=nBins)\n",
    "    if(ck not in ps_data.keys()):\n",
    "        ps_data[ck] = np.array([c_ps_data[ck]])\n",
    "    else:\n",
    "        ps_data[ck] = np.vstack((ps_data[ck], np.array([c_ps_data[ck]])))  "
   ]
  },
  {
   "cell_type": "code",
   "execution_count": 29,
   "id": "89603bef",
   "metadata": {},
   "outputs": [
    {
     "name": "stdout",
     "output_type": "stream",
     "text": [
      "dict_keys(['kCmbF_1']) dict_keys(['-1-1', '-1-1_sqrtN', '-2-2', '-2-2_sqrtN'])\n"
     ]
    }
   ],
   "source": [
    "print(in_data.keys(), data.keys())"
   ]
  },
  {
   "cell_type": "code",
   "execution_count": null,
   "id": "1843815e",
   "metadata": {},
   "outputs": [],
   "source": []
  },
  {
   "cell_type": "code",
   "execution_count": 30,
   "id": "323d4802",
   "metadata": {},
   "outputs": [
    {
     "name": "stderr",
     "output_type": "stream",
     "text": [
      "100%|██████████| 500/500 [00:08<00:00, 60.35it/s]\n"
     ]
    }
   ],
   "source": [
    "#estimate <k kT>\n",
    "ck = 'kkT'\n",
    "for data_idx in trange(len(in_data['kCmbF_1'])):\n",
    "    kT = in_data['kCmbF_1'][data_idx]\n",
    "    k = data['-1-1'][data_idx]\n",
    "    c_ps_data = {}\n",
    "    c_ps_data[ck] = [0,0,0]\n",
    "    c_ps_data[ck][0], c_ps_data[ck][1], c_ps_data[ck][2] = baseMap.crossPowerSpectrum(dataFourier1=k, \n",
    "                                                                                      dataFourier2=kT, \n",
    "                                                                                      nBins=nBins)\n",
    "    if(ck not in ps_data.keys()):\n",
    "        ps_data[ck] = np.array([c_ps_data[ck]])\n",
    "    else:\n",
    "        ps_data[ck] = np.vstack((ps_data[ck], np.array([c_ps_data[ck]])))  "
   ]
  },
  {
   "cell_type": "code",
   "execution_count": 31,
   "id": "f6923b43",
   "metadata": {},
   "outputs": [],
   "source": [
    "labels={\n",
    "    'N0':r'$N^{(0)}$',\n",
    "    'GRF':r'$\\hat N$ on GRF',\n",
    "    'kT': r'$\\left<\\kappa\\kappa\\right>$',\n",
    "    'kk':r'$\\left<(\\mathcal Q(T^0, T^1)+\\mathcal Q(T^1, T^0))\\kappa\\right>$',\n",
    "    'kkT':r'$\\left<\\hat\\kappa\\kappa\\right>$',\n",
    "    'N1':r'$N^{(1)}$',\n",
    "    'N2':r'$N^{(2)}$',\n",
    "    'N2+':r'$N^{(2)}+\\dots$',\n",
    "    'N3+':r'$N^{(3)}+\\dots$',\n",
    "    'RDN(0)':r'${\\rm RDN}^{(0)}$',\n",
    "    'RDN(0)o2':r'${\\rm RDN}^{(0)}$',\n",
    "    'QEQE':r'$\\left<\\hat\\kappa\\hat\\kappa\\right>$',\n",
    "    'QEQE-Nhat':r'$\\left<\\hat\\kappa\\hat\\kappa\\right>-\\hat N$',\n",
    "    'QEQE-RDN(0)':r\"$\\left<\\hat\\kappa\\hat\\kappa\\right>-{\\rm RDN}^{(0)}$  [50$s$, 50$s'$]\",\n",
    "    'QEQE-RDN(0) reduced':r\"$\\left<\\hat\\kappa\\hat\\kappa\\right>-{\\rm RDN}^{(0)}$ [50$s$, 25$s'$]\",\n",
    "    'QEQE-RDN(0) quart':r\"$\\left<\\hat\\kappa\\hat\\kappa\\right>-{\\rm RDN}^{(0)}$ [25$s$, 25$s'$]\",\n",
    "    'Nhat':r'$\\hat N$',\n",
    "    'N1+':r'$N^{(1)}+\\dots$',\n",
    "    'KK+N1+': r'$\\left<(\\mathcal Q(T^0, T^1)+\\mathcal Q(T^1, T^0))\\kappa\\right>+N^{(1)}+\\dots$',\n",
    "    'QEQE-2Nhat+Ntheory':r'$\\left<\\hat\\kappa\\hat\\kappa\\right>-2\\hat N+N_{\\rm theory}$',\n",
    "    'QEQE-Ntheory':r'$\\left<\\hat\\kappa\\hat\\kappa\\right>-N_{\\rm theory}$',\n",
    "    'QEQE-Ntheory-N1':r'$\\left<\\hat\\kappa\\hat\\kappa\\right>-N_{\\rm theory}-N^{(1)}$',\n",
    "    'QEQE-N0':r'$\\left<\\hat\\kappa\\hat\\kappa\\right>- N^{(0)}$',\n",
    "    'QEQE-kTkT-Nhat': r'$\\left<\\hat\\kappa\\hat\\kappa\\right>-\\left<\\kappa\\kappa\\right>-\\hat N$',\n",
    "    'QEQE-kTkT-Ntheory':r'$\\left<\\hat\\kappa\\hat\\kappa\\right>-\\left<\\kappa\\kappa\\right>-N_{\\rm theory}$',\n",
    "    'QEQE-kTkT-RDN(0)':r'$\\left<\\hat\\kappa\\hat\\kappa\\right>-\\left<\\kappa\\kappa\\right>-{\\rm RDN}^{(0)}$',\n",
    "\n",
    "}\n"
   ]
  },
  {
   "cell_type": "code",
   "execution_count": 32,
   "id": "a17edbf7",
   "metadata": {},
   "outputs": [
    {
     "name": "stdout",
     "output_type": "stream",
     "text": [
      "500 (500, 3, 50)\n",
      "[0.         0.         0.         0.         0.         0.\n",
      " 0.         0.         0.         0.         0.         0.\n",
      " 0.         0.         0.         0.96828232 0.         0.96402552\n",
      " 0.         1.06476177 1.00064068 0.97157052 0.99776753 1.01405297\n",
      " 1.00774272 1.01509991 0.99953057 0.99668688 1.00409154 0.99453384\n",
      " 1.00088555 1.00383275 1.0027606  1.0000207  1.0080326  1.0010734\n",
      " 1.00074045 1.00140685 1.00331223 1.00192341 1.00492232 1.00032643\n",
      " 1.00459586 1.00321508 1.00926601 1.00395416 0.97934125 0.66909886\n",
      " 0.         0.        ]\n"
     ]
    },
    {
     "data": {
      "text/plain": [
       "Text(0.5, 0, '$\\\\ell$')"
      ]
     },
     "execution_count": 32,
     "metadata": {},
     "output_type": "execute_result"
    },
    {
     "data": {
      "image/png": "[encoded data removed]",
      "text/plain": [
       "<Figure size 864x864 with 2 Axes>"
      ]
     },
     "metadata": {
      "needs_background": "light"
     },
     "output_type": "display_data"
    }
   ],
   "source": [
    "c_keys = ['kkT']\n",
    "offset=0.03\n",
    "factor=lambda x:1\n",
    "pN1 = False\n",
    "offsets = dict(zip(c_keys,[i*offset for i in range(len(c_keys))]))\n",
    "colors = dict(zip(c_keys,[plt.colormaps[\"gist_rainbow\"]((i+1)/len(c_keys)) for i in range(len(c_keys))] ))\n",
    "if(len(c_keys)<=3):\n",
    "    colors = dict(zip(c_keys, ['red', 'blue', 'green']))\n",
    "\n",
    "fig = plt.figure(figsize =(12, 12))\n",
    "\n",
    "axs=[fig.add_axes((0.2,0.2,.75,.6)), fig.add_axes((0.2,0.0,.75,.2))]\n",
    "ax =axs[0]\n",
    "res_ax = axs[1]\n",
    "\n",
    "res_ax.fill_between([0, 1e20], [-0.1, -0.1], [0.1, 0.1], alpha=1, color='0.95')#, label=r'$<10\\%$ Error')\n",
    "res_ax.fill_between([0, 1e20], [-0.01, -0.01], [0.01, 0.01], alpha=1, color='0.85')#, label=r'$<1\\%$ Error')\n",
    "# res_ax.set_yscale('symlog', linthresh=1e3) \n",
    "res_ax.set_xscale('log')\n",
    "res_ax.axhline(0, c='k')\n",
    "plt.rcParams['text.usetex'] = True\n",
    "\n",
    "plt.rcParams['font.size'] = 20\n",
    "\n",
    "ell = baseMap.l.flatten()\n",
    "theory=[fKK, Ntheory]\n",
    "theory_l=[r'$\\big<\\kappa\\kappa\\big>$', r'$N_{\\rm theory}$']\n",
    "theory_s=['black', 'lightgrey']\n",
    "for f,l,sty in zip(theory, theory_l, theory_s):\n",
    "    L = np.logspace(np.log10(1.), np.log10(np.max(ell)), 201, 10.)\n",
    "    ClExpected = np.array(list(map(f, L)))\n",
    "    ax.plot(L, factor(L)*ClExpected, sty, label=l)\n",
    "\n",
    "pN1ax = None\n",
    "fKK_n1 = None\n",
    "\n",
    "for key in c_keys:\n",
    "    lCen, Cl, sCl = combine_Cl(np.array(ps_data[key]))\n",
    "\n",
    "    Cl = factor(lCen)*Cl\n",
    "    sCl = factor(lCen)*sCl\n",
    "\n",
    "    offset = offsets[key]\n",
    "    tmp = [l*np.exp(offset)-l for l in lCen]\n",
    "    lCen += tmp\n",
    "\n",
    "    Ipos = np.where(Cl>=1e-30)\n",
    "    Ineg = np.where(Cl<=-1e-30)\n",
    "\n",
    "    ax.errorbar(lCen[Ipos], (Cl[Ipos]), yerr=sCl[Ipos], alpha=.75, \n",
    "                fmt='-', capsize=3, capthick=1, label=labels[key], c=colors[key])\n",
    "    tmp_data = {\n",
    "        'x': lCen[Ipos],\n",
    "        'y1': [y - e for y, e in zip((Cl[Ipos]), sCl[Ipos])],\n",
    "        'y2': [y + e for y, e in zip((Cl[Ipos]), sCl[Ipos])]}\n",
    "#         ax.fill_between(**tmp_data,  alpha=.25, color=colors[key])\n",
    "\n",
    "\n",
    "    ax.errorbar(lCen[Ineg], -(Cl[Ineg]), yerr=sCl[Ineg], alpha=.75, \n",
    "                fmt='--', capsize=3, capthick=1, c=colors[key])\n",
    "    tmp_data = {\n",
    "        'x': lCen[Ineg],\n",
    "        'y1': [y - e for y, e in zip(-(Cl[Ineg]), sCl[Ineg])],\n",
    "        'y2': [y + e for y, e in zip(-(Cl[Ineg]), sCl[Ineg])]}\n",
    "#         ax.fill_between(**tmp_data,  alpha=.25, color=colors[key])\n",
    "    KK = np.array(list(map(fKK,lCen)))\n",
    "\n",
    "    res_ax.errorbar(lCen, (Cl-KK)/KK, yerr=sCl/KK, alpha=.75, \n",
    "                fmt='-', capsize=3, capthick=1, label=labels[key], c=colors[key])\n",
    "    print((Cl)/KK)\n",
    "ax.set_title('Unmasked')\n",
    "\n",
    "ax.legend(frameon=False)\n",
    "ax.set_xscale('log')\n",
    "ax.set_xlabel(r'$\\ell$')\n",
    "ax.set_yscale('log')\n",
    "ax.set_xlim(lMin,2*lMax)\n",
    "ax.set_ylim(1.1e-10,.9e-3)\n",
    "\n",
    "res_ax.set_xscale('log')\n",
    "res_ax.set_ylabel(r'Residual')\n",
    "res_ax.set_xlim(lMin,2*lMax)\n",
    "res_ax.set_ylim(-.15, .15)\n",
    "\n",
    "# res_ax.set_yscale('symlog', linthresh=1e-2) \n",
    "\n",
    "# res_ax.set_ylim(-.98e0, .98e0)\n",
    "\n",
    "# if(not pN1):\n",
    "res_ax.set_xlabel(r'$\\ell$')\n",
    "# else:\n",
    "#     pN1ax.set_xlabel(r'$\\ell$')\n"
   ]
  },
  {
   "cell_type": "code",
   "execution_count": 33,
   "id": "cbbdda35",
   "metadata": {},
   "outputs": [],
   "source": [
    "def graph_from_keys_legacy(c_keys, offset=0.03, factor=lambda x:1, pN1 = False):\n",
    "    \n",
    "    \n",
    "    offsets = dict(zip(c_keys,[i*offset for i in range(len(c_keys))]))\n",
    "    colors = dict(zip(c_keys,[plt.colormaps[\"gist_rainbow\"]((i+1)/len(c_keys)) for i in range(len(c_keys))] ))\n",
    "    if(len(c_keys)<=3):\n",
    "        colors = dict(zip(c_keys, ['red', 'blue', 'green']))\n",
    "    fig,ax = plt.subplots(nrows=1, figsize=(10,8))\n",
    "    plt.rcParams['text.usetex'] = True\n",
    "\n",
    "    plt.rcParams['font.size'] = 20\n",
    "\n",
    "    ell = baseMap.l.flatten()\n",
    "    theory=[fKK, Ntheory]\n",
    "    theory_l=[r'$\\big<\\kappa\\kappa\\big>$', r'$N_{\\rm theory}$']\n",
    "    theory_s=['black', 'lightgrey']\n",
    "    for f,l,sty in zip(theory, theory_l, theory_s):\n",
    "        L = np.logspace(np.log10(1.), np.log10(np.max(ell)), 201, 10.)\n",
    "        ClExpected = np.array(list(map(f, L)))\n",
    "        ax.plot(L, factor(L)*ClExpected, sty, label=l)\n",
    "    \n",
    "    if(pN1):\n",
    "        n1 = np.loadtxt('n1_data/N1_All_analytical.dat').T    \n",
    "        indices = ['TT', 'EE', 'EB', 'TE', 'TB', 'BB']\n",
    "        bins = n1[0]\n",
    "        n1_mat = np.reshape(n1[1:], (len(indices), len(indices), len(bins)))\n",
    "        for i in range(len(indices)):\n",
    "            if(indices[i] != 'TT'):\n",
    "                continue        \n",
    "            n1_pp = (bins*(bins+1))**2/(2*np.pi)*(n1_mat[i][i][:])\n",
    "            KK = fKK(bins)\n",
    "\n",
    "            phiphi =  -2. * KK / bins**2\n",
    "            phiphi *=  -2./ bins**2\n",
    "            phiphi *= (bins*(bins+1))**2/(2*np.pi) #convention from CAMB \n",
    "\n",
    "            pp_n1 = phiphi+n1_pp\n",
    "\n",
    "            KK_n1 = pp_n1 * 2*np.pi / (bins*(bins+1))**2 #back to our convention\n",
    "            KK_n1 *= - bins**2 / 2\n",
    "            KK_n1 *= - bins**2 / 2\n",
    "            plt.plot(bins, KK_n1, 'k--', label=r'$\\big<\\kappa\\kappa\\big>+N^{(1)}$')\n",
    "\n",
    "    for key in c_keys:\n",
    "        lCen, Cl, sCl = combine_Cl(np.array(ps_data[key]))\n",
    "    \n",
    "        Cl = factor(lCen)*Cl\n",
    "        sCl = factor(lCen)*sCl\n",
    "        \n",
    "        offset = offsets[key]\n",
    "        tmp = [l*np.exp(offset)-l for l in lCen]\n",
    "        lCen += tmp\n",
    "\n",
    "        Ipos = np.where(Cl>=1e-30)\n",
    "        Ineg = np.where(Cl<=-1e-30)\n",
    "\n",
    "        ax.errorbar(lCen[Ipos], (Cl[Ipos]), yerr=sCl[Ipos], alpha=.75, \n",
    "                    fmt='-', capsize=3, capthick=1, label=labels[key], c=colors[key])\n",
    "        tmp_data = {\n",
    "            'x': lCen[Ipos],\n",
    "            'y1': [y - e for y, e in zip((Cl[Ipos]), sCl[Ipos])],\n",
    "            'y2': [y + e for y, e in zip((Cl[Ipos]), sCl[Ipos])]}\n",
    "        ax.fill_between(**tmp_data,  alpha=.25, color=colors[key])\n",
    "\n",
    "        \n",
    "        ax.errorbar(lCen[Ineg], -(Cl[Ineg]), yerr=sCl[Ineg], alpha=.75, \n",
    "                    fmt='--', capsize=3, capthick=1, c=colors[key])\n",
    "        tmp_data = {\n",
    "            'x': lCen[Ineg],\n",
    "            'y1': [y - e for y, e in zip(-(Cl[Ineg]), sCl[Ineg])],\n",
    "            'y2': [y + e for y, e in zip(-(Cl[Ineg]), sCl[Ineg])]}\n",
    "        ax.fill_between(**tmp_data,  alpha=.25, color=colors[key])\n",
    "\n",
    "#         print(lCen[Ineg])\n",
    "#         print('###########')\n",
    "#         print(lCen[Ipos])\n",
    "    ax.set_title('Unmasked')\n",
    "\n",
    "    ax.legend(frameon=False)\n",
    "    ax.set_xscale('log')\n",
    "    ax.set_xlabel(r'$\\ell$')\n",
    "    ax.set_yscale('log')\n",
    "    ax.set_xlim(lMin,2*lMax)\n",
    "    ax.set_ylim(1.1e-10,.9e-3)\n",
    "    return fig, ax"
   ]
  },
  {
   "cell_type": "code",
   "execution_count": 34,
   "id": "3c3775d3",
   "metadata": {},
   "outputs": [],
   "source": [
    "t0, KK = baseMap.binTheoryPowerSpectrum(fKK, nBins=nBins)\n",
    "\n",
    "KKsuper = KK \n",
    "\n",
    "def graph_from_keys(c_keys, offset=0.03, \n",
    "                    factor=lambda x:1, \n",
    "                    pN1 = False, \n",
    "                    glbl_error=None, \n",
    "                    err_ylim=[-1,1],\n",
    "                    colors = None,\n",
    "                   pmNtheoryBand = False):\n",
    "    \n",
    "    \n",
    "    offsets = dict(zip(c_keys,[i*offset for i in range(len(c_keys))]))\n",
    "    if(colors is None):\n",
    "        colors = dict(zip(c_keys,[plt.colormaps[\"gist_rainbow\"]((i+1)/len(c_keys)) for i in range(len(c_keys))] ))\n",
    "        if(len(c_keys)<=3):\n",
    "            colors = dict(zip(c_keys, ['red', 'blue', 'mediumseagreen']))\n",
    "    \n",
    "    fig = plt.figure(figsize =(12, 12))\n",
    "\n",
    "    axs=[fig.add_axes((0.2,0.2,.75,.6)), fig.add_axes((0.2,0.0,.75,.2))]\n",
    "    ax =axs[0]\n",
    "    res_ax = axs[1]\n",
    "    \n",
    "    res_ax.axhline(0.1, lw=0.5, ls='--', color='k')    \n",
    "    res_ax.axhline(-0.1, lw=0.5, ls='--', color='k')    \n",
    "\n",
    "#     res_ax.fill_between([0, 1e20], [-0.1, -0.1], [0.1, 0.1], alpha=1, color='0.95')#, label=r'$<10\\%$ Error')\n",
    "#     res_ax.fill_between([0, 1e20], [-0.01, -0.01], [0.01, 0.01], alpha=1, color='0.85')#, label=r'$<1\\%$ Error')\n",
    "#     res_ax.set_yscale('symlog', linthresh=1e-1) \n",
    "    res_ax.set_xscale('log')\n",
    "    res_ax.axhline(0, c='k', lw=0.5,)\n",
    "    plt.rcParams['text.usetex'] = True\n",
    "\n",
    "    plt.rcParams['font.size'] = 20\n",
    "\n",
    "    ell = baseMap.l.flatten()\n",
    "    theory=[fKK, Ntheory]\n",
    "    theory_l=[r'$\\big<\\kappa\\kappa\\big>$', r'$N_{\\rm theory}$']\n",
    "    theory_s=['black', 'lightgrey']\n",
    "    for f,l,sty in zip(theory, theory_l, theory_s):\n",
    "#         L = np.logspace(np.log10(1.), np.log10(np.max(ell)), 201, 10.)\n",
    "#         ClExpected = np.array(list(map(f, L)))\n",
    "        L, ClExpected= baseMap.binTheoryPowerSpectrum(f, nBins=nBins)\n",
    "        toPlot = np.where(ClExpected>0)\n",
    "        ax.plot(L[toPlot], factor(L[toPlot])*ClExpected[toPlot], sty, label=l)\n",
    "    \n",
    "    pN1ax = None\n",
    "    fKK_n1 = None\n",
    "#     if(pN1):\n",
    "#         pN1ax = fig.add_axes((0.2, -0.2, .75, .2))\n",
    "        \n",
    "#         n1 = np.loadtxt('n1_data/N1_All_analytical.dat').T    \n",
    "#         indices = ['TT', 'EE', 'EB', 'TE', 'TB', 'BB']\n",
    "#         bins = n1[0]\n",
    "#         n1_mat = np.reshape(n1[1:], (len(indices), len(indices), len(bins)))\n",
    "#         for i in range(len(indices)):\n",
    "#             if(indices[i] != 'TT'):\n",
    "#                 continue        \n",
    "#             n1_pp = (bins*(bins+1))**2/(2*np.pi)*(n1_mat[i][i][:])\n",
    "#             KK = fKK(bins)\n",
    "\n",
    "#             phiphi =  -2. * KK / bins**2\n",
    "#             phiphi *=  -2./ bins**2\n",
    "#             phiphi *= (bins*(bins+1))**2/(2*np.pi) #convention from CAMB \n",
    "\n",
    "#             pp_n1 = phiphi+n1_pp\n",
    "\n",
    "#             KK_n1 = pp_n1 * 2*np.pi / (bins*(bins+1))**2 #back to our convention\n",
    "#             KK_n1 *= - bins**2 / 2\n",
    "#             KK_n1 *= - bins**2 / 2\n",
    "            \n",
    "#             fKK_n1 = interp1d(bins, KK_n1, kind='linear', bounds_error=False, fill_value=0.)\n",
    "#             ax.plot(bins, KK_n1, 'k--', label=r'$\\big<\\kappa\\kappa\\big>+N^{(1)}$')\n",
    "\n",
    "    if(pN1):\n",
    "        n1 = np.loadtxt('n1_data/N1_All_analytical.dat').T    \n",
    "        indices = ['TT', 'EE', 'EB', 'TE', 'TB', 'BB']\n",
    "        bins = n1[0]\n",
    "        n1_mat = np.reshape(n1[1:], (len(indices), len(indices), len(bins)))\n",
    "        n1_pp = n1_mat[0][0][:]\n",
    "        n1_pp *= -bins**2/2\n",
    "        n1_pp *= -bins**2/2\n",
    "        fN1 = interp1d(bins, n1_pp, kind='linear', bounds_error=False, fill_value=0.)\n",
    "        t0, t1 = baseMap.binTheoryPowerSpectrum(fN1, nBins=nBins)\n",
    "        t2 = np.zeros_like(t1)\n",
    "        \n",
    "    for key in reversed(c_keys):\n",
    "        lCen, Cl, sCl = combine_Cl(np.array(ps_data[key]))\n",
    "        assert(all(lCen == t0))\n",
    "\n",
    "        if(pN1):\n",
    "            Cl-= t1\n",
    "            \n",
    "        Cl = factor(lCen)*Cl\n",
    "        if(glbl_error is not None):\n",
    "            _, _, sCl = combine_Cl(np.array(ps_data[glbl_error]))\n",
    "        sCl = factor(lCen)*sCl\n",
    "        \n",
    "        offset = offsets[key]\n",
    "        tmp = [l*np.exp(offset)-l for l in lCen]\n",
    "        lCen += tmp\n",
    "\n",
    "        Ipos = np.where(Cl>=1e-30)\n",
    "        Ineg = np.where(Cl<=-1e-30)\n",
    "        c_label = labels[key]\n",
    "        if(pN1):\n",
    "            c_label += r'$-N^{(1)}$'\n",
    "        if('RDN' in key):\n",
    "            sCl = np.zeros_like(sCl)\n",
    "            ax.plot(lCen[Ipos], (Cl[Ipos]), alpha=0.75, label=c_label, c=colors[key])\n",
    "            res_data = (Cl-KK)/KK\n",
    "            plt_idxs = np.where(lCen<=3500)\n",
    "            res_ax.plot(lCen[plt_idxs], res_data[plt_idxs], alpha=0.75, c=colors[key]) #label=c_label, \n",
    "        else:\n",
    "            ax.errorbar(lCen[Ipos], (Cl[Ipos]), yerr=sCl[Ipos], alpha=0.75, \n",
    "                        fmt='-', capsize=3, capthick=1, label=c_label, c=colors[key])\n",
    "        \n",
    "            ax.errorbar(lCen[Ineg], -(Cl[Ineg]), yerr=sCl[Ineg], alpha=0.75, \n",
    "                        fmt='--', capsize=3, capthick=1, c=colors[key])\n",
    "\n",
    "        \n",
    "        \n",
    "        \n",
    "            res_data = (Cl-KK)/KK\n",
    "            plt_idxs = np.where(lCen<=3500)\n",
    "            res_ax.errorbar(lCen[plt_idxs], res_data[plt_idxs], yerr=sCl[plt_idxs]/KK[plt_idxs], alpha=0.75, \n",
    "                        fmt='-', capsize=3, capthick=1, c=colors[key]) #label=c_label, \n",
    "        \n",
    "        if(pmNtheoryBand and key=='QEQE-Ntheory'):\n",
    "            lCenSuper, y1, _ = combine_Cl(np.array(Ntheory_super))\n",
    "            lCenSuper, y2, _ = combine_Cl(np.array(Ntheory_super))\n",
    "\n",
    "            \n",
    "            y2=(y2)/KKsuper\n",
    "            y1=(y1)/KKsuper\n",
    "            res_ax.fill_between(x=lCenSuper, y1=-0.01*y1, y2=0.01*y2, alpha=1,\n",
    "                               color='0.95', label=r'$\\Delta N^{\\rm theory} = 1\\%$')\n",
    "            \n",
    "            \n",
    "            res_ax.fill_between(x=lCenSuper, y1=-0.001*y1, y2=0.001*y2, alpha=1,\n",
    "                               color='0.85', label=r'$\\Delta N^{\\rm theory} = 0.1\\%$')\n",
    "\n",
    "            res_ax.legend(frameon=False)\n",
    "#         if(pN1):\n",
    "#             pN1ax.fill_between([0, 1e20], [-0.1, -0.1], [0.1, 0.1], alpha=1, color='0.95')#, label=r'$<10\\%$ Error')\n",
    "#             pN1ax.fill_between([0, 1e20], [-0.01, -0.01], [0.01, 0.01], alpha=1, color='0.85')#, label=r'$<1\\%$ Error')\n",
    "# #             pN1ax.set_yscale('symlog', linthresh=1e-1) \n",
    "#             pN1ax.set_xscale('log')\n",
    "#             pN1ax.axhline(0, c='k')\n",
    "#             pN1ax.set_xscale('log')\n",
    "#             pN1ax.set_ylabel(r'Residual to $+N^{(1)}$')\n",
    "#             pN1ax.set_xlim(lMin,2*lMax)\n",
    "#             pN1ax.set_ylim(-.3, .3)\n",
    "    \n",
    "#             KKN1 = np.array(list(map(fKK_n1, lCen-tmp)))\n",
    "#             pN1ax.errorbar(lCen, (Cl-KKN1)/KKN1, yerr=sCl/KK, alpha=0.75, \n",
    "#                     fmt='-', capsize=3, capthick=1, label=labels[key], c=colors[key])\n",
    "#         print(lCen[Ineg])\n",
    "#         print('###########')\n",
    "#         print(lCen[Ipos])\n",
    "    ax.set_title('Unmasked')\n",
    "\n",
    "    ax.legend(frameon=False)\n",
    "    ax.set_xscale('log')\n",
    "    ax.set_xlabel(r'$\\ell$')\n",
    "    ax.set_yscale('log')\n",
    "    ax.set_xlim(lMin+2,4800)\n",
    "    ax.set_ylim(1.1e-9,.9e-6)\n",
    "    \n",
    "    res_ax.set_xscale('log')\n",
    "    res_ax.set_ylabel(r'Frac. Residual')\n",
    "    res_ax.set_xlim(lMin+2,4800)\n",
    "    res_ax.set_yticks([-1,-.5,-.1,.1,.5,1])\n",
    "    res_ax.set_ylim(err_ylim[0], err_ylim[1])\n",
    "#     if(not pN1):\n",
    "    res_ax.set_xlabel(r'$\\ell$')\n",
    "#     else:\n",
    "#         pN1ax.set_xlabel(r'$\\ell$')\n",
    "    return fig, ax"
   ]
  },
  {
   "cell_type": "code",
   "execution_count": 35,
   "id": "28835b1d",
   "metadata": {},
   "outputs": [
    {
     "name": "stdout",
     "output_type": "stream",
     "text": [
      "500 (500, 3, 50)\n"
     ]
    }
   ],
   "source": [
    "ps_data['QEQE-Nhat'] = combine_sketchy(ps_data['QEQE'], [-ps_data['Nhat']])"
   ]
  },
  {
   "cell_type": "code",
   "execution_count": 36,
   "id": "67dc5f29",
   "metadata": {},
   "outputs": [],
   "source": [
    "asdf1, asdf2 = baseMap.binTheoryPowerSpectrum(Ntheory, nBins=nBins)\n",
    "asdf3 = np.zeros_like(asdf1)\n",
    "Ntheory_super = np.array([[asdf1, asdf2, asdf3]])\n",
    "\n"
   ]
  },
  {
   "cell_type": "code",
   "execution_count": 37,
   "id": "eb378172",
   "metadata": {},
   "outputs": [
    {
     "data": {
      "text/plain": [
       "(1, 3, 50)"
      ]
     },
     "execution_count": 37,
     "metadata": {},
     "output_type": "execute_result"
    }
   ],
   "source": [
    "Ntheory_super.shape"
   ]
  },
  {
   "cell_type": "code",
   "execution_count": 38,
   "id": "bb20429a",
   "metadata": {},
   "outputs": [
    {
     "name": "stdout",
     "output_type": "stream",
     "text": [
      "500 (500, 3, 50)\n"
     ]
    }
   ],
   "source": [
    "# import numpy as np\n",
    "# from multiprocessing import Pool\n",
    "# from tqdm import trange\n",
    "\n",
    "# # Define a function to compute Ntheory_evaled for a given iteration\n",
    "# def compute_Ntheory_evaled(_):\n",
    "#     # Replace your original code here\n",
    "#     t0, t1 = baseMap.binTheoryPowerSpectrum(Ntheory, nBins=nBins)\n",
    "#     t2 = np.zeros_like(t1)\n",
    "#     return [t0, t1, t2]\n",
    "\n",
    "# # Set the number of iterations for parallel processing\n",
    "# num_iterations = ps_data['QEQE'].shape[0]\n",
    "\n",
    "# # Create a pool of worker processes using all available CPU cores\n",
    "# pool = Pool()\n",
    "\n",
    "# # Use the map function to parallelize the computation of Ntheory_evaled\n",
    "# Ntheory_evaled = list(tqdm(pool.imap(compute_Ntheory_evaled, range(num_iterations)), total=num_iterations))\n",
    "\n",
    "# # Convert the list of results to a NumPy array\n",
    "# Ntheory_evaled = np.array(Ntheory_evaled)\n",
    "\n",
    "# # Clean up the pool of worker processes\n",
    "# pool.close()\n",
    "# pool.join()\n",
    "\n",
    "Ntheory_evaled = np.array([\n",
    "    [asdf1, asdf2, asdf3] for _ in range(len(ps_data['QEQE']))\n",
    "])\n",
    "# Continue with your original code\n",
    "ps_data['QEQE-Ntheory'] = combine_sketchy(ps_data['QEQE'], [-Ntheory_evaled])"
   ]
  },
  {
   "cell_type": "code",
   "execution_count": 39,
   "id": "efdf3342",
   "metadata": {},
   "outputs": [
    {
     "data": {
      "text/plain": [
       "(500, 3, 50)"
      ]
     },
     "execution_count": 39,
     "metadata": {},
     "output_type": "execute_result"
    }
   ],
   "source": [
    "Ntheory_evaled.shape"
   ]
  },
  {
   "cell_type": "code",
   "execution_count": 40,
   "id": "d3d02ad9",
   "metadata": {},
   "outputs": [
    {
     "name": "stdout",
     "output_type": "stream",
     "text": [
      "500 (500, 3, 50)\n",
      "500 (500, 3, 50)\n",
      "500 (500, 3, 50)\n",
      "500 (500, 3, 50)\n",
      "500 (500, 3, 50)\n",
      "500 (500, 3, 50)\n",
      "500 (500, 3, 50)\n",
      "500 (500, 3, 50)\n"
     ]
    }
   ],
   "source": [
    "ps_data['QEQE-.99Ntheory'] = combine_sketchy(ps_data['QEQE'], [(-.99)*Ntheory_evaled])\n",
    "ps_data['QEQE-1.01Ntheory'] = combine_sketchy(ps_data['QEQE'], [-1.01*Ntheory_evaled])\n",
    "\n",
    "ps_data['QEQE-1.001Ntheory'] = combine_sketchy(ps_data['QEQE'], [-1.001*Ntheory_evaled])\n",
    "ps_data['QEQE-.999Ntheory'] = combine_sketchy(ps_data['QEQE'], [-.999*Ntheory_evaled])\n",
    "\n",
    "\n",
    "ps_data['QEQE-.99Ntheory'] = combine_sketchy(ps_data['QEQE'], [(-.99)*Ntheory_evaled])\n",
    "ps_data['QEQE-1.01Ntheory'] = combine_sketchy(ps_data['QEQE'], [-1.01*Ntheory_evaled])\n",
    "\n",
    "ps_data['QEQE-1.001Ntheory'] = combine_sketchy(ps_data['QEQE'], [-1.001*Ntheory_evaled])\n",
    "ps_data['QEQE-.999Ntheory'] = combine_sketchy(ps_data['QEQE'], [-.999*Ntheory_evaled])\n"
   ]
  },
  {
   "cell_type": "code",
   "execution_count": 41,
   "id": "5203883b",
   "metadata": {},
   "outputs": [],
   "source": [
    "# # Continue with your original code\n",
    "# ps_data['QEQE-Ntheory'] = combine_sketchy(ps_data['QEQE'], [-ps_data['GRF']])"
   ]
  },
  {
   "cell_type": "code",
   "execution_count": 42,
   "id": "fa0b5379",
   "metadata": {},
   "outputs": [
    {
     "data": {
      "text/plain": [
       "(500, 3, 50)"
      ]
     },
     "execution_count": 42,
     "metadata": {},
     "output_type": "execute_result"
    }
   ],
   "source": [
    "Ntheory_evaled.shape"
   ]
  },
  {
   "cell_type": "code",
   "execution_count": 43,
   "id": "3c6c49ef",
   "metadata": {},
   "outputs": [],
   "source": [
    "f = open('/oak/stanford/orgs/kipac/users/delon/LensQuEst/ps_data_unmasked_TgradT_weights.pkl', 'wb') \n",
    "pickle.dump(ps_data, f)\n",
    "f.close()"
   ]
  },
  {
   "cell_type": "code",
   "execution_count": 44,
   "id": "23fdd362",
   "metadata": {},
   "outputs": [],
   "source": [
    "f = open('/oak/stanford/orgs/kipac/users/delon/LensQuEst/ps_data_unmasked_TgradT_weights.pkl', 'rb') \n",
    "ps_data = pickle.load(f)\n",
    "f.close()\n"
   ]
  },
  {
   "cell_type": "code",
   "execution_count": 45,
   "id": "822ed222",
   "metadata": {},
   "outputs": [
    {
     "name": "stderr",
     "output_type": "stream",
     "text": [
      "No artists with labels found to put in legend.  Note that artists whose label start with an underscore are ignored when legend() is called with no argument.\n"
     ]
    },
    {
     "name": "stdout",
     "output_type": "stream",
     "text": [
      "500 (500, 3, 50)\n",
      "500 (500, 3, 50)\n",
      "[            nan             nan             nan             nan\n",
      "             nan             nan             nan             nan\n",
      "             nan             nan             nan             nan\n",
      "             nan             nan             nan  2.51129418e-04\n",
      "             nan -2.23146110e-05             nan -1.97604463e-04\n",
      "  3.07665819e-05  1.76729069e-04 -3.83376472e-04 -2.86697019e-05\n",
      "  2.63333743e-04  1.33611236e-04  2.21248189e-04  3.45735031e-04\n",
      "  3.35506930e-04  3.08169355e-04  3.33776275e-04  2.61973222e-04\n",
      "  2.44108729e-04  2.41164243e-04  3.10784276e-04  2.88773691e-04\n",
      "  2.95110059e-04  2.84747077e-04  2.75924176e-04  3.68443991e-04\n",
      "  5.46539535e-04  9.29122243e-04  1.37108444e-03  1.07414611e-03\n",
      "  1.19028645e-03  1.06728889e-03  1.58509003e-03            -inf\n",
      "            -inf            -inf]\n"
     ]
    },
    {
     "data": {
      "text/plain": [
       "(-0.98, 0.98)"
      ]
     },
     "execution_count": 45,
     "metadata": {},
     "output_type": "execute_result"
    },
    {
     "data": {
      "image/png": "[encoded data removed]",
      "text/plain": [
       "<Figure size 864x576 with 1 Axes>"
      ]
     },
     "metadata": {
      "needs_background": "light"
     },
     "output_type": "display_data"
    }
   ],
   "source": [
    "offset=0\n",
    "\n",
    "fig, ax = plt.subplots(nrows=1, ncols=1, figsize =(12,8))\n",
    "\n",
    "\n",
    "plt.rcParams['text.usetex'] = True\n",
    "plt.rcParams['font.size'] = 20\n",
    "\n",
    "ell = baseMap.l.flatten()\n",
    "\n",
    "lCen0, Cl0, sCl0 = combine_Cl(np.array(ps_data['GRF']))\n",
    "lCen1, Cl1, sCl1 = combine_Cl(Ntheory_evaled)\n",
    "\n",
    "print((Cl0-Cl1)/Cl0)\n",
    "assert(all(lCen0 == lCen1))\n",
    "ax.errorbar(lCen0, (Cl0-Cl1)/(Cl0), yerr=sCl1/Cl0, alpha=0.75, \n",
    "            fmt='-', capsize=3, capthick=1, c='red')#, label=labels[key], c=colors[key])\n",
    "# ax.set_title('Masked')\n",
    "\n",
    "ax.legend(frameon=False)\n",
    "ax.set_xscale('log')\n",
    "ax.set_xlabel(r'$\\ell$')\n",
    "ax.set_ylabel(r'$\\frac{N_{\\rm theory} - \\hat N}{N_{\\rm theory}}$')\n",
    "\n",
    "ax.set_yscale('log')\n",
    "ax.set_xlim(lMin,2*lMax)\n",
    "# ax.set_ylim(1.1e-10,.9e-3)\n",
    "\n",
    "ax.fill_between([0, 1e20], [-0.1, -0.1], [0.1, 0.1], alpha=1, color='0.95')#, label=r'$<10\\%$ Error')\n",
    "ax.fill_between([0, 1e20], [-0.01, -0.01], [0.01, 0.01], alpha=1, color='0.85')#, label=r'$<1\\%$ Error')\n",
    "ax.set_yscale('symlog', linthresh=1e-1) \n",
    "\n",
    "ax.axhline(0, c='k')\n",
    "\n",
    "ax.set_ylim(-.98e0, .98e0)\n",
    "# plt.savefig('figures/mNhat_vs_mNtheory_masked.pdf', bbox_inches='tight')"
   ]
  },
  {
   "cell_type": "code",
   "execution_count": 46,
   "id": "9da3e175",
   "metadata": {
    "scrolled": false
   },
   "outputs": [],
   "source": [
    "\n",
    "# graph_from_keys([  \n",
    "#     'RDN(0)',\n",
    "#     'Nhat',\n",
    "# ], offset=0.00)\n",
    "\n"
   ]
  },
  {
   "cell_type": "code",
   "execution_count": 47,
   "id": "c7721a57",
   "metadata": {},
   "outputs": [],
   "source": [
    "# ps_data['QEQE-RDN(0)'] = combine_sketchy(ps_data['QEQE'], [-ps_data['RDN(0)']])\n",
    "# ps_data['QEQE-RDN(0) reduced'] = combine_sketchy(ps_data['QEQE'], [-ps_data['RDN(0) reduced']])\n",
    "# ps_data['QEQE-RDN(0) quart'] = combine_sketchy(ps_data['QEQE'], [-ps_data['RDN(0) reduceder']])"
   ]
  },
  {
   "cell_type": "code",
   "execution_count": 48,
   "id": "485023f4",
   "metadata": {},
   "outputs": [
    {
     "name": "stdout",
     "output_type": "stream",
     "text": [
      "500 (500, 3, 50)\n"
     ]
    },
    {
     "data": {
      "text/plain": [
       "(<Figure size 720x576 with 1 Axes>,\n",
       " <Axes: title={'center': 'Unmasked'}, xlabel='$\\\\ell$'>)"
      ]
     },
     "execution_count": 48,
     "metadata": {},
     "output_type": "execute_result"
    },
    {
     "data": {
      "image/png": "[encoded data removed]",
      "text/plain": [
       "<Figure size 720x576 with 1 Axes>"
      ]
     },
     "metadata": {
      "needs_background": "light"
     },
     "output_type": "display_data"
    }
   ],
   "source": [
    "graph_from_keys_legacy([\n",
    "    'Nhat'\n",
    "], offset=0.00)#, pN1=True)"
   ]
  },
  {
   "cell_type": "code",
   "execution_count": 49,
   "id": "a891c9ee",
   "metadata": {},
   "outputs": [],
   "source": [
    "# graph_from_keys([\n",
    "# #     'QEQE-N0',\n",
    "#     'QEQE-RDN(0)',\n",
    "#     'QEQE-RDN(0) reduced',\n",
    "# #     'RDN(0)o2'\n",
    "# #     'QEQE-2Nhat+Ntheory',\n",
    "# ], offset=0.03, err_ylim=[-1.2,1.2])#, pN1=True)\n",
    "# # plt.savefig('figures/mNhat_vs_mNtheory_TgradT_weights.pdf', bbox_inches='tight')\n"
   ]
  },
  {
   "cell_type": "code",
   "execution_count": 50,
   "id": "f0d4a064",
   "metadata": {},
   "outputs": [],
   "source": [
    "# graph_from_keys([\n",
    "# #     'QEQE-N0',\n",
    "#     'QEQE-RDN(0)',\n",
    "#     'QEQE-RDN(0) reduced',\n",
    "#     'QEQE-RDN(0) quart',\n",
    "# #     'RDN(0)o2'\n",
    "# #     'QEQE-2Nhat+Ntheory',\n",
    "# ], offset=0.015, pN1=True, glbl_error='QEQE-Ntheory', err_ylim=[-1.5,1.5])\n",
    "# plt.savefig('figures/mRDN0_vs_mRDN0Reduced_TgradT_weights_pN1.pdf', bbox_inches='tight')"
   ]
  },
  {
   "cell_type": "code",
   "execution_count": 51,
   "id": "a16018d3",
   "metadata": {},
   "outputs": [],
   "source": [
    "# graph_from_keys([\n",
    "# #     'QEQE-N0',\n",
    "#     'QEQE-Ntheory',\n",
    "#     'QEQE-Nhat',\n",
    "#     'QEQE-RDN(0)',\n",
    "# #     'QEQE-RDN(0) reduced',\n",
    "# #     'QEQE-RDN(0) quart',\n",
    "# #     'RDN(0)o2'\n",
    "# #     'QEQE-2Nhat+Ntheory',\n",
    "# ], offset=0.03)#, pN1=True)\n",
    "# # plt.savefig('figures/mNhat_vs_mNtheory_TgradT_weights.pdf', bbox_inches='tight')"
   ]
  },
  {
   "cell_type": "code",
   "execution_count": 52,
   "id": "e79bf00b",
   "metadata": {},
   "outputs": [
    {
     "name": "stdout",
     "output_type": "stream",
     "text": [
      "500 (500, 3, 50)\n",
      "1 (1, 3, 50)\n",
      "1 (1, 3, 50)\n",
      "500 (500, 3, 50)\n"
     ]
    },
    {
     "data": {
      "image/png": "[encoded data removed]",
      "text/plain": [
       "<Figure size 864x864 with 2 Axes>"
      ]
     },
     "metadata": {
      "needs_background": "light"
     },
     "output_type": "display_data"
    }
   ],
   "source": [
    "graph_from_keys([\n",
    "#     'QEQE-N0',\n",
    "    'QEQE-Nhat',\n",
    "    'QEQE-Ntheory',\n",
    "#     'QEQE-RDN(0)',\n",
    "#     'QEQE-RDN(0) reduced',\n",
    "#     'QEQE-RDN(0) quart',\n",
    "#     'RDN(0)o2'\n",
    "#     'QEQE-2Nhat+Ntheory',\n",
    "], offset=0.005, \n",
    "    pN1=True, \n",
    "    colors={'QEQE-Nhat':'red', \n",
    "            'QEQE-Ntheory':'blue', \n",
    "#             'QEQE-RDN(0) quart':'#98f5b6', \n",
    "#             'QEQE-RDN(0) reduced':'#33d3a7',\n",
    "#             'QEQE-RDN(0)': '#0995ad'\n",
    "           },\n",
    "    err_ylim=[-0.5,0.5],\n",
    "pmNtheoryBand=True)\n",
    "plt.savefig('figures/mNhat_vs_mNtheory_TgradT_weights_pN1.pdf', bbox_inches='tight')"
   ]
  },
  {
   "cell_type": "code",
   "execution_count": null,
   "id": "82317acb",
   "metadata": {},
   "outputs": [],
   "source": []
  },
  {
   "cell_type": "code",
   "execution_count": null,
   "id": "3ea21ef5",
   "metadata": {},
   "outputs": [],
   "source": []
  },
  {
   "cell_type": "code",
   "execution_count": null,
   "id": "6f3320c0",
   "metadata": {},
   "outputs": [],
   "source": []
  },
  {
   "cell_type": "code",
   "execution_count": null,
   "id": "7eba7daa",
   "metadata": {},
   "outputs": [],
   "source": []
  },
  {
   "cell_type": "code",
   "execution_count": null,
   "id": "7e0fde84",
   "metadata": {},
   "outputs": [],
   "source": []
  },
  {
   "cell_type": "code",
   "execution_count": 53,
   "id": "9f5a0cf0",
   "metadata": {},
   "outputs": [],
   "source": [
    "# graph_from_keys([\n",
    "# #     'QEQE-N0',\n",
    "#     'QEQE-Nhat',\n",
    "#     'QEQE-Ntheory',\n",
    "# #     'QEQE-RDN(0)',\n",
    "# #     'RDN(0)o2'\n",
    "# #     'QEQE-2Nhat+Ntheory',\n",
    "# ], offset=0.015, \n",
    "#     pN1=True, \n",
    "#     glbl_error='QEQE-Ntheory',\n",
    "# pmNtheoryBand=False)\n",
    "# plt.savefig('figures/mNhat_vs_mNtheory_TgradT_weights_pN1_woNtheorybands.pdf', bbox_inches='tight')"
   ]
  },
  {
   "cell_type": "code",
   "execution_count": null,
   "id": "24dfcb56",
   "metadata": {},
   "outputs": [],
   "source": [
    "graph_from_keys_legacy([\n",
    "    'GRF',\n",
    "], offset=0.00)\n",
    "# plt.savefig('figures/Nhat on GRF TgradT.pdf', bbox_inches='tight')"
   ]
  },
  {
   "cell_type": "code",
   "execution_count": null,
   "id": "5af1f6a5",
   "metadata": {},
   "outputs": [],
   "source": [
    "nBins=15\n",
    "ps_data = {}\n",
    "\n",
    "#estimate RDN0\n",
    "ck = 'RDN(0)'\n",
    "\n",
    "\n",
    "for d_idx in trange(len(in_data['kCmbF_1'])):\n",
    "    RDN0_fname = '/oak/stanford/orgs/kipac/users/delon/LensQuEst/RDN0-combined-%d-nBins%d.pkl'%(d_idx, nBins)\n",
    "    tot = None\n",
    "    with open(RDN0_fname,\"rb\") as f:\n",
    "        tot = pickle.load(f)\n",
    "    \n",
    "    if(ck not in ps_data.keys()):\n",
    "        ps_data[ck] = np.array([tot])\n",
    "    else:\n",
    "        ps_data[ck] = np.vstack((ps_data[ck], np.array([tot])))  \n",
    "print(ps_data[ck].shape)\n",
    "\n",
    "# #estimate N0\n",
    "# ck = 'N0'\n",
    "\n",
    "# for data_idx in range(len(data['00'])):\n",
    "#     q00 = data['00'][data_idx]\n",
    "#     c_ps_data = {}\n",
    "#     c_ps_data[ck] = [0,0,0]\n",
    "#     c_ps_data[ck][0], c_ps_data[ck][1], c_ps_data[ck][2] = baseMap.powerSpectrum(dataFourier=q00, nBins=15)\n",
    "#     if(ck not in ps_data.keys()):\n",
    "#         ps_data[ck] = np.array([c_ps_data[ck]])\n",
    "#     else:\n",
    "#         ps_data[ck] = np.vstack((ps_data[ck], np.array([c_ps_data[ck]])))  \n",
    "\n",
    "\n",
    "\n",
    "# #estimate kk\n",
    "# ck = 'kk'\n",
    "\n",
    "\n",
    "# for data_idx in range(min(len(data['01']), len(data['10']))):\n",
    "#     q01 = data['01'][data_idx]\n",
    "#     q10 = data['10'][data_idx]\n",
    "#     kCmbFourier = in_data['kCmbF_1'][data_idx]\n",
    "#     c_ps_data = {}\n",
    "#     c_ps_data[ck] = [0,0,0]\n",
    "#     c_ps_data[ck][0], c_ps_data[ck][1], c_ps_data[ck][2] = baseMap.crossPowerSpectrum(dataFourier1=q10+q01, dataFourier2=kCmbFourier, nBins=nBins)\n",
    "#     if(ck not in ps_data.keys()):\n",
    "#         ps_data[ck] = np.array([c_ps_data[ck]])\n",
    "#     else:\n",
    "#         ps_data[ck] = np.vstack((ps_data[ck], np.array([c_ps_data[ck]])))  \n",
    "\n",
    "#estimate <QE QE>\n",
    "ck = 'QEQE'\n",
    "for data_idx in trange(len(data['-1-1'])):\n",
    "    QE = data['-1-1'][data_idx]\n",
    "    \n",
    "    c_ps_data = {}\n",
    "    c_ps_data[ck] = [0,0,0]\n",
    "    c_ps_data[ck][0], c_ps_data[ck][1], c_ps_data[ck][2] = baseMap.powerSpectrum(dataFourier=QE, nBins=nBins)\n",
    "    if(ck not in ps_data.keys()):\n",
    "        ps_data[ck] = np.array([c_ps_data[ck]])\n",
    "    else:\n",
    "        ps_data[ck] = np.vstack((ps_data[ck], np.array([c_ps_data[ck]])))  \n",
    "\n",
    "#estimate Nhat\n",
    "ck = 'Nhat'\n",
    "for data_idx in trange(len(data['-1-1_sqrtN'])):\n",
    "    sqrtNhat = data['-1-1_sqrtN'][data_idx]\n",
    "    \n",
    "    c_ps_data = {}\n",
    "    c_ps_data[ck] = [0,0,0]\n",
    "    c_ps_data[ck][0], c_ps_data[ck][1], c_ps_data[ck][2] = baseMap.powerSpectrum(dataFourier=sqrtNhat, nBins=nBins)\n",
    "    if(ck not in ps_data.keys()):\n",
    "        ps_data[ck] = np.array([c_ps_data[ck]])\n",
    "    else:\n",
    "        ps_data[ck] = np.vstack((ps_data[ck],np.array([c_ps_data[ck]])))  \n",
    "\n",
    "#estimate GRF Nhat\n",
    "ck = 'GRF'\n",
    "for data_idx in trange(len(data['-2-2_sqrtN'])):\n",
    "    sqrtNhat = data['-2-2_sqrtN'][data_idx]\n",
    "    \n",
    "    c_ps_data = {}\n",
    "    c_ps_data[ck] = [0,0,0]\n",
    "    c_ps_data[ck][0], c_ps_data[ck][1], c_ps_data[ck][2] = baseMap.powerSpectrum(dataFourier=sqrtNhat, nBins=nBins)\n",
    "    if(ck not in ps_data.keys()):\n",
    "        ps_data[ck] = np.array([c_ps_data[ck]])\n",
    "    else:\n",
    "        ps_data[ck] = np.vstack(( ps_data[ck], np.array([c_ps_data[ck]])))  \n",
    "\n",
    "#estimate <kT kT>\n",
    "ck = 'kT'\n",
    "\n",
    "for data_idx in trange(len(in_data['kCmbF_1'])):\n",
    "    kT = in_data['kCmbF_1'][data_idx]\n",
    "    c_ps_data = {}\n",
    "    c_ps_data[ck] = [0,0,0]\n",
    "    c_ps_data[ck][0], c_ps_data[ck][1], c_ps_data[ck][2] = baseMap.powerSpectrum(dataFourier=kT, nBins=nBins)\n",
    "    if(ck not in ps_data.keys()):\n",
    "        ps_data[ck] = np.array([c_ps_data[ck]])\n",
    "    else:\n",
    "        ps_data[ck] = np.vstack((ps_data[ck], np.array([c_ps_data[ck]])))  \n",
    "\n",
    "import numpy as np\n",
    "from multiprocessing import Pool\n",
    "from tqdm import trange\n",
    "\n",
    "# Define a function to compute Ntheory_evaled for a given iteration\n",
    "def compute_Ntheory_evaled(_):\n",
    "    # Replace your original code here\n",
    "    t0, t1 = baseMap.binTheoryPowerSpectrum(Ntheory, nBins=nBins)\n",
    "    t2 = np.zeros_like(t1)\n",
    "    return [t0, t1, t2]\n",
    "\n",
    "# Set the number of iterations for parallel processing\n",
    "num_iterations = 500\n",
    "\n",
    "# Create a pool of worker processes using all available CPU cores\n",
    "pool = Pool()\n",
    "\n",
    "# Use the map function to parallelize the computation of Ntheory_evaled\n",
    "Ntheory_evaled = list(tqdm(pool.imap(compute_Ntheory_evaled, range(num_iterations)), total=num_iterations))\n",
    "\n",
    "# Convert the list of results to a NumPy array\n",
    "Ntheory_evaled = np.array(Ntheory_evaled)\n",
    "\n",
    "# Clean up the pool of worker processes\n",
    "pool.close()\n",
    "pool.join()\n",
    "\n",
    "# Continue with your original code\n",
    "ps_data['QEQE-Ntheory'] = combine_sketchy(ps_data['QEQE'], [-Ntheory_evaled])"
   ]
  },
  {
   "cell_type": "code",
   "execution_count": null,
   "id": "e4f0df5d",
   "metadata": {},
   "outputs": [],
   "source": [
    "f = open('/oak/stanford/orgs/kipac/users/delon/LensQuEst/ps_data_unmasked_fewer_bins.pkl', 'wb') \n",
    "pickle.dump(ps_data, f)\n",
    "f.close()\n"
   ]
  },
  {
   "cell_type": "code",
   "execution_count": null,
   "id": "a829d660",
   "metadata": {},
   "outputs": [],
   "source": [
    "#bandaid\n",
    "ll = ['%d'%l for l in ps_data['QEQE'][0][0]]\n",
    "#\n",
    "def corr2(corr_nhat1, \n",
    "          corr_nhat2, \n",
    "          filename_base, \n",
    "          cmap='seismic', \n",
    "          cmap2='seismic', \n",
    "          label='', \n",
    "          label2=''):\n",
    "    \n",
    "    plt.rcParams['font.family'] = 'serif'\n",
    "    plt.rcParams['text.usetex'] = True\n",
    "\n",
    "    plt.rcParams['font.size'] = 20\n",
    "    plt.rcParams['text.latex.preamble'] = r'\\usepackage{xcolor}'\n",
    "    plt.rcParams['text.latex.preamble'] +='\\n'\n",
    "#     plt.rcParams['text.latex.preamble'] += r'\\definecolor{c1}{rgb}{%.1f,%.1f,%.1f}'%(cmap[3][0],cmap[3][1],cmap[3][2])\n",
    "#     plt.rcParams['text.latex.preamble'] +='\\n'\n",
    "#     plt.rcParams['text.latex.preamble'] +=r'\\definecolor{c2}{rgb}{%.1f,%.1f,%.1f}'%(cmap2[3][0],cmap2[3][1],cmap2[3][2])\n",
    "\n",
    "    \n",
    "    corr_nhat = np.copy(corr_nhat1)\n",
    "    sze = len(corr_nhat1)\n",
    "    mask = np.array([[0 for _ in range(sze)] for _ in range(sze)])\n",
    "    for i in range(sze-1):\n",
    "        for j in range(sze-1-i):\n",
    "            corr_nhat[i][sze-j-1] = corr_nhat2[i][sze-j-1]\n",
    "            mask[i][sze-j-1] = 1\n",
    "    plt.figure(figsize=(25,20))\n",
    "    print(np.shape(corr_nhat))\n",
    "    print(np.shape(mask))\n",
    "    \n",
    "    ax = sns.heatmap(corr_nhat,  cmap=cmap, cbar=True, vmin=-1, vmax=1, square=True,\n",
    "                    cbar_kws={ 'ticks':[],\n",
    "                              \"orientation\": \"horizontal\", 'pad':-0.17, 'shrink':0.3})\n",
    "    \n",
    "    sns.heatmap(corr_nhat, mask=mask, cmap=cmap2, cbar=True, ax=ax, vmin=-1, vmax=1,square=True,label=label,\n",
    "           cbar_kws={'label': r\"$\\rho$\",\"orientation\": \"horizontal\", 'pad':0.1,  'shrink':0.3})\n",
    "    \n",
    "\n",
    "    ax.tick_params(axis=u'x', which=u'both',labelrotation=90)\n",
    "    ax.set_xticks(np.arange(len(ll))+0.5, labels=ll)\n",
    "    plt.xlabel(r'$\\ell$'+'\\n')\n",
    "\n",
    "#     ax.legend(frameon=False)\n",
    "\n",
    "    ax.tick_params(axis=u'y', which=u'both',labelrotation=0)\n",
    "    ax.set_yticks(np.arange(len(ll))+0.5, labels=ll)\n",
    "    plt.ylabel(r'$\\ell$'+'\\n')\n",
    "\n",
    "    plt.title(r'Correlations for {%s} (Top Left) and {%s} (Bottom Right)'%(label, label2))\n",
    "    plt.xlim(4, len(ll)-1)\n",
    "    plt.ylim(4, len(ll)-1)\n",
    "\n",
    "    plt.savefig('figures/corr_%s_TgradT_weights.pdf'%(filename_base), bbox_inches='tight')#, use='pgf')\n",
    "\n",
    "\n",
    "def corr_gen(keys, filename_base):\n",
    "    Cls_tmp = np.array([None, None])\n",
    "    for key,idx in zip(keys, range(2)):\n",
    "        print(np.shape(ps_data[key]))\n",
    "        Cls_tmp[idx] = np.transpose(np.copy(np.array(ps_data[key])), axes=[1,2,0])[1]\n",
    "\n",
    "    corrs = np.array([[[(np.corrcoef(Cls_tmp[i][i1], Cls_tmp[i][i2])[1,0])\n",
    "                          for i1 in range(len(Cls_tmp[i]))]\n",
    "                         for i2 in range(len(Cls_tmp[i]))]\n",
    "                         for i in range(2)])\n",
    "\n",
    "    corr2(corrs[0], corrs[1], \n",
    "          label= labels[keys[0]],\n",
    "         label2=labels[keys[1]], \n",
    "         filename_base=filename_base)"
   ]
  },
  {
   "cell_type": "code",
   "execution_count": null,
   "id": "fc6f0eb8",
   "metadata": {},
   "outputs": [],
   "source": [
    "# corr_gen(['QEQE', 'N0'], 'QEQEvsN0')"
   ]
  },
  {
   "cell_type": "code",
   "execution_count": null,
   "id": "9f0310b5",
   "metadata": {},
   "outputs": [],
   "source": [
    "ps_data['QEQE-kTkT-Nhat'] = combine_sketchy(ps_data['QEQE'], [-ps_data['kT'],-ps_data['Nhat']])\n",
    "ps_data['QEQE-kTkT-Ntheory'] = combine_sketchy(ps_data['QEQE'], [-ps_data['kT'],-Ntheory_evaled])\n",
    "ps_data['QEQE-kTkT-RDN(0)'] = combine_sketchy(ps_data['QEQE'], [-ps_data['kT'],-ps_data['RDN(0)']])"
   ]
  },
  {
   "cell_type": "code",
   "execution_count": null,
   "id": "cd270196",
   "metadata": {},
   "outputs": [],
   "source": [
    "corr_gen(['QEQE-kTkT-Nhat', 'QEQE-kTkT-Ntheory'], 'mNhat_v_mNtheory')"
   ]
  },
  {
   "cell_type": "code",
   "execution_count": null,
   "id": "45919182",
   "metadata": {},
   "outputs": [],
   "source": [
    "corr_gen(['QEQE-kTkT-Nhat', 'QEQE-kTkT-RDN(0)'], 'mNhat_v_mRDN0')"
   ]
  },
  {
   "cell_type": "code",
   "execution_count": null,
   "id": "3d7debc7",
   "metadata": {},
   "outputs": [],
   "source": []
  }
 ],
 "metadata": {
  "kernelspec": {
   "display_name": "nblensing",
   "language": "python",
   "name": "nblensing"
  },
  "language_info": {
   "codemirror_mode": {
    "name": "ipython",
    "version": 3
   },
   "file_extension": ".py",
   "mimetype": "text/x-python",
   "name": "python",
   "nbconvert_exporter": "python",
   "pygments_lexer": "ipython3",
   "version": "3.9.16"
  }
 },
 "nbformat": 4,
 "nbformat_minor": 5
}
