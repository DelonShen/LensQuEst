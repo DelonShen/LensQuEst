{
 "cells": [
  {
   "cell_type": "code",
   "execution_count": 1,
   "id": "1e3fe4a7",
   "metadata": {},
   "outputs": [],
   "source": [
    "%load_ext autoreload\n",
    "%autoreload 2"
   ]
  },
  {
   "cell_type": "code",
   "execution_count": 2,
   "id": "c7dc91e3",
   "metadata": {},
   "outputs": [],
   "source": [
    "#######\n",
    "IN_DATA_FNAMES = ['/oak/stanford/orgs/kipac/users/delon/LensQuEst/map_sims_%d.pkl'%(i) for i in range(1,51)]\n",
    "import warnings\n",
    "warnings.filterwarnings(\"ignore\")\n",
    "#####"
   ]
  },
  {
   "cell_type": "code",
   "execution_count": 3,
   "id": "f9f267a5",
   "metadata": {},
   "outputs": [],
   "source": [
    "import os, sys\n",
    "WORKING_DIR = os.path.dirname(os.path.abspath(''))\n",
    "sys.path.insert(1, os.path.join(WORKING_DIR,'LensQuEst'))"
   ]
  },
  {
   "cell_type": "code",
   "execution_count": 4,
   "id": "e0c19c28",
   "metadata": {},
   "outputs": [],
   "source": [
    "from universe import *\n",
    "from halo_fit import *\n",
    "from cmb import *\n",
    "from flat_map import *\n",
    "from weight import *\n",
    "from pn_2d import *\n",
    "import pickle\n",
    "import seaborn as sns\n",
    "from scipy.stats import spearmanr\n",
    "import matplotlib\n",
    "from tqdm import trange, tqdm"
   ]
  },
  {
   "cell_type": "code",
   "execution_count": 5,
   "id": "1592263e",
   "metadata": {},
   "outputs": [
    {
     "name": "stdout",
     "output_type": "stream",
     "text": [
      "Map properties\n"
     ]
    }
   ],
   "source": [
    "print(\"Map properties\")\n",
    "\n",
    "# number of pixels for the flat map\n",
    "nX = 1200 \n",
    "nY = 1200\n",
    "\n",
    "# map dimensions in degrees\n",
    "sizeX = 20.\n",
    "sizeY = 20.\n",
    "\n",
    "# basic map object\n",
    "baseMap = FlatMap(nX=nX, nY=nY, sizeX=sizeX*np.pi/180., sizeY=sizeY*np.pi/180.)\n",
    "\n",
    "# multipoles to include in the lensing reconstruction\n",
    "lMin = 30.; lMax = 3.5e3\n",
    "\n",
    "# ell bins for power spectra\n",
    "nBins = 51  # number of bins\n",
    "lRange = (1., 2.*lMax)  # range for power spectra"
   ]
  },
  {
   "cell_type": "code",
   "execution_count": 6,
   "id": "50319855",
   "metadata": {},
   "outputs": [
    {
     "name": "stdout",
     "output_type": "stream",
     "text": [
      "../data/input/universe_Planck15/camb/CAMB_outputs.pkl\n",
      "loaded estimated ftot\n"
     ]
    }
   ],
   "source": [
    "oup_fname = '../data/input/universe_Planck15/camb/CAMB_outputs.pkl'\n",
    "print(oup_fname)\n",
    "f = open(oup_fname, 'rb') \n",
    "powers,cl,c_lensed,c_lens_response = pickle.load(f)\n",
    "f.close()\n",
    "\n",
    "totCL=powers['total']\n",
    "unlensedCL=powers['unlensed_scalar']\n",
    "\n",
    "L = np.arange(unlensedCL.shape[0])\n",
    "unlensedTT = unlensedCL[:,0]/(L*(L+1))*2*np.pi\n",
    "F = unlensedTT\n",
    "funlensedTT_log = interp1d(L, np.log(F), kind='linear', bounds_error=False, fill_value=0.)\n",
    "funlensedTT = lambda L:np.exp(funlensedTT_log(L))\n",
    "\n",
    "\n",
    "L = np.arange(cl.shape[0])\n",
    "PP = cl[:,0]\n",
    "rawPP = PP*2*np.pi/((L*(L+1))**2)\n",
    "rawKK = L**4/4 * rawPP\n",
    "\n",
    "fKK_log = interp1d(L, np.log(rawKK), kind='linear', bounds_error=False, fill_value=0.)\n",
    "fKK = lambda L:np.exp(fKK_log(L))\n",
    "\n",
    "\n",
    "L = np.arange(totCL.shape[0])\n",
    "\n",
    "lensedTT = totCL[:,0]/(L*(L+1))*2*np.pi\n",
    "F = lensedTT\n",
    "flensedTT_log = interp1d(L, np.log(F), kind='linear', bounds_error=False, fill_value=0.)\n",
    "flensedTT = lambda L:np.exp(flensedTT_log(L))\n",
    "\n",
    "\n",
    "ftot = lambda l : flensedTT(l) + cmb.fForeground(l) + cmb.fdetectorNoise(l)\n",
    "with open('f_aniso_ftot.pkl', 'rb') as f:\n",
    "    ftot = pickle.load(f)\n",
    "    \n",
    "print('loaded estimated ftot')\n",
    "\n",
    "L = np.arange(c_lens_response.shape[0])\n",
    "\n",
    "cTgradT = c_lens_response.T[0]/(L*(L+1))*2*np.pi\n",
    "\n",
    "fTgradT_log = interp1d(L, np.log(cTgradT), kind='linear', bounds_error=False, fill_value=0.)\n",
    "fTgradT = lambda L:np.exp(fTgradT_log(L))"
   ]
  },
  {
   "cell_type": "code",
   "execution_count": null,
   "id": "77904543",
   "metadata": {},
   "outputs": [],
   "source": []
  },
  {
   "cell_type": "code",
   "execution_count": 7,
   "id": "f7eab5c5",
   "metadata": {},
   "outputs": [],
   "source": [
    "# Adjust the lMin and lMax to the assumptions of the analysis\n",
    "# CMB S4/SO specs\n",
    "cmb = StageIVCMB(beam=1.4, noise=7., lMin=lMin, lMaxT=lMax, lMaxP=lMax, atm=False)\n",
    "\n",
    "# Total power spectrum, for the lens reconstruction\n",
    "# basiscally gets what we theoretically expect the\n",
    "# power spectrum will look like\n",
    "forCtotal = lambda l: ftot(l) \n",
    "\n",
    "# reinterpolate: gain factor 10 in speed\n",
    "# L = np.logspace(np.log10(lMin/2.), np.log10(2.*lMax), 1001, 10.)\n",
    "# F = np.array(list(map(forCtotal, L)))\n",
    "# cmb.fCtotal = interp1d(L, F, kind='linear', bounds_error=False, fill_value=0.)\n",
    "cmb.fCtotal = ftot # no longer reinterpolating since it seems like it leads to errors?"
   ]
  },
  {
   "cell_type": "code",
   "execution_count": 8,
   "id": "82624525",
   "metadata": {},
   "outputs": [
    {
     "name": "stdout",
     "output_type": "stream",
     "text": [
      "Gets a theoretical prediction for the noise\n",
      "computing the reconstruction noise\n"
     ]
    }
   ],
   "source": [
    "print(\"Gets a theoretical prediction for the noise\")\n",
    "fNqCmb_fft = baseMap.forecastN0Kappa(fTgradT, cmb.fCtotal, lMin=lMin, lMax=lMax, test=False)\n",
    "Ntheory = lambda l: fNqCmb_fft(l) "
   ]
  },
  {
   "cell_type": "code",
   "execution_count": 107,
   "id": "bdb1cb7e",
   "metadata": {},
   "outputs": [
    {
     "name": "stderr",
     "output_type": "stream",
     "text": [
      "100%|██████████| 50/50 [03:09<00:00,  3.79s/it]\n"
     ]
    },
    {
     "name": "stdout",
     "output_type": "stream",
     "text": [
      "totalF_1 (500, 1200, 601)\n"
     ]
    }
   ],
   "source": [
    "in_data = {}\n",
    "\n",
    "for fname in tqdm(IN_DATA_FNAMES):\n",
    "    f = open(fname, 'rb') \n",
    "    c_in_data = pickle.load(f) \n",
    "    f.close()\n",
    "    for key in c_in_data:\n",
    "        if(key != 'totalF_1'):\n",
    "            continue\n",
    "        if(key not in in_data.keys()):\n",
    "            in_data[key] = np.array(c_in_data[key])\n",
    "        else:\n",
    "            in_data[key] = np.vstack( (in_data[key],np.array(c_in_data[key])) )\n",
    "\n",
    "\n",
    "for key in in_data:\n",
    "    print(key, np.shape(in_data[key]))"
   ]
  },
  {
   "cell_type": "code",
   "execution_count": 10,
   "id": "0a1adf4d",
   "metadata": {},
   "outputs": [],
   "source": [
    "nBins=51"
   ]
  },
  {
   "cell_type": "code",
   "execution_count": 11,
   "id": "e0ffc13f",
   "metadata": {},
   "outputs": [
    {
     "name": "stderr",
     "output_type": "stream",
     "text": [
      "100%|██████████| 50/50 [01:41<00:00,  2.02s/it]\n"
     ]
    }
   ],
   "source": [
    "data = {}\n",
    "ps_data = {}\n",
    "# pbar = trange(len(pairs))\n",
    "pairs = [[-1, -1]]\n",
    "for file_idx in trange(1,51):\n",
    "    for pair_idx in range(len(pairs)):\n",
    "        pair = pairs[pair_idx]\n",
    "        c_fname = '/oak/stanford/orgs/kipac/users/delon/LensQuEst/estimators_FILE%d_pair_%d_%d_aniso_noise.pkl'%(file_idx, pair[0], pair[1])\n",
    "        if(not os.path.isfile(c_fname)):\n",
    "            continue\n",
    "        f = open(c_fname, 'rb')  \n",
    "        c_data = pickle.load(f)\n",
    "        f.close()       \n",
    "        for key in c_data:\n",
    "            if(key not in data.keys()):\n",
    "                data[key] = np.array(c_data[key])\n",
    "            else:\n",
    "                data[key] = np.vstack((data[key], np.array(c_data[key])))  \n",
    "#             print(np.shape(data[key]))"
   ]
  },
  {
   "cell_type": "code",
   "execution_count": 12,
   "id": "7f84bd95",
   "metadata": {},
   "outputs": [
    {
     "name": "stdout",
     "output_type": "stream",
     "text": [
      "-1-1 (500, 1200, 601)\n",
      "-1-1_sqrtN (500, 1200, 601)\n"
     ]
    }
   ],
   "source": [
    "for key in data:\n",
    "    print(key, np.shape(data[key]))"
   ]
  },
  {
   "cell_type": "code",
   "execution_count": 13,
   "id": "8e86e89c",
   "metadata": {},
   "outputs": [],
   "source": [
    "def combine_Cl(Cls_tot):\n",
    "    n_runs = np.shape(Cls_tot)[0]\n",
    "    print(n_runs, np.shape(Cls_tot))\n",
    "    lCen = Cls_tot[0][0]\n",
    "    Cls = np.sum(np.transpose(Cls_tot, axes=[1,2,0])[1], axis=1)/n_runs\n",
    "#     sCls = np.sqrt(np.sum(np.square(np.transpose(Cls_tot, axes=[1,2,0])[2]), axis=1))/n_runs\n",
    "    sCls = np.std(np.transpose(Cls_tot, axes=[1,2,0])[1], axis=1)/np.sqrt(n_runs)\n",
    "    return lCen, Cls, sCls\n",
    "\n",
    "def combine_sketchy(Cl0, Cli):\n",
    "    n_runs = np.shape(Cl0)[0]\n",
    "    print(n_runs, np.shape(Cl0))\n",
    "    ret = np.copy(Cl0)\n",
    "    ret = np.transpose(ret, axes=[1,2,0])\n",
    "    ret[1] = np.array([\n",
    "        [Cl0[run_idx][1][bin_idx]+\n",
    "         sum([Cli[i][run_idx][1][bin_idx] for i in range(len(Cli))]) \n",
    "                     for run_idx in range(n_runs)] \n",
    "                    for bin_idx in range(len(Cl0[0][1]))])\n",
    "    ret[2] = np.array([[np.sqrt(Cl0[run_idx][2][bin_idx]**2+sum([Cli[i][run_idx][2][bin_idx]**2 \n",
    "                                                               for i in range(len(Cli))]))\n",
    "                     for run_idx in range(n_runs)] \n",
    "                    for bin_idx in range(len(Cl0[0][1]))])\n",
    "    return np.transpose(ret, axes=[2,0,1])"
   ]
  },
  {
   "cell_type": "code",
   "execution_count": 81,
   "id": "9eec4544",
   "metadata": {},
   "outputs": [],
   "source": [
    "ps_data = {}\n",
    "f = open('/oak/stanford/orgs/kipac/users/delon/LensQuEst/mean_field_1200x1200_20x20_aniso_noise.pkl', 'rb') \n",
    "mean_field = pickle.load(f)\n",
    "f.close()"
   ]
  },
  {
   "cell_type": "code",
   "execution_count": 82,
   "id": "2bffd915",
   "metadata": {},
   "outputs": [
    {
     "name": "stderr",
     "output_type": "stream",
     "text": [
      "100%|██████████| 500/500 [00:19<00:00, 25.87it/s]"
     ]
    },
    {
     "name": "stdout",
     "output_type": "stream",
     "text": [
      "(500, 3, 50)\n"
     ]
    },
    {
     "name": "stderr",
     "output_type": "stream",
     "text": [
      "\n"
     ]
    }
   ],
   "source": [
    "#estimate <QE QE>\n",
    "ck = 'QEQE'\n",
    "for data_idx in trange(len(data['-1-1'])):\n",
    "    QE = data['-1-1'][data_idx]\n",
    "\n",
    "    c_ps_data = {}\n",
    "    c_ps_data[ck] = [0,0,0]\n",
    "    c_ps_data[ck][0], c_ps_data[ck][1], c_ps_data[ck][2] = baseMap.powerSpectrum(dataFourier=QE, nBins=nBins)\n",
    "    if(ck not in ps_data.keys()):\n",
    "        ps_data[ck] = np.array([c_ps_data[ck]])\n",
    "    else:\n",
    "        ps_data[ck] = np.vstack((ps_data[ck], np.array([c_ps_data[ck]])))  \n",
    "print(ps_data[ck].shape)"
   ]
  },
  {
   "cell_type": "code",
   "execution_count": 83,
   "id": "b9965e54",
   "metadata": {},
   "outputs": [
    {
     "name": "stderr",
     "output_type": "stream",
     "text": [
      "100%|██████████| 500/500 [00:19<00:00, 25.10it/s]"
     ]
    },
    {
     "name": "stdout",
     "output_type": "stream",
     "text": [
      "(500, 3, 50)\n"
     ]
    },
    {
     "name": "stderr",
     "output_type": "stream",
     "text": [
      "\n"
     ]
    }
   ],
   "source": [
    "#estimate <QE QE>\n",
    "ck = 'QEQE MFS'\n",
    "for data_idx in trange(len(data['-1-1'])):\n",
    "    QE = data['-1-1'][data_idx]\n",
    "\n",
    "    c_ps_data = {}\n",
    "    c_ps_data[ck] = [0,0,0]\n",
    "    c_ps_data[ck][0], c_ps_data[ck][1], c_ps_data[ck][2] = baseMap.powerSpectrum(dataFourier=QE-mean_field, nBins=nBins)\n",
    "    if(ck not in ps_data.keys()):\n",
    "        ps_data[ck] = np.array([c_ps_data[ck]])\n",
    "    else:\n",
    "        ps_data[ck] = np.vstack((ps_data[ck], np.array([c_ps_data[ck]])))  \n",
    "print(ps_data[ck].shape)"
   ]
  },
  {
   "cell_type": "code",
   "execution_count": 84,
   "id": "56098ad4",
   "metadata": {},
   "outputs": [
    {
     "name": "stderr",
     "output_type": "stream",
     "text": [
      "100%|██████████| 500/500 [00:17<00:00, 28.34it/s]"
     ]
    },
    {
     "name": "stdout",
     "output_type": "stream",
     "text": [
      "(500, 3, 50)\n"
     ]
    },
    {
     "name": "stderr",
     "output_type": "stream",
     "text": [
      "\n"
     ]
    }
   ],
   "source": [
    "#estimate Nhat\n",
    "ck = 'Nhat'\n",
    "for data_idx in trange(len(data['-1-1_sqrtN'])):\n",
    "    sqrtNhat = data['-1-1_sqrtN'][data_idx]\n",
    "    \n",
    "    c_ps_data = {}\n",
    "    c_ps_data[ck] = [0,0,0]\n",
    "    c_ps_data[ck][0], c_ps_data[ck][1], c_ps_data[ck][2] = baseMap.powerSpectrum(dataFourier=sqrtNhat, nBins=nBins)\n",
    "    if(ck not in ps_data.keys()):\n",
    "        ps_data[ck] = np.array([c_ps_data[ck]])\n",
    "    else:\n",
    "        ps_data[ck] = np.vstack((ps_data[ck],np.array([c_ps_data[ck]])))  \n",
    "        \n",
    "print(ps_data[ck].shape)"
   ]
  },
  {
   "cell_type": "code",
   "execution_count": 89,
   "id": "8d1db21a",
   "metadata": {},
   "outputs": [],
   "source": [
    "labels={\n",
    "    'N0':r'$N^{(0)}$',\n",
    "    'GRF':r'$\\hat N$ on GRF',\n",
    "    'kT': r'$\\left<\\kappa\\kappa\\right>$',\n",
    "    'kk':r'$\\left<(\\mathcal Q(T^0, T^1)+\\mathcal Q(T^1, T^0))\\kappa\\right>$',\n",
    "    'kkT':r'$\\left<\\hat\\kappa\\kappa\\right>$',\n",
    "    'N1':r'$N^{(1)}$',\n",
    "    'N2':r'$N^{(2)}$',\n",
    "    'N2+':r'$N^{(2)}+\\dots$',\n",
    "    'N3+':r'$N^{(3)}+\\dots$',\n",
    "    'RDN(0)':r'${\\rm RDN}^{(0)}$',\n",
    "    'RDN(0)o2':r'${\\rm RDN}^{(0)}$',\n",
    "    'QEQE':r'$\\left<\\hat\\kappa\\hat\\kappa\\right>$',\n",
    "    'QEQE-Nhat':r'$\\left<\\hat\\kappa\\hat\\kappa\\right>-\\hat N$',\n",
    "    'QEQE-Nhat MFS':r'$\\left<\\hat\\kappa\\hat\\kappa\\right>-\\hat N$ [MFS]',\n",
    "    'QEQE-ra4*Nhat':r'$\\left<\\hat\\kappa\\hat\\kappa\\right>-r\\hat N$',\n",
    "    'QEQE-ra4*Ntheory':r'$\\left<\\hat\\kappa\\hat\\kappa\\right>-rN_{\\rm theory}$',\n",
    "#     'QEQE-RDN(0)':r\"$\\left<\\hat\\kappa\\hat\\kappa\\right>-{\\rm RDN}^{(0)}$  [50$s$, 50$s'$]\",\n",
    "    'QEQE-RDN(0)':r\"$\\left<\\hat\\kappa\\hat\\kappa\\right>-{\\rm RDN}^{(0)}$ \",\n",
    "    'QEQE-RDN(0) reduced':r\"$\\left<\\hat\\kappa\\hat\\kappa\\right>-{\\rm RDN}^{(0)}$ [50$s$, 25$s'$]\",\n",
    "    'QEQE-RDN(0) quart':r\"$\\left<\\hat\\kappa\\hat\\kappa\\right>-{\\rm RDN}^{(0)}$ [25$s$, 25$s'$]\",\n",
    "    'Nhat':r'$\\hat N$',\n",
    "    'GRF KK':'AAAAAAA',\n",
    "    'mf':'Mean Field',\n",
    "    'N1+':r'$N^{(1)}+\\dots$',\n",
    "    'KK+N1+': r'$\\left<(\\mathcal Q(T^0, T^1)+\\mathcal Q(T^1, T^0))\\kappa\\right>+N^{(1)}+\\dots$',\n",
    "    'QEQE-2Nhat+Ntheory':r'$\\left<\\hat\\kappa\\hat\\kappa\\right>-2\\hat N+N_{\\rm theory}$',\n",
    "    'QEQE-Ntheory':r'$\\left<\\hat\\kappa\\hat\\kappa\\right>-N_{\\rm theory}$',\n",
    "    'QEQE-Ntheory-N1':r'$\\left<\\hat\\kappa\\hat\\kappa\\right>-N_{\\rm theory}-N^{(1)}$',\n",
    "    'QEQE-N0':r'$\\left<\\hat\\kappa\\hat\\kappa\\right>- N^{(0)}$',\n",
    "    'QEQE-kTkT-Nhat': r'$\\left<\\hat\\kappa\\hat\\kappa\\right>-\\left<\\kappa\\kappa\\right>-\\hat N$',\n",
    "    'QEQE-kTkT-Ntheory':r'$\\left<\\hat\\kappa\\hat\\kappa\\right>-\\left<\\kappa\\kappa\\right>-N_{\\rm theory}$',\n",
    "    'QEQE-kTkT-RDN(0)':r'$\\left<\\hat\\kappa\\hat\\kappa\\right>-\\left<\\kappa\\kappa\\right>-{\\rm RDN}^{(0)}$',\n",
    "'GRF KK-GRF':'BBBBB',\n",
    "}\n"
   ]
  },
  {
   "cell_type": "code",
   "execution_count": 90,
   "id": "7194d01e",
   "metadata": {},
   "outputs": [],
   "source": [
    "def graph_from_keys_legacy(c_keys, offset=0.03, factor=lambda x:1, pN1 = False):\n",
    "    \n",
    "    \n",
    "    offsets = dict(zip(c_keys,[i*offset for i in range(len(c_keys))]))\n",
    "    colors = dict(zip(c_keys,[plt.colormaps[\"gist_rainbow\"]((i+1)/len(c_keys)) for i in range(len(c_keys))] ))\n",
    "    if(len(c_keys)<=3):\n",
    "        colors = dict(zip(c_keys, ['red', 'blue', 'green']))\n",
    "    fig,ax = plt.subplots(nrows=1, figsize=(10,8))\n",
    "    plt.rcParams['text.usetex'] = True\n",
    "\n",
    "    plt.rcParams['font.size'] = 20\n",
    "\n",
    "    ell = baseMap.l.flatten()\n",
    "    theory=[fKK, Ntheory]\n",
    "    theory_l=[r'$\\big<\\kappa\\kappa\\big>$', r'$N_{\\rm theory}$']\n",
    "    theory_s=['black', 'lightgrey']\n",
    "    for f,l,sty in zip(theory, theory_l, theory_s):\n",
    "        L = np.logspace(np.log10(1.), np.log10(np.max(ell)), 201, 10.)\n",
    "        ClExpected = np.array(list(map(f, L)))\n",
    "        ax.plot(L, factor(L)*ClExpected, sty, label=l)\n",
    "    \n",
    "    if(pN1):\n",
    "        n1 = np.loadtxt('n1_data/N1_All_analytical.dat').T    \n",
    "        indices = ['TT', 'EE', 'EB', 'TE', 'TB', 'BB']\n",
    "        bins = n1[0]\n",
    "        n1_mat = np.reshape(n1[1:], (len(indices), len(indices), len(bins)))\n",
    "        for i in range(len(indices)):\n",
    "            if(indices[i] != 'TT'):\n",
    "                continue        \n",
    "            n1_pp = (bins*(bins+1))**2/(2*np.pi)*(n1_mat[i][i][:])\n",
    "            KK = fKK(bins)\n",
    "\n",
    "            phiphi =  -2. * KK / bins**2\n",
    "            phiphi *=  -2./ bins**2\n",
    "            phiphi *= (bins*(bins+1))**2/(2*np.pi) #convention from CAMB \n",
    "\n",
    "            pp_n1 = phiphi+n1_pp\n",
    "\n",
    "            KK_n1 = pp_n1 * 2*np.pi / (bins*(bins+1))**2 #back to our convention\n",
    "            KK_n1 *= - bins**2 / 2\n",
    "            KK_n1 *= - bins**2 / 2\n",
    "            plt.plot(bins, KK_n1, 'k--', label=r'$\\big<\\kappa\\kappa\\big>+N^{(1)}$')\n",
    "\n",
    "    for key in c_keys:\n",
    "        lCen, Cl, sCl = combine_Cl(np.array(ps_data[key]))\n",
    "    \n",
    "        Cl = factor(lCen)*Cl\n",
    "        sCl = factor(lCen)*sCl\n",
    "        \n",
    "        offset = offsets[key]\n",
    "        tmp = [l*np.exp(offset)-l for l in lCen]\n",
    "        lCen += tmp\n",
    "\n",
    "        Ipos = np.where(Cl>=1e-30)\n",
    "        Ineg = np.where(Cl<=-1e-30)\n",
    "\n",
    "        ax.errorbar(lCen[Ipos], (Cl[Ipos]), yerr=sCl[Ipos], alpha=.75, \n",
    "                    fmt='-', capsize=3, capthick=1, label=labels[key], c=colors[key])\n",
    "        tmp_data = {\n",
    "            'x': lCen[Ipos],\n",
    "            'y1': [y - e for y, e in zip((Cl[Ipos]), sCl[Ipos])],\n",
    "            'y2': [y + e for y, e in zip((Cl[Ipos]), sCl[Ipos])]}\n",
    "        ax.fill_between(**tmp_data,  alpha=.25, color=colors[key])\n",
    "\n",
    "        \n",
    "        ax.errorbar(lCen[Ineg], -(Cl[Ineg]), yerr=sCl[Ineg], alpha=.75, \n",
    "                    fmt='--', capsize=3, capthick=1, c=colors[key])\n",
    "        tmp_data = {\n",
    "            'x': lCen[Ineg],\n",
    "            'y1': [y - e for y, e in zip(-(Cl[Ineg]), sCl[Ineg])],\n",
    "            'y2': [y + e for y, e in zip(-(Cl[Ineg]), sCl[Ineg])]}\n",
    "        ax.fill_between(**tmp_data,  alpha=.25, color=colors[key])\n",
    "\n",
    "#         print(lCen[Ineg])\n",
    "#         print('###########')\n",
    "#         print(lCen[Ipos])\n",
    "    ax.set_title('Unmasked')\n",
    "\n",
    "    ax.legend(frameon=False)\n",
    "    ax.set_xscale('log')\n",
    "    ax.set_xlabel(r'$L$')\n",
    "    ax.set_yscale('log')\n",
    "    ax.set_xlim(lMin+2,4800)\n",
    "    ax.set_ylim(1.1e-9,.9e-6)\n",
    "    return fig, ax"
   ]
  },
  {
   "cell_type": "code",
   "execution_count": 91,
   "id": "b9340706",
   "metadata": {},
   "outputs": [],
   "source": [
    "t0, KK = baseMap.binTheoryPowerSpectrum(fKK, nBins=nBins)\n",
    "KKsuper = KK "
   ]
  },
  {
   "cell_type": "code",
   "execution_count": 92,
   "id": "e23d0e45",
   "metadata": {},
   "outputs": [],
   "source": [
    "def graph_from_keys(c_keys, offset=0.03, \n",
    "                    factor=lambda x:1, \n",
    "                    pN1 = False, \n",
    "                    glbl_error=None, \n",
    "                    err_ylim=[-1,1],\n",
    "                    colors = None, MCMC_n1=False, plotN1=False,\n",
    "                   pmNtheoryBand = False, hybrid=False):\n",
    "    \n",
    "    \n",
    "    offsets = dict(zip(c_keys,[i*offset for i in range(len(c_keys))]))\n",
    "    if(colors is None):\n",
    "        colors = dict(zip(c_keys,[plt.colormaps[\"gist_rainbow\"]((i+1)/len(c_keys)) for i in range(len(c_keys))] ))\n",
    "        if(len(c_keys)<=3):\n",
    "            colors = dict(zip(c_keys, ['red', 'blue', 'mediumseagreen']))\n",
    "    \n",
    "    fig = plt.figure(figsize =(12, 12))\n",
    "\n",
    "    axs=[fig.add_axes((0.2,0.2,.75,.6)), fig.add_axes((0.2,0.0,.75,.2))]\n",
    "    ax =axs[0]\n",
    "    res_ax = axs[1]\n",
    "    \n",
    "    res_ax.axhline(0.1, lw=0.5, ls='--', color='k')    \n",
    "    res_ax.axhline(-0.1, lw=0.5, ls='--', color='k')    \n",
    "\n",
    "#     res_ax.fill_between([0, 1e20], [-0.1, -0.1], [0.1, 0.1], alpha=1, color='0.95')#, label=r'$<10\\%$ Error')\n",
    "#     res_ax.fill_between([0, 1e20], [-0.01, -0.01], [0.01, 0.01], alpha=1, color='0.85')#, label=r'$<1\\%$ Error')\n",
    "#     res_ax.set_yscale('symlog', linthresh=1e-1) \n",
    "    res_ax.set_xscale('log')\n",
    "    res_ax.axhline(0, c='k', lw=0.5,)\n",
    "    plt.rcParams['text.usetex'] = True\n",
    "\n",
    "    plt.rcParams['font.size'] = 20\n",
    "\n",
    "    ell = baseMap.l.flatten()\n",
    "    theory=[fKK, Ntheory]\n",
    "    theory_l=[r'$\\big<\\kappa\\kappa\\big>$', r'$N_{\\rm theory}$']\n",
    "    theory_s=['black', 'lightgrey']\n",
    "    for f,l,sty in zip(theory, theory_l, theory_s):\n",
    "#         L = np.logspace(np.log10(1.), np.log10(np.max(ell)), 201, 10.)\n",
    "#         ClExpected = np.array(list(map(f, L)))\n",
    "        L, ClExpected= baseMap.binTheoryPowerSpectrum(f, nBins=nBins)\n",
    "        toPlot = np.where(ClExpected>0)\n",
    "        ax.plot(L[toPlot], factor(L[toPlot])*ClExpected[toPlot], sty, label=l)\n",
    "    \n",
    "    pN1ax = None\n",
    "    fKK_n1 = None\n",
    "#     if(pN1):\n",
    "#         pN1ax = fig.add_axes((0.2, -0.2, .75, .2))\n",
    "        \n",
    "#         n1 = np.loadtxt('n1_data/N1_All_analytical.dat').T    \n",
    "#         indices = ['TT', 'EE', 'EB', 'TE', 'TB', 'BB']\n",
    "#         bins = n1[0]\n",
    "#         n1_mat = np.reshape(n1[1:], (len(indices), len(indices), len(bins)))\n",
    "#         for i in range(len(indices)):\n",
    "#             if(indices[i] != 'TT'):\n",
    "#                 continue        \n",
    "#             n1_pp = (bins*(bins+1))**2/(2*np.pi)*(n1_mat[i][i][:])\n",
    "#             KK = fKK(bins)\n",
    "\n",
    "#             phiphi =  -2. * KK / bins**2\n",
    "#             phiphi *=  -2./ bins**2\n",
    "#             phiphi *= (bins*(bins+1))**2/(2*np.pi) #convention from CAMB \n",
    "\n",
    "#             pp_n1 = phiphi+n1_pp\n",
    "\n",
    "#             KK_n1 = pp_n1 * 2*np.pi / (bins*(bins+1))**2 #back to our convention\n",
    "#             KK_n1 *= - bins**2 / 2\n",
    "#             KK_n1 *= - bins**2 / 2\n",
    "            \n",
    "#             fKK_n1 = interp1d(bins, KK_n1, kind='linear', bounds_error=False, fill_value=0.)\n",
    "#             ax.plot(bins, KK_n1, 'k--', label=r'$\\big<\\kappa\\kappa\\big>+N^{(1)}$')\n",
    "\n",
    "    if(pN1):\n",
    "        n1 = np.loadtxt('n1_data/N1_All_analytical.dat').T    \n",
    "        indices = ['TT', 'EE', 'EB', 'TE', 'TB', 'BB']\n",
    "        bins = n1[0]\n",
    "        n1_mat = np.reshape(n1[1:], (len(indices), len(indices), len(bins)))\n",
    "        n1_pp = n1_mat[0][0][:]\n",
    "        n1_pp *= -(bins*(bins+1))/2\n",
    "        n1_pp *= -(bins*(bins+1))/2\n",
    "        fN1 = interp1d(bins, n1_pp, kind='linear', bounds_error=False, fill_value=0.)\n",
    "        \n",
    "\n",
    "        t0, t1 = baseMap.binTheoryPowerSpectrum(fN1, nBins=nBins)\n",
    "        t2 = np.zeros_like(t1)\n",
    "        if(MCMC_n1):\n",
    "            N1_mcmc = None\n",
    "            with open('/oak/stanford/orgs/kipac/users/delon/LensQuEst/N1-mcmc-nBins%d-morestats-aniso.pkl'%(nBins), \"rb\") as f:\n",
    "                N1_mcmc = pickle.load(f)\n",
    "            if(not hybrid):\n",
    "                t0, t1, t2 = N1_mcmc\n",
    "            else:\n",
    "                ta, tb, tc = N1_mcmc\n",
    "                assert(all(ta == t0))\n",
    "                hybridizer = np.where(ta >= 256)\n",
    "                t1[hybridizer] = tb[hybridizer]\n",
    "        \n",
    "    for key in reversed(c_keys):\n",
    "        lCen, Cl, sCl = combine_Cl(np.array(ps_data[key]))\n",
    "        \n",
    "        lCen = lCen\n",
    "        Cl = Cl\n",
    "        sCl = sCl\n",
    "        \n",
    "\n",
    "        if(pN1 and key != 'mf'):\n",
    "            assert(all(lCen == t0))\n",
    "#             ax.plot(t0, t1, 'k--')\n",
    "            Cl-= t1\n",
    "            \n",
    "        Cl = factor(lCen)*Cl\n",
    "        if(glbl_error is not None):\n",
    "            _, _, sCl = combine_Cl(np.array(ps_data[glbl_error]))\n",
    "        sCl = factor(lCen)*sCl\n",
    "        \n",
    "        offset = offsets[key]\n",
    "        tmp = [l*np.exp(offset)-l for l in lCen]\n",
    "        lCen += tmp\n",
    "\n",
    "        Ipos = np.where(Cl>=1e-30)\n",
    "        Ineg = np.where(Cl<=-1e-30)\n",
    "        c_label = labels[key]\n",
    "        if(pN1 and key != 'mf'):\n",
    "            c_label += r'$-N^{(1)}$'\n",
    "#         if('RDN' in key):\n",
    "#             sCl = np.zeros_like(sCl)\n",
    "#             ax.plot(lCen[Ipos], (Cl[Ipos]), alpha=0.75, label=c_label, c=colors[key])\n",
    "#             res_data = (Cl-KK)/KK\n",
    "#             plt_idxs = np.where(lCen<=10000)\n",
    "#             res_ax.plot(lCen[plt_idxs], res_data[plt_idxs], alpha=0.75, c=colors[key]) #label=c_label, \n",
    "#         else:\n",
    "        if('RDN' in key):\n",
    "            ax.plot(lCen[Ipos], (Cl[Ipos]), alpha=0.75, label=c_label, c=colors[key])\n",
    "        else:\n",
    "            ax.errorbar(lCen[Ipos], (Cl[Ipos]), yerr=sCl[Ipos], alpha=0.75, \n",
    "                        fmt='-', capsize=3, capthick=1, label=c_label, c=colors[key])\n",
    "\n",
    "        ax.errorbar(lCen[Ineg], -(Cl[Ineg]), yerr=sCl[Ineg], alpha=0.75, \n",
    "                    fmt='--', capsize=3, capthick=1, c=colors[key])\n",
    "\n",
    "\n",
    "\n",
    "\n",
    "        res_data = (Cl-KK)/KK\n",
    "        plt_idxs = np.where(lCen<=10000)\n",
    "        res_ax.errorbar(lCen[plt_idxs], res_data[plt_idxs], yerr=sCl[plt_idxs]/KK[plt_idxs], alpha=0.75, \n",
    "                    fmt='-', capsize=3, capthick=1, c=colors[key]) #label=c_label, \n",
    "        \n",
    "        if(pmNtheoryBand and key=='QEQE-Ntheory'):\n",
    "            lCenSuper, y1, _ = combine_Cl(np.array(Ntheory_super))\n",
    "            lCenSuper, y2, _ = combine_Cl(np.array(Ntheory_super))\n",
    "\n",
    "            \n",
    "            y2=(y2)/KKsuper\n",
    "            y1=(y1)/KKsuper\n",
    "            res_ax.fill_between(x=lCenSuper, y1=-0.01*y1, y2=0.01*y2, alpha=1,\n",
    "                               color='0.95', label=r'$\\Delta N^{\\rm theory} = 1\\%$')\n",
    "            \n",
    "            \n",
    "            res_ax.fill_between(x=lCenSuper, y1=-0.001*y1, y2=0.001*y2, alpha=1,\n",
    "                               color='0.85', label=r'$\\Delta N^{\\rm theory} = 0.1\\%$')\n",
    "\n",
    "            res_ax.legend(frameon=False)\n",
    "#         if(pN1):\n",
    "#             pN1ax.fill_between([0, 1e20], [-0.1, -0.1], [0.1, 0.1], alpha=1, color='0.95')#, label=r'$<10\\%$ Error')\n",
    "#             pN1ax.fill_between([0, 1e20], [-0.01, -0.01], [0.01, 0.01], alpha=1, color='0.85')#, label=r'$<1\\%$ Error')\n",
    "# #             pN1ax.set_yscale('symlog', linthresh=1e-1) \n",
    "#             pN1ax.set_xscale('log')\n",
    "#             pN1ax.axhline(0, c='k')\n",
    "#             pN1ax.set_xscale('log')\n",
    "#             pN1ax.set_ylabel(r'Residual to $+N^{(1)}$')\n",
    "#             pN1ax.set_xlim(lMin,2*lMax)\n",
    "#             pN1ax.set_ylim(-.3, .3)\n",
    "    \n",
    "#             KKN1 = np.array(list(map(fKK_n1, lCen-tmp)))\n",
    "#             pN1ax.errorbar(lCen, (Cl-KKN1)/KKN1, yerr=sCl/KK, alpha=0.75, \n",
    "#                     fmt='-', capsize=3, capthick=1, label=labels[key], c=colors[key])\n",
    "#         print(lCen[Ineg])\n",
    "#         print('###########')\n",
    "#         print(lCen[Ipos])\n",
    "    if(plotN1):\n",
    "        n1ipos = np.where(t1>0)\n",
    "        ax.plot(t0[n1ipos], t1[n1ipos], 'lightgrey', linestyle='--', label=r'$N^{(1)}$')\n",
    "\n",
    "    ax.set_title('Unmasked')\n",
    "\n",
    "    ax.legend(frameon=False)\n",
    "    ax.set_xscale('log')\n",
    "    ax.set_xlabel(r'$L$')\n",
    "    ax.set_ylabel(r'$C_L^{\\kappa\\kappa}$')\n",
    "\n",
    "    ax.set_yscale('log')\n",
    "    ax.set_xlim(lMin+2,4800)\n",
    "    ax.set_ylim(1.1e-9,.9e-6)\n",
    "    \n",
    "    res_ax.set_xscale('log')\n",
    "    res_ax.set_ylabel(r'Frac. Residual')\n",
    "    res_ax.set_xlim(lMin+2,4800)\n",
    "    res_ax.set_yticks([-1,-.5,-.1,.1,.5,1])\n",
    "    res_ax.set_ylim(err_ylim[0], err_ylim[1])\n",
    "#     if(not pN1):\n",
    "    res_ax.set_xlabel(r'$L$')\n",
    "#     else:\n",
    "#         pN1ax.set_xlabel(r'$\\ell$')\n",
    "    return fig, ax"
   ]
  },
  {
   "cell_type": "code",
   "execution_count": 93,
   "id": "d4eddf67",
   "metadata": {},
   "outputs": [
    {
     "name": "stdout",
     "output_type": "stream",
     "text": [
      "500 (500, 3, 50)\n",
      "500 (500, 3, 50)\n"
     ]
    }
   ],
   "source": [
    "\n",
    "ps_data['QEQE-Nhat'] = combine_sketchy(ps_data['QEQE'], [-ps_data['Nhat']])\n",
    "ps_data['QEQE-Nhat MFS'] = combine_sketchy(ps_data['QEQE MFS'], [-ps_data['Nhat']])"
   ]
  },
  {
   "cell_type": "code",
   "execution_count": 94,
   "id": "1074456e",
   "metadata": {},
   "outputs": [],
   "source": [
    "asdf1, asdf2 = baseMap.binTheoryPowerSpectrum(Ntheory, nBins=nBins)\n",
    "asdf3 = np.zeros_like(asdf1)\n",
    "asdf1 = asdf1\n",
    "asdf2 = asdf2\n",
    "asdf3 = asdf3\n",
    "Ntheory_super = np.array([[asdf1, asdf2, asdf3]])"
   ]
  },
  {
   "cell_type": "code",
   "execution_count": 95,
   "id": "284fb9ab",
   "metadata": {},
   "outputs": [
    {
     "name": "stdout",
     "output_type": "stream",
     "text": [
      "500 (500, 3, 50)\n"
     ]
    }
   ],
   "source": [
    "Ntheory_evaled = np.array([\n",
    "    [asdf1, asdf2, asdf3] for _ in range(len(ps_data['QEQE']))\n",
    "])\n",
    "# Continue with your original code\n",
    "ps_data['QEQE-Ntheory'] = combine_sketchy(ps_data['QEQE'], [-Ntheory_evaled])\n",
    "\n"
   ]
  },
  {
   "cell_type": "code",
   "execution_count": 96,
   "id": "19fc058e",
   "metadata": {},
   "outputs": [
    {
     "name": "stdout",
     "output_type": "stream",
     "text": [
      "500 (500, 3, 50)\n",
      "500 (500, 3, 50)\n",
      "500 (500, 3, 50)\n",
      "500 (500, 3, 50)\n"
     ]
    }
   ],
   "source": [
    "tmp = np.copy(Ntheory_evaled)\n",
    "tmp[:,1:,:] *= -.99\n",
    "ps_data['QEQE-.99Ntheory'] = combine_sketchy(ps_data['QEQE'], [tmp])\n",
    "\n",
    "tmp = np.copy(Ntheory_evaled)\n",
    "tmp[:,1:,:] *= -1.01\n",
    "ps_data['QEQE-1.01Ntheory'] = combine_sketchy(ps_data['QEQE'], [tmp])\n",
    "\n",
    "\n",
    "tmp = np.copy(Ntheory_evaled)\n",
    "tmp[:,1:,:] *= -1.001\n",
    "ps_data['QEQE-1.001Ntheory'] = combine_sketchy(ps_data['QEQE'], [tmp])\n",
    "\n",
    "tmp = np.copy(Ntheory_evaled)\n",
    "tmp[:,1:,:] *= -.999\n",
    "ps_data['QEQE-.999Ntheory'] = combine_sketchy(ps_data['QEQE'], [tmp])\n"
   ]
  },
  {
   "cell_type": "code",
   "execution_count": 97,
   "id": "fbb06eca",
   "metadata": {},
   "outputs": [],
   "source": [
    "\n",
    "\n",
    "LBinned, NtheoryBinned = baseMap.binTheoryPowerSpectrum(Ntheory, nBins=nBins)\n"
   ]
  },
  {
   "cell_type": "code",
   "execution_count": 100,
   "id": "22327648",
   "metadata": {},
   "outputs": [
    {
     "name": "stdout",
     "output_type": "stream",
     "text": [
      "500 (500, 3, 50)\n",
      "500 (500, 3, 50)\n",
      "500 (500, 3, 50)\n",
      "500 (500, 3, 50)\n"
     ]
    },
    {
     "data": {
      "text/plain": [
       "(<Figure size 720x576 with 1 Axes>,\n",
       " <Axes: title={'center': 'Unmasked'}, xlabel='$L$'>)"
      ]
     },
     "execution_count": 100,
     "metadata": {},
     "output_type": "execute_result"
    },
    {
     "data": {
      "image/png": "[encoded data removed]",
      "text/plain": [
       "<Figure size 720x576 with 1 Axes>"
      ]
     },
     "metadata": {
      "needs_background": "light"
     },
     "output_type": "display_data"
    }
   ],
   "source": [
    "graph_from_keys_legacy([\n",
    "    'Nhat',\n",
    "    'QEQE-Nhat',\n",
    "    'QEQE-Nhat MFS',\n",
    "#     'QEQE-Ntheory',\n",
    "    'QEQE'\n",
    "], offset=0.00, pN1=True)"
   ]
  },
  {
   "cell_type": "code",
   "execution_count": 102,
   "id": "159aa25e",
   "metadata": {},
   "outputs": [
    {
     "name": "stdout",
     "output_type": "stream",
     "text": [
      "500 (500, 3, 50)\n",
      "500 (500, 3, 50)\n",
      "1 (1, 3, 50)\n",
      "1 (1, 3, 50)\n",
      "500 (500, 3, 50)\n"
     ]
    },
    {
     "data": {
      "image/png": "[encoded data removed]",
      "text/plain": [
       "<Figure size 864x864 with 2 Axes>"
      ]
     },
     "metadata": {
      "needs_background": "light"
     },
     "output_type": "display_data"
    }
   ],
   "source": [
    "graph_from_keys([\n",
    "#     'QEQE-N0',\n",
    "    'QEQE-Nhat',\n",
    "    'QEQE-Ntheory',\n",
    "    'QEQE-Nhat MFS',\n",
    "#     'GRF',\n",
    "#     'QEQE-RDN(0)',\n",
    "#     'QEQE-RDN(0) reduced',\n",
    "#     'QEQE-RDN(0) quart',\n",
    "#     'RDN(0)o2'\n",
    "#     'QEQE-2Nhat+Ntheory',\n",
    "], offset=0.005, \n",
    "    pmNtheoryBand=True,\n",
    "    pN1=True, \n",
    "    colors={'QEQE-Nhat':'red', \n",
    "            'QEQE-Nhat MFS':'orange',\n",
    "\n",
    "            'QEQE-Ntheory':'blue', \n",
    "            'GRF': 'green',\n",
    "#             'QEQE-RDN(0) quart':'#98f5b6', \n",
    "#             'QEQE-RDN(0) reduced':'#33d3a7',\n",
    "            'QEQE-RDN(0)': 'green'\n",
    "           },\n",
    "    err_ylim=[-0.5,0.5],\n",
    "     MCMC_n1=True,)\n",
    "\n",
    "plt.savefig('figures/mNhat_vs_mNtheory_TgradT_weights_pMCMCN1_aniso.pdf', bbox_inches='tight')"
   ]
  },
  {
   "cell_type": "code",
   "execution_count": 123,
   "id": "9f7d0296",
   "metadata": {},
   "outputs": [
    {
     "name": "stderr",
     "output_type": "stream",
     "text": [
      "100%|██████████| 500/500 [00:19<00:00, 25.00it/s]\n"
     ]
    },
    {
     "name": "stdout",
     "output_type": "stream",
     "text": [
      "(500, 3, 199)\n"
     ]
    }
   ],
   "source": [
    "aniso_Cl_total = []\n",
    "for data_idx in trange(len(in_data['totalF_1'])):\n",
    "    dataF0 = in_data['totalF_1'][data_idx]\n",
    "    aniso_Cl_total += [baseMap.powerSpectrum(dataF0, nBins = 200)]\n",
    "    \n",
    "aniso_Cl_total = np.array(aniso_Cl_total)\n",
    "print(aniso_Cl_total.shape)"
   ]
  },
  {
   "cell_type": "code",
   "execution_count": null,
   "id": "5b205ac5",
   "metadata": {},
   "outputs": [],
   "source": []
  },
  {
   "cell_type": "code",
   "execution_count": null,
   "id": "85f788dc",
   "metadata": {},
   "outputs": [],
   "source": []
  },
  {
   "cell_type": "code",
   "execution_count": null,
   "id": "e09c3f9c",
   "metadata": {},
   "outputs": [],
   "source": []
  },
  {
   "cell_type": "code",
   "execution_count": null,
   "id": "4936bc09",
   "metadata": {},
   "outputs": [],
   "source": []
  },
  {
   "cell_type": "code",
   "execution_count": null,
   "id": "0250e7e7",
   "metadata": {},
   "outputs": [],
   "source": []
  },
  {
   "cell_type": "code",
   "execution_count": null,
   "id": "a09c801e",
   "metadata": {},
   "outputs": [],
   "source": []
  },
  {
   "cell_type": "code",
   "execution_count": null,
   "id": "85988638",
   "metadata": {},
   "outputs": [],
   "source": []
  }
 ],
 "metadata": {
  "kernelspec": {
   "display_name": "nblensing",
   "language": "python",
   "name": "nblensing"
  },
  "language_info": {
   "codemirror_mode": {
    "name": "ipython",
    "version": 3
   },
   "file_extension": ".py",
   "mimetype": "text/x-python",
   "name": "python",
   "nbconvert_exporter": "python",
   "pygments_lexer": "ipython3",
   "version": "3.9.16"
  }
 },
 "nbformat": 4,
 "nbformat_minor": 5
}
