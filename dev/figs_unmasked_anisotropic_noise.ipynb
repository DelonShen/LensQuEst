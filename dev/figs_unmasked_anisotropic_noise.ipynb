{
 "cells": [
  {
   "cell_type": "code",
   "execution_count": 1,
   "id": "a1681bf6",
   "metadata": {},
   "outputs": [],
   "source": [
    "%load_ext autoreload\n",
    "%autoreload 2"
   ]
  },
  {
   "cell_type": "code",
   "execution_count": 2,
   "id": "eaaf27ab",
   "metadata": {},
   "outputs": [],
   "source": [
    "#######\n",
    "IN_DATA_FNAMES = ['/oak/stanford/orgs/kipac/users/delon/LensQuEst/map_sims_800x800_20x20_%d.pkl'%(i) for i in range(1,51)]\n",
    "import warnings\n",
    "warnings.filterwarnings(\"ignore\")\n",
    "#####"
   ]
  },
  {
   "cell_type": "code",
   "execution_count": 3,
   "id": "243b210c",
   "metadata": {},
   "outputs": [],
   "source": [
    "import os, sys\n",
    "WORKING_DIR = os.path.dirname(os.path.abspath(''))\n",
    "sys.path.insert(1, os.path.join(WORKING_DIR,'LensQuEst'))"
   ]
  },
  {
   "cell_type": "code",
   "execution_count": 4,
   "id": "ed8b7184",
   "metadata": {},
   "outputs": [],
   "source": [
    "from universe import *\n",
    "from halo_fit import *\n",
    "from cmb import *\n",
    "from flat_map import *\n",
    "from weight import *\n",
    "from pn_2d import *\n",
    "import pickle\n",
    "import seaborn as sns\n",
    "from scipy.stats import spearmanr\n",
    "import matplotlib\n",
    "from tqdm import trange, tqdm"
   ]
  },
  {
   "cell_type": "code",
   "execution_count": 5,
   "id": "e3b4a01a",
   "metadata": {},
   "outputs": [
    {
     "name": "stderr",
     "output_type": "stream",
     "text": [
      "100%|██████████| 50/50 [01:39<00:00,  1.98s/it]"
     ]
    },
    {
     "name": "stdout",
     "output_type": "stream",
     "text": [
      "kCmbF_1 (500, 800, 401)\n",
      "noiseF_1 (500, 800, 401)\n"
     ]
    },
    {
     "name": "stderr",
     "output_type": "stream",
     "text": [
      "\n"
     ]
    }
   ],
   "source": [
    "in_data = {}\n",
    "\n",
    "for fname in tqdm(IN_DATA_FNAMES):\n",
    "    f = open(fname, 'rb') \n",
    "    c_in_data = pickle.load(f) \n",
    "    f.close()\n",
    "    for key in c_in_data:\n",
    "        if(key != 'kCmbF_1' and key != 'noiseF_1'):\n",
    "            continue\n",
    "        if(key not in in_data.keys()):\n",
    "            in_data[key] = np.array(c_in_data[key])\n",
    "        else:\n",
    "            in_data[key] = np.vstack( (in_data[key],np.array(c_in_data[key])) )\n",
    "\n",
    "\n",
    "for key in in_data:\n",
    "    print(key, np.shape(in_data[key]))\n"
   ]
  },
  {
   "cell_type": "code",
   "execution_count": 6,
   "id": "ec7be6cf",
   "metadata": {},
   "outputs": [
    {
     "name": "stdout",
     "output_type": "stream",
     "text": [
      "Map properties\n"
     ]
    }
   ],
   "source": [
    "print(\"Map properties\")\n",
    "\n",
    "# number of pixels for the flat map\n",
    "nX = 800\n",
    "nY =800\n",
    "\n",
    "# map dimensions in degrees\n",
    "sizeX = 20.\n",
    "sizeY = 20.\n",
    "\n",
    "# basic map object\n",
    "baseMap = FlatMap(nX=nX, nY=nY, sizeX=sizeX*np.pi/180., sizeY=sizeY*np.pi/180.)\n",
    "\n",
    "# multipoles to include in the lensing reconstruction\n",
    "lMin = 30.; lMax = 3.5e3\n",
    "\n",
    "# ell bins for power spectra\n",
    "lRange = (1., 2.*lMax)  # range for power spectra"
   ]
  },
  {
   "cell_type": "code",
   "execution_count": 7,
   "id": "91e1dd32",
   "metadata": {},
   "outputs": [
    {
     "name": "stderr",
     "output_type": "stream",
     "text": [
      "100%|██████████| 500/500 [00:18<00:00, 26.85it/s]\n"
     ]
    }
   ],
   "source": [
    "#estimate power spectra of anisotropic noise \n",
    "n_ps_data = []\n",
    "\n",
    "def apply_cos(fourierData):\n",
    "    realData = baseMap.inverseFourier(fourierData)\n",
    "    f = lambda x: -3*np.cos(np.pi*x/2000)+4\n",
    "    frow = np.array(list(map(f, range(len(realData[0])))))\n",
    "    realData = realData * frow\n",
    "    return baseMap.fourier(realData)\n",
    "\n",
    "for data_idx in trange(len(in_data['noiseF_1'])):\n",
    "    nFourier = np.copy(in_data['noiseF_1'][data_idx])\n",
    "    nFourier = apply_cos(nFourier)\n",
    "    \n",
    "    ck = 'asdf'\n",
    "    c_ps_data = {}\n",
    "    c_ps_data[ck] = [0,0,0]\n",
    "    c_ps_data[ck][0], c_ps_data[ck][1], c_ps_data[ck][2] = baseMap.powerSpectrum(dataFourier=nFourier, nBins=51)\n",
    "    if(len(n_ps_data) == 0):\n",
    "        n_ps_data = np.array([c_ps_data[ck]])\n",
    "    else:\n",
    "        n_ps_data = np.vstack((n_ps_data, np.array([c_ps_data[ck]])))  \n",
    "    "
   ]
  },
  {
   "cell_type": "code",
   "execution_count": 8,
   "id": "00280578",
   "metadata": {},
   "outputs": [
    {
     "name": "stdout",
     "output_type": "stream",
     "text": [
      "500 (500, 3, 50)\n"
     ]
    }
   ],
   "source": [
    "def combine_Cl(Cls_tot):\n",
    "    n_runs = np.shape(Cls_tot)[0]\n",
    "    print(n_runs, np.shape(Cls_tot))\n",
    "    lCen = Cls_tot[0][0]\n",
    "    Cls = np.sum(np.transpose(Cls_tot, axes=[1,2,0])[1], axis=1)/n_runs\n",
    "    sCls = np.sqrt(np.sum(np.square(np.transpose(Cls_tot, axes=[1,2,0])[2]), axis=1))/n_runs\n",
    "    return lCen, Cls, sCls\n",
    "\n",
    "\n",
    "lCen, Cl, sCl = combine_Cl(np.array(n_ps_data))\n",
    "Ipos = np.where(Cl > 0)\n",
    "f_ansioNoise = interp1d(lCen[Ipos], Cl[Ipos], kind='linear', bounds_error=False, fill_value=0.)"
   ]
  },
  {
   "cell_type": "code",
   "execution_count": 9,
   "id": "50cfa215",
   "metadata": {},
   "outputs": [
    {
     "data": {
      "image/png": "[encoded data removed]",
      "text/plain": [
       "<Figure size 432x288 with 1 Axes>"
      ]
     },
     "metadata": {
      "needs_background": "light"
     },
     "output_type": "display_data"
    },
    {
     "data": {
      "text/plain": [
       "(array([1.10134950e+00, 1.32459194e+00, 1.59308540e+00, 1.91600222e+00,\n",
       "        2.30437396e+00, 2.77146825e+00, 3.33324210e+00, 4.00888694e+00,\n",
       "        4.82148431e+00, 5.79879436e+00, 6.97420418e+00, 8.38786839e+00,\n",
       "        1.00880809e+01, 1.21329248e+01, 1.45922566e+01, 1.80000000e+01,\n",
       "        2.11074786e+01, 2.54558441e+01, 3.05316487e+01, 3.60000000e+01,\n",
       "        4.02492236e+01, 5.46119298e+01, 6.48999230e+01, 7.59686507e+01,\n",
       "        9.23240847e+01, 1.11392712e+02, 1.35796705e+02, 1.61112716e+02,\n",
       "        1.93604685e+02, 2.33437499e+02, 2.78217850e+02, 3.36081721e+02,\n",
       "        4.06007460e+02, 4.87720155e+02, 5.87025726e+02, 7.05868439e+02,\n",
       "        8.48636506e+02, 1.02092252e+03, 1.22775430e+03, 1.47687985e+03,\n",
       "        1.77622062e+03, 2.13575670e+03, 2.56875901e+03, 3.08927265e+03,\n",
       "        3.71521993e+03, 4.46882622e+03, 5.37502335e+03, 6.46445903e+03,\n",
       "        7.62329283e+03, 9.02701246e+03]),\n",
       " array([0.00000000e+00, 0.00000000e+00, 0.00000000e+00, 0.00000000e+00,\n",
       "        0.00000000e+00, 0.00000000e+00, 0.00000000e+00, 0.00000000e+00,\n",
       "        0.00000000e+00, 0.00000000e+00, 0.00000000e+00, 0.00000000e+00,\n",
       "        0.00000000e+00, 0.00000000e+00, 0.00000000e+00, 8.36796058e-06,\n",
       "        0.00000000e+00, 2.93425503e-05, 0.00000000e+00, 6.83276574e-06,\n",
       "        4.62524355e-06, 1.88248289e-05, 1.20152272e-05, 1.28934376e-05,\n",
       "        1.49519128e-05, 1.05041339e-05, 2.23708806e-05, 1.35014471e-05,\n",
       "        1.40141713e-05, 1.43314159e-05, 1.43474592e-05, 1.50303463e-05,\n",
       "        1.47867171e-05, 1.40468075e-05, 1.34771582e-05, 1.34115057e-05,\n",
       "        1.43910739e-05, 1.47450164e-05, 1.47344613e-05, 1.52977994e-05,\n",
       "        1.53397897e-05, 1.65593467e-05, 1.72030384e-05, 1.88919603e-05,\n",
       "        2.10969545e-05, 2.55591981e-05, 3.34288212e-05, 4.96538203e-05,\n",
       "        8.24747541e-05, 1.64338304e-04]),\n",
       " array([0.00000000e+00, 0.00000000e+00, 0.00000000e+00, 0.00000000e+00,\n",
       "        0.00000000e+00, 0.00000000e+00, 0.00000000e+00, 0.00000000e+00,\n",
       "        0.00000000e+00, 0.00000000e+00, 0.00000000e+00, 0.00000000e+00,\n",
       "        0.00000000e+00, 0.00000000e+00, 0.00000000e+00, 6.83241120e-06,\n",
       "        0.00000000e+00, 2.93425503e-05, 0.00000000e+00, 5.57892986e-06,\n",
       "        3.27054108e-06, 8.87410943e-06, 8.49604866e-06, 5.05722232e-06,\n",
       "        5.45966660e-06, 2.97101773e-06, 5.27286713e-06, 2.98197083e-06,\n",
       "        2.30391556e-06, 2.07942038e-06, 1.75282112e-06, 1.43964608e-06,\n",
       "        1.21958787e-06, 9.63603047e-07, 7.62993833e-07, 6.38281392e-07,\n",
       "        5.66428477e-07, 4.83508134e-07, 4.02139854e-07, 3.46649220e-07,\n",
       "        2.89739600e-07, 2.60044557e-07, 2.24478710e-07, 2.05232250e-07,\n",
       "        1.90465001e-07, 1.91800705e-07, 2.08683689e-07, 2.57762001e-07,\n",
       "        4.74750039e-07, 1.65137022e-06]))"
      ]
     },
     "execution_count": 9,
     "metadata": {},
     "output_type": "execute_result"
    }
   ],
   "source": [
    "baseMap.powerSpectrum(dataFourier=nFourier, nBins=51, theory=[f_ansioNoise], plot=True)"
   ]
  },
  {
   "cell_type": "code",
   "execution_count": 10,
   "id": "d4fa693b",
   "metadata": {},
   "outputs": [],
   "source": [
    "# Adjust the lMin and lMax to the assumptions of the analysis\n",
    "# CMB S4/SO specs\n",
    "cmb = StageIVCMB(beam=1.4, noise=7., lMin=lMin, lMaxT=lMax, lMaxP=lMax, atm=False)\n",
    "\n",
    "# Total power spectrum, for the lens reconstruction\n",
    "# basiscally gets what we theoretically expect the\n",
    "# power spectrum will look like\n",
    "def aniso_ftotal(cmb, l):\n",
    "    result = cmb.flensedTT(l)\n",
    "    result += cmb.fCIBPoisson(l)\n",
    "    result += cmb.fCIBClustered(l)\n",
    "    result += cmb.ftSZ(l)\n",
    "    result += cmb.fkSZ(l)\n",
    "    result += cmb.ftSZ_CIB(l)\n",
    "    result += cmb.fradioPoisson(l)\n",
    "    result += cmb.fgalacticDust(l)\n",
    "    result += f_ansioNoise(l)\n",
    "    return result\n",
    "    \n",
    "forCtotal = lambda l: aniso_ftotal(cmb, l) \n",
    "\n",
    "# reinterpolate: gain factor 10 in speed\n",
    "L = np.logspace(np.log10(lMin/2.), np.log10(2.*lMax), 1001, 10.)\n",
    "F = np.array(list(map(forCtotal, L)))\n",
    "cmb.fCtotal = interp1d(L, F, kind='linear', bounds_error=False, fill_value=0.)"
   ]
  },
  {
   "cell_type": "code",
   "execution_count": 11,
   "id": "ca840072",
   "metadata": {},
   "outputs": [
    {
     "name": "stdout",
     "output_type": "stream",
     "text": [
      "CMB lensing power spectrum\n"
     ]
    }
   ],
   "source": [
    "print(\"CMB lensing power spectrum\")\n",
    "u = UnivPlanck15()\n",
    "halofit = Halofit(u, save=False)\n",
    "w_cmblens = WeightLensSingle(u, z_source=1100., name=\"cmblens\")\n",
    "p2d_cmblens = P2dAuto(u, halofit, w_cmblens, save=False)"
   ]
  },
  {
   "cell_type": "code",
   "execution_count": 12,
   "id": "5dcd7c24",
   "metadata": {},
   "outputs": [
    {
     "name": "stdout",
     "output_type": "stream",
     "text": [
      "Gets a theoretical prediction for the noise\n",
      "computing the reconstruction noise\n"
     ]
    }
   ],
   "source": [
    "print(\"Gets a theoretical prediction for the noise\")\n",
    "fNqCmb_fft = baseMap.forecastN0Kappa(cmb.funlensedTT, cmb.fCtotal, lMin=lMin, lMax=lMax, test=False)\n",
    "Ntheory = lambda l: fNqCmb_fft(l) "
   ]
  },
  {
   "cell_type": "code",
   "execution_count": 13,
   "id": "61dc75b6",
   "metadata": {},
   "outputs": [],
   "source": [
    "pairs = [\n",
    "#    [0,0], #N0\n",
    "#    [0,1], #kappa\n",
    "#    [1,0], #kappa\n",
    "#    [0,2], #N1\n",
    "#    [1,1], #N1\n",
    "#    [2,0], #N1\n",
    "#     [0,3], #should vanish\n",
    "#     [1,2], #should vanish\n",
    "#     [2,1], #should vanish\n",
    "#     [3,0], #should vanish\n",
    "#     [0,4], #N2 \n",
    "#     [1,3], #N2\n",
    "#     [2,2], #N2\n",
    "#     [3,1], #N2\n",
    "#     [4,0], #N2\n",
    "   [-1, -1], #QE\n",
    "   [-2, -2], #unlensed\n",
    "]\n",
    "\n",
    "\n",
    "data_names = {\n",
    "    0: 'cmb0F_1',\n",
    "    1: 'lCmbF_o1_1',\n",
    "    2: 'lCmbF_o2_1',\n",
    "    3: 'lCmbF_o3_1',\n",
    "    4: 'lCmbF_o4_1',\n",
    "    -1: 'lCmbF_1',\n",
    "    -2: 'totalF_0',\n",
    "}"
   ]
  },
  {
   "cell_type": "code",
   "execution_count": null,
   "id": "a684ee0b",
   "metadata": {},
   "outputs": [],
   "source": []
  },
  {
   "cell_type": "code",
   "execution_count": 14,
   "id": "da83425d",
   "metadata": {},
   "outputs": [
    {
     "name": "stderr",
     "output_type": "stream",
     "text": [
      "100%|██████████| 50/50 [01:31<00:00,  1.83s/it]\n"
     ]
    }
   ],
   "source": [
    "data = {}\n",
    "# pbar = trange(len(pairs))\n",
    "for file_idx in trange(1,51):\n",
    "    for pair_idx in range(len(pairs)):\n",
    "        pair = pairs[pair_idx]\n",
    "        \n",
    "        f = open('/oak/stanford/orgs/kipac/users/delon/LensQuEst/QE_and_Nhat_from_map_sims_800x800_20x20_Clunlensed_weight_anisotropic_noise_FILE%d_pair_%d_%d.pkl'%(file_idx, pair[0], pair[1]), 'rb')  \n",
    "        c_data = pickle.load(f)\n",
    "        f.close()        \n",
    "        for key in c_data:\n",
    "            if(key not in data.keys()):\n",
    "                data[key] = np.array(c_data[key])\n",
    "            else:\n",
    "                data[key] = np.vstack((data[key], np.array(c_data[key])))  \n",
    "#             print(np.shape(data[key]))"
   ]
  },
  {
   "cell_type": "code",
   "execution_count": 15,
   "id": "60d0e89a",
   "metadata": {
    "scrolled": true
   },
   "outputs": [
    {
     "name": "stdout",
     "output_type": "stream",
     "text": [
      "-1-1 (500, 800, 401)\n",
      "-1-1_sqrtN (500, 800, 401)\n",
      "-2-2 (500, 800, 401)\n",
      "-2-2_sqrtN (500, 800, 401)\n"
     ]
    }
   ],
   "source": [
    "for key in data:\n",
    "    print(key, np.shape(data[key]))"
   ]
  },
  {
   "cell_type": "code",
   "execution_count": 16,
   "id": "4f9d6ba2",
   "metadata": {},
   "outputs": [],
   "source": [
    "def combine_Cl(Cls_tot):\n",
    "    n_runs = np.shape(Cls_tot)[0]\n",
    "    print(n_runs, np.shape(Cls_tot))\n",
    "    lCen = Cls_tot[0][0]\n",
    "    Cls = np.sum(np.transpose(Cls_tot, axes=[1,2,0])[1], axis=1)/n_runs\n",
    "    sCls = np.sqrt(np.sum(np.square(np.transpose(Cls_tot, axes=[1,2,0])[2]), axis=1))/n_runs\n",
    "    return lCen, Cls, sCls\n",
    "\n",
    "def combine_sketchy(Cl0, Cli):\n",
    "    n_runs = np.shape(Cl0)[0]\n",
    "    print(n_runs, np.shape(Cl0))\n",
    "    ret = np.copy(Cl0)\n",
    "    ret = np.transpose(ret, axes=[1,2,0])\n",
    "    ret[1] = np.array([\n",
    "        [Cl0[run_idx][1][bin_idx]+\n",
    "         sum([Cli[i][run_idx][1][bin_idx] for i in range(len(Cli))]) \n",
    "                     for run_idx in range(n_runs)] \n",
    "                    for bin_idx in range(len(Cl0[0][1]))])\n",
    "    ret[2] = np.array([[np.sqrt(Cl0[run_idx][2][bin_idx]**2+sum([Cli[i][run_idx][2][bin_idx]**2 \n",
    "                                                               for i in range(len(Cli))]))\n",
    "                     for run_idx in range(n_runs)] \n",
    "                    for bin_idx in range(len(Cl0[0][1]))])\n",
    "    return np.transpose(ret, axes=[2,0,1])"
   ]
  },
  {
   "cell_type": "code",
   "execution_count": 17,
   "id": "bb20429a",
   "metadata": {},
   "outputs": [
    {
     "name": "stderr",
     "output_type": "stream",
     "text": [
      "100%|██████████| 500/500 [00:08<00:00, 59.88it/s]\n",
      "100%|██████████| 500/500 [00:07<00:00, 66.40it/s]\n",
      "100%|██████████| 500/500 [00:07<00:00, 65.31it/s]\n",
      "100%|██████████| 500/500 [00:08<00:00, 59.69it/s]\n",
      "100%|██████████| 500/500 [01:11<00:00,  6.95it/s]\n"
     ]
    },
    {
     "name": "stdout",
     "output_type": "stream",
     "text": [
      "500 (500, 3, 50)\n"
     ]
    }
   ],
   "source": [
    "nBins=51\n",
    "ps_data = {}\n",
    "\n",
    "# #estimate RDN0\n",
    "# ck = 'RDN(0)'\n",
    "\n",
    "# def tmp_combine_Cl(Cls_tot):\n",
    "#     n_runs = np.shape(Cls_tot)[0]\n",
    "#     lCen = Cls_tot[0][0]\n",
    "#     Cls = np.sum(np.transpose(Cls_tot, axes=[1,2,0])[1], axis=1)\n",
    "# #     sCls =  np.sum(np.transpose(Cls_tot, axes=[1,2,0])[2], axis=1)\n",
    "#     sCls = np.sqrt(np.sum(np.square(np.transpose(Cls_tot, axes=[1,2,0])[2]), axis=1))\n",
    "#     return lCen, Cls, sCls\n",
    "\n",
    "\n",
    "# for d_idx in trange(len(in_data['totalF_1'])):\n",
    "#     RDN0_fname = '/oak/stanford/orgs/kipac/users/delon/LensQuEst/RDN0-combined-%d-nBins%d.pkl'%(d_idx, nBins)\n",
    "#     c_ps_data = None\n",
    "#     try:\n",
    "#         with open(RDN0_fname,\"rb\") as f:\n",
    "#             c_ps_data = pickle.load(f)\n",
    "#     except IOError:\n",
    "#         continue\n",
    "#     if(ck not in ps_data.keys()):\n",
    "#         ps_data[ck] = np.array(c_ps_data[ck])\n",
    "#     else:\n",
    "#         ps_data[ck] = np.vstack((ps_data[ck], np.array(c_ps_data[ck])))  \n",
    "# print(ps_data[ck].shape)\n",
    "\n",
    "# #estimate N0\n",
    "# ck = 'N0'\n",
    "\n",
    "# for data_idx in range(len(data['00'])):\n",
    "#     q00 = data['00'][data_idx]\n",
    "#     c_ps_data = {}\n",
    "#     c_ps_data[ck] = [0,0,0]\n",
    "#     c_ps_data[ck][0], c_ps_data[ck][1], c_ps_data[ck][2] = baseMap.powerSpectrum(dataFourier=q00, nBins=15)\n",
    "#     if(ck not in ps_data.keys()):\n",
    "#         ps_data[ck] = np.array([c_ps_data[ck]])\n",
    "#     else:\n",
    "#         ps_data[ck] = np.vstack((ps_data[ck], np.array([c_ps_data[ck]])))  \n",
    "\n",
    "\n",
    "\n",
    "# #estimate kk\n",
    "# ck = 'kk'\n",
    "\n",
    "\n",
    "# for data_idx in range(min(len(data['01']), len(data['10']))):\n",
    "#     q01 = data['01'][data_idx]\n",
    "#     q10 = data['10'][data_idx]\n",
    "#     kCmbFourier = in_data['kCmbF_1'][data_idx]\n",
    "#     c_ps_data = {}\n",
    "#     c_ps_data[ck] = [0,0,0]\n",
    "#     c_ps_data[ck][0], c_ps_data[ck][1], c_ps_data[ck][2] = baseMap.crossPowerSpectrum(dataFourier1=q10+q01, dataFourier2=kCmbFourier, nBins=nBins)\n",
    "#     if(ck not in ps_data.keys()):\n",
    "#         ps_data[ck] = np.array([c_ps_data[ck]])\n",
    "#     else:\n",
    "#         ps_data[ck] = np.vstack((ps_data[ck], np.array([c_ps_data[ck]])))  \n",
    "\n",
    "#estimate <QE QE>\n",
    "ck = 'QEQE'\n",
    "for data_idx in trange(len(data['-1-1'])):\n",
    "    QE = data['-1-1'][data_idx]\n",
    "    \n",
    "    c_ps_data = {}\n",
    "    c_ps_data[ck] = [0,0,0]\n",
    "    c_ps_data[ck][0], c_ps_data[ck][1], c_ps_data[ck][2] = baseMap.powerSpectrum(dataFourier=QE, nBins=nBins)\n",
    "    if(ck not in ps_data.keys()):\n",
    "        ps_data[ck] = np.array([c_ps_data[ck]])\n",
    "    else:\n",
    "        ps_data[ck] = np.vstack((ps_data[ck], np.array([c_ps_data[ck]])))  \n",
    "\n",
    "#estimate Nhat\n",
    "ck = 'Nhat'\n",
    "for data_idx in trange(len(data['-1-1_sqrtN'])):\n",
    "    sqrtNhat = data['-1-1_sqrtN'][data_idx]\n",
    "    \n",
    "    c_ps_data = {}\n",
    "    c_ps_data[ck] = [0,0,0]\n",
    "    c_ps_data[ck][0], c_ps_data[ck][1], c_ps_data[ck][2] = baseMap.powerSpectrum(dataFourier=sqrtNhat, nBins=nBins)\n",
    "    if(ck not in ps_data.keys()):\n",
    "        ps_data[ck] = np.array([c_ps_data[ck]])\n",
    "    else:\n",
    "        ps_data[ck] = np.vstack((ps_data[ck],np.array([c_ps_data[ck]])))  \n",
    "\n",
    "#estimate GRF Nhat\n",
    "ck = 'GRF'\n",
    "for data_idx in trange(len(data['-2-2_sqrtN'])):\n",
    "    sqrtNhat = data['-2-2_sqrtN'][data_idx]\n",
    "    \n",
    "    c_ps_data = {}\n",
    "    c_ps_data[ck] = [0,0,0]\n",
    "    c_ps_data[ck][0], c_ps_data[ck][1], c_ps_data[ck][2] = baseMap.powerSpectrum(dataFourier=sqrtNhat, nBins=nBins)\n",
    "    if(ck not in ps_data.keys()):\n",
    "        ps_data[ck] = np.array([c_ps_data[ck]])\n",
    "    else:\n",
    "        ps_data[ck] = np.vstack(( ps_data[ck], np.array([c_ps_data[ck]])))  \n",
    "\n",
    "#estimate <kT kT>\n",
    "ck = 'kT'\n",
    "\n",
    "for data_idx in trange(len(in_data['kCmbF_1'])):\n",
    "    kT = in_data['kCmbF_1'][data_idx]\n",
    "    c_ps_data = {}\n",
    "    c_ps_data[ck] = [0,0,0]\n",
    "    c_ps_data[ck][0], c_ps_data[ck][1], c_ps_data[ck][2] = baseMap.powerSpectrum(dataFourier=kT, nBins=nBins)\n",
    "    if(ck not in ps_data.keys()):\n",
    "        ps_data[ck] = np.array([c_ps_data[ck]])\n",
    "    else:\n",
    "        ps_data[ck] = np.vstack((ps_data[ck], np.array([c_ps_data[ck]])))  \n",
    "\n",
    "import numpy as np\n",
    "from multiprocessing import Pool\n",
    "from tqdm import trange\n",
    "\n",
    "# Define a function to compute Ntheory_evaled for a given iteration\n",
    "def compute_Ntheory_evaled(_):\n",
    "    # Replace your original code here\n",
    "    t0, t1 = baseMap.binTheoryPowerSpectrum(Ntheory, nBins=nBins)\n",
    "    t2 = np.zeros_like(t1)\n",
    "    return [t0, t1, t2]\n",
    "\n",
    "# Set the number of iterations for parallel processing\n",
    "num_iterations = 500\n",
    "\n",
    "# Create a pool of worker processes using all available CPU cores\n",
    "pool = Pool()\n",
    "\n",
    "# Use the map function to parallelize the computation of Ntheory_evaled\n",
    "Ntheory_evaled = list(tqdm(pool.imap(compute_Ntheory_evaled, range(num_iterations)), total=num_iterations))\n",
    "\n",
    "# Convert the list of results to a NumPy array\n",
    "Ntheory_evaled = np.array(Ntheory_evaled)\n",
    "\n",
    "# Clean up the pool of worker processes\n",
    "pool.close()\n",
    "pool.join()\n",
    "\n",
    "# Continue with your original code\n",
    "ps_data['QEQE-Ntheory'] = combine_sketchy(ps_data['QEQE'], [-Ntheory_evaled])"
   ]
  },
  {
   "cell_type": "code",
   "execution_count": 16,
   "id": "28835b1d",
   "metadata": {},
   "outputs": [
    {
     "ename": "NameError",
     "evalue": "name 'combine_sketchy' is not defined",
     "output_type": "error",
     "traceback": [
      "\u001b[0;31m---------------------------------------------------------------------------\u001b[0m",
      "\u001b[0;31mNameError\u001b[0m                                 Traceback (most recent call last)",
      "\u001b[0;32m/tmp/ipykernel_24891/3332297762.py\u001b[0m in \u001b[0;36m<module>\u001b[0;34m\u001b[0m\n\u001b[0;32m----> 1\u001b[0;31m \u001b[0mps_data\u001b[0m\u001b[0;34m[\u001b[0m\u001b[0;34m'QEQE-Nhat'\u001b[0m\u001b[0;34m]\u001b[0m \u001b[0;34m=\u001b[0m \u001b[0mcombine_sketchy\u001b[0m\u001b[0;34m(\u001b[0m\u001b[0mps_data\u001b[0m\u001b[0;34m[\u001b[0m\u001b[0;34m'QEQE'\u001b[0m\u001b[0;34m]\u001b[0m\u001b[0;34m,\u001b[0m \u001b[0;34m[\u001b[0m\u001b[0;34m-\u001b[0m\u001b[0mps_data\u001b[0m\u001b[0;34m[\u001b[0m\u001b[0;34m'Nhat'\u001b[0m\u001b[0;34m]\u001b[0m\u001b[0;34m]\u001b[0m\u001b[0;34m)\u001b[0m\u001b[0;34m\u001b[0m\u001b[0;34m\u001b[0m\u001b[0m\n\u001b[0m",
      "\u001b[0;31mNameError\u001b[0m: name 'combine_sketchy' is not defined"
     ]
    }
   ],
   "source": [
    "ps_data['QEQE-Nhat'] = combine_sketchy(ps_data['QEQE'], [-ps_data['Nhat']])"
   ]
  },
  {
   "cell_type": "code",
   "execution_count": 17,
   "id": "f6923b43",
   "metadata": {},
   "outputs": [],
   "source": [
    "labels={\n",
    "    'N0':r'$N^{(0)}$',\n",
    "    'GRF':r'$\\hat N$ on GRF',\n",
    "    'kT': r'$\\left<\\kappa\\kappa\\right>$',\n",
    "    'kk':r'$\\left<(\\mathcal Q(T^0, T^1)+\\mathcal Q(T^1, T^0))\\kappa\\right>$',\n",
    "    'N1':r'$N^{(1)}$',\n",
    "    'N2':r'$N^{(2)}$',\n",
    "    'N2+':r'$N^{(2)}+\\dots$',\n",
    "    'N3+':r'$N^{(3)}+\\dots$',\n",
    "    'RDN(0)':r'${\\rm RDN}^{(0)}$',\n",
    "    'RDN(0)o2':r'${\\rm RDN}^{(0)}$',\n",
    "    'QEQE':r'$\\left<\\hat\\kappa\\hat\\kappa\\right>$',\n",
    "    'QEQE-Nhat':r'$\\left<\\hat\\kappa\\hat\\kappa\\right>-\\hat N$',\n",
    "    'QEQE-RDN(0)':r'$\\left<\\hat\\kappa\\hat\\kappa\\right>-{\\rm RDN}^{(0)}$',\n",
    "    'Nhat':r'$\\hat N$',\n",
    "    'N1+':r'$N^{(1)}+\\dots$',\n",
    "    'KK+N1+': r'$\\left<(\\mathcal Q(T^0, T^1)+\\mathcal Q(T^1, T^0))\\kappa\\right>+N^{(1)}+\\dots$',\n",
    "    'QEQE-2Nhat+Ntheory':r'$\\left<\\hat\\kappa\\hat\\kappa\\right>-2\\hat N+N_{\\rm theory}$',\n",
    "    'QEQE-Ntheory':r'$\\left<\\hat\\kappa\\hat\\kappa\\right>-N_{\\rm theory}$',\n",
    "    'QEQE-Ntheory-N1':r'$\\left<\\hat\\kappa\\hat\\kappa\\right>-N_{\\rm theory}-N^{(1)}$',\n",
    "    'QEQE-N0':r'$\\left<\\hat\\kappa\\hat\\kappa\\right>- N^{(0)}$',\n",
    "    'QEQE-kTkT-Nhat': r'$\\left<\\hat\\kappa\\hat\\kappa\\right>-\\left<\\kappa\\kappa\\right>-\\hat N$',\n",
    "    'QEQE-kTkT-Ntheory':r'$\\left<\\hat\\kappa\\hat\\kappa\\right>-\\left<\\kappa\\kappa\\right>-N_{\\rm theory}$',\n",
    "    'QEQE-kTkT-RDN(0)':r'$\\left<\\hat\\kappa\\hat\\kappa\\right>-\\left<\\kappa\\kappa\\right>-{\\rm RDN}^{(0)}$',\n",
    "\n",
    "}\n"
   ]
  },
  {
   "cell_type": "code",
   "execution_count": 58,
   "id": "3c3775d3",
   "metadata": {},
   "outputs": [],
   "source": [
    "def graph_from_keys(c_keys, offset=0.03, factor=lambda x:1, pN1 = False):\n",
    "    \n",
    "    \n",
    "    offsets = dict(zip(c_keys,[i*offset for i in range(len(c_keys))]))\n",
    "    colors = dict(zip(c_keys,[plt.colormaps[\"gist_rainbow\"]((i+1)/len(c_keys)) for i in range(len(c_keys))] ))\n",
    "    if(len(c_keys)<=3):\n",
    "        colors = dict(zip(c_keys, ['red', 'green', 'blue']))\n",
    "    fig,ax = plt.subplots(nrows=1, figsize=(10,8))\n",
    "    plt.rcParams['text.usetex'] = True\n",
    "\n",
    "    plt.rcParams['font.size'] = 20\n",
    "    ell = baseMap.l.flatten()\n",
    "    theory=[p2d_cmblens.fPinterp, Ntheory]\n",
    "    theory_l=[r'$\\big<\\kappa\\kappa\\big>$', r'$N_{\\rm theory}$']\n",
    "    theory_s=['black', 'lightgrey']\n",
    "    for f,l,sty in zip(theory, theory_l, theory_s):\n",
    "        L = np.logspace(np.log10(1.), np.log10(np.max(ell)), 201, 10.)\n",
    "        ClExpected = np.array(list(map(f, L)))\n",
    "        ax.plot(L, factor(L)*ClExpected, sty, label=l)\n",
    "    \n",
    "    if(pN1):\n",
    "        n1 = np.loadtxt('n1_data_aniso/N1_All_analytical.dat').T    \n",
    "        indices = ['TT', 'EE', 'EB', 'TE', 'TB', 'BB']\n",
    "        bins = n1[0]\n",
    "        n1_mat = np.reshape(n1[1:], (len(indices), len(indices), len(bins)))\n",
    "        \n",
    "        n0 = np.loadtxt('n1_data_aniso/N0_analytical.dat').T    \n",
    "        indices = ['TT', 'EE', 'EB', 'TE', 'TB', 'BB']\n",
    "        bins = n0[0]\n",
    "        phiphi = n0[1]\n",
    "        n0_mat = np.reshape(n0[2:], (len(indices), len(indices), len(bins)))\n",
    "\n",
    "\n",
    "        for i in range(len(indices)):\n",
    "            if(indices[i] != 'TT'):\n",
    "                continue        \n",
    "            n0_pp = (bins*(bins+1))**2/(2*np.pi)*(n0_mat[i][i][:])\n",
    "            n1_pp = (bins*(bins+1))**2/(2*np.pi)*(n1_mat[i][i][:])\n",
    "            KK = p2d_cmblens.fPinterp(bins)\n",
    "\n",
    "            phiphi = KK\n",
    "            phiphi *=  -2./ bins**2\n",
    "            phiphi *=  -2./ bins**2\n",
    "            phiphi *= (bins*(bins+1))**2/(2*np.pi) #convention from CAMB \n",
    "\n",
    "            pp_n1 = phiphi+n1_pp\n",
    "\n",
    "            KK_n1 = pp_n1 * 2*np.pi / (bins*(bins+1))**2 #back to our convention\n",
    "            KK_n1 *= - bins**2 / 2\n",
    "            KK_n1 *= - bins**2 / 2\n",
    "            plt.plot(bins, KK_n1, 'k--', label=r'$\\big<\\kappa\\kappa\\big>+N^{(1)}$')\n",
    "            \n",
    "#             plt.plot(bins, n0_pp, \n",
    "#                      'lightgrey',linestyle='--', label=r'$N^{(0)}$')\n",
    "\n",
    "    for key in c_keys:\n",
    "        lCen, Cl, sCl = combine_Cl(np.array(ps_data[key]))\n",
    "    \n",
    "        Cl = factor(lCen)*Cl\n",
    "        sCl = factor(lCen)*sCl\n",
    "        \n",
    "        offset = offsets[key]\n",
    "        tmp = [l*np.exp(offset)-l for l in lCen]\n",
    "        lCen += tmp\n",
    "\n",
    "        Ipos = np.where(Cl>=1e-30)\n",
    "        Ineg = np.where(Cl<=-1e-30)\n",
    "\n",
    "        ax.errorbar(lCen[Ipos], (Cl[Ipos]), yerr=sCl[Ipos], alpha=.75, \n",
    "                    fmt='-', capsize=3, capthick=1, label=labels[key], c=colors[key])\n",
    "        tmp_data = {\n",
    "            'x': lCen[Ipos],\n",
    "            'y1': [y - e for y, e in zip((Cl[Ipos]), sCl[Ipos])],\n",
    "            'y2': [y + e for y, e in zip((Cl[Ipos]), sCl[Ipos])]}\n",
    "        ax.fill_between(**tmp_data,  alpha=.25, color=colors[key])\n",
    "\n",
    "        \n",
    "        ax.errorbar(lCen[Ineg], -(Cl[Ineg]), yerr=sCl[Ineg], alpha=.75, \n",
    "                    fmt='--', capsize=3, capthick=1, c=colors[key])\n",
    "        tmp_data = {\n",
    "            'x': lCen[Ineg],\n",
    "            'y1': [y - e for y, e in zip(-(Cl[Ineg]), sCl[Ineg])],\n",
    "            'y2': [y + e for y, e in zip(-(Cl[Ineg]), sCl[Ineg])]}\n",
    "        ax.fill_between(**tmp_data,  alpha=.25, color=colors[key])\n",
    "\n",
    "#         print(lCen[Ineg])\n",
    "#         print('###########')\n",
    "#         print(lCen[Ipos])\n",
    "\n",
    "    ax.legend(frameon=False)\n",
    "    ax.set_xscale('log')\n",
    "    ax.set_xlabel(r'$\\ell$')\n",
    "    ax.set_yscale('log')\n",
    "    ax.set_xlim(lMin,2*lMax)\n",
    "    ax.set_ylim(1.1e-10,.9e-3)\n",
    "    ax.set_title('Unmasked, Anisotropic Noise')\n",
    "    return fig, ax"
   ]
  },
  {
   "cell_type": "code",
   "execution_count": null,
   "id": "91f2d42d",
   "metadata": {},
   "outputs": [],
   "source": []
  },
  {
   "cell_type": "code",
   "execution_count": 36,
   "id": "abba3b91",
   "metadata": {},
   "outputs": [],
   "source": [
    "# ps_data['QEQE-N0'] = combine_sketchy(ps_data['QEQE'], [ -ps_data['N0']])\n",
    "# ps_data['QEQE-2Nhat+Ntheory'] = combine_sketchy(ps_data['QEQE'], [-2*ps_data['Nhat'],Ntheory_evaled])"
   ]
  },
  {
   "cell_type": "code",
   "execution_count": 37,
   "id": "a00cc273",
   "metadata": {},
   "outputs": [],
   "source": [
    "# ps_data['RDN(0)o2'] = np.copy(ps_data['RDN(0)'])\n",
    "# print(np.shape(ps_data['RDN(0)o2']))\n",
    "# ps_data['RDN(0)o2'] = np.transpose(ps_data['RDN(0)o2'], axes=[1,2,0])\n",
    "\n",
    "# ps_data['RDN(0)o2'][1] = ps_data['RDN(0)o2'][1]/2\n",
    "# ps_data['RDN(0)o2'][2] = ps_data['RDN(0)o2'][2]/2\n",
    "\n",
    "# ps_data['RDN(0)o2'] = np.transpose(ps_data['RDN(0)o2'], axes=[2,0,1])\n",
    "\n",
    "# print(np.shape(ps_data['RDN(0)o2']))\n"
   ]
  },
  {
   "cell_type": "code",
   "execution_count": 38,
   "id": "9da3e175",
   "metadata": {},
   "outputs": [],
   "source": [
    "\n",
    "# graph_from_keys([  \n",
    "# #     'RDN(0)o2',\n",
    "#     'Nhat',\n",
    "# ], offset=0.00)\n",
    "# plt.savefig('figures/RDN0.pdf', bbox_inches='tight')\n",
    "\n"
   ]
  },
  {
   "cell_type": "code",
   "execution_count": 25,
   "id": "a56bee66",
   "metadata": {},
   "outputs": [],
   "source": [
    "f = open('/oak/stanford/orgs/kipac/users/delon/LensQuEst/ps_data_unmasked_anisotropic_noise.pkl', 'wb') \n",
    "pickle.dump(ps_data, f)\n",
    "f.close()\n"
   ]
  },
  {
   "cell_type": "code",
   "execution_count": 19,
   "id": "b8f03358",
   "metadata": {},
   "outputs": [],
   "source": [
    "f = open('/oak/stanford/orgs/kipac/users/delon/LensQuEst/ps_data_unmasked_anisotropic_noise.pkl', 'rb') \n",
    "ps_data = pickle.load(f)\n",
    "f.close()\n"
   ]
  },
  {
   "cell_type": "code",
   "execution_count": 42,
   "id": "1b05715e",
   "metadata": {},
   "outputs": [
    {
     "name": "stdout",
     "output_type": "stream",
     "text": [
      "500 (500, 3, 50)\n",
      "500 (500, 3, 50)\n"
     ]
    },
    {
     "data": {
      "image/png": "[encoded data removed]",
      "text/plain": [
       "<Figure size 720x576 with 1 Axes>"
      ]
     },
     "metadata": {
      "needs_background": "light"
     },
     "output_type": "display_data"
    }
   ],
   "source": [
    "graph_from_keys([\n",
    "#     'QEQE-N0',\n",
    "    'QEQE-Ntheory',\n",
    "    'QEQE-Nhat',\n",
    "#     'QEQE-RDN(0)',\n",
    "#     'RDN(0)o2'\n",
    "#     'QEQE-2Nhat+Ntheory',\n",
    "], offset=0.00)\n",
    "plt.savefig('figures/mNhat_vs_mNtheory_aniso_noise.pdf', bbox_inches='tight')"
   ]
  },
  {
   "cell_type": "code",
   "execution_count": 59,
   "id": "a16018d3",
   "metadata": {},
   "outputs": [
    {
     "name": "stdout",
     "output_type": "stream",
     "text": [
      "500 (500, 3, 50)\n",
      "500 (500, 3, 50)\n"
     ]
    },
    {
     "data": {
      "image/png": "[encoded data removed]",
      "text/plain": [
       "<Figure size 720x576 with 1 Axes>"
      ]
     },
     "metadata": {
      "needs_background": "light"
     },
     "output_type": "display_data"
    }
   ],
   "source": [
    "graph_from_keys([\n",
    "#     'QEQE-N0',\n",
    "    'QEQE-Ntheory',\n",
    "    'QEQE-Nhat',\n",
    "#     'QEQE-RDN(0)',\n",
    "#     'RDN(0)o2'\n",
    "#     'QEQE-2Nhat+Ntheory',\n",
    "], offset=0.00, pN1=True)\n",
    "plt.savefig('figures/mNhat_vs_mNtheory_aniso_noise.pdf', bbox_inches='tight')"
   ]
  },
  {
   "cell_type": "code",
   "execution_count": 27,
   "id": "89c11af9",
   "metadata": {},
   "outputs": [],
   "source": [
    "# ps_data['QEQE-RDN(0)'] = combine_sketchy(ps_data['QEQE'], [-ps_data['RDN(0)o2']])\n",
    "# graph_from_keys([\n",
    "# #     'QEQE-N0',\n",
    "#     'QEQE-Ntheory',\n",
    "#     'QEQE-Nhat',\n",
    "# #     'QEQE-RDN(0)',\n",
    "# #     'RDN(0)o2'\n",
    "# #     'QEQE-2Nhat+Ntheory',\n",
    "# ], offset=0.00)\n",
    "# plt.savefig('figures/mNhat_vs_mNtheory_vs_RDN0.pdf', bbox_inches='tight')"
   ]
  },
  {
   "cell_type": "code",
   "execution_count": 28,
   "id": "c8392ecf",
   "metadata": {},
   "outputs": [],
   "source": [
    "# graph_from_keys([\n",
    "# #     'QEQE-N0',\n",
    "#     'QEQE-Ntheory',\n",
    "#     'QEQE-Nhat',\n",
    "# #     'QEQE-RDN(0)',\n",
    "# #     'RDN(0)o2'\n",
    "# #     'QEQE-2Nhat+Ntheory',\n",
    "# ], offset=0.00, pN1=True)\n",
    "# plt.savefig('figures/mNhat_vs_mNtheory_vs_RDN0_withN1_aniso_noise.pdf', bbox_inches='tight')"
   ]
  },
  {
   "cell_type": "code",
   "execution_count": 29,
   "id": "1e2368db",
   "metadata": {},
   "outputs": [],
   "source": [
    "# graph_from_keys([\n",
    "#     'GRF',\n",
    "# ], offset=0.00)\n",
    "# plt.savefig('figures/Nhat on GRF.pdf', bbox_inches='tight')"
   ]
  },
  {
   "cell_type": "code",
   "execution_count": 42,
   "id": "fc6f0eb8",
   "metadata": {},
   "outputs": [
    {
     "name": "stderr",
     "output_type": "stream",
     "text": [
      "100%|██████████| 500/500 [00:08<00:00, 60.14it/s]\n",
      "100%|██████████| 500/500 [00:07<00:00, 65.23it/s]\n",
      "100%|██████████| 500/500 [00:07<00:00, 64.37it/s]\n",
      "100%|██████████| 500/500 [00:08<00:00, 58.03it/s]\n",
      "100%|██████████| 500/500 [01:13<00:00,  6.76it/s]\n"
     ]
    },
    {
     "name": "stdout",
     "output_type": "stream",
     "text": [
      "500 (500, 3, 14)\n"
     ]
    }
   ],
   "source": [
    "nBins=15\n",
    "ps_data = {}\n",
    "\n",
    "# #estimate RDN0\n",
    "# ck = 'RDN(0)'\n",
    "\n",
    "# def tmp_combine_Cl(Cls_tot):\n",
    "#     n_runs = np.shape(Cls_tot)[0]\n",
    "#     lCen = Cls_tot[0][0]\n",
    "#     Cls = np.sum(np.transpose(Cls_tot, axes=[1,2,0])[1], axis=1)\n",
    "# #     sCls =  np.sum(np.transpose(Cls_tot, axes=[1,2,0])[2], axis=1)\n",
    "#     sCls = np.sqrt(np.sum(np.square(np.transpose(Cls_tot, axes=[1,2,0])[2]), axis=1))\n",
    "#     return lCen, Cls, sCls\n",
    "\n",
    "\n",
    "# for d_idx in trange(len(in_data['totalF_1'])):\n",
    "#     RDN0_fname = '/oak/stanford/orgs/kipac/users/delon/LensQuEst/RDN0-combined-%d-nBins%d.pkl'%(d_idx, nBins)\n",
    "#     c_ps_data = None\n",
    "#     try:\n",
    "#         with open(RDN0_fname,\"rb\") as f:\n",
    "#             c_ps_data = pickle.load(f)\n",
    "#     except IOError:\n",
    "#         continue\n",
    "#     if(ck not in ps_data.keys()):\n",
    "#         ps_data[ck] = np.array(c_ps_data[ck])\n",
    "#     else:\n",
    "#         ps_data[ck] = np.vstack((ps_data[ck], np.array(c_ps_data[ck])))  \n",
    "# print(ps_data[ck].shape)\n",
    "\n",
    "# #estimate N0\n",
    "# ck = 'N0'\n",
    "\n",
    "# for data_idx in range(len(data['00'])):\n",
    "#     q00 = data['00'][data_idx]\n",
    "#     c_ps_data = {}\n",
    "#     c_ps_data[ck] = [0,0,0]\n",
    "#     c_ps_data[ck][0], c_ps_data[ck][1], c_ps_data[ck][2] = baseMap.powerSpectrum(dataFourier=q00, nBins=15)\n",
    "#     if(ck not in ps_data.keys()):\n",
    "#         ps_data[ck] = np.array([c_ps_data[ck]])\n",
    "#     else:\n",
    "#         ps_data[ck] = np.vstack((ps_data[ck], np.array([c_ps_data[ck]])))  \n",
    "\n",
    "\n",
    "\n",
    "# #estimate kk\n",
    "# ck = 'kk'\n",
    "\n",
    "\n",
    "# for data_idx in range(min(len(data['01']), len(data['10']))):\n",
    "#     q01 = data['01'][data_idx]\n",
    "#     q10 = data['10'][data_idx]\n",
    "#     kCmbFourier = in_data['kCmbF_1'][data_idx]\n",
    "#     c_ps_data = {}\n",
    "#     c_ps_data[ck] = [0,0,0]\n",
    "#     c_ps_data[ck][0], c_ps_data[ck][1], c_ps_data[ck][2] = baseMap.crossPowerSpectrum(dataFourier1=q10+q01, dataFourier2=kCmbFourier, nBins=nBins)\n",
    "#     if(ck not in ps_data.keys()):\n",
    "#         ps_data[ck] = np.array([c_ps_data[ck]])\n",
    "#     else:\n",
    "#         ps_data[ck] = np.vstack((ps_data[ck], np.array([c_ps_data[ck]])))  \n",
    "\n",
    "#estimate <QE QE>\n",
    "ck = 'QEQE'\n",
    "for data_idx in trange(len(data['-1-1'])):\n",
    "    QE = data['-1-1'][data_idx]\n",
    "    \n",
    "    c_ps_data = {}\n",
    "    c_ps_data[ck] = [0,0,0]\n",
    "    c_ps_data[ck][0], c_ps_data[ck][1], c_ps_data[ck][2] = baseMap.powerSpectrum(dataFourier=QE, nBins=nBins)\n",
    "    if(ck not in ps_data.keys()):\n",
    "        ps_data[ck] = np.array([c_ps_data[ck]])\n",
    "    else:\n",
    "        ps_data[ck] = np.vstack((ps_data[ck], np.array([c_ps_data[ck]])))  \n",
    "\n",
    "#estimate Nhat\n",
    "ck = 'Nhat'\n",
    "for data_idx in trange(len(data['-1-1_sqrtN'])):\n",
    "    sqrtNhat = data['-1-1_sqrtN'][data_idx]\n",
    "    \n",
    "    c_ps_data = {}\n",
    "    c_ps_data[ck] = [0,0,0]\n",
    "    c_ps_data[ck][0], c_ps_data[ck][1], c_ps_data[ck][2] = baseMap.powerSpectrum(dataFourier=sqrtNhat, nBins=nBins)\n",
    "    if(ck not in ps_data.keys()):\n",
    "        ps_data[ck] = np.array([c_ps_data[ck]])\n",
    "    else:\n",
    "        ps_data[ck] = np.vstack((ps_data[ck],np.array([c_ps_data[ck]])))  \n",
    "\n",
    "#estimate GRF Nhat\n",
    "ck = 'GRF'\n",
    "for data_idx in trange(len(data['-2-2_sqrtN'])):\n",
    "    sqrtNhat = data['-2-2_sqrtN'][data_idx]\n",
    "    \n",
    "    c_ps_data = {}\n",
    "    c_ps_data[ck] = [0,0,0]\n",
    "    c_ps_data[ck][0], c_ps_data[ck][1], c_ps_data[ck][2] = baseMap.powerSpectrum(dataFourier=sqrtNhat, nBins=nBins)\n",
    "    if(ck not in ps_data.keys()):\n",
    "        ps_data[ck] = np.array([c_ps_data[ck]])\n",
    "    else:\n",
    "        ps_data[ck] = np.vstack(( ps_data[ck], np.array([c_ps_data[ck]])))  \n",
    "\n",
    "#estimate <kT kT>\n",
    "ck = 'kT'\n",
    "\n",
    "for data_idx in trange(len(in_data['kCmbF_1'])):\n",
    "    kT = in_data['kCmbF_1'][data_idx]\n",
    "    c_ps_data = {}\n",
    "    c_ps_data[ck] = [0,0,0]\n",
    "    c_ps_data[ck][0], c_ps_data[ck][1], c_ps_data[ck][2] = baseMap.powerSpectrum(dataFourier=kT, nBins=nBins)\n",
    "    if(ck not in ps_data.keys()):\n",
    "        ps_data[ck] = np.array([c_ps_data[ck]])\n",
    "    else:\n",
    "        ps_data[ck] = np.vstack((ps_data[ck], np.array([c_ps_data[ck]])))  \n",
    "\n",
    "import numpy as np\n",
    "from multiprocessing import Pool\n",
    "from tqdm import trange\n",
    "\n",
    "# Define a function to compute Ntheory_evaled for a given iteration\n",
    "def compute_Ntheory_evaled(_):\n",
    "    # Replace your original code here\n",
    "    t0, t1 = baseMap.binTheoryPowerSpectrum(Ntheory, nBins=nBins)\n",
    "    t2 = np.zeros_like(t1)\n",
    "    return [t0, t1, t2]\n",
    "\n",
    "# Set the number of iterations for parallel processing\n",
    "num_iterations = 500\n",
    "\n",
    "# Create a pool of worker processes using all available CPU cores\n",
    "pool = Pool()\n",
    "\n",
    "# Use the map function to parallelize the computation of Ntheory_evaled\n",
    "Ntheory_evaled = list(tqdm(pool.imap(compute_Ntheory_evaled, range(num_iterations)), total=num_iterations))\n",
    "\n",
    "# Convert the list of results to a NumPy array\n",
    "Ntheory_evaled = np.array(Ntheory_evaled)\n",
    "\n",
    "# Clean up the pool of worker processes\n",
    "pool.close()\n",
    "pool.join()\n",
    "\n",
    "# Continue with your original code\n",
    "ps_data['QEQE-Ntheory'] = combine_sketchy(ps_data['QEQE'], [-Ntheory_evaled])"
   ]
  },
  {
   "cell_type": "code",
   "execution_count": 46,
   "id": "65bae95d",
   "metadata": {},
   "outputs": [],
   "source": [
    "f = open('/oak/stanford/orgs/kipac/users/delon/LensQuEst/ps_data_unmasked_anisotropic_noise_fewer_bins.pkl', 'wb') \n",
    "pickle.dump(ps_data, f)\n",
    "f.close()\n"
   ]
  },
  {
   "cell_type": "code",
   "execution_count": 43,
   "id": "a829d660",
   "metadata": {},
   "outputs": [],
   "source": [
    "#bandaid\n",
    "ll = ['%d'%l for l in ps_data['QEQE'][0][0]]\n",
    "#\n",
    "def corr2(corr_nhat1, \n",
    "          corr_nhat2, \n",
    "          filename_base, \n",
    "          cmap='seismic', \n",
    "          cmap2='seismic', \n",
    "          label='', \n",
    "          label2=''):\n",
    "    \n",
    "    plt.rcParams['font.family'] = 'serif'\n",
    "    plt.rcParams['text.usetex'] = True\n",
    "\n",
    "    plt.rcParams['font.size'] = 20\n",
    "    plt.rcParams['text.latex.preamble'] = r'\\usepackage{xcolor}'\n",
    "    plt.rcParams['text.latex.preamble'] +='\\n'\n",
    "#     plt.rcParams['text.latex.preamble'] += r'\\definecolor{c1}{rgb}{%.1f,%.1f,%.1f}'%(cmap[3][0],cmap[3][1],cmap[3][2])\n",
    "#     plt.rcParams['text.latex.preamble'] +='\\n'\n",
    "#     plt.rcParams['text.latex.preamble'] +=r'\\definecolor{c2}{rgb}{%.1f,%.1f,%.1f}'%(cmap2[3][0],cmap2[3][1],cmap2[3][2])\n",
    "\n",
    "    \n",
    "    corr_nhat = np.copy(corr_nhat1)\n",
    "    sze = len(corr_nhat1)\n",
    "    mask = np.array([[0 for _ in range(sze)] for _ in range(sze)])\n",
    "    for i in range(sze-1):\n",
    "        for j in range(sze-1-i):\n",
    "            corr_nhat[i][sze-j-1] = corr_nhat2[i][sze-j-1]\n",
    "            mask[i][sze-j-1] = 1\n",
    "    plt.figure(figsize=(25,20))\n",
    "    print(np.shape(corr_nhat))\n",
    "    print(np.shape(mask))\n",
    "    \n",
    "    ax = sns.heatmap(corr_nhat,  cmap=cmap, cbar=True, vmin=-1, vmax=1, square=True,\n",
    "                    cbar_kws={ 'ticks':[],\n",
    "                              \"orientation\": \"horizontal\", 'pad':-0.17, 'shrink':0.3})\n",
    "    \n",
    "    sns.heatmap(corr_nhat, mask=mask, cmap=cmap2, cbar=True, ax=ax, vmin=-1, vmax=1,square=True,label=label,\n",
    "           cbar_kws={'label': r\"$\\rho$\",\"orientation\": \"horizontal\", 'pad':0.1,  'shrink':0.3})\n",
    "    \n",
    "\n",
    "    ax.tick_params(axis=u'x', which=u'both',labelrotation=90)\n",
    "    ax.set_xticks(np.arange(len(ll))+0.5, labels=ll)\n",
    "    plt.xlabel(r'$\\ell$'+'\\n')\n",
    "\n",
    "#     ax.legend(frameon=False)\n",
    "\n",
    "    ax.tick_params(axis=u'y', which=u'both',labelrotation=0)\n",
    "    ax.set_yticks(np.arange(len(ll))+0.5, labels=ll)\n",
    "    plt.ylabel(r'$\\ell$'+'\\n')\n",
    "\n",
    "    plt.title(r'Correlations for {%s} (Top Left) and {%s} (Bottom Right)'%(label, label2))\n",
    "    plt.xlim(4, len(ll)-1)\n",
    "    plt.ylim(4, len(ll)-1)\n",
    "\n",
    "    plt.savefig('figures/corr_%s_aniso_noise.pdf'%(filename_base), bbox_inches='tight')#, use='pgf')\n",
    "\n",
    "\n",
    "def corr_gen(keys, filename_base):\n",
    "    Cls_tmp = np.array([None, None])\n",
    "    for key,idx in zip(keys, range(2)):\n",
    "        print(np.shape(ps_data[key]))\n",
    "        Cls_tmp[idx] = np.transpose(np.copy(np.array(ps_data[key])), axes=[1,2,0])[1]\n",
    "\n",
    "    corrs = np.array([[[(np.corrcoef(Cls_tmp[i][i1], Cls_tmp[i][i2])[1,0])\n",
    "                          for i1 in range(len(Cls_tmp[i]))]\n",
    "                         for i2 in range(len(Cls_tmp[i]))]\n",
    "                         for i in range(2)])\n",
    "\n",
    "    corr2(corrs[0], corrs[1], \n",
    "          label= labels[keys[0]],\n",
    "         label2=labels[keys[1]], \n",
    "         filename_base=filename_base)"
   ]
  },
  {
   "cell_type": "code",
   "execution_count": 44,
   "id": "9f0310b5",
   "metadata": {},
   "outputs": [
    {
     "name": "stdout",
     "output_type": "stream",
     "text": [
      "500 (500, 3, 14)\n",
      "500 (500, 3, 14)\n"
     ]
    }
   ],
   "source": [
    "ps_data['QEQE-kTkT-Nhat'] = combine_sketchy(ps_data['QEQE'], [-ps_data['kT'],-ps_data['Nhat']])\n",
    "ps_data['QEQE-kTkT-Ntheory'] = combine_sketchy(ps_data['QEQE'], [-ps_data['kT'],-Ntheory_evaled])\n",
    "# ps_data['QEQE-kTkT-RDN(0)'] = combine_sketchy(ps_data['QEQE'], [-ps_data['kT'],-ps_data['RDN(0)o2']])"
   ]
  },
  {
   "cell_type": "code",
   "execution_count": 45,
   "id": "cd270196",
   "metadata": {},
   "outputs": [
    {
     "name": "stdout",
     "output_type": "stream",
     "text": [
      "(500, 3, 14)\n",
      "(500, 3, 14)\n",
      "(14, 14)\n",
      "(14, 14)\n"
     ]
    },
    {
     "data": {
      "image/png": "[encoded data removed]",
      "text/plain": [
       "<Figure size 1800x1440 with 3 Axes>"
      ]
     },
     "metadata": {
      "needs_background": "light"
     },
     "output_type": "display_data"
    }
   ],
   "source": [
    "corr_gen(['QEQE-kTkT-Nhat', 'QEQE-kTkT-Ntheory'], 'mNhat_v_mNtheory')"
   ]
  },
  {
   "cell_type": "code",
   "execution_count": null,
   "id": "45919182",
   "metadata": {},
   "outputs": [],
   "source": [
    "# corr_gen(['QEQE-kTkT-Nhat', 'QEQE-kTkT-RDN(0)'], 'mNhat_v_mRDN0')"
   ]
  },
  {
   "cell_type": "code",
   "execution_count": null,
   "id": "3d7debc7",
   "metadata": {},
   "outputs": [],
   "source": []
  }
 ],
 "metadata": {
  "kernelspec": {
   "display_name": "nblensing",
   "language": "python",
   "name": "nblensing"
  },
  "language_info": {
   "codemirror_mode": {
    "name": "ipython",
    "version": 3
   },
   "file_extension": ".py",
   "mimetype": "text/x-python",
   "name": "python",
   "nbconvert_exporter": "python",
   "pygments_lexer": "ipython3",
   "version": "3.9.16"
  }
 },
 "nbformat": 4,
 "nbformat_minor": 5
}
