{
 "cells": [
  {
   "cell_type": "code",
   "execution_count": 1,
   "id": "a1681bf6",
   "metadata": {},
   "outputs": [],
   "source": [
    "%load_ext autoreload\n",
    "%autoreload 2"
   ]
  },
  {
   "cell_type": "code",
   "execution_count": 2,
   "id": "eaaf27ab",
   "metadata": {},
   "outputs": [],
   "source": [
    "#######\n",
    "IN_DATA_FNAMES = ['/oak/stanford/orgs/kipac/users/delon/LensQuEst/map_sims_800x800_20x20_%d.pkl'%(i) for i in range(1,51)]\n",
    "import warnings\n",
    "warnings.filterwarnings(\"ignore\")\n",
    "#####"
   ]
  },
  {
   "cell_type": "code",
   "execution_count": 3,
   "id": "243b210c",
   "metadata": {},
   "outputs": [],
   "source": [
    "import os, sys\n",
    "WORKING_DIR = os.path.dirname(os.path.abspath(''))\n",
    "sys.path.insert(1, os.path.join(WORKING_DIR,'LensQuEst'))"
   ]
  },
  {
   "cell_type": "code",
   "execution_count": 4,
   "id": "ed8b7184",
   "metadata": {},
   "outputs": [],
   "source": [
    "from universe import *\n",
    "from halo_fit import *\n",
    "from cmb import *\n",
    "from flat_map import *\n",
    "from weight import *\n",
    "from pn_2d import *\n",
    "import pickle\n",
    "import seaborn as sns\n",
    "from scipy.stats import spearmanr\n",
    "import matplotlib\n",
    "from tqdm import trange, tqdm"
   ]
  },
  {
   "cell_type": "code",
   "execution_count": 5,
   "id": "ec7be6cf",
   "metadata": {},
   "outputs": [
    {
     "name": "stdout",
     "output_type": "stream",
     "text": [
      "Map properties\n"
     ]
    }
   ],
   "source": [
    "print(\"Map properties\")\n",
    "\n",
    "# number of pixels for the flat map\n",
    "nX = 800\n",
    "nY =800\n",
    "\n",
    "# map dimensions in degrees\n",
    "sizeX = 20.\n",
    "sizeY = 20.\n",
    "\n",
    "# basic map object\n",
    "baseMap = FlatMap(nX=nX, nY=nY, sizeX=sizeX*np.pi/180., sizeY=sizeY*np.pi/180.)\n",
    "\n",
    "# multipoles to include in the lensing reconstruction\n",
    "lMin = 30.; lMax = 3.5e3\n",
    "\n",
    "# ell bins for power spectra\n",
    "nBins = 51  # number of bins\n",
    "lRange = (1., 2.*lMax)  # range for power spectra"
   ]
  },
  {
   "cell_type": "code",
   "execution_count": 6,
   "id": "d4fa693b",
   "metadata": {},
   "outputs": [],
   "source": [
    "# Adjust the lMin and lMax to the assumptions of the analysis\n",
    "# CMB S4/SO specs\n",
    "cmb = StageIVCMB(beam=1.4, noise=7., lMin=lMin, lMaxT=lMax, lMaxP=lMax, atm=False)\n",
    "\n",
    "# Total power spectrum, for the lens reconstruction\n",
    "# basiscally gets what we theoretically expect the\n",
    "# power spectrum will look like\n",
    "forCtotal = lambda l: cmb.ftotal(l) \n",
    "\n",
    "# reinterpolate: gain factor 10 in speed\n",
    "L = np.logspace(np.log10(lMin/2.), np.log10(2.*lMax), 1001, 10.)\n",
    "F = np.array(list(map(forCtotal, L)))\n",
    "cmb.fCtotal = interp1d(L, F, kind='linear', bounds_error=False, fill_value=0.)"
   ]
  },
  {
   "cell_type": "code",
   "execution_count": 7,
   "id": "ca840072",
   "metadata": {},
   "outputs": [
    {
     "name": "stdout",
     "output_type": "stream",
     "text": [
      "CMB lensing power spectrum\n"
     ]
    }
   ],
   "source": [
    "print(\"CMB lensing power spectrum\")\n",
    "u = UnivPlanck15()\n",
    "halofit = Halofit(u, save=False)\n",
    "w_cmblens = WeightLensSingle(u, z_source=1100., name=\"cmblens\")\n",
    "p2d_cmblens = P2dAuto(u, halofit, w_cmblens, save=False)"
   ]
  },
  {
   "cell_type": "code",
   "execution_count": 8,
   "id": "5dcd7c24",
   "metadata": {},
   "outputs": [
    {
     "name": "stdout",
     "output_type": "stream",
     "text": [
      "Gets a theoretical prediction for the noise\n",
      "computing the reconstruction noise\n"
     ]
    }
   ],
   "source": [
    "print(\"Gets a theoretical prediction for the noise\")\n",
    "fNqCmb_fft = baseMap.forecastN0Kappa(cmb.funlensedTT, cmb.fCtotal, lMin=lMin, lMax=lMax, test=False)\n",
    "Ntheory = lambda l: fNqCmb_fft(l) "
   ]
  },
  {
   "cell_type": "code",
   "execution_count": 51,
   "id": "e3b4a01a",
   "metadata": {},
   "outputs": [
    {
     "name": "stderr",
     "output_type": "stream",
     "text": [
      "100%|██████████| 50/50 [00:39<00:00,  1.26it/s]"
     ]
    },
    {
     "name": "stdout",
     "output_type": "stream",
     "text": [
      "kCmbF_1 (500, 800, 401)\n"
     ]
    },
    {
     "name": "stderr",
     "output_type": "stream",
     "text": [
      "\n"
     ]
    }
   ],
   "source": [
    "in_data = {}\n",
    "\n",
    "for fname in tqdm(IN_DATA_FNAMES):\n",
    "    f = open(fname, 'rb') \n",
    "    c_in_data = pickle.load(f) \n",
    "    f.close()\n",
    "    for key in c_in_data:\n",
    "        if(key != 'kCmbF_1'):\n",
    "            continue\n",
    "        if(key not in in_data.keys()):\n",
    "            in_data[key] = np.array(c_in_data[key])\n",
    "        else:\n",
    "            in_data[key] = np.vstack( (in_data[key],np.array(c_in_data[key])) )\n",
    "\n",
    "\n",
    "for key in in_data:\n",
    "    print(key, np.shape(in_data[key]))\n"
   ]
  },
  {
   "cell_type": "code",
   "execution_count": 10,
   "id": "61dc75b6",
   "metadata": {},
   "outputs": [],
   "source": [
    "pairs = [\n",
    "#    [0,0], #N0\n",
    "#    [0,1], #kappa\n",
    "#    [1,0], #kappa\n",
    "#    [0,2], #N1\n",
    "#    [1,1], #N1\n",
    "#    [2,0], #N1\n",
    "#     [0,3], #should vanish\n",
    "#     [1,2], #should vanish\n",
    "#     [2,1], #should vanish\n",
    "#     [3,0], #should vanish\n",
    "#     [0,4], #N2 \n",
    "#     [1,3], #N2\n",
    "#     [2,2], #N2\n",
    "#     [3,1], #N2\n",
    "#     [4,0], #N2\n",
    "   [-1, -1], #QE\n",
    "   [-2, -2], #unlensed\n",
    "]\n",
    "\n",
    "\n",
    "data_names = {\n",
    "    0: 'cmb0F_1',\n",
    "    1: 'lCmbF_o1_1',\n",
    "    2: 'lCmbF_o2_1',\n",
    "    3: 'lCmbF_o3_1',\n",
    "    4: 'lCmbF_o4_1',\n",
    "    -1: 'lCmbF_1',\n",
    "    -2: 'totalF_0',\n",
    "}"
   ]
  },
  {
   "cell_type": "code",
   "execution_count": 11,
   "id": "a684ee0b",
   "metadata": {},
   "outputs": [],
   "source": [
    "nBins=51"
   ]
  },
  {
   "cell_type": "code",
   "execution_count": 35,
   "id": "da83425d",
   "metadata": {},
   "outputs": [
    {
     "name": "stderr",
     "output_type": "stream",
     "text": [
      "100%|██████████| 50/50 [01:21<00:00,  1.63s/it]\n"
     ]
    }
   ],
   "source": [
    "data = {}\n",
    "# pbar = trange(len(pairs))\n",
    "for file_idx in trange(1,51):\n",
    "    for pair_idx in range(len(pairs)):\n",
    "        pair = pairs[pair_idx]\n",
    "        c_fname = '/oak/stanford/orgs/kipac/users/delon/LensQuEst/QE_and_Nhat_from_map_sims_800x800_20x20_Clensed_weight_FILE%d_pair_%d_%d.pkl'%(file_idx, pair[0], pair[1])\n",
    "        if(not os.path.isfile(c_fname)):\n",
    "            continue\n",
    "        f = open(c_fname, 'rb')  \n",
    "        c_data = pickle.load(f)\n",
    "        f.close()        \n",
    "        for key in c_data:\n",
    "            if(key not in data.keys()):\n",
    "                data[key] = np.array(c_data[key])\n",
    "            else:\n",
    "                data[key] = np.vstack((data[key], np.array(c_data[key])))  \n",
    "#             print(np.shape(data[key]))"
   ]
  },
  {
   "cell_type": "code",
   "execution_count": 36,
   "id": "60d0e89a",
   "metadata": {
    "scrolled": true
   },
   "outputs": [
    {
     "name": "stdout",
     "output_type": "stream",
     "text": [
      "-1-1 (500, 800, 401)\n",
      "-1-1_sqrtN (500, 800, 401)\n",
      "-2-2 (500, 800, 401)\n",
      "-2-2_sqrtN (500, 800, 401)\n"
     ]
    }
   ],
   "source": [
    "for key in data:\n",
    "    print(key, np.shape(data[key]))"
   ]
  },
  {
   "cell_type": "code",
   "execution_count": 37,
   "id": "4f9d6ba2",
   "metadata": {},
   "outputs": [],
   "source": [
    "def combine_Cl(Cls_tot):\n",
    "    n_runs = np.shape(Cls_tot)[0]\n",
    "    print(n_runs, np.shape(Cls_tot))\n",
    "    lCen = Cls_tot[0][0]\n",
    "    Cls = np.sum(np.transpose(Cls_tot, axes=[1,2,0])[1], axis=1)/n_runs\n",
    "    sCls = np.sqrt(np.sum(np.square(np.transpose(Cls_tot, axes=[1,2,0])[2]), axis=1))/n_runs\n",
    "    return lCen, Cls, sCls\n",
    "\n",
    "def combine_sketchy(Cl0, Cli):\n",
    "    n_runs = np.shape(Cl0)[0]\n",
    "    print(n_runs, np.shape(Cl0))\n",
    "    ret = np.copy(Cl0)\n",
    "    ret = np.transpose(ret, axes=[1,2,0])\n",
    "    ret[1] = np.array([\n",
    "        [Cl0[run_idx][1][bin_idx]+\n",
    "         sum([Cli[i][run_idx][1][bin_idx] for i in range(len(Cli))]) \n",
    "                     for run_idx in range(n_runs)] \n",
    "                    for bin_idx in range(len(Cl0[0][1]))])\n",
    "    ret[2] = np.array([[np.sqrt(Cl0[run_idx][2][bin_idx]**2+sum([Cli[i][run_idx][2][bin_idx]**2 \n",
    "                                                               for i in range(len(Cli))]))\n",
    "                     for run_idx in range(n_runs)] \n",
    "                    for bin_idx in range(len(Cl0[0][1]))])\n",
    "    return np.transpose(ret, axes=[2,0,1])"
   ]
  },
  {
   "cell_type": "code",
   "execution_count": 38,
   "id": "a42b71de",
   "metadata": {},
   "outputs": [],
   "source": [
    "ps_data = {}"
   ]
  },
  {
   "cell_type": "code",
   "execution_count": 39,
   "id": "8164a8e7",
   "metadata": {},
   "outputs": [],
   "source": [
    "# #estimate RDN0\n",
    "# ck = 'RDN(0)'\n",
    "\n",
    "# def tmp_combine_Cl(Cls_tot):\n",
    "#     n_runs = np.shape(Cls_tot)[0]\n",
    "#     lCen = Cls_tot[0][0]\n",
    "#     Cls = np.sum(np.transpose(Cls_tot, axes=[1,2,0])[1], axis=1)\n",
    "# #     sCls =  np.sum(np.transpose(Cls_tot, axes=[1,2,0])[2], axis=1)\n",
    "#     sCls = np.sqrt(np.sum(np.square(np.transpose(Cls_tot, axes=[1,2,0])[2]), axis=1))\n",
    "#     return lCen, Cls, sCls\n",
    "\n",
    "\n",
    "# for d_idx in trange(len(in_data['totalF_1'])):\n",
    "#     RDN0_fname = '/oak/stanford/orgs/kipac/users/delon/LensQuEst/RDN0-combined-%d-nBins%d.pkl'%(d_idx, nBins)\n",
    "#     c_ps_data = None\n",
    "#     try:\n",
    "#         with open(RDN0_fname,\"rb\") as f:\n",
    "#             c_ps_data = pickle.load(f)\n",
    "#     except IOError:\n",
    "#         continue\n",
    "#     if(ck not in ps_data.keys()):\n",
    "#         ps_data[ck] = np.array(c_ps_data[ck])\n",
    "#     else:\n",
    "#         ps_data[ck] = np.vstack((ps_data[ck], np.array(c_ps_data[ck])))  \n",
    "# print(ps_data[ck].shape)"
   ]
  },
  {
   "cell_type": "code",
   "execution_count": 40,
   "id": "b440872c",
   "metadata": {},
   "outputs": [],
   "source": [
    "# #estimate N0\n",
    "# ck = 'N0'\n",
    "\n",
    "# for data_idx in range(len(data['00'])):\n",
    "#     q00 = data['00'][data_idx]\n",
    "#     c_ps_data = {}\n",
    "#     c_ps_data[ck] = [0,0,0]\n",
    "#     c_ps_data[ck][0], c_ps_data[ck][1], c_ps_data[ck][2] = baseMap.powerSpectrum(dataFourier=q00, nBins=15)\n",
    "#     if(ck not in ps_data.keys()):\n",
    "#         ps_data[ck] = np.array([c_ps_data[ck]])\n",
    "#     else:\n",
    "#         ps_data[ck] = np.vstack((ps_data[ck], np.array([c_ps_data[ck]])))  "
   ]
  },
  {
   "cell_type": "code",
   "execution_count": null,
   "id": "a589797f",
   "metadata": {},
   "outputs": [],
   "source": []
  },
  {
   "cell_type": "code",
   "execution_count": 41,
   "id": "44a08ed0",
   "metadata": {},
   "outputs": [],
   "source": [
    "# #estimate kk\n",
    "# ck = 'kk'\n",
    "\n",
    "\n",
    "# for data_idx in range(min(len(data['01']), len(data['10']))):\n",
    "#     q01 = data['01'][data_idx]\n",
    "#     q10 = data['10'][data_idx]\n",
    "#     kCmbFourier = in_data['kCmbF_1'][data_idx]\n",
    "#     c_ps_data = {}\n",
    "#     c_ps_data[ck] = [0,0,0]\n",
    "#     c_ps_data[ck][0], c_ps_data[ck][1], c_ps_data[ck][2] = baseMap.crossPowerSpectrum(dataFourier1=q10+q01, dataFourier2=kCmbFourier, nBins=nBins)\n",
    "#     if(ck not in ps_data.keys()):\n",
    "#         ps_data[ck] = np.array([c_ps_data[ck]])\n",
    "#     else:\n",
    "#         ps_data[ck] = np.vstack((ps_data[ck], np.array([c_ps_data[ck]])))  "
   ]
  },
  {
   "cell_type": "code",
   "execution_count": 42,
   "id": "0213d69e",
   "metadata": {},
   "outputs": [
    {
     "name": "stderr",
     "output_type": "stream",
     "text": [
      "100%|██████████| 500/500 [00:08<00:00, 57.99it/s]\n"
     ]
    }
   ],
   "source": [
    "#estimate <QE QE>\n",
    "ck = 'QEQE'\n",
    "for data_idx in trange(len(data['-1-1'])):\n",
    "    QE = data['-1-1'][data_idx]\n",
    "    \n",
    "    c_ps_data = {}\n",
    "    c_ps_data[ck] = [0,0,0]\n",
    "    c_ps_data[ck][0], c_ps_data[ck][1], c_ps_data[ck][2] = baseMap.powerSpectrum(dataFourier=QE, nBins=nBins)\n",
    "    if(ck not in ps_data.keys()):\n",
    "        ps_data[ck] = np.array([c_ps_data[ck]])\n",
    "    else:\n",
    "        ps_data[ck] = np.vstack((ps_data[ck], np.array([c_ps_data[ck]])))  "
   ]
  },
  {
   "cell_type": "code",
   "execution_count": 43,
   "id": "0fd862bb",
   "metadata": {},
   "outputs": [
    {
     "name": "stderr",
     "output_type": "stream",
     "text": [
      "100%|██████████| 500/500 [00:07<00:00, 64.26it/s]\n"
     ]
    }
   ],
   "source": [
    "#estimate Nhat\n",
    "ck = 'Nhat'\n",
    "for data_idx in trange(len(data['-1-1_sqrtN'])):\n",
    "    sqrtNhat = data['-1-1_sqrtN'][data_idx]\n",
    "    \n",
    "    c_ps_data = {}\n",
    "    c_ps_data[ck] = [0,0,0]\n",
    "    c_ps_data[ck][0], c_ps_data[ck][1], c_ps_data[ck][2] = baseMap.powerSpectrum(dataFourier=sqrtNhat, nBins=nBins)\n",
    "    if(ck not in ps_data.keys()):\n",
    "        ps_data[ck] = np.array([c_ps_data[ck]])\n",
    "    else:\n",
    "        ps_data[ck] = np.vstack((ps_data[ck],np.array([c_ps_data[ck]])))  "
   ]
  },
  {
   "cell_type": "code",
   "execution_count": 44,
   "id": "8c101a5b",
   "metadata": {},
   "outputs": [
    {
     "name": "stderr",
     "output_type": "stream",
     "text": [
      "100%|██████████| 500/500 [00:08<00:00, 60.65it/s]\n"
     ]
    }
   ],
   "source": [
    "#estimate GRF Nhat\n",
    "ck = 'GRF'\n",
    "for data_idx in trange(len(data['-2-2_sqrtN'])):\n",
    "    sqrtNhat = data['-2-2_sqrtN'][data_idx]\n",
    "    \n",
    "    c_ps_data = {}\n",
    "    c_ps_data[ck] = [0,0,0]\n",
    "    c_ps_data[ck][0], c_ps_data[ck][1], c_ps_data[ck][2] = baseMap.powerSpectrum(dataFourier=sqrtNhat, nBins=nBins)\n",
    "    if(ck not in ps_data.keys()):\n",
    "        ps_data[ck] = np.array([c_ps_data[ck]])\n",
    "    else:\n",
    "        ps_data[ck] = np.vstack(( ps_data[ck], np.array([c_ps_data[ck]])))  "
   ]
  },
  {
   "cell_type": "code",
   "execution_count": 52,
   "id": "2ed4642e",
   "metadata": {},
   "outputs": [
    {
     "name": "stderr",
     "output_type": "stream",
     "text": [
      "100%|██████████| 500/500 [00:08<00:00, 60.04it/s]\n"
     ]
    }
   ],
   "source": [
    "#estimate <kT kT>\n",
    "ck = 'kT'\n",
    "\n",
    "for data_idx in trange(len(in_data['kCmbF_1'])):\n",
    "    kT = in_data['kCmbF_1'][data_idx]\n",
    "    c_ps_data = {}\n",
    "    c_ps_data[ck] = [0,0,0]\n",
    "    c_ps_data[ck][0], c_ps_data[ck][1], c_ps_data[ck][2] = baseMap.powerSpectrum(dataFourier=kT, nBins=nBins)\n",
    "    if(ck not in ps_data.keys()):\n",
    "        ps_data[ck] = np.array([c_ps_data[ck]])\n",
    "    else:\n",
    "        ps_data[ck] = np.vstack((ps_data[ck], np.array([c_ps_data[ck]])))  "
   ]
  },
  {
   "cell_type": "code",
   "execution_count": 53,
   "id": "f6923b43",
   "metadata": {},
   "outputs": [],
   "source": [
    "labels={\n",
    "    'N0':r'$N^{(0)}$',\n",
    "    'GRF':r'$\\hat N$ on GRF',\n",
    "    'kT': r'$\\left<\\kappa\\kappa\\right>$',\n",
    "    'kk':r'$\\left<(\\mathcal Q(T^0, T^1)+\\mathcal Q(T^1, T^0))\\kappa\\right>$',\n",
    "    'N1':r'$N^{(1)}$',\n",
    "    'N2':r'$N^{(2)}$',\n",
    "    'N2+':r'$N^{(2)}+\\dots$',\n",
    "    'N3+':r'$N^{(3)}+\\dots$',\n",
    "    'RDN(0)':r'${\\rm RDN}^{(0)}$',\n",
    "    'RDN(0)o2':r'${\\rm RDN}^{(0)}$',\n",
    "    'QEQE':r'$\\left<\\hat\\kappa\\hat\\kappa\\right>$',\n",
    "    'QEQE-Nhat':r'$\\left<\\hat\\kappa\\hat\\kappa\\right>-\\hat N$',\n",
    "    'QEQE-RDN(0)':r'$\\left<\\hat\\kappa\\hat\\kappa\\right>-{\\rm RDN}^{(0)}$',\n",
    "    'Nhat':r'$\\hat N$',\n",
    "    'N1+':r'$N^{(1)}+\\dots$',\n",
    "    'KK+N1+': r'$\\left<(\\mathcal Q(T^0, T^1)+\\mathcal Q(T^1, T^0))\\kappa\\right>+N^{(1)}+\\dots$',\n",
    "    'QEQE-2Nhat+Ntheory':r'$\\left<\\hat\\kappa\\hat\\kappa\\right>-2\\hat N+N_{\\rm theory}$',\n",
    "    'QEQE-Ntheory':r'$\\left<\\hat\\kappa\\hat\\kappa\\right>-N_{\\rm theory}$',\n",
    "    'QEQE-Ntheory-N1':r'$\\left<\\hat\\kappa\\hat\\kappa\\right>-N_{\\rm theory}-N^{(1)}$',\n",
    "    'QEQE-N0':r'$\\left<\\hat\\kappa\\hat\\kappa\\right>- N^{(0)}$',\n",
    "    'QEQE-kTkT-Nhat': r'$\\left<\\hat\\kappa\\hat\\kappa\\right>-\\left<\\kappa\\kappa\\right>-\\hat N$',\n",
    "    'QEQE-kTkT-Ntheory':r'$\\left<\\hat\\kappa\\hat\\kappa\\right>-\\left<\\kappa\\kappa\\right>-N_{\\rm theory}$',\n",
    "    'QEQE-kTkT-RDN(0)':r'$\\left<\\hat\\kappa\\hat\\kappa\\right>-\\left<\\kappa\\kappa\\right>-{\\rm RDN}^{(0)}$',\n",
    "\n",
    "}\n"
   ]
  },
  {
   "cell_type": "code",
   "execution_count": 54,
   "id": "3c3775d3",
   "metadata": {},
   "outputs": [],
   "source": [
    "def graph_from_keys(c_keys, offset=0.03, factor=lambda x:1, pN1 = False):\n",
    "    \n",
    "    \n",
    "    offsets = dict(zip(c_keys,[i*offset for i in range(len(c_keys))]))\n",
    "    colors = dict(zip(c_keys,[plt.colormaps[\"gist_rainbow\"]((i+1)/len(c_keys)) for i in range(len(c_keys))] ))\n",
    "    if(len(c_keys)<=3):\n",
    "        colors = dict(zip(c_keys, ['red', 'green', 'blue']))\n",
    "    fig,ax = plt.subplots(nrows=1, figsize=(10,8))\n",
    "    plt.rcParams['text.usetex'] = True\n",
    "\n",
    "    plt.rcParams['font.size'] = 20\n",
    "\n",
    "    ell = baseMap.l.flatten()\n",
    "    theory=[p2d_cmblens.fPinterp, Ntheory]\n",
    "    theory_l=[r'$\\big<\\kappa\\kappa\\big>$', r'$N_{\\rm theory}$']\n",
    "    theory_s=['black', 'lightgrey']\n",
    "    for f,l,sty in zip(theory, theory_l, theory_s):\n",
    "        L = np.logspace(np.log10(1.), np.log10(np.max(ell)), 201, 10.)\n",
    "        ClExpected = np.array(list(map(f, L)))\n",
    "        ax.plot(L, factor(L)*ClExpected, sty, label=l)\n",
    "    \n",
    "    if(pN1):\n",
    "        n1 = np.loadtxt('n1_data/N1_All_analytical.dat').T    \n",
    "        indices = ['TT', 'EE', 'EB', 'TE', 'TB', 'BB']\n",
    "        bins = n1[0]\n",
    "        n1_mat = np.reshape(n1[1:], (len(indices), len(indices), len(bins)))\n",
    "        for i in range(len(indices)):\n",
    "            if(indices[i] != 'TT'):\n",
    "                continue        \n",
    "            n1_pp = (bins*(bins+1))**2/(2*np.pi)*(n1_mat[i][i][:])\n",
    "            KK = p2d_cmblens.fPinterp(bins)\n",
    "\n",
    "            phiphi =  -2. * KK / bins**2\n",
    "            phiphi *=  -2./ bins**2\n",
    "            phiphi *= (bins*(bins+1))**2/(2*np.pi) #convention from CAMB \n",
    "\n",
    "            pp_n1 = phiphi+n1_pp\n",
    "\n",
    "            KK_n1 = pp_n1 * 2*np.pi / (bins*(bins+1))**2 #back to our convention\n",
    "            KK_n1 *= - bins**2 / 2\n",
    "            KK_n1 *= - bins**2 / 2\n",
    "            plt.plot(bins, KK_n1, 'k--', label=r'$\\big<\\kappa\\kappa\\big>+N^{(1)}$')\n",
    "\n",
    "    for key in c_keys:\n",
    "        lCen, Cl, sCl = combine_Cl(np.array(ps_data[key]))\n",
    "    \n",
    "        Cl = factor(lCen)*Cl\n",
    "        sCl = factor(lCen)*sCl\n",
    "        \n",
    "        offset = offsets[key]\n",
    "        tmp = [l*np.exp(offset)-l for l in lCen]\n",
    "        lCen += tmp\n",
    "\n",
    "        Ipos = np.where(Cl>=1e-30)\n",
    "        Ineg = np.where(Cl<=-1e-30)\n",
    "\n",
    "        ax.errorbar(lCen[Ipos], (Cl[Ipos]), yerr=sCl[Ipos], alpha=.75, \n",
    "                    fmt='-', capsize=3, capthick=1, label=labels[key], c=colors[key])\n",
    "        tmp_data = {\n",
    "            'x': lCen[Ipos],\n",
    "            'y1': [y - e for y, e in zip((Cl[Ipos]), sCl[Ipos])],\n",
    "            'y2': [y + e for y, e in zip((Cl[Ipos]), sCl[Ipos])]}\n",
    "        ax.fill_between(**tmp_data,  alpha=.25, color=colors[key])\n",
    "\n",
    "        \n",
    "        ax.errorbar(lCen[Ineg], -(Cl[Ineg]), yerr=sCl[Ineg], alpha=.75, \n",
    "                    fmt='--', capsize=3, capthick=1, c=colors[key])\n",
    "        tmp_data = {\n",
    "            'x': lCen[Ineg],\n",
    "            'y1': [y - e for y, e in zip(-(Cl[Ineg]), sCl[Ineg])],\n",
    "            'y2': [y + e for y, e in zip(-(Cl[Ineg]), sCl[Ineg])]}\n",
    "        ax.fill_between(**tmp_data,  alpha=.25, color=colors[key])\n",
    "\n",
    "#         print(lCen[Ineg])\n",
    "#         print('###########')\n",
    "#         print(lCen[Ipos])\n",
    "    ax.set_title('Unmasked')\n",
    "\n",
    "    ax.legend(frameon=False)\n",
    "    ax.set_xscale('log')\n",
    "    ax.set_xlabel(r'$\\ell$')\n",
    "    ax.set_yscale('log')\n",
    "    ax.set_xlim(lMin,2*lMax)\n",
    "    ax.set_ylim(1.1e-10,.9e-3)\n",
    "    return fig, ax"
   ]
  },
  {
   "cell_type": "code",
   "execution_count": 55,
   "id": "28835b1d",
   "metadata": {},
   "outputs": [
    {
     "name": "stdout",
     "output_type": "stream",
     "text": [
      "500 (500, 3, 50)\n"
     ]
    }
   ],
   "source": [
    "ps_data['QEQE-Nhat'] = combine_sketchy(ps_data['QEQE'], [-ps_data['Nhat']])"
   ]
  },
  {
   "cell_type": "code",
   "execution_count": 56,
   "id": "bb20429a",
   "metadata": {},
   "outputs": [
    {
     "name": "stderr",
     "output_type": "stream",
     "text": [
      "100%|██████████| 500/500 [01:10<00:00,  7.05it/s]\n"
     ]
    },
    {
     "name": "stdout",
     "output_type": "stream",
     "text": [
      "500 (500, 3, 50)\n"
     ]
    }
   ],
   "source": [
    "import numpy as np\n",
    "from multiprocessing import Pool\n",
    "from tqdm import trange\n",
    "\n",
    "# Define a function to compute Ntheory_evaled for a given iteration\n",
    "def compute_Ntheory_evaled(_):\n",
    "    # Replace your original code here\n",
    "    t0, t1 = baseMap.binTheoryPowerSpectrum(Ntheory, nBins=nBins)\n",
    "    t2 = np.zeros_like(t1)\n",
    "    return [t0, t1, t2]\n",
    "\n",
    "# Set the number of iterations for parallel processing\n",
    "num_iterations = ps_data['QEQE'].shape[0]\n",
    "\n",
    "# Create a pool of worker processes using all available CPU cores\n",
    "pool = Pool()\n",
    "\n",
    "# Use the map function to parallelize the computation of Ntheory_evaled\n",
    "Ntheory_evaled = list(tqdm(pool.imap(compute_Ntheory_evaled, range(num_iterations)), total=num_iterations))\n",
    "\n",
    "# Convert the list of results to a NumPy array\n",
    "Ntheory_evaled = np.array(Ntheory_evaled)\n",
    "\n",
    "# Clean up the pool of worker processes\n",
    "pool.close()\n",
    "pool.join()\n",
    "\n",
    "# Continue with your original code\n",
    "ps_data['QEQE-Ntheory'] = combine_sketchy(ps_data['QEQE'], [-Ntheory_evaled])"
   ]
  },
  {
   "cell_type": "code",
   "execution_count": 57,
   "id": "fa0b5379",
   "metadata": {},
   "outputs": [
    {
     "data": {
      "text/plain": [
       "(500, 3, 50)"
      ]
     },
     "execution_count": 57,
     "metadata": {},
     "output_type": "execute_result"
    }
   ],
   "source": [
    "Ntheory_evaled.shape"
   ]
  },
  {
   "cell_type": "code",
   "execution_count": 58,
   "id": "abba3b91",
   "metadata": {},
   "outputs": [],
   "source": [
    "# ps_data['QEQE-N0'] = combine_sketchy(ps_data['QEQE'], [ -ps_data['N0']])\n",
    "# ps_data['QEQE-2Nhat+Ntheory'] = combine_sketchy(ps_data['QEQE'], [-2*ps_data['Nhat'],Ntheory_evaled])"
   ]
  },
  {
   "cell_type": "code",
   "execution_count": 59,
   "id": "a00cc273",
   "metadata": {},
   "outputs": [],
   "source": [
    "# ps_data['RDN(0)o2'] = np.copy(ps_data['RDN(0)'])\n",
    "# print(np.shape(ps_data['RDN(0)o2']))\n",
    "# ps_data['RDN(0)o2'] = np.transpose(ps_data['RDN(0)o2'], axes=[1,2,0])\n",
    "\n",
    "# ps_data['RDN(0)o2'][1] = ps_data['RDN(0)o2'][1]/2\n",
    "# ps_data['RDN(0)o2'][2] = ps_data['RDN(0)o2'][2]/2\n",
    "\n",
    "# ps_data['RDN(0)o2'] = np.transpose(ps_data['RDN(0)o2'], axes=[2,0,1])\n",
    "\n",
    "# print(np.shape(ps_data['RDN(0)o2']))\n"
   ]
  },
  {
   "cell_type": "code",
   "execution_count": 60,
   "id": "3c6c49ef",
   "metadata": {},
   "outputs": [],
   "source": [
    "f = open('/oak/stanford/orgs/kipac/users/delon/LensQuEst/ps_data_unmasked_lensed_weights.pkl', 'wb') \n",
    "pickle.dump(ps_data, f)\n",
    "f.close()"
   ]
  },
  {
   "cell_type": "code",
   "execution_count": 61,
   "id": "23fdd362",
   "metadata": {},
   "outputs": [],
   "source": [
    "f = open('/oak/stanford/orgs/kipac/users/delon/LensQuEst/ps_data_unmasked_lensed_weights.pkl', 'rb') \n",
    "ps_data = pickle.load(f)\n",
    "f.close()\n"
   ]
  },
  {
   "cell_type": "code",
   "execution_count": 62,
   "id": "9da3e175",
   "metadata": {},
   "outputs": [],
   "source": [
    "\n",
    "# graph_from_keys([  \n",
    "#     'RDN(0)o2',\n",
    "#     'Nhat',\n",
    "# ], offset=0.00)\n",
    "# plt.savefig('figures/RDN0.pdf', bbox_inches='tight')\n",
    "\n"
   ]
  },
  {
   "cell_type": "code",
   "execution_count": 63,
   "id": "a16018d3",
   "metadata": {},
   "outputs": [
    {
     "name": "stdout",
     "output_type": "stream",
     "text": [
      "500 (500, 3, 50)\n",
      "500 (500, 3, 50)\n"
     ]
    },
    {
     "data": {
      "image/png": "[encoded data removed]",
      "text/plain": [
       "<Figure size 720x576 with 1 Axes>"
      ]
     },
     "metadata": {
      "needs_background": "light"
     },
     "output_type": "display_data"
    }
   ],
   "source": [
    "graph_from_keys([\n",
    "#     'QEQE-N0',\n",
    "    'QEQE-Ntheory',\n",
    "    'QEQE-Nhat',\n",
    "#     'QEQE-RDN(0)',\n",
    "#     'RDN(0)o2'\n",
    "#     'QEQE-2Nhat+Ntheory',\n",
    "], offset=0.00, pN1=True)\n",
    "plt.savefig('figures/mNhat_vs_mNtheory_lensed_weights.pdf', bbox_inches='tight')"
   ]
  },
  {
   "cell_type": "code",
   "execution_count": 64,
   "id": "89c11af9",
   "metadata": {},
   "outputs": [],
   "source": [
    "# ps_data['QEQE-RDN(0)'] = combine_sketchy(ps_data['QEQE'], [-ps_data['RDN(0)o2']])\n",
    "# graph_from_keys([\n",
    "# #     'QEQE-N0',\n",
    "#     'QEQE-Ntheory',\n",
    "#     'QEQE-Nhat',\n",
    "#     'QEQE-RDN(0)',\n",
    "# #     'RDN(0)o2'\n",
    "# #     'QEQE-2Nhat+Ntheory',\n",
    "# ], offset=0.00)\n",
    "# plt.savefig('figures/mNhat_vs_mNtheory_vs_RDN0.pdf', bbox_inches='tight')"
   ]
  },
  {
   "cell_type": "code",
   "execution_count": 65,
   "id": "c8392ecf",
   "metadata": {},
   "outputs": [],
   "source": [
    "# graph_from_keys([\n",
    "# #     'QEQE-N0',\n",
    "#     'QEQE-Ntheory',\n",
    "#     'QEQE-Nhat',\n",
    "#     'QEQE-RDN(0)',\n",
    "# #     'RDN(0)o2'\n",
    "# #     'QEQE-2Nhat+Ntheory',\n",
    "# ], offset=0.00, pN1=True)\n",
    "# plt.savefig('figures/mNhat_vs_mNtheory_vs_RDN0_withN1.pdf', bbox_inches='tight')"
   ]
  },
  {
   "cell_type": "code",
   "execution_count": 66,
   "id": "1e2368db",
   "metadata": {},
   "outputs": [
    {
     "name": "stdout",
     "output_type": "stream",
     "text": [
      "500 (500, 3, 50)\n"
     ]
    },
    {
     "data": {
      "image/png": "[encoded data removed]",
      "text/plain": [
       "<Figure size 720x576 with 1 Axes>"
      ]
     },
     "metadata": {
      "needs_background": "light"
     },
     "output_type": "display_data"
    }
   ],
   "source": [
    "graph_from_keys([\n",
    "    'GRF',\n",
    "], offset=0.00)\n",
    "plt.savefig('figures/Nhat on GRF.pdf', bbox_inches='tight')"
   ]
  },
  {
   "cell_type": "code",
   "execution_count": 67,
   "id": "5af1f6a5",
   "metadata": {},
   "outputs": [
    {
     "name": "stderr",
     "output_type": "stream",
     "text": [
      "100%|██████████| 500/500 [00:08<00:00, 59.64it/s]\n",
      "100%|██████████| 500/500 [00:07<00:00, 65.20it/s]\n",
      "100%|██████████| 500/500 [00:07<00:00, 65.13it/s]\n",
      "100%|██████████| 500/500 [00:08<00:00, 60.74it/s]\n",
      "100%|██████████| 500/500 [01:11<00:00,  7.04it/s]\n"
     ]
    },
    {
     "name": "stdout",
     "output_type": "stream",
     "text": [
      "500 (500, 3, 14)\n"
     ]
    }
   ],
   "source": [
    "nBins=15\n",
    "ps_data = {}\n",
    "\n",
    "# #estimate RDN0\n",
    "# ck = 'RDN(0)'\n",
    "\n",
    "# def tmp_combine_Cl(Cls_tot):\n",
    "#     n_runs = np.shape(Cls_tot)[0]\n",
    "#     lCen = Cls_tot[0][0]\n",
    "#     Cls = np.sum(np.transpose(Cls_tot, axes=[1,2,0])[1], axis=1)\n",
    "# #     sCls =  np.sum(np.transpose(Cls_tot, axes=[1,2,0])[2], axis=1)\n",
    "#     sCls = np.sqrt(np.sum(np.square(np.transpose(Cls_tot, axes=[1,2,0])[2]), axis=1))\n",
    "#     return lCen, Cls, sCls\n",
    "\n",
    "\n",
    "# for d_idx in trange(len(in_data['totalF_1'])):\n",
    "#     RDN0_fname = '/oak/stanford/orgs/kipac/users/delon/LensQuEst/RDN0-combined-%d-nBins%d.pkl'%(d_idx, nBins)\n",
    "#     c_ps_data = None\n",
    "#     try:\n",
    "#         with open(RDN0_fname,\"rb\") as f:\n",
    "#             c_ps_data = pickle.load(f)\n",
    "#     except IOError:\n",
    "#         continue\n",
    "#     if(ck not in ps_data.keys()):\n",
    "#         ps_data[ck] = np.array(c_ps_data[ck])\n",
    "#     else:\n",
    "#         ps_data[ck] = np.vstack((ps_data[ck], np.array(c_ps_data[ck])))  \n",
    "# print(ps_data[ck].shape)\n",
    "\n",
    "# #estimate N0\n",
    "# ck = 'N0'\n",
    "\n",
    "# for data_idx in range(len(data['00'])):\n",
    "#     q00 = data['00'][data_idx]\n",
    "#     c_ps_data = {}\n",
    "#     c_ps_data[ck] = [0,0,0]\n",
    "#     c_ps_data[ck][0], c_ps_data[ck][1], c_ps_data[ck][2] = baseMap.powerSpectrum(dataFourier=q00, nBins=15)\n",
    "#     if(ck not in ps_data.keys()):\n",
    "#         ps_data[ck] = np.array([c_ps_data[ck]])\n",
    "#     else:\n",
    "#         ps_data[ck] = np.vstack((ps_data[ck], np.array([c_ps_data[ck]])))  \n",
    "\n",
    "\n",
    "\n",
    "# #estimate kk\n",
    "# ck = 'kk'\n",
    "\n",
    "\n",
    "# for data_idx in range(min(len(data['01']), len(data['10']))):\n",
    "#     q01 = data['01'][data_idx]\n",
    "#     q10 = data['10'][data_idx]\n",
    "#     kCmbFourier = in_data['kCmbF_1'][data_idx]\n",
    "#     c_ps_data = {}\n",
    "#     c_ps_data[ck] = [0,0,0]\n",
    "#     c_ps_data[ck][0], c_ps_data[ck][1], c_ps_data[ck][2] = baseMap.crossPowerSpectrum(dataFourier1=q10+q01, dataFourier2=kCmbFourier, nBins=nBins)\n",
    "#     if(ck not in ps_data.keys()):\n",
    "#         ps_data[ck] = np.array([c_ps_data[ck]])\n",
    "#     else:\n",
    "#         ps_data[ck] = np.vstack((ps_data[ck], np.array([c_ps_data[ck]])))  \n",
    "\n",
    "#estimate <QE QE>\n",
    "ck = 'QEQE'\n",
    "for data_idx in trange(len(data['-1-1'])):\n",
    "    QE = data['-1-1'][data_idx]\n",
    "    \n",
    "    c_ps_data = {}\n",
    "    c_ps_data[ck] = [0,0,0]\n",
    "    c_ps_data[ck][0], c_ps_data[ck][1], c_ps_data[ck][2] = baseMap.powerSpectrum(dataFourier=QE, nBins=nBins)\n",
    "    if(ck not in ps_data.keys()):\n",
    "        ps_data[ck] = np.array([c_ps_data[ck]])\n",
    "    else:\n",
    "        ps_data[ck] = np.vstack((ps_data[ck], np.array([c_ps_data[ck]])))  \n",
    "\n",
    "#estimate Nhat\n",
    "ck = 'Nhat'\n",
    "for data_idx in trange(len(data['-1-1_sqrtN'])):\n",
    "    sqrtNhat = data['-1-1_sqrtN'][data_idx]\n",
    "    \n",
    "    c_ps_data = {}\n",
    "    c_ps_data[ck] = [0,0,0]\n",
    "    c_ps_data[ck][0], c_ps_data[ck][1], c_ps_data[ck][2] = baseMap.powerSpectrum(dataFourier=sqrtNhat, nBins=nBins)\n",
    "    if(ck not in ps_data.keys()):\n",
    "        ps_data[ck] = np.array([c_ps_data[ck]])\n",
    "    else:\n",
    "        ps_data[ck] = np.vstack((ps_data[ck],np.array([c_ps_data[ck]])))  \n",
    "\n",
    "#estimate GRF Nhat\n",
    "ck = 'GRF'\n",
    "for data_idx in trange(len(data['-2-2_sqrtN'])):\n",
    "    sqrtNhat = data['-2-2_sqrtN'][data_idx]\n",
    "    \n",
    "    c_ps_data = {}\n",
    "    c_ps_data[ck] = [0,0,0]\n",
    "    c_ps_data[ck][0], c_ps_data[ck][1], c_ps_data[ck][2] = baseMap.powerSpectrum(dataFourier=sqrtNhat, nBins=nBins)\n",
    "    if(ck not in ps_data.keys()):\n",
    "        ps_data[ck] = np.array([c_ps_data[ck]])\n",
    "    else:\n",
    "        ps_data[ck] = np.vstack(( ps_data[ck], np.array([c_ps_data[ck]])))  \n",
    "\n",
    "#estimate <kT kT>\n",
    "ck = 'kT'\n",
    "\n",
    "for data_idx in trange(len(in_data['kCmbF_1'])):\n",
    "    kT = in_data['kCmbF_1'][data_idx]\n",
    "    c_ps_data = {}\n",
    "    c_ps_data[ck] = [0,0,0]\n",
    "    c_ps_data[ck][0], c_ps_data[ck][1], c_ps_data[ck][2] = baseMap.powerSpectrum(dataFourier=kT, nBins=nBins)\n",
    "    if(ck not in ps_data.keys()):\n",
    "        ps_data[ck] = np.array([c_ps_data[ck]])\n",
    "    else:\n",
    "        ps_data[ck] = np.vstack((ps_data[ck], np.array([c_ps_data[ck]])))  \n",
    "\n",
    "import numpy as np\n",
    "from multiprocessing import Pool\n",
    "from tqdm import trange\n",
    "\n",
    "# Define a function to compute Ntheory_evaled for a given iteration\n",
    "def compute_Ntheory_evaled(_):\n",
    "    # Replace your original code here\n",
    "    t0, t1 = baseMap.binTheoryPowerSpectrum(Ntheory, nBins=nBins)\n",
    "    t2 = np.zeros_like(t1)\n",
    "    return [t0, t1, t2]\n",
    "\n",
    "# Set the number of iterations for parallel processing\n",
    "num_iterations = 500\n",
    "\n",
    "# Create a pool of worker processes using all available CPU cores\n",
    "pool = Pool()\n",
    "\n",
    "# Use the map function to parallelize the computation of Ntheory_evaled\n",
    "Ntheory_evaled = list(tqdm(pool.imap(compute_Ntheory_evaled, range(num_iterations)), total=num_iterations))\n",
    "\n",
    "# Convert the list of results to a NumPy array\n",
    "Ntheory_evaled = np.array(Ntheory_evaled)\n",
    "\n",
    "# Clean up the pool of worker processes\n",
    "pool.close()\n",
    "pool.join()\n",
    "\n",
    "# Continue with your original code\n",
    "ps_data['QEQE-Ntheory'] = combine_sketchy(ps_data['QEQE'], [-Ntheory_evaled])"
   ]
  },
  {
   "cell_type": "code",
   "execution_count": 68,
   "id": "e4f0df5d",
   "metadata": {},
   "outputs": [],
   "source": [
    "f = open('/oak/stanford/orgs/kipac/users/delon/LensQuEst/ps_data_unmasked_fewer_bins.pkl', 'wb') \n",
    "pickle.dump(ps_data, f)\n",
    "f.close()\n"
   ]
  },
  {
   "cell_type": "code",
   "execution_count": 69,
   "id": "09dde2dc",
   "metadata": {},
   "outputs": [],
   "source": [
    "# ps_data['RDN(0)o2'] = np.copy(ps_data['RDN(0)'])\n",
    "# print(np.shape(ps_data['RDN(0)o2']))\n",
    "# ps_data['RDN(0)o2'] = np.transpose(ps_data['RDN(0)o2'], axes=[1,2,0])\n",
    "\n",
    "# ps_data['RDN(0)o2'][1] = ps_data['RDN(0)o2'][1]/2\n",
    "# ps_data['RDN(0)o2'][2] = ps_data['RDN(0)o2'][2]/2\n",
    "\n",
    "# ps_data['RDN(0)o2'] = np.transpose(ps_data['RDN(0)o2'], axes=[2,0,1])\n",
    "\n",
    "# print(np.shape(ps_data['RDN(0)o2']))"
   ]
  },
  {
   "cell_type": "code",
   "execution_count": 73,
   "id": "a829d660",
   "metadata": {},
   "outputs": [],
   "source": [
    "#bandaid\n",
    "ll = ['%d'%l for l in ps_data['QEQE'][0][0]]\n",
    "#\n",
    "def corr2(corr_nhat1, \n",
    "          corr_nhat2, \n",
    "          filename_base, \n",
    "          cmap='seismic', \n",
    "          cmap2='seismic', \n",
    "          label='', \n",
    "          label2=''):\n",
    "    \n",
    "    plt.rcParams['font.family'] = 'serif'\n",
    "    plt.rcParams['text.usetex'] = True\n",
    "\n",
    "    plt.rcParams['font.size'] = 20\n",
    "    plt.rcParams['text.latex.preamble'] = r'\\usepackage{xcolor}'\n",
    "    plt.rcParams['text.latex.preamble'] +='\\n'\n",
    "#     plt.rcParams['text.latex.preamble'] += r'\\definecolor{c1}{rgb}{%.1f,%.1f,%.1f}'%(cmap[3][0],cmap[3][1],cmap[3][2])\n",
    "#     plt.rcParams['text.latex.preamble'] +='\\n'\n",
    "#     plt.rcParams['text.latex.preamble'] +=r'\\definecolor{c2}{rgb}{%.1f,%.1f,%.1f}'%(cmap2[3][0],cmap2[3][1],cmap2[3][2])\n",
    "\n",
    "    \n",
    "    corr_nhat = np.copy(corr_nhat1)\n",
    "    sze = len(corr_nhat1)\n",
    "    mask = np.array([[0 for _ in range(sze)] for _ in range(sze)])\n",
    "    for i in range(sze-1):\n",
    "        for j in range(sze-1-i):\n",
    "            corr_nhat[i][sze-j-1] = corr_nhat2[i][sze-j-1]\n",
    "            mask[i][sze-j-1] = 1\n",
    "    plt.figure(figsize=(25,20))\n",
    "    print(np.shape(corr_nhat))\n",
    "    print(np.shape(mask))\n",
    "    \n",
    "    ax = sns.heatmap(corr_nhat,  cmap=cmap, cbar=True, vmin=-1, vmax=1, square=True,\n",
    "                    cbar_kws={ 'ticks':[],\n",
    "                              \"orientation\": \"horizontal\", 'pad':-0.17, 'shrink':0.3})\n",
    "    \n",
    "    sns.heatmap(corr_nhat, mask=mask, cmap=cmap2, cbar=True, ax=ax, vmin=-1, vmax=1,square=True,label=label,\n",
    "           cbar_kws={'label': r\"$\\rho$\",\"orientation\": \"horizontal\", 'pad':0.1,  'shrink':0.3})\n",
    "    \n",
    "\n",
    "    ax.tick_params(axis=u'x', which=u'both',labelrotation=90)\n",
    "    ax.set_xticks(np.arange(len(ll))+0.5, labels=ll)\n",
    "    plt.xlabel(r'$\\ell$'+'\\n')\n",
    "\n",
    "#     ax.legend(frameon=False)\n",
    "\n",
    "    ax.tick_params(axis=u'y', which=u'both',labelrotation=0)\n",
    "    ax.set_yticks(np.arange(len(ll))+0.5, labels=ll)\n",
    "    plt.ylabel(r'$\\ell$'+'\\n')\n",
    "\n",
    "    plt.title(r'Correlations for {%s} (Top Left) and {%s} (Bottom Right)'%(label, label2))\n",
    "    plt.xlim(4, len(ll)-1)\n",
    "    plt.ylim(4, len(ll)-1)\n",
    "\n",
    "    plt.savefig('figures/corr_%s_lensed_weights.pdf'%(filename_base), bbox_inches='tight')#, use='pgf')\n",
    "\n",
    "\n",
    "def corr_gen(keys, filename_base):\n",
    "    Cls_tmp = np.array([None, None])\n",
    "    for key,idx in zip(keys, range(2)):\n",
    "        print(np.shape(ps_data[key]))\n",
    "        Cls_tmp[idx] = np.transpose(np.copy(np.array(ps_data[key])), axes=[1,2,0])[1]\n",
    "\n",
    "    corrs = np.array([[[(np.corrcoef(Cls_tmp[i][i1], Cls_tmp[i][i2])[1,0])\n",
    "                          for i1 in range(len(Cls_tmp[i]))]\n",
    "                         for i2 in range(len(Cls_tmp[i]))]\n",
    "                         for i in range(2)])\n",
    "\n",
    "    corr2(corrs[0], corrs[1], \n",
    "          label= labels[keys[0]],\n",
    "         label2=labels[keys[1]], \n",
    "         filename_base=filename_base)"
   ]
  },
  {
   "cell_type": "code",
   "execution_count": 74,
   "id": "fc6f0eb8",
   "metadata": {},
   "outputs": [],
   "source": [
    "# corr_gen(['QEQE', 'N0'], 'QEQEvsN0')"
   ]
  },
  {
   "cell_type": "code",
   "execution_count": 72,
   "id": "9f0310b5",
   "metadata": {},
   "outputs": [
    {
     "name": "stdout",
     "output_type": "stream",
     "text": [
      "500 (500, 3, 14)\n",
      "500 (500, 3, 14)\n"
     ]
    }
   ],
   "source": [
    "ps_data['QEQE-kTkT-Nhat'] = combine_sketchy(ps_data['QEQE'], [-ps_data['kT'],-ps_data['Nhat']])\n",
    "ps_data['QEQE-kTkT-Ntheory'] = combine_sketchy(ps_data['QEQE'], [-ps_data['kT'],-Ntheory_evaled])\n",
    "# ps_data['QEQE-kTkT-RDN(0)'] = combine_sketchy(ps_data['QEQE'], [-ps_data['kT'],-ps_data['RDN(0)o2']])"
   ]
  },
  {
   "cell_type": "code",
   "execution_count": 75,
   "id": "cd270196",
   "metadata": {},
   "outputs": [
    {
     "name": "stdout",
     "output_type": "stream",
     "text": [
      "(500, 3, 14)\n",
      "(500, 3, 14)\n",
      "(14, 14)\n",
      "(14, 14)\n"
     ]
    },
    {
     "data": {
      "image/png": "[encoded data removed]",
      "text/plain": [
       "<Figure size 1800x1440 with 3 Axes>"
      ]
     },
     "metadata": {
      "needs_background": "light"
     },
     "output_type": "display_data"
    }
   ],
   "source": [
    "corr_gen(['QEQE-kTkT-Nhat', 'QEQE-kTkT-Ntheory'], 'mNhat_v_mNtheory')"
   ]
  },
  {
   "cell_type": "code",
   "execution_count": null,
   "id": "45919182",
   "metadata": {},
   "outputs": [],
   "source": [
    "corr_gen(['QEQE-kTkT-Nhat', 'QEQE-kTkT-RDN(0)'], 'mNhat_v_mRDN0')"
   ]
  },
  {
   "cell_type": "code",
   "execution_count": null,
   "id": "3d7debc7",
   "metadata": {},
   "outputs": [],
   "source": []
  }
 ],
 "metadata": {
  "kernelspec": {
   "display_name": "nblensing",
   "language": "python",
   "name": "nblensing"
  },
  "language_info": {
   "codemirror_mode": {
    "name": "ipython",
    "version": 3
   },
   "file_extension": ".py",
   "mimetype": "text/x-python",
   "name": "python",
   "nbconvert_exporter": "python",
   "pygments_lexer": "ipython3",
   "version": "3.9.16"
  }
 },
 "nbformat": 4,
 "nbformat_minor": 5
}
