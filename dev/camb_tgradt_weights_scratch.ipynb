{
 "cells": [
  {
   "cell_type": "code",
   "execution_count": 1,
   "id": "13be8212",
   "metadata": {},
   "outputs": [],
   "source": [
    "#######\n",
    "IN_DATA_FNAMES = ['/oak/stanford/orgs/kipac/users/delon/LensQuEst/map_sims_800x800_20x20_%d.pkl'%(i) for i in range(1,51)]\n",
    "import warnings\n",
    "warnings.filterwarnings(\"ignore\")\n",
    "#####"
   ]
  },
  {
   "cell_type": "code",
   "execution_count": 2,
   "id": "a98cdcd0",
   "metadata": {},
   "outputs": [],
   "source": [
    "import os, sys\n",
    "WORKING_DIR = os.path.dirname(os.path.abspath(''))\n",
    "sys.path.insert(1, os.path.join(WORKING_DIR,'LensQuEst'))"
   ]
  },
  {
   "cell_type": "code",
   "execution_count": 3,
   "id": "2fde0a2c",
   "metadata": {},
   "outputs": [],
   "source": [
    "from universe import *\n",
    "from halo_fit import *\n",
    "from cmb import *\n",
    "from flat_map import *\n",
    "from weight import *\n",
    "from pn_2d import *\n",
    "import pickle\n",
    "import seaborn as sns\n",
    "from scipy.stats import spearmanr\n",
    "import matplotlib\n",
    "from tqdm import trange, tqdm"
   ]
  },
  {
   "cell_type": "code",
   "execution_count": 4,
   "id": "cf7c27bd",
   "metadata": {},
   "outputs": [
    {
     "name": "stderr",
     "output_type": "stream",
     "text": [
      "100%|██████████| 50/50 [03:37<00:00,  4.35s/it]"
     ]
    },
    {
     "name": "stdout",
     "output_type": "stream",
     "text": [
      "cmb0F_1 (500, 800, 401)\n",
      "kCmbF_1 (500, 800, 401)\n",
      "lCmbF_1 (500, 800, 401)\n",
      "lCmbF_o1_1 (100, 800, 401)\n",
      "lCmbF_o2_1 (100, 800, 401)\n",
      "lCmbF_o3_1 (100, 800, 401)\n",
      "lCmbF_o4_1 (100, 800, 401)\n",
      "fgF_1 (500, 800, 401)\n",
      "noiseF_1 (500, 800, 401)\n",
      "totalF_1 (500, 800, 401)\n",
      "totalF_0 (500, 800, 401)\n"
     ]
    },
    {
     "name": "stderr",
     "output_type": "stream",
     "text": [
      "\n"
     ]
    }
   ],
   "source": [
    "in_data = {}\n",
    "\n",
    "for fname in tqdm(IN_DATA_FNAMES):\n",
    "    f = open(fname, 'rb') \n",
    "    c_in_data = pickle.load(f) \n",
    "    f.close()\n",
    "    for key in c_in_data:\n",
    "        if(key not in in_data.keys()):\n",
    "            in_data[key] = np.array(c_in_data[key])\n",
    "        else:\n",
    "            in_data[key] = np.vstack( (in_data[key],np.array(c_in_data[key])) )\n",
    "\n",
    "\n",
    "for key in in_data:\n",
    "    print(key, np.shape(in_data[key]))"
   ]
  },
  {
   "cell_type": "code",
   "execution_count": 5,
   "id": "72f226d4",
   "metadata": {},
   "outputs": [
    {
     "name": "stdout",
     "output_type": "stream",
     "text": [
      "Map properties\n"
     ]
    }
   ],
   "source": [
    "print(\"Map properties\")\n",
    "\n",
    "# number of pixels for the flat map\n",
    "nX = 800\n",
    "nY =800\n",
    "\n",
    "# map dimensions in degrees\n",
    "sizeX = 20.\n",
    "sizeY = 20.\n",
    "\n",
    "# basic map object\n",
    "baseMap = FlatMap(nX=nX, nY=nY, sizeX=sizeX*np.pi/180., sizeY=sizeY*np.pi/180.)\n",
    "\n",
    "# multipoles to include in the lensing reconstruction\n",
    "lMin = 30.; lMax = 3.5e3\n",
    "\n",
    "# ell bins for power spectra\n",
    "lRange = (1., 2.*lMax)  # range for power spectra"
   ]
  },
  {
   "cell_type": "code",
   "execution_count": 6,
   "id": "c5580bdb",
   "metadata": {},
   "outputs": [
    {
     "name": "stdout",
     "output_type": "stream",
     "text": [
      "../data/input/universe_Planck15/camb/CAMB_outputs.pkl\n"
     ]
    }
   ],
   "source": [
    "oup_fname = '../data/input/universe_Planck15/camb/CAMB_outputs.pkl'\n",
    "print(oup_fname)\n",
    "f = open(oup_fname, 'rb') \n",
    "powers,cl,c_lensed,c_lens_response = pickle.load(f)\n",
    "f.close()"
   ]
  },
  {
   "cell_type": "code",
   "execution_count": 7,
   "id": "57d5d007",
   "metadata": {},
   "outputs": [
    {
     "name": "stdout",
     "output_type": "stream",
     "text": [
      "CMB experiment properties\n"
     ]
    }
   ],
   "source": [
    "print(\"CMB experiment properties\")\n",
    "\n",
    "# Adjust the lMin and lMax to the assumptions of the analysis\n",
    "# CMB S3 specs\n",
    "cmb = StageIVCMB(beam=1.4, noise=7., lMin=lMin, lMaxT=lMax, lMaxP=lMax, atm=False)"
   ]
  },
  {
   "cell_type": "code",
   "execution_count": null,
   "id": "0b542750",
   "metadata": {},
   "outputs": [],
   "source": [
    "#plot the total lensed CMB power spectra versus unlensed, and fractional difference\n",
    "totCL=powers['total']\n",
    "unlensedCL=powers['unlensed_scalar']\n",
    "#Python CL arrays are all zero based (starting at L=0), Note L=0,1 entries will be zero by default.\n",
    "#The different CL are always in the order TT, EE, BB, TE (with BB=0 for unlensed scalar results).\n",
    "plt.figure(figsize=(20,10))\n",
    "ls = np.arange(totCL.shape[0])\n",
    "\n",
    "\n",
    "origTT = list(map(cmb.funlensedTT, ls))\n",
    "\n",
    "\n",
    "ls2 = np.arange(2,3501)\n",
    "# plt.plot(ls2, (c_lensed[2:3501,0])/(ls2*(ls2+1)/(2*np.pi)), color='b', label='Lensed clensed')\n",
    "# plt.scatter(ls,totCL[:,0]/(ls*(ls+1)/(2*np.pi)), color='k', s=5, label='Lensed')\n",
    "\n",
    "plt.plot(ls,unlensedCL[:,0]/(ls*(ls+1)/(2*np.pi)), color='C2', label='Unlensed')\n",
    "plt.plot(ls,origTT, color='r', label='Orign Unlensed')\n",
    "\n",
    "plt.title('TT')\n",
    "\n",
    "plt.xlim([2,2500])\n",
    "plt.ylim([1e-5, 1e3])\n",
    "plt.legend(frameon=False)\n",
    "plt.xlabel(r'$\\ell$');\n",
    "plt.yscale('log')"
   ]
  },
  {
   "cell_type": "code",
   "execution_count": 13,
   "id": "1bead081",
   "metadata": {},
   "outputs": [],
   "source": []
  },
  {
   "cell_type": "code",
   "execution_count": null,
   "id": "6b3d38e5",
   "metadata": {},
   "outputs": [],
   "source": []
  }
 ],
 "metadata": {
  "kernelspec": {
   "display_name": "nblensing",
   "language": "python",
   "name": "nblensing"
  },
  "language_info": {
   "codemirror_mode": {
    "name": "ipython",
    "version": 3
   },
   "file_extension": ".py",
   "mimetype": "text/x-python",
   "name": "python",
   "nbconvert_exporter": "python",
   "pygments_lexer": "ipython3",
   "version": "3.9.16"
  }
 },
 "nbformat": 4,
 "nbformat_minor": 5
}
