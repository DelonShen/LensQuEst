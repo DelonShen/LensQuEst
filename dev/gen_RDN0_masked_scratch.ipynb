{
 "cells": [
  {
   "cell_type": "code",
   "execution_count": 13,
   "id": "0fb758db",
   "metadata": {},
   "outputs": [],
   "source": [
    "N_S = 2\n",
    "nBins=51"
   ]
  },
  {
   "cell_type": "code",
   "execution_count": 1,
   "id": "5a2bdb8a",
   "metadata": {},
   "outputs": [
    {
     "name": "stdout",
     "output_type": "stream",
     "text": [
      "../data/input/universe_Planck15/camb/CAMB_outputs.pkl\n",
      "Map properties\n",
      "CMB experiment properties\n"
     ]
    },
    {
     "name": "stderr",
     "output_type": "stream",
     "text": [
      "100%|██████████| 50/50 [03:31<00:00,  4.24s/it]"
     ]
    },
    {
     "name": "stdout",
     "output_type": "stream",
     "text": [
      "cmb0F_1 (500, 800, 401)\n",
      "kCmbF_1 (500, 800, 401)\n",
      "lCmbF_1 (500, 800, 401)\n",
      "fgF_1 (500, 800, 401)\n",
      "noiseF_1 (500, 800, 401)\n",
      "totalF_1 (500, 800, 401)\n",
      "totalF_0 (500, 800, 401)\n"
     ]
    },
    {
     "name": "stderr",
     "output_type": "stream",
     "text": [
      "\n"
     ]
    }
   ],
   "source": [
    "import pickle\n",
    "import warnings\n",
    "\n",
    "import os, sys\n",
    "WORKING_DIR = os.path.dirname(os.path.abspath(''))\n",
    "sys.path.insert(1, os.path.join(WORKING_DIR,'LensQuEst'))\n",
    "from tqdm import tqdm,trange\n",
    "\n",
    "from universe import *\n",
    "from halo_fit import *\n",
    "from cmb import *\n",
    "from flat_map import *\n",
    "from weight import *\n",
    "from pn_2d import *\n",
    "import pickle\n",
    "import seaborn as sns\n",
    "from scipy.stats import spearmanr\n",
    "import numpy as np\n",
    "#######\n",
    "IN_DATA_FNAMES = ['/oak/stanford/orgs/kipac/users/delon/LensQuEst/map_sims_800x800_20x20_%d.pkl'%(i) for i in range(1,51)]\n",
    "\n",
    "\n",
    "pairs = [\n",
    "#   [0,0], #N0\n",
    "#   [0,1], #kappa\n",
    "#   [1,0], #kappa\n",
    "#   [0,2], #N1\n",
    "#   [1,1], #N1\n",
    "#   [2,0], #N1\n",
    "#    [0,3], #should vanish\n",
    "#    [1,2], #should vanish\n",
    "#    [2,1], #should vanish\n",
    "#    [3,0], #should vanish\n",
    "#    [0,4], #N2 \n",
    "#    [1,3], #N2\n",
    "#    [2,2], #N2\n",
    "#    [3,1], #N2\n",
    "#    [4,0], #N2\n",
    "   [-1, -1], #QE\n",
    "   [-2, -2], #unlensed\n",
    "]\n",
    "\n",
    "\n",
    "\n",
    "warnings.filterwarnings(\"ignore\")\n",
    "#####\n",
    "\n",
    "oup_fname = '../data/input/universe_Planck15/camb/CAMB_outputs.pkl'\n",
    "print(oup_fname)\n",
    "f = open(oup_fname, 'rb') \n",
    "powers,cl,c_lensed,c_lens_response = pickle.load(f)\n",
    "f.close()\n",
    "\n",
    "totCL=powers['total']\n",
    "unlensedCL=powers['unlensed_scalar']\n",
    "\n",
    "L = np.arange(unlensedCL.shape[0])\n",
    "\n",
    "unlensedTT = unlensedCL[:,0]/(L*(L+1))*2*np.pi\n",
    "F = unlensedTT\n",
    "funlensedTT = interp1d(L, F, kind='linear', bounds_error=False, fill_value=0.)\n",
    "\n",
    "L = np.arange(cl.shape[0])\n",
    "PP = cl[:,0]\n",
    "rawPP = PP*2*np.pi/((L*(L+1))**2)\n",
    "rawKK = L**4/4 * rawPP\n",
    "\n",
    "fKK = interp1d(L, rawKK, kind='linear', bounds_error=False, fill_value=0.)\n",
    "\n",
    "L = np.arange(totCL.shape[0])\n",
    "\n",
    "lensedTT = totCL[:,0]/(L*(L+1))*2*np.pi\n",
    "F = lensedTT\n",
    "flensedTT = interp1d(L, F, kind='linear', bounds_error=False, fill_value=0.)\n",
    "\n",
    "\n",
    "ftot = lambda l : flensedTT(l) + cmb.fForeground(l) + cmb.fdetectorNoise(l)\n",
    "\n",
    "\n",
    "L = np.arange(c_lens_response.shape[0])\n",
    "\n",
    "cTgradT = c_lens_response.T[0]/(L*(L+1))*2*np.pi\n",
    "\n",
    "fTgradT = interp1d(L, cTgradT, kind='linear', bounds_error=False, fill_value=0.)\n",
    "\n",
    "# In[3]:\n",
    "\n",
    "\n",
    "\n",
    "# In[4]:\n",
    "\n",
    "\n",
    "\n",
    "\n",
    "# In[5]:\n",
    "\n",
    "\n",
    "print(\"Map properties\")\n",
    "\n",
    "# number of pixels for the flat map\n",
    "nX = 800\n",
    "nY =800\n",
    "\n",
    "# map dimensions in degrees\n",
    "sizeX = 20.\n",
    "sizeY = 20.\n",
    "\n",
    "# basic map object\n",
    "baseMap = FlatMap(nX=nX, nY=nY, sizeX=sizeX*np.pi/180., sizeY=sizeY*np.pi/180.)\n",
    "\n",
    "# multipoles to include in the lensing reconstruction\n",
    "lMin = 30.; lMax = 3.5e3\n",
    "\n",
    "# ell bins for power spectra\n",
    "lRange = (1., 2.*lMax)  # range for power spectra\n",
    "\n",
    "\n",
    "# In[6]:\n",
    "\n",
    "\n",
    "print(\"CMB experiment properties\")\n",
    "\n",
    "# Adjust the lMin and lMax to the assumptions of the analysis\n",
    "# CMB S3 specs\n",
    "cmb = StageIVCMB(beam=1.4, noise=7., lMin=lMin, lMaxT=lMax, lMaxP=lMax, atm=False)\n",
    "\n",
    "# Total power spectrum, for the lens reconstruction\n",
    "# basiscally gets what we theoretically expect the\n",
    "# power spectrum will look like\n",
    "forCtotal = lambda l: ftot(l) \n",
    "\n",
    "# reinterpolate: gain factor 10 in speed\n",
    "L = np.logspace(np.log10(lMin/2.), np.log10(2.*lMax), 1001, 10.)\n",
    "F = np.array(list(map(forCtotal, L)))\n",
    "cmb.fCtotal = interp1d(L, F, kind='linear', bounds_error=False, fill_value=0.)\n",
    "\n",
    "\n",
    "in_data = {}\n",
    "\n",
    "for fname in tqdm(IN_DATA_FNAMES):\n",
    "    f = open(fname, 'rb') \n",
    "    c_in_data = pickle.load(f) \n",
    "    f.close()\n",
    "    for key in c_in_data:\n",
    "        if(key not in in_data.keys()):\n",
    "            in_data[key] = np.array(c_in_data[key])\n",
    "        else:\n",
    "            in_data[key] = np.vstack( (in_data[key],np.array(c_in_data[key])) )\n",
    "\n",
    "\n",
    "for key in in_data:\n",
    "    print(key, np.shape(in_data[key]))\n"
   ]
  },
  {
   "cell_type": "code",
   "execution_count": 3,
   "id": "741d732b",
   "metadata": {},
   "outputs": [
    {
     "name": "stdout",
     "output_type": "stream",
     "text": [
      "cmb0F_1 (500, 800, 401)\n",
      "kCmbF_1 (500, 800, 401)\n",
      "lCmbF_1 (500, 800, 401)\n",
      "fgF_1 (500, 800, 401)\n",
      "noiseF_1 (500, 800, 401)\n",
      "totalF_1 (500, 800, 401)\n",
      "totalF_0 (500, 800, 401)\n"
     ]
    }
   ],
   "source": [
    "for key in in_data:\n",
    "    print(key, np.shape(in_data[key]))\n",
    "\n",
    "    \n",
    "pairs = [\n",
    "    [0,0], #N0\n",
    "    [0,1], #kappa\n",
    "    [1,0], #kappa\n",
    "    [1,1], #N1\n",
    "    [0,2], #N1\n",
    "    [2,0], #N1\n",
    "    [-1, -1], #QE\n",
    "    [-2, -2], #unlensed\n",
    "]\n",
    "\n",
    "data_names = {\n",
    "    0: 'cmb0F_1',\n",
    "    1: 'lCmbF_o1_1',\n",
    "    2: 'lCmbF_o2_1',\n",
    "    -1: 'lCmbF_1',\n",
    "    -2: 'totalF_0',\n",
    "}\n",
    "\n",
    "\n",
    "ps_data = {}\n",
    "\n",
    "\n",
    "#RDN0\n",
    "\n",
    "    \n",
    "RDN0_data = {}\n",
    "\n",
    "\n",
    "ds1s = []\n",
    "s1ds = []\n",
    "s1s2s= []\n",
    "s2s1s= []\n",
    "\n",
    "\n",
    "tmp_idx = 0"
   ]
  },
  {
   "cell_type": "code",
   "execution_count": 5,
   "id": "95dba9a6",
   "metadata": {},
   "outputs": [
    {
     "data": {
      "image/png": "[encoded data removed]",
      "text/plain": [
       "<Figure size 432x288 with 1 Axes>"
      ]
     },
     "metadata": {
      "needs_background": "light"
     },
     "output_type": "display_data"
    }
   ],
   "source": [
    "#https://stackoverflow.com/questions/12201577/how-can-i-convert-an-rgb-image-into-grayscale-in-python\n",
    "def rgb2gray(rgb):\n",
    "    return np.dot(rgb[...,:3], [0.2989, 0.5870, 0.1140])\n",
    "from scipy.ndimage import gaussian_filter \n",
    "from scipy.fft import fft2\n",
    "mask_file = 'mask_simple800x800.png'\n",
    "psfile = 'point_sources_800x800.png'\n",
    "psapod = 2\n",
    "\n",
    "mask = rgb2gray(plt.imread(mask_file))\n",
    "apodized_mask = gaussian_filter(mask, 3)\n",
    "point_sources = rgb2gray(plt.imread(psfile))\n",
    "point_sources = gaussian_filter(point_sources, psapod) \n",
    "apodized_mask += point_sources\n",
    "nPos = np.where(apodized_mask>1)\n",
    "apodized_mask[nPos] = 1\n",
    "mask = 1-mask\n",
    "apodized_mask = 1 - apodized_mask\n",
    "\n",
    "for a in apodized_mask:\n",
    "    for b in a:\n",
    "        assert(b<=1 and b>=0)\n",
    "        \n",
    "plt.imshow(apodized_mask)\n",
    "plt.savefig('figures/apodized_masked_%dx%d.pdf'%(nX, nY),bbox_inches='tight')"
   ]
  },
  {
   "cell_type": "code",
   "execution_count": 6,
   "id": "01f2a54b",
   "metadata": {},
   "outputs": [],
   "source": [
    "d_idx = 0\n",
    "d = in_data['totalF_1'][d_idx]\n",
    "\n",
    "\n",
    "#mask stuff\n",
    "d = baseMap.fourier(baseMap.inverseFourier(d)*apodized_mask)"
   ]
  },
  {
   "cell_type": "code",
   "execution_count": 14,
   "id": "c9df4a6d",
   "metadata": {},
   "outputs": [
    {
     "name": "stdout",
     "output_type": "stream",
     "text": [
      "CURR 0\n"
     ]
    },
    {
     "name": "stderr",
     "output_type": "stream",
     "text": [
      " 50%|█████     | 1/2 [00:35<00:35, 35.72s/it]"
     ]
    },
    {
     "name": "stdout",
     "output_type": "stream",
     "text": [
      "/scratch/users/delon/LensQuEst/RDN0-MASKED-in_data-0-4.pkl\n",
      "/scratch/users/delon/LensQuEst/RDN0-MASKED-in_data-0-5.pkl\n"
     ]
    },
    {
     "name": "stderr",
     "output_type": "stream",
     "text": [
      "100%|██████████| 2/2 [01:13<00:00, 36.95s/it]\n"
     ]
    },
    {
     "name": "stdout",
     "output_type": "stream",
     "text": [
      "CURR 1\n"
     ]
    },
    {
     "name": "stderr",
     "output_type": "stream",
     "text": [
      "\r",
      "  0%|          | 0/2 [00:00<?, ?it/s]"
     ]
    },
    {
     "name": "stdout",
     "output_type": "stream",
     "text": [
      "/scratch/users/delon/LensQuEst/RDN0-MASKED-in_data-0-6.pkl\n"
     ]
    },
    {
     "name": "stderr",
     "output_type": "stream",
     "text": [
      "100%|██████████| 2/2 [01:11<00:00, 35.82s/it]"
     ]
    },
    {
     "name": "stdout",
     "output_type": "stream",
     "text": [
      "/scratch/users/delon/LensQuEst/RDN0-MASKED-in_data-0-7.pkl\n"
     ]
    },
    {
     "name": "stderr",
     "output_type": "stream",
     "text": [
      "\n"
     ]
    }
   ],
   "source": [
    "data = {}\n",
    "\n",
    "\n",
    "\n",
    "def tmp_combine_Cl(Cls_tot):\n",
    "    n_runs = np.shape(Cls_tot)[0]\n",
    "    lCen = Cls_tot[0][0]\n",
    "    Cls = np.sum(np.transpose(Cls_tot, axes=[1,2,0])[1], axis=1)\n",
    "#     sCls =  np.sum(np.transpose(Cls_tot, axes=[1,2,0])[2], axis=1)\n",
    "    sCls = np.sqrt(np.sum(np.square(np.transpose(Cls_tot, axes=[1,2,0])[2]), axis=1))\n",
    "    return lCen, Cls, sCls\n",
    "ck = 'RDN(0)'\n",
    "\n",
    "\n",
    "tot = []\n",
    "for s_idx in range(N_S):\n",
    "    print('CURR', s_idx)\n",
    "    for s2_idx in trange(N_S):\n",
    "        s1 = in_data['totalF_0'][s_idx]\n",
    "        s1 = baseMap.fourier(baseMap.inverseFourier(s1)*apodized_mask)\n",
    "        s2 = in_data['totalF_0'][s2_idx+len(in_data['totalF_0'])//2]\n",
    "        s2 = baseMap.fourier(baseMap.inverseFourier(s2)*apodized_mask)\n",
    "\n",
    "        ds1 = baseMap.computeQuadEstKappaNorm(fTgradT, cmb.fCtotal, \n",
    "                                             lMin=lMin, lMax=lMax, \n",
    "                                             dataFourier=d,\n",
    "                                             dataFourier2=s1)\n",
    "        s1d = baseMap.computeQuadEstKappaNorm(fTgradT, cmb.fCtotal, \n",
    "                                             lMin=lMin, lMax=lMax, \n",
    "                                             dataFourier=s1,\n",
    "                                             dataFourier2=d)\n",
    "        s1s2 = baseMap.computeQuadEstKappaNorm(fTgradT, cmb.fCtotal, \n",
    "                                             lMin=lMin, lMax=lMax, \n",
    "                                             dataFourier=s1,\n",
    "                                             dataFourier2=s2)\n",
    "        s2s1 = baseMap.computeQuadEstKappaNorm(fTgradT, cmb.fCtotal, \n",
    "                                             lMin=lMin, lMax=lMax, \n",
    "                                             dataFourier=s2,\n",
    "                                             dataFourier2=s1)\n",
    "\n",
    "#         if(len(ds1s)==0):\n",
    "#             ds1s = np.array([ds1])\n",
    "#         else:\n",
    "#             ds1s = np.vstack((ds1s, np.array([ds1])))\n",
    "\n",
    "#         if(len(s1ds)==0):\n",
    "#             s1ds = np.array([s1d])\n",
    "#         else:\n",
    "#             s1ds = np.vstack((s1ds, np.array([s1d])))\n",
    "\n",
    "#         if(len(s1s2s)==0):\n",
    "#             s1s2s = np.array([s1s2])\n",
    "#         else:\n",
    "#             s1s2s = np.vstack((s1s2s, np.array([s1s2])))\n",
    "\n",
    "#         if(len(s2s1s)==0):\n",
    "#             s2s1s = np.array([s2s1])\n",
    "#         else:\n",
    "#             s2s1s = np.vstack((s2s1s, np.array([s2s1])))\n",
    "            \n",
    "            \n",
    "            \n",
    "            \n",
    "        RDN0_data = {\n",
    "            'ds1' : ds1,\n",
    "            's1d' : s1d,\n",
    "            's1s2': s1s2,\n",
    "            's2s1': s2s1\n",
    "        }\n",
    "        \n",
    "        \n",
    "        \n",
    "        curr_data = []\n",
    "\n",
    "        for s, a, b in [[1, ds1, ds1], [1, ds1, s1d], [1, s1d, ds1], [1, s1d, s1d], [-1, s1s2, s1s2], [-1, s1s2, s2s1]]:\n",
    "            t0, t1, t2 = baseMap.crossPowerSpectrum(dataFourier1=a, dataFourier2=b, nBins=nBins)\n",
    "            curr_data.append([t0, s * t1, t2])\n",
    "\n",
    "        c_ps_data = {}\n",
    "        c_ps_data[ck] = [0, 0, 0]\n",
    "        c_ps_data[ck][0], c_ps_data[ck][1], c_ps_data[ck][2] = tmp_combine_Cl(curr_data)\n",
    "\n",
    "        if(len(tot)==0):\n",
    "            tot = np.zeros_like(c_ps_data[ck])\n",
    "            tot[0] = c_ps_data[ck][0]\n",
    "            \n",
    "        result = c_ps_data[ck]\n",
    "        \n",
    "        assert(all(tot[0] == result[0]))\n",
    "        tot[1] += result[1]\n",
    "        tot[2] += np.square(result[2])\n",
    "        oup_fname = '/scratch/users/delon/LensQuEst/RDN0-MASKED-in_data-%d-%d.pkl'%(d_idx,tmp_idx)\n",
    "        print(oup_fname)\n",
    "        f = open(oup_fname, 'wb') \n",
    "        pickle.dump(RDN0_data, f)\n",
    "        f.close()\n",
    "        tmp_idx += 1\n",
    "        \n",
    "        del ds1\n",
    "        del s1d\n",
    "        del s1s2\n",
    "        del s2s1\n",
    "        \n",
    "\n",
    "tot[1] = tot[1] / (N_S**2)\n",
    "tot[2] = np.sqrt(tot[2])/ (N_S**2)\n"
   ]
  },
  {
   "cell_type": "code",
   "execution_count": 15,
   "id": "67857b6e",
   "metadata": {},
   "outputs": [
    {
     "name": "stdout",
     "output_type": "stream",
     "text": [
      "(3, 50)\n"
     ]
    }
   ],
   "source": [
    "print(tot.shape)"
   ]
  },
  {
   "cell_type": "code",
   "execution_count": 29,
   "id": "510a44a0",
   "metadata": {},
   "outputs": [],
   "source": [
    "with open('/oak/stanford/orgs/kipac/users/delon/LensQuEst/RDN0-MASKED-combined-%d-nBins%d.pkl'%(d_idx, nBins), \"wb\") as f:\n",
    "    pickle.dump(tot, f)\n"
   ]
  },
  {
   "cell_type": "code",
   "execution_count": 17,
   "id": "e1f6ff2c",
   "metadata": {},
   "outputs": [
    {
     "name": "stdout",
     "output_type": "stream",
     "text": [
      "Gets a theoretical prediction for the noise\n",
      "computing the reconstruction noise\n"
     ]
    }
   ],
   "source": [
    "print(\"Gets a theoretical prediction for the noise\")\n",
    "fNqCmb_fft = baseMap.forecastN0Kappa(fTgradT, cmb.fCtotal, lMin=lMin, lMax=lMax, test=False)\n",
    "Ntheory = lambda l: fNqCmb_fft(l) "
   ]
  },
  {
   "cell_type": "code",
   "execution_count": 27,
   "id": "03f92d6e",
   "metadata": {},
   "outputs": [],
   "source": [
    "fsky = np.sum(apodized_mask) / np.sum(np.ones_like(apodized_mask))"
   ]
  },
  {
   "cell_type": "code",
   "execution_count": 28,
   "id": "30ca8c6a",
   "metadata": {},
   "outputs": [
    {
     "data": {
      "text/plain": [
       "(1.1e-10, 0.0009)"
      ]
     },
     "execution_count": 28,
     "metadata": {},
     "output_type": "execute_result"
    },
    {
     "data": {
      "image/png": "[encoded data removed]",
      "text/plain": [
       "<Figure size 1080x576 with 1 Axes>"
      ]
     },
     "metadata": {
      "needs_background": "light"
     },
     "output_type": "display_data"
    }
   ],
   "source": [
    "fig,ax = plt.subplots(nrows=1, ncols=1, figsize=(15,8))\n",
    "ell = baseMap.l.flatten()\n",
    "theory=[fKK, Ntheory]\n",
    "theory_l=[r'$\\big<\\kappa\\kappa\\big>$', r'$N_{\\rm theory}$']\n",
    "theory_s=['black', 'lightgrey']\n",
    "factor = lambda L:1\n",
    "for f,l,sty in zip(theory, theory_l, theory_s):\n",
    "    L = np.logspace(np.log10(1.), np.log10(np.max(ell)), 201, 10.)\n",
    "    ClExpected = np.array(list(map(f, L)))\n",
    "    ax.plot(L, factor(L)*ClExpected, sty, label=l)\n",
    "plt.errorbar(tot[0], tot[1]/fsky,yerr=tot[2])\n",
    "ax.set_xscale('log')\n",
    "ax.set_xlabel(r'$\\ell$')\n",
    "ax.set_yscale('log')\n",
    "ax.set_xlim(lMin,2*lMax)\n",
    "ax.set_ylim(1.1e-10,.9e-3)"
   ]
  },
  {
   "cell_type": "code",
   "execution_count": null,
   "id": "76f2aff9",
   "metadata": {},
   "outputs": [],
   "source": []
  }
 ],
 "metadata": {
  "kernelspec": {
   "display_name": "nblensing",
   "language": "python",
   "name": "nblensing"
  },
  "language_info": {
   "codemirror_mode": {
    "name": "ipython",
    "version": 3
   },
   "file_extension": ".py",
   "mimetype": "text/x-python",
   "name": "python",
   "nbconvert_exporter": "python",
   "pygments_lexer": "ipython3",
   "version": "3.9.16"
  }
 },
 "nbformat": 4,
 "nbformat_minor": 5
}
