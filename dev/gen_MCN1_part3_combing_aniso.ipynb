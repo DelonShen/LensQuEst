{
 "cells": [
  {
   "cell_type": "code",
   "execution_count": 1,
   "id": "ad413c3d",
   "metadata": {},
   "outputs": [
    {
     "name": "stdout",
     "output_type": "stream",
     "text": [
      "../data/input/universe_Planck15/camb/CAMB_outputs.pkl\n",
      "loaded estimated ftot\n",
      "Map properties\n",
      "CMB experiment properties\n"
     ]
    }
   ],
   "source": [
    "import pickle\n",
    "import warnings\n",
    "\n",
    "import os, sys\n",
    "WORKING_DIR = os.path.dirname(os.path.abspath(''))\n",
    "sys.path.insert(1, os.path.join(WORKING_DIR,'LensQuEst'))\n",
    "from tqdm import tqdm,trange\n",
    "\n",
    "from universe import *\n",
    "from halo_fit import *\n",
    "from cmb import *\n",
    "from flat_map import *\n",
    "from weight import *\n",
    "from pn_2d import *\n",
    "import pickle\n",
    "import seaborn as sns\n",
    "from scipy.stats import spearmanr\n",
    "import numpy as np\n",
    "#######\n",
    "\n",
    "\n",
    "pairs = [\n",
    "#   [0,0], #N0\n",
    "#   [0,1], #kappa\n",
    "#   [1,0], #kappa\n",
    "#   [0,2], #N1\n",
    "#   [1,1], #N1\n",
    "#   [2,0], #N1\n",
    "#    [0,3], #should vanish\n",
    "#    [1,2], #should vanish\n",
    "#    [2,1], #should vanish\n",
    "#    [3,0], #should vanish\n",
    "#    [0,4], #N2 \n",
    "#    [1,3], #N2\n",
    "#    [2,2], #N2\n",
    "#    [3,1], #N2\n",
    "#    [4,0], #N2\n",
    "   [-1, -1], #QE\n",
    "   [-2, -2], #unlensed\n",
    "]\n",
    "\n",
    "\n",
    "\n",
    "warnings.filterwarnings(\"ignore\")\n",
    "#####\n",
    "\n",
    "oup_fname = '../data/input/universe_Planck15/camb/CAMB_outputs.pkl'\n",
    "print(oup_fname)\n",
    "f = open(oup_fname, 'rb') \n",
    "powers,cl,c_lensed,c_lens_response = pickle.load(f)\n",
    "f.close()\n",
    "\n",
    "totCL=powers['total']\n",
    "unlensedCL=powers['unlensed_scalar']\n",
    "\n",
    "L = np.arange(unlensedCL.shape[0])\n",
    "\n",
    "unlensedTT = unlensedCL[:,0]/(L*(L+1))*2*np.pi\n",
    "F = unlensedTT\n",
    "funlensedTT = interp1d(L, F, kind='linear', bounds_error=False, fill_value=0.)\n",
    "\n",
    "L = np.arange(cl.shape[0])\n",
    "PP = cl[:,0]\n",
    "rawPP = PP*2*np.pi/((L*(L+1))**2)\n",
    "rawKK = L**4/4 * rawPP\n",
    "\n",
    "fKK = interp1d(L, rawKK, kind='linear', bounds_error=False, fill_value=0.)\n",
    "\n",
    "L = np.arange(totCL.shape[0])\n",
    "\n",
    "lensedTT = totCL[:,0]/(L*(L+1))*2*np.pi\n",
    "F = lensedTT\n",
    "flensedTT = interp1d(L, F, kind='linear', bounds_error=False, fill_value=0.)\n",
    "\n",
    "\n",
    "ftot = lambda l : flensedTT(l) + cmb.fForeground(l) + cmb.fdetectorNoise(l)\n",
    "with open('f_aniso_ftot.pkl', 'rb') as f:\n",
    "    ftot = pickle.load(f)\n",
    "print('loaded estimated ftot')\n",
    "\n",
    "\n",
    "L = np.arange(c_lens_response.shape[0])\n",
    "\n",
    "cTgradT = c_lens_response.T[0]/(L*(L+1))*2*np.pi\n",
    "\n",
    "fTgradT = interp1d(L, cTgradT, kind='linear', bounds_error=False, fill_value=0.)\n",
    "\n",
    "# In[3]:\n",
    "\n",
    "\n",
    "\n",
    "# In[4]:\n",
    "\n",
    "\n",
    "\n",
    "\n",
    "# In[5]:\n",
    "\n",
    "\n",
    "print(\"Map properties\")\n",
    "\n",
    "# number of pixels for the flat map\n",
    "nX = 1200\n",
    "nY = 1200\n",
    "\n",
    "# map dimensions in degrees\n",
    "sizeX = 20.\n",
    "sizeY = 20.\n",
    "\n",
    "# basic map object\n",
    "baseMap = FlatMap(nX=nX, nY=nY, sizeX=sizeX*np.pi/180., sizeY=sizeY*np.pi/180.)\n",
    "\n",
    "# multipoles to include in the lensing reconstruction\n",
    "lMin = 30.; lMax = 3.5e3\n",
    "\n",
    "# ell bins for power spectra\n",
    "nBins = 51  # number of bins\n",
    "lRange = (1., 2.*lMax)  # range for power spectra\n",
    "\n",
    "\n",
    "# In[6]:\n",
    "\n",
    "\n",
    "print(\"CMB experiment properties\")\n",
    "\n",
    "# Adjust the lMin and lMax to the assumptions of the analysis\n",
    "# CMB S3 specs\n",
    "cmb = StageIVCMB(beam=1.4, noise=7., lMin=lMin, lMaxT=lMax, lMaxP=lMax, atm=False)\n",
    "\n",
    "# Total power spectrum, for the lens reconstruction\n",
    "# basiscally gets what we theoretically expect the\n",
    "# power spectrum will look like\n",
    "forCtotal = lambda l: ftot(l) \n",
    "\n",
    "# # reinterpolate: gain factor 10 in speed\n",
    "# L = np.logspace(np.log10(lMin/2.), np.log10(2.*lMax), 1001, 10.)\n",
    "# F = np.array(list(map(forCtotal, L)))\n",
    "# cmb.fCtotal = interp1d(L, F, kind='linear', bounds_error=False, fill_value=0.)\n",
    "cmb.fCtotal = ftot # no longer reinterpolating since it seems like it leads to errors?"
   ]
  },
  {
   "cell_type": "code",
   "execution_count": null,
   "id": "14401d41",
   "metadata": {},
   "outputs": [],
   "source": []
  },
  {
   "cell_type": "code",
   "execution_count": 2,
   "id": "117f5e55",
   "metadata": {},
   "outputs": [
    {
     "name": "stderr",
     "output_type": "stream",
     "text": [
      "100%|██████████| 20/20 [00:31<00:00,  1.57s/it]"
     ]
    },
    {
     "name": "stdout",
     "output_type": "stream",
     "text": [
      "(4000000, 3, 50)\n"
     ]
    },
    {
     "name": "stderr",
     "output_type": "stream",
     "text": [
      "\n"
     ]
    }
   ],
   "source": [
    "\n",
    "# Determine the shape of a single data array\n",
    "with open('/oak/stanford/orgs/kipac/users/delon/LensQuEst/N1-mcmc-nBins%d-morestats-Tcombos_%d_%d-aniso.pkl'%(nBins, 0, 0), \"rb\") as f:\n",
    "    sample_cdata = pickle.load(f)\n",
    "num_rows, dim1, dim2 = sample_cdata.shape\n",
    "\n",
    "# Initialize c_data with zeros and concatenate loaded data along the 0th axis\n",
    "c_data = np.zeros((20 * 20 * num_rows, dim1, dim2))\n",
    "for DATA_IDX_1 in trange(20):\n",
    "    for DATA_IDX_2 in range(20):\n",
    "        path = '/oak/stanford/orgs/kipac/users/delon/LensQuEst/N1-mcmc-nBins%d-morestats-Tcombos_%d_%d-aniso.pkl'%(nBins, DATA_IDX_1, DATA_IDX_2)\n",
    "        with open(path, \"rb\") as f:\n",
    "            c_data[DATA_IDX_1 * 20 * num_rows + DATA_IDX_2 * num_rows : (DATA_IDX_1 * 20 + DATA_IDX_2 + 1) * num_rows, :, :] = pickle.load(f)\n",
    "\n",
    "print(c_data.shape)\n"
   ]
  },
  {
   "cell_type": "code",
   "execution_count": 3,
   "id": "bbcf898e",
   "metadata": {},
   "outputs": [
    {
     "data": {
      "text/plain": [
       "1.0"
      ]
     },
     "execution_count": 3,
     "metadata": {},
     "output_type": "execute_result"
    }
   ],
   "source": [
    "c_data.shape[0]/2000**2"
   ]
  },
  {
   "cell_type": "code",
   "execution_count": 4,
   "id": "70f843f8",
   "metadata": {},
   "outputs": [],
   "source": [
    "def combine_Cl(Cls_tot):\n",
    "    n_runs = np.shape(Cls_tot)[0]\n",
    "    print(n_runs, np.shape(Cls_tot))\n",
    "    lCen = Cls_tot[0][0]\n",
    "    Cls = np.sum(np.transpose(Cls_tot, axes=[1,2,0])[1], axis=1)/n_runs\n",
    "#     sCls = np.sqrt(np.sum(np.square(np.transpose(Cls_tot, axes=[1,2,0])[2]), axis=1))/n_runs\n",
    "    sCls = np.std(np.transpose(Cls_tot, axes=[1,2,0])[1], axis=1)/np.sqrt(n_runs)\n",
    "    return lCen, Cls, sCls"
   ]
  },
  {
   "cell_type": "code",
   "execution_count": 5,
   "id": "fa573122",
   "metadata": {},
   "outputs": [
    {
     "name": "stdout",
     "output_type": "stream",
     "text": [
      "4000000 (4000000, 3, 50)\n"
     ]
    }
   ],
   "source": [
    "N1_mcmc = combine_Cl(c_data)"
   ]
  },
  {
   "cell_type": "code",
   "execution_count": 6,
   "id": "e181a748",
   "metadata": {},
   "outputs": [],
   "source": [
    "with open('/oak/stanford/orgs/kipac/users/delon/LensQuEst/N1-mcmc-nBins%d-morestats-aniso.pkl'%(nBins), \"wb\") as f:\n",
    "    pickle.dump(N1_mcmc, f)"
   ]
  },
  {
   "cell_type": "code",
   "execution_count": 7,
   "id": "8ac0746f",
   "metadata": {},
   "outputs": [
    {
     "data": {
      "image/png": "[encoded data removed]",
      "text/plain": [
       "<Figure size 720x576 with 1 Axes>"
      ]
     },
     "metadata": {
      "needs_background": "light"
     },
     "output_type": "display_data"
    }
   ],
   "source": [
    "fig,ax = plt.subplots(nrows=1, figsize=(10,8))\n",
    "\n",
    "ell = baseMap.l.flatten()\n",
    "theory=[fKK]#, Ntheory]\n",
    "theory_l=[r'$\\big<\\kappa\\kappa\\big>$', r'$N_{\\rm theory}$']\n",
    "theory_s=['black', 'lightgrey']\n",
    "factor = lambda x : 1\n",
    "for f,l,sty in zip(theory, theory_l, theory_s):\n",
    "    L = np.logspace(np.log10(1.), np.log10(np.max(ell)), 201, 10.)\n",
    "    ClExpected = np.array(list(map(f, L)))\n",
    "    ax.plot(L, factor(L)*ClExpected, sty, label=l)\n",
    "    \n",
    "    \n",
    "n1 = np.loadtxt('n1_data/N1_All_analytical.dat').T    \n",
    "indices = ['TT', 'EE', 'EB', 'TE', 'TB', 'BB']\n",
    "bins = n1[0]\n",
    "n1_mat = np.reshape(n1[1:], (len(indices), len(indices), len(bins)))\n",
    "for i in range(len(indices)):\n",
    "    if(indices[i] != 'TT'):\n",
    "        continue        \n",
    "    n1_pp = (bins*(bins+1))**2/(2*np.pi)*(n1_mat[i][i][:])\n",
    "    KK = fKK(bins)\n",
    "\n",
    "    phiphi =  -2. * KK / bins**2\n",
    "    phiphi *=  -2./ bins**2\n",
    "    phiphi *= (bins*(bins+1))**2/(2*np.pi) #convention from CAMB \n",
    "\n",
    "    pp_n1 = n1_pp\n",
    "\n",
    "    KK_n1 = pp_n1 * 2*np.pi / (bins*(bins+1))**2 #back to our convention\n",
    "    KK_n1 *= - bins**2 / 2\n",
    "    KK_n1 *= - bins**2 / 2\n",
    "    f_N1 = interp1d(bins, KK_n1, kind='linear', bounds_error=False, fill_value=0.)\n",
    "    a, b = baseMap.binTheoryPowerSpectrum(f_N1, nBins=nBins)\n",
    "\n",
    "    plt.plot(a, b, 'k--', label=r'$N^{(1)}$')\n",
    "#     plt.plot(a, b*2, 'k--', label=r'$N^{(1)}$ multiplicative correction')\n",
    "    plt.scatter(a, b, marker='x', color='k')\n",
    "\n",
    "    \n",
    "lCen, Cl, sCl = N1_mcmc\n",
    "Ipos = np.where(Cl>0)\n",
    "\n",
    "Ineg = np.where(Cl<0)\n",
    "\n",
    "\n",
    "\n",
    "# t0, t1 = baseMap.binTheoryPowerSpectrum(fKK, nBins=nBins)\n",
    "# t2 = np.zeros_like(t1)\n",
    "\n",
    "\n",
    "ax.errorbar(lCen, (Cl), yerr=sCl, alpha=.75, \n",
    "            fmt='-', capsize=3, capthick=1, label=r'$N^{(1)}_{\\rm MC}$')\n",
    "ax.errorbar(lCen[Ineg], (Cl[Ineg]), yerr=sCl[Ineg], alpha=.75, \n",
    "            fmt='--', capsize=3, capthick=1)#, label=r'$\\left<\\kappa\\kappa\\right>+N^{(1)}_{\\rm MCMC}$')\n",
    "\n",
    "ax.set_title('masked')\n",
    "\n",
    "ax.legend(frameon=False)\n",
    "ax.set_xscale('log')\n",
    "ax.set_xlabel(r'$\\ell$')\n",
    "ax.set_yscale('log')\n",
    "ax.set_xlim(lMin,2*lMax)\n",
    "ax.set_ylim(1.1e-10,.9e-6)\n",
    "plt.savefig('figures/mcn1_2_aniso.pdf')"
   ]
  },
  {
   "cell_type": "code",
   "execution_count": null,
   "id": "28127bdd",
   "metadata": {},
   "outputs": [],
   "source": []
  }
 ],
 "metadata": {
  "kernelspec": {
   "display_name": "nblensing",
   "language": "python",
   "name": "nblensing"
  },
  "language_info": {
   "codemirror_mode": {
    "name": "ipython",
    "version": 3
   },
   "file_extension": ".py",
   "mimetype": "text/x-python",
   "name": "python",
   "nbconvert_exporter": "python",
   "pygments_lexer": "ipython3",
   "version": "3.9.16"
  }
 },
 "nbformat": 4,
 "nbformat_minor": 5
}
