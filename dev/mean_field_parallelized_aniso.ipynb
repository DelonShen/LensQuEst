{
 "cells": [
  {
   "cell_type": "code",
   "execution_count": 1,
   "id": "50b7cf11",
   "metadata": {},
   "outputs": [],
   "source": [
    "import pickle\n",
    "\n",
    "import os, sys\n",
    "WORKING_DIR = os.path.dirname(os.path.abspath(''))\n",
    "sys.path.insert(1, os.path.join(WORKING_DIR,'LensQuEst'))\n",
    "\n",
    "##### \n",
    "import warnings\n",
    "warnings.filterwarnings(\"ignore\")\n",
    "#####\n",
    "\n",
    "from universe import *\n",
    "from halo_fit import *\n",
    "from cmb import *\n",
    "from flat_map import *\n",
    "from weight import *\n",
    "from pn_2d import *"
   ]
  },
  {
   "cell_type": "code",
   "execution_count": 2,
   "id": "77dbd360",
   "metadata": {},
   "outputs": [
    {
     "name": "stdout",
     "output_type": "stream",
     "text": [
      "../data/input/universe_Planck15/camb/CAMB_outputs.pkl\n",
      "loaded estimated ftot\n"
     ]
    }
   ],
   "source": [
    "oup_fname = '../data/input/universe_Planck15/camb/CAMB_outputs.pkl'\n",
    "print(oup_fname)\n",
    "f = open(oup_fname, 'rb') \n",
    "powers,cl,c_lensed,c_lens_response = pickle.load(f)\n",
    "f.close()\n",
    "\n",
    "totCL=powers['total']\n",
    "unlensedCL=powers['unlensed_scalar']\n",
    "\n",
    "L = np.arange(unlensedCL.shape[0])\n",
    "\n",
    "unlensedTT = unlensedCL[:,0]/(L*(L+1))*2*np.pi\n",
    "F = unlensedTT\n",
    "funlensedTT = interp1d(L, F, kind='linear', bounds_error=False, fill_value=0.)\n",
    "\n",
    "L = np.arange(cl.shape[0])\n",
    "PP = cl[:,0]\n",
    "rawPP = PP*2*np.pi/((L*(L+1))**2)\n",
    "rawKK = L**4/4 * rawPP\n",
    "\n",
    "fKK = interp1d(L, rawKK, kind='linear', bounds_error=False, fill_value=0.)\n",
    "\n",
    "L = np.arange(totCL.shape[0])\n",
    "\n",
    "lensedTT = totCL[:,0]/(L*(L+1))*2*np.pi\n",
    "F = lensedTT\n",
    "flensedTT = interp1d(L, F, kind='linear', bounds_error=False, fill_value=0.)\n",
    "\n",
    "\n",
    "ftot = lambda l : flensedTT(l) + cmb.fForeground(l) + cmb.fdetectorNoise(l)\n",
    "ftot = lambda l : flensedTT(l) + cmb.fForeground(l) + cmb.fdetectorNoise(l)\n",
    "\n",
    "\n",
    "with open('f_aniso_ftot_worst_case.pkl', 'rb') as f:\n",
    "    ftot = pickle.load(f)\n",
    "print('loaded estimated ftot')\n",
    "\n",
    "\n",
    "\n",
    "L = np.arange(c_lens_response.shape[0])\n",
    "\n",
    "cTgradT = c_lens_response.T[0]/(L*(L+1))*2*np.pi\n",
    "\n",
    "fTgradT = interp1d(L, cTgradT, kind='linear', bounds_error=False, fill_value=0.)"
   ]
  },
  {
   "cell_type": "code",
   "execution_count": 3,
   "id": "1fdaa28b",
   "metadata": {
    "scrolled": true
   },
   "outputs": [
    {
     "name": "stdout",
     "output_type": "stream",
     "text": [
      "Map properties\n",
      "CMB experiment properties\n",
      "Gets a theoretical prediction for the noise\n",
      "computing the reconstruction noise\n"
     ]
    }
   ],
   "source": [
    "\n",
    "\n",
    "\n",
    "#####\n",
    "N_runs = 2000\n",
    "\n",
    "process = True\n",
    "# number of pixels for the flat map\n",
    "nX = 1200\n",
    "nY = 1200\n",
    "# map dimensions in degrees\n",
    "sizeX = 20.\n",
    "sizeY = 20.\n",
    "\n",
    "#####\n",
    "\n",
    "\n",
    "print(\"Map properties\")\n",
    "\n",
    "\n",
    "mean_field = None\n",
    "\n",
    "\n",
    "# basic map object\n",
    "baseMap = FlatMap(nX=nX, nY=nY, sizeX=sizeX*np.pi/180., sizeY=sizeY*np.pi/180.)\n",
    "\n",
    "# multipoles to include in the lensing reconstruction\n",
    "lMin = 30.; lMax = 3.5e3\n",
    "\n",
    "# ell bins for power spectra\n",
    "lRange = (1., 2.*lMax)  # range for power spectra\n",
    "\n",
    "print(\"CMB experiment properties\")\n",
    "\n",
    "# Adjust the lMin and lMax to the assumptions of the analysis\n",
    "# CMB S3 specs\n",
    "cmb = StageIVCMB(beam=1.4, noise=7., lMin=lMin, lMaxT=lMax, lMaxP=lMax, atm=False)\n",
    "\n",
    "# Total power spectrum, for the lens reconstruction\n",
    "# basiscally gets what we theoretically expect the\n",
    "# power spectrum will look like\n",
    "forCtotal = lambda l: ftot(l) \n",
    "\n",
    "# reinterpolate: gain factor 10 in speed\n",
    "# L = np.logspace(np.log10(lMin/2.), np.log10(2.*lMax), 1001, 10.)\n",
    "# F = np.array(list(map(forCtotal, L)))\n",
    "cmb.fCtotal = ftot\n",
    "\n",
    "print(\"Gets a theoretical prediction for the noise\")\n",
    "fNqCmb_fft = baseMap.forecastN0Kappa(funlensedTT, cmb.fCtotal, lMin=lMin, lMax=lMax, test=False)"
   ]
  },
  {
   "cell_type": "code",
   "execution_count": 4,
   "id": "5920b446",
   "metadata": {},
   "outputs": [
    {
     "name": "stderr",
     "output_type": "stream",
     "text": [
      "100%|██████████| 2000/2000 [2:30:18<00:00,  4.51s/it]  \n"
     ]
    }
   ],
   "source": [
    "from multiprocessing import Pool\n",
    "from tqdm import trange, tqdm\n",
    "errmap = None\n",
    "\n",
    "with open('anisotropic_noise_map_worst_case.pkl', 'rb') as f:\n",
    "    errmap = pickle.load(f)\n",
    "\n",
    "def process_run(i):\n",
    "    np.random.seed(i+609238472)\n",
    "    cmb0Fourier = baseMap.genGRF(funlensedTT, test=False)\n",
    "    cmb0 = baseMap.inverseFourier(cmb0Fourier)\n",
    "\n",
    "    kCmbFourier = baseMap.genGRF(fKK, test=False)\n",
    "    kCmb = baseMap.inverseFourier(kCmbFourier)\n",
    "\n",
    "    lensedCmb = baseMap.doLensing(cmb0, kappaFourier=kCmbFourier)\n",
    "    lensedCmbFourier = baseMap.fourier(lensedCmb)\n",
    "\n",
    "    fgFourier = baseMap.genGRF(cmb.fForeground, test=False)\n",
    "    \n",
    "    lensedCmbFourier = lensedCmbFourier + fgFourier\n",
    "    lensedCmb = baseMap.inverseFourier(lensedCmbFourier)\n",
    "\n",
    "    noiseFourier = baseMap.genGRF(cmb.fdetectorNoise, test=False)\n",
    "    \n",
    "\n",
    "    #first we'll renormalize error map so that when we apply the error map, \n",
    "    #at best, anisotropic_noise = isotropic noise\n",
    "#     print('applying anisotropic detector noise')\n",
    "    aniso_noise = baseMap.inverseFourier(noiseFourier) / np.min(errmap)\n",
    "    aniso_noise = aniso_noise * errmap # apply errmap\n",
    "    aniso_noise_fourier = baseMap.fourier(aniso_noise)\n",
    "\n",
    " \n",
    "    totalCmbFourier = lensedCmbFourier + aniso_noise_fourier\n",
    "    totalCmb = baseMap.inverseFourier(totalCmbFourier)\n",
    "\n",
    "    kappa_map = baseMap.computeQuadEstKappaNorm(\n",
    "        fTgradT, cmb.fCtotal, lMin=lMin, lMax=lMax, dataFourier=totalCmbFourier\n",
    "    )\n",
    "    return kappa_map\n",
    "\n",
    "\n",
    "with Pool() as pool:\n",
    "    results = list(tqdm(pool.imap(process_run, range(N_runs)), total=N_runs))\n",
    "mean_field = sum(results)"
   ]
  },
  {
   "cell_type": "code",
   "execution_count": 5,
   "id": "285b8b61",
   "metadata": {},
   "outputs": [],
   "source": [
    "f = open('/oak/stanford/orgs/kipac/users/delon/LensQuEst/mean_field_1200x1200_20x20_worst_case_aniso_noise.pkl', 'wb') \n",
    "pickle.dump(mean_field/N_runs, f)\n",
    "f.close()"
   ]
  },
  {
   "cell_type": "code",
   "execution_count": 6,
   "id": "2d92e492",
   "metadata": {},
   "outputs": [
    {
     "data": {
      "text/plain": [
       "(1200, 601)"
      ]
     },
     "execution_count": 6,
     "metadata": {},
     "output_type": "execute_result"
    }
   ],
   "source": [
    "mean_field.shape"
   ]
  },
  {
   "cell_type": "code",
   "execution_count": 7,
   "id": "55ae8e7a",
   "metadata": {},
   "outputs": [
    {
     "data": {
      "text/plain": [
       "(2000, 1200, 601)"
      ]
     },
     "execution_count": 7,
     "metadata": {},
     "output_type": "execute_result"
    }
   ],
   "source": [
    "np.array(results).shape"
   ]
  },
  {
   "cell_type": "code",
   "execution_count": 8,
   "id": "18770ffa",
   "metadata": {},
   "outputs": [],
   "source": [
    "# f = open('/oak/stanford/orgs/kipac/users/delon/LensQuEst/mean_field_1200x1200_20x20_aniso_noise.pkl', 'wb') \n",
    "# pickle.dump(np.mean(results, axis=0), f)\n",
    "# f.close()"
   ]
  },
  {
   "cell_type": "code",
   "execution_count": 9,
   "id": "b4b353a2",
   "metadata": {},
   "outputs": [],
   "source": [
    "f = open('/oak/stanford/orgs/kipac/users/delon/LensQuEst/mean_field_1200x1200_20x20_worst_case_aniso_noise_intermediate_0.pkl', 'wb') \n",
    "pickle.dump(results, f)\n",
    "f.close()"
   ]
  },
  {
   "cell_type": "code",
   "execution_count": null,
   "id": "589798de",
   "metadata": {},
   "outputs": [],
   "source": []
  }
 ],
 "metadata": {
  "kernelspec": {
   "display_name": "nblensing",
   "language": "python",
   "name": "nblensing"
  },
  "language_info": {
   "codemirror_mode": {
    "name": "ipython",
    "version": 3
   },
   "file_extension": ".py",
   "mimetype": "text/x-python",
   "name": "python",
   "nbconvert_exporter": "python",
   "pygments_lexer": "ipython3",
   "version": "3.9.16"
  }
 },
 "nbformat": 4,
 "nbformat_minor": 5
}
