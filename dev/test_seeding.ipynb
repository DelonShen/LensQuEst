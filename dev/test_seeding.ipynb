{
 "cells": [
  {
   "cell_type": "code",
   "execution_count": 8,
   "id": "b810286d",
   "metadata": {},
   "outputs": [],
   "source": [
    "import pickle\n",
    "import numpy as np\n",
    "from tqdm import trange\n"
   ]
  },
  {
   "cell_type": "code",
   "execution_count": 26,
   "id": "1a76619b",
   "metadata": {},
   "outputs": [
    {
     "name": "stderr",
     "output_type": "stream",
     "text": [
      "100%|██████████| 50/50 [00:56<00:00,  1.14s/it]\n"
     ]
    }
   ],
   "source": [
    "# In[12]:\n",
    "in_data = {}\n",
    "\n",
    "\n",
    "for i in trange(1,51):\n",
    "    DATA_FNAME = '/oak/stanford/orgs/kipac/users/delon/LensQuEst/map_sims_800x800_20x20_%d.pkl'%(i)\n",
    "    f = open(DATA_FNAME, 'rb') \n",
    "    c_in_data = pickle.load(f) \n",
    "    f.close()\n",
    "    for key in c_in_data:\n",
    "        if(key != 'totalF_0'):\n",
    "            continue\n",
    "        if(key not in in_data.keys()):\n",
    "            in_data[key] = np.array(c_in_data[key])\n",
    "        else:\n",
    "            in_data[key] = np.vstack( (in_data[key],np.array(c_in_data[key])) )\n"
   ]
  },
  {
   "cell_type": "code",
   "execution_count": 27,
   "id": "95e3a9bd",
   "metadata": {},
   "outputs": [
    {
     "data": {
      "text/plain": [
       "(500, 800, 401)"
      ]
     },
     "execution_count": 27,
     "metadata": {},
     "output_type": "execute_result"
    }
   ],
   "source": [
    "in_data['totalF_0'].shape"
   ]
  },
  {
   "cell_type": "code",
   "execution_count": 30,
   "id": "11ae9848",
   "metadata": {},
   "outputs": [
    {
     "name": "stderr",
     "output_type": "stream",
     "text": [
      "100%|██████████| 500/500 [01:03<00:00,  7.88it/s]\n"
     ]
    }
   ],
   "source": [
    "near_count = 0\n",
    "for i in trange(500):\n",
    "    for j in range(i,500):\n",
    "        if(i==j):\n",
    "            continue\n",
    "        if(np.array_equal(in_data['totalF_0'][i], in_data['totalF_0'][j])):\n",
    "            print('AH')\n",
    "            near_count += 1"
   ]
  },
  {
   "cell_type": "code",
   "execution_count": 31,
   "id": "51575199",
   "metadata": {},
   "outputs": [
    {
     "data": {
      "text/plain": [
       "0"
      ]
     },
     "execution_count": 31,
     "metadata": {},
     "output_type": "execute_result"
    }
   ],
   "source": [
    "near_count"
   ]
  },
  {
   "cell_type": "code",
   "execution_count": null,
   "id": "6857426d",
   "metadata": {},
   "outputs": [],
   "source": []
  }
 ],
 "metadata": {
  "kernelspec": {
   "display_name": "nblensing",
   "language": "python",
   "name": "nblensing"
  },
  "language_info": {
   "codemirror_mode": {
    "name": "ipython",
    "version": 3
   },
   "file_extension": ".py",
   "mimetype": "text/x-python",
   "name": "python",
   "nbconvert_exporter": "python",
   "pygments_lexer": "ipython3",
   "version": "3.9.16"
  }
 },
 "nbformat": 4,
 "nbformat_minor": 5
}
