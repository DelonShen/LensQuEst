{
 "cells": [
  {
   "cell_type": "code",
   "execution_count": 1,
   "id": "6daa9989",
   "metadata": {},
   "outputs": [
    {
     "name": "stdout",
     "output_type": "stream",
     "text": [
      "Map properties\n",
      "../data/input/universe_Planck15/camb/CAMB_outputs.pkl\n"
     ]
    }
   ],
   "source": [
    "import sys\n",
    "\n",
    "#######\n",
    "N_RUNS = 10\n",
    "import warnings\n",
    "warnings.filterwarnings(\"ignore\")\n",
    "#####\n",
    "\n",
    "\n",
    "# In[2]:\n",
    "\n",
    "\n",
    "import os, sys\n",
    "WORKING_DIR = os.path.dirname(os.path.abspath(''))\n",
    "sys.path.insert(1, os.path.join(WORKING_DIR,'LensQuEst'))\n",
    "\n",
    "\n",
    "# In[3]:\n",
    "\n",
    "\n",
    "from universe import *\n",
    "from halo_fit import *\n",
    "from cmb import *\n",
    "from flat_map import *\n",
    "from weight import *\n",
    "from pn_2d import *\n",
    "import pickle\n",
    "import seaborn as sns\n",
    "from scipy.stats import spearmanr\n",
    "\n",
    "\n",
    "# In[4]:\n",
    "\n",
    "\n",
    "print(\"Map properties\")\n",
    "\n",
    "\n",
    "# multipoles to include in the lensing reconstruction\n",
    "lMin = 30.; lMax = 3.5e3\n",
    "\n",
    "\n",
    "from tqdm import trange,tqdm\n",
    "import pickle\n",
    "\n",
    "from itertools import product\n",
    "\n",
    "poss = list(product([True, False], range(N_RUNS)))\n",
    "\n",
    "\n",
    "oup_fname = '../data/input/universe_Planck15/camb/CAMB_outputs.pkl'\n",
    "print(oup_fname)\n",
    "f = open(oup_fname, 'rb')\n",
    "powers,cl,c_lensed,c_lens_response = pickle.load(f)\n",
    "f.close()\n",
    "\n",
    "totCL=powers['total']\n",
    "unlensedCL=powers['unlensed_scalar']\n",
    "\n",
    "L = np.arange(unlensedCL.shape[0])\n",
    "unlensedTT = unlensedCL[:,0]/(L*(L+1))*2*np.pi\n",
    "F = unlensedTT\n",
    "funlensedTT_log = interp1d(L, np.log(F), kind='linear', bounds_error=False, fill_value=0.)\n",
    "funlensedTT = lambda L:np.exp(funlensedTT_log(L))\n",
    "\n",
    "\n",
    "L = np.arange(cl.shape[0])\n",
    "PP = cl[:,0]\n",
    "rawPP = PP*2*np.pi/((L*(L+1))**2)\n",
    "rawKK = L**4/4 * rawPP\n",
    "\n",
    "fKK_log = interp1d(L, np.log(rawKK), kind='linear', bounds_error=False, fill_value=0.)\n",
    "fKK = lambda L:np.exp(fKK_log(L))\n",
    "\n",
    "\n",
    "L = np.arange(totCL.shape[0])\n",
    "\n",
    "lensedTT = totCL[:,0]/(L*(L+1))*2*np.pi\n",
    "F = lensedTT\n",
    "flensedTT_log = interp1d(L, np.log(F), kind='linear', bounds_error=False, fill_value=0.)\n",
    "flensedTT = lambda L:np.exp(flensedTT_log(L))\n",
    "\n",
    "\n",
    "ftot = lambda l : flensedTT(l) + cmb.fForeground(l) + cmb.fdetectorNoise(l)\n",
    "\n",
    "\n",
    "L = np.arange(c_lens_response.shape[0])\n",
    "\n",
    "cTgradT = c_lens_response.T[0]/(L*(L+1))*2*np.pi\n",
    "\n",
    "fTgradT_log = interp1d(L, np.log(cTgradT), kind='linear', bounds_error=False, fill_value=0.)\n",
    "fTgradT = lambda L:np.exp(fTgradT_log(L))\n",
    "\n"
   ]
  },
  {
   "cell_type": "code",
   "execution_count": 2,
   "id": "39351bb6",
   "metadata": {},
   "outputs": [],
   "source": [
    "# Adjust the lMin and lMax to the assumptions of the analysis\n",
    "# CMB S4/SO specs\n",
    "cmb = StageIVCMB(beam=1.4, noise=7., lMin=lMin, lMaxT=lMax, lMaxP=lMax, atm=False)\n",
    "\n",
    "# Total power spectrum, for the lens reconstruction\n",
    "# basiscally gets what we theoretically expect the\n",
    "# power spectrum will look like\n",
    "cmb.fCtotal = ftot \n",
    "\n",
    "frandomizePhase = lambda z: np.abs(z) * np.exp(1j*np.random.uniform(0., 2.*np.pi))"
   ]
  },
  {
   "cell_type": "code",
   "execution_count": 3,
   "id": "ad21fa18",
   "metadata": {},
   "outputs": [],
   "source": [
    "# number of pixels for the flat map\n",
    "nX = 1200\n",
    "nY = 1200\n",
    "\n",
    "# map dimensions in degrees\n",
    "sizeX = 20.\n",
    "sizeY = 20.\n",
    "\n",
    "# basic map object\n",
    "baseMap = FlatMap(nX=nX, nY=nY, sizeX=sizeX*np.pi/180., sizeY=sizeY*np.pi/180.)\n"
   ]
  },
  {
   "cell_type": "code",
   "execution_count": 4,
   "id": "3f2e7895",
   "metadata": {},
   "outputs": [],
   "source": [
    "def gen_clFourier(fcur, baseMap):\n",
    "    f = lambda l: np.sqrt(fcur(l))\n",
    "    clFourier = np.array(list(map(f, baseMap.l.flatten())))\n",
    "    clFourier = np.nan_to_num(clFourier)\n",
    "    clFourier = clFourier.reshape(np.shape(baseMap.l))\n",
    "    return clFourier"
   ]
  },
  {
   "cell_type": "code",
   "execution_count": 5,
   "id": "55705fe5",
   "metadata": {},
   "outputs": [
    {
     "name": "stdout",
     "output_type": "stream",
     "text": [
      "precomputing Cls\n"
     ]
    }
   ],
   "source": [
    "print('precomputing Cls')\n",
    "clFourier_ftot = gen_clFourier(ftot, baseMap)\n"
   ]
  },
  {
   "cell_type": "code",
   "execution_count": 6,
   "id": "3b2e4055",
   "metadata": {},
   "outputs": [],
   "source": [
    "totalCmbFourier = baseMap.genGRF(ftot, clFourier= clFourier_ftot)\n",
    "dataFourier = np.ones_like(totalCmbFourier)\n",
    "dataFourier *= clFourier_ftot * np.sqrt((baseMap.sizeX)* (baseMap.sizeY))\n",
    "\n",
    "\n",
    "TRand = np.array(list(map(frandomizePhase, dataFourier.flatten())))\n",
    "TRand = TRand.reshape(dataFourier.shape)"
   ]
  },
  {
   "cell_type": "code",
   "execution_count": 7,
   "id": "7000675d",
   "metadata": {},
   "outputs": [],
   "source": [
    "sqrtNhat = baseMap.computeQuadEstKappaAutoCorrectionMap(fTgradT,\n",
    "                                                        cmb.fCtotal, \n",
    "                                                        lMin=lMin, lMax=lMax, \n",
    "                                                        dataFourier=TRand)"
   ]
  },
  {
   "cell_type": "code",
   "execution_count": 14,
   "id": "e9fd2c4c",
   "metadata": {},
   "outputs": [
    {
     "name": "stdout",
     "output_type": "stream",
     "text": [
      "precomputing Cls\n"
     ]
    }
   ],
   "source": [
    "# number of pixels for the flat map\n",
    "nX = 600\n",
    "nY = 600\n",
    "\n",
    "# map dimensions in degrees\n",
    "sizeX = 20.\n",
    "sizeY = 20.\n",
    "\n",
    "# basic map object\n",
    "baseMapSmall = FlatMap(nX=nX, nY=nY, sizeX=sizeX*np.pi/180., sizeY=sizeY*np.pi/180.)\n",
    "print('precomputing Cls')\n",
    "clFourier_ftot = gen_clFourier(ftot, baseMapSmall)\n",
    "totalCmbFourier = baseMapSmall.genGRF(ftot, clFourier= clFourier_ftot)\n",
    "dataFourier = np.ones_like(totalCmbFourier)\n",
    "dataFourier *= clFourier_ftot * np.sqrt((baseMapSmall.sizeX)* (baseMapSmall.sizeY))\n",
    "\n",
    "\n",
    "TRandSmall = np.array(list(map(frandomizePhase, dataFourier.flatten())))\n",
    "TRandSmall = TRandSmall.reshape(dataFourier.shape)"
   ]
  },
  {
   "cell_type": "code",
   "execution_count": 15,
   "id": "27f87587",
   "metadata": {},
   "outputs": [],
   "source": [
    "sqrtNhatSmall = baseMapSmall.computeQuadEstKappaAutoCorrectionMap(fTgradT,\n",
    "                                                        cmb.fCtotal, \n",
    "                                                        lMin=lMin, lMax=lMax, \n",
    "                                                        dataFourier=TRandSmall)\n",
    "\n"
   ]
  },
  {
   "cell_type": "code",
   "execution_count": 51,
   "id": "4f426250",
   "metadata": {},
   "outputs": [
    {
     "name": "stdout",
     "output_type": "stream",
     "text": [
      "precomputing Cls\n"
     ]
    }
   ],
   "source": [
    "\n",
    "# number of pixels for the flat map\n",
    "nX = 800\n",
    "nY = 800\n",
    "\n",
    "# map dimensions in degrees\n",
    "sizeX = 20.\n",
    "sizeY = 20.\n",
    "\n",
    "# basic map object\n",
    "baseMapMedium = FlatMap(nX=nX, nY=nY, sizeX=sizeX*np.pi/180., sizeY=sizeY*np.pi/180.)\n",
    "print('precomputing Cls')\n",
    "clFourier_ftot = gen_clFourier(ftot, baseMapMedium)\n",
    "totalCmbFourier = baseMapMedium.genGRF(ftot, clFourier= clFourier_ftot)\n",
    "dataFourier = np.ones_like(totalCmbFourier)\n",
    "dataFourier *= clFourier_ftot * np.sqrt((baseMapMedium.sizeX)* (baseMapMedium.sizeY))\n",
    "\n",
    "\n",
    "TRandMedium = np.array(list(map(frandomizePhase, dataFourier.flatten())))\n",
    "TRandMedium = TRandMedium.reshape(dataFourier.shape)\n",
    "\n",
    "sqrtNhatMedium = baseMapMedium.computeQuadEstKappaAutoCorrectionMap(fTgradT,\n",
    "                                                        cmb.fCtotal, \n",
    "                                                        lMin=lMin, lMax=lMax, \n",
    "                                                        dataFourier=TRandMedium)\n"
   ]
  },
  {
   "cell_type": "code",
   "execution_count": 52,
   "id": "6923f4d5",
   "metadata": {},
   "outputs": [],
   "source": [
    "Nhat = baseMap.powerSpectrum(dataFourier=sqrtNhat, nBins=51)\n",
    "NhatSmall = baseMapSmall.powerSpectrum(dataFourier=sqrtNhatSmall, nBins=51)\n",
    "NhatMedium = baseMapMedium.powerSpectrum(dataFourier=sqrtNhatMedium, nBins=51)"
   ]
  },
  {
   "cell_type": "code",
   "execution_count": 16,
   "id": "9b93c5f4",
   "metadata": {},
   "outputs": [
    {
     "name": "stdout",
     "output_type": "stream",
     "text": [
      "Gets a theoretical prediction for the noise\n",
      "computing the reconstruction noise\n",
      "Gets a theoretical prediction for the noise\n",
      "computing the reconstruction noise\n"
     ]
    }
   ],
   "source": [
    "print(\"Gets a theoretical prediction for the noise\")\n",
    "fNqCmb_fft = baseMap.forecastN0Kappa(fTgradT, cmb.fCtotal, lMin=lMin, lMax=lMax, test=False)\n",
    "Ntheory = lambda l: fNqCmb_fft(l) \n",
    "LBinned, NtheoryBinned = baseMap.binTheoryPowerSpectrum(Ntheory, nBins=51)\n",
    "\n",
    "print(\"Gets a theoretical prediction for the noise\")\n",
    "fNqCmb_fftSmall = baseMapSmall.forecastN0Kappa(fTgradT, cmb.fCtotal, lMin=lMin, lMax=lMax, test=False)\n",
    "NtheorySmall = lambda l: fNqCmb_fftSmall(l) \n",
    "LBinnedSmall, NtheoryBinnedSmall = baseMapSmall.binTheoryPowerSpectrum(NtheorySmall, nBins=51)\n"
   ]
  },
  {
   "cell_type": "code",
   "execution_count": 53,
   "id": "2e4054cd",
   "metadata": {},
   "outputs": [
    {
     "name": "stdout",
     "output_type": "stream",
     "text": [
      "Gets a theoretical prediction for the noise\n",
      "computing the reconstruction noise\n"
     ]
    }
   ],
   "source": [
    "\n",
    "print(\"Gets a theoretical prediction for the noise\")\n",
    "fNqCmb_fftMedium = baseMapMedium.forecastN0Kappa(fTgradT, cmb.fCtotal, lMin=lMin, lMax=lMax, test=False)\n",
    "NtheoryMedium = lambda l: fNqCmb_fftMedium(l) \n",
    "LBinnedMedium, NtheoryBinnedMedium = baseMapMedium.binTheoryPowerSpectrum(NtheoryMedium, nBins=51)"
   ]
  },
  {
   "cell_type": "code",
   "execution_count": 55,
   "id": "aeea4d4a",
   "metadata": {},
   "outputs": [
    {
     "data": {
      "image/png": "[encoded data removed]",
      "text/plain": [
       "<Figure size 576x576 with 1 Axes>"
      ]
     },
     "metadata": {
      "needs_background": "light"
     },
     "output_type": "display_data"
    }
   ],
   "source": [
    "plt.figure(figsize=(8,8))\n",
    "assert((Nhat[0] == LBinned).all())\n",
    "assert((NhatSmall[0] == LBinnedSmall).all())\n",
    "plt.rcParams['text.usetex'] = True\n",
    "plt.rcParams['font.size'] = 32\n",
    "plt.fill_between([0, 1e20], [-0.001, -0.001], [0.001, 0.001], alpha=1, color='0.95')#, label=r'$<1\\%$ Error')\n",
    "\n",
    "plt.plot(Nhat[0], (Nhat[1]-NtheoryBinned)/NtheoryBinned, label='1200x1200')\n",
    "# plt.plot(NhatSmall[0], (NhatSmall[1]-NtheoryBinnedSmall)/NtheoryBinnedSmall, label='600x600')\n",
    "plt.scatter(NhatSmall[0], (NhatSmall[1]-NtheoryBinnedSmall)/NtheoryBinnedSmall, \n",
    "            c='r', marker='+',\n",
    "            s=30, label='600x600')\n",
    "\n",
    "\n",
    "\n",
    "plt.scatter(NhatMedium[0], (NhatMedium[1]-NtheoryBinnedMedium)/NtheoryBinnedMedium, \n",
    "            c='g', marker='x',\n",
    "            s=30, label='800x800')\n",
    "\n",
    "plt.xscale('log')\n",
    "\n",
    "\n",
    "\n",
    "plt.legend(frameon=False)\n",
    "plt.xscale('log')\n",
    "plt.xlabel(r'$\\ell$')\n",
    "plt.ylabel(r'$\\frac{\\hat N-N_{\\rm theory}}{N_{\\rm theory}}$')\n",
    "\n",
    "# ax.set_yscale('log')\n",
    "plt.xlim(lMin,2*lMax)\n",
    "# ax.set_ylim(1.1e-10,.9e-3)\n",
    "\n",
    "\n",
    "# ax.set_yscale('symlog', linthresh=.5e-2) \n",
    "\n",
    "plt.axhline(0, c='k')\n",
    "\n",
    "plt.ylim(-.25e-2, .25e-2)\n",
    "plt.xlim(32, 3000)\n",
    "plt.yticks([-0.001,- 0.002,0.001, 0.002])\n",
    "plt.legend(frameon=False)\n",
    "# ax.set_yticks([-1e-1,-1e-2,-1e-3,1e-1,1e-2,1e-3])\n",
    "plt.savefig('figures/is nhat trand aliasing.pdf')"
   ]
  },
  {
   "cell_type": "code",
   "execution_count": null,
   "id": "92186404",
   "metadata": {},
   "outputs": [],
   "source": []
  }
 ],
 "metadata": {
  "kernelspec": {
   "display_name": "nblensing",
   "language": "python",
   "name": "nblensing"
  },
  "language_info": {
   "codemirror_mode": {
    "name": "ipython",
    "version": 3
   },
   "file_extension": ".py",
   "mimetype": "text/x-python",
   "name": "python",
   "nbconvert_exporter": "python",
   "pygments_lexer": "ipython3",
   "version": "3.9.16"
  }
 },
 "nbformat": 4,
 "nbformat_minor": 5
}
