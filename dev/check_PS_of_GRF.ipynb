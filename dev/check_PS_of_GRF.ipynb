{
 "cells": [
  {
   "cell_type": "code",
   "execution_count": 1,
   "id": "a2b048c9",
   "metadata": {},
   "outputs": [],
   "source": [
    "#######\n",
    "IN_DATA_FNAMES = ['/oak/stanford/orgs/kipac/users/delon/LensQuEst/map_sims_%d.pkl'%(i) for i in range(1,51)]\n",
    "import warnings\n",
    "warnings.filterwarnings(\"ignore\")\n",
    "#####"
   ]
  },
  {
   "cell_type": "code",
   "execution_count": 2,
   "id": "aeeec8ff",
   "metadata": {},
   "outputs": [],
   "source": [
    "import os, sys\n",
    "WORKING_DIR = os.path.dirname(os.path.abspath(''))\n",
    "sys.path.insert(1, os.path.join(WORKING_DIR,'LensQuEst'))"
   ]
  },
  {
   "cell_type": "code",
   "execution_count": 3,
   "id": "860f8df9",
   "metadata": {},
   "outputs": [],
   "source": [
    "from universe import *\n",
    "from halo_fit import *\n",
    "from cmb import *\n",
    "from flat_map import *\n",
    "from weight import *\n",
    "from pn_2d import *\n",
    "import pickle\n",
    "import seaborn as sns\n",
    "from scipy.stats import spearmanr\n",
    "import matplotlib\n",
    "from tqdm import trange, tqdm"
   ]
  },
  {
   "cell_type": "code",
   "execution_count": 4,
   "id": "f9929e72",
   "metadata": {},
   "outputs": [
    {
     "name": "stdout",
     "output_type": "stream",
     "text": [
      "Map properties\n"
     ]
    }
   ],
   "source": [
    "print(\"Map properties\")\n",
    "\n",
    "# number of pixels for the flat map\n",
    "nX = 1200\n",
    "nY =1200\n",
    "\n",
    "# map dimensions in degrees\n",
    "sizeX = 20.\n",
    "sizeY = 20.\n",
    "\n",
    "# basic map object\n",
    "baseMap = FlatMap(nX=nX, nY=nY, sizeX=sizeX*np.pi/180., sizeY=sizeY*np.pi/180.)\n",
    "\n",
    "# multipoles to include in the lensing reconstruction\n",
    "lMin = 30.; lMax = 3.5e3\n",
    "\n",
    "# ell bins for power spectra\n",
    "nBins = 51  # number of bins\n",
    "lRange = (1., 2.*lMax)  # range for power spectra"
   ]
  },
  {
   "cell_type": "code",
   "execution_count": 5,
   "id": "941cc07b",
   "metadata": {},
   "outputs": [
    {
     "name": "stdout",
     "output_type": "stream",
     "text": [
      "../data/input/universe_Planck15/camb/CAMB_outputs.pkl\n"
     ]
    }
   ],
   "source": [
    "oup_fname = '../data/input/universe_Planck15/camb/CAMB_outputs.pkl'\n",
    "print(oup_fname)\n",
    "f = open(oup_fname, 'rb') \n",
    "powers,cl,c_lensed,c_lens_response = pickle.load(f)\n",
    "f.close()\n",
    "\n",
    "totCL=powers['total']\n",
    "unlensedCL=powers['unlensed_scalar']\n",
    "\n",
    "L = np.arange(unlensedCL.shape[0])\n",
    "\n",
    "unlensedTT = unlensedCL[:,0]/(L*(L+1))*2*np.pi\n",
    "F = unlensedTT\n",
    "funlensedTT = interp1d(L, F, kind='linear', bounds_error=False, fill_value=0.)\n",
    "\n",
    "L = np.arange(cl.shape[0])\n",
    "PP = cl[:,0]\n",
    "rawPP = PP*2*np.pi/((L*(L+1))**2)\n",
    "rawKK = L**4/4 * rawPP\n",
    "\n",
    "fKK = interp1d(L, rawKK, kind='linear', bounds_error=False, fill_value=0.)\n",
    "\n",
    "L = np.arange(totCL.shape[0])\n",
    "\n",
    "lensedTT = totCL[:,0]/(L*(L+1))*2*np.pi\n",
    "F = lensedTT\n",
    "flensedTT = interp1d(L, F, kind='linear', bounds_error=False, fill_value=0.)\n",
    "\n",
    "\n",
    "ftot = lambda l : flensedTT(l) + cmb.fForeground(l) + cmb.fdetectorNoise(l)\n",
    "\n",
    "\n",
    "L = np.arange(c_lens_response.shape[0])\n",
    "\n",
    "cTgradT = c_lens_response.T[0]/(L*(L+1))*2*np.pi\n",
    "\n",
    "fTgradT = interp1d(L, cTgradT, kind='linear', bounds_error=False, fill_value=0.)"
   ]
  },
  {
   "cell_type": "code",
   "execution_count": 6,
   "id": "194aacbd",
   "metadata": {},
   "outputs": [],
   "source": [
    "# Adjust the lMin and lMax to the assumptions of the analysis\n",
    "# CMB S4/SO specs\n",
    "cmb = StageIVCMB(beam=1.4, noise=7., lMin=lMin, lMaxT=lMax, lMaxP=lMax, atm=False)\n",
    "\n",
    "# Total power spectrum, for the lens reconstruction\n",
    "# basiscally gets what we theoretically expect the\n",
    "# power spectrum will look like\n",
    "forCtotal = lambda l: ftot(l) \n",
    "\n",
    "# reinterpolate: gain factor 10 in speed\n",
    "L = np.logspace(np.log10(lMin/2.), np.log10(2.*lMax), 1001, 10.)\n",
    "F = np.array(list(map(forCtotal, L)))\n",
    "cmb.fCtotal = interp1d(L, F, kind='linear', bounds_error=False, fill_value=0.)"
   ]
  },
  {
   "cell_type": "code",
   "execution_count": 7,
   "id": "906f9382",
   "metadata": {},
   "outputs": [
    {
     "name": "stdout",
     "output_type": "stream",
     "text": [
      "Gets a theoretical prediction for the noise\n",
      "computing the reconstruction noise\n"
     ]
    }
   ],
   "source": [
    "print(\"Gets a theoretical prediction for the noise\")\n",
    "fNqCmb_fft = baseMap.forecastN0Kappa(fTgradT, cmb.fCtotal, lMin=lMin, lMax=lMax, test=False)\n",
    "Ntheory = lambda l: fNqCmb_fft(l) "
   ]
  },
  {
   "cell_type": "code",
   "execution_count": 8,
   "id": "c55af251",
   "metadata": {},
   "outputs": [
    {
     "name": "stderr",
     "output_type": "stream",
     "text": [
      "  0%|          | 0/50 [00:00<?, ?it/s]\n"
     ]
    },
    {
     "ename": "FileNotFoundError",
     "evalue": "[Errno 2] No such file or directory: '/oak/stanford/orgs/kipac/users/delon/LensQuEst/map_sims_1.pkl'",
     "output_type": "error",
     "traceback": [
      "\u001b[0;31m---------------------------------------------------------------------------\u001b[0m",
      "\u001b[0;31mFileNotFoundError\u001b[0m                         Traceback (most recent call last)",
      "\u001b[0;32m/tmp/ipykernel_1109/1454109825.py\u001b[0m in \u001b[0;36m<module>\u001b[0;34m\u001b[0m\n\u001b[1;32m      3\u001b[0m \u001b[0;32mfor\u001b[0m \u001b[0mfile_idx\u001b[0m \u001b[0;32min\u001b[0m \u001b[0mtrange\u001b[0m\u001b[0;34m(\u001b[0m\u001b[0;36m1\u001b[0m\u001b[0;34m,\u001b[0m\u001b[0;36m51\u001b[0m\u001b[0;34m)\u001b[0m\u001b[0;34m:\u001b[0m\u001b[0;34m\u001b[0m\u001b[0;34m\u001b[0m\u001b[0m\n\u001b[1;32m      4\u001b[0m     \u001b[0mfname\u001b[0m \u001b[0;34m=\u001b[0m \u001b[0mIN_DATA_FNAMES\u001b[0m\u001b[0;34m[\u001b[0m\u001b[0mfile_idx\u001b[0m\u001b[0;34m-\u001b[0m\u001b[0;36m1\u001b[0m\u001b[0;34m]\u001b[0m\u001b[0;34m\u001b[0m\u001b[0;34m\u001b[0m\u001b[0m\n\u001b[0;32m----> 5\u001b[0;31m     \u001b[0mf\u001b[0m \u001b[0;34m=\u001b[0m \u001b[0mopen\u001b[0m\u001b[0;34m(\u001b[0m\u001b[0mfname\u001b[0m\u001b[0;34m,\u001b[0m \u001b[0;34m'rb'\u001b[0m\u001b[0;34m)\u001b[0m\u001b[0;34m\u001b[0m\u001b[0;34m\u001b[0m\u001b[0m\n\u001b[0m\u001b[1;32m      6\u001b[0m     \u001b[0mc_in_data\u001b[0m \u001b[0;34m=\u001b[0m \u001b[0mpickle\u001b[0m\u001b[0;34m.\u001b[0m\u001b[0mload\u001b[0m\u001b[0;34m(\u001b[0m\u001b[0mf\u001b[0m\u001b[0;34m)\u001b[0m\u001b[0;34m\u001b[0m\u001b[0;34m\u001b[0m\u001b[0m\n\u001b[1;32m      7\u001b[0m     \u001b[0mf\u001b[0m\u001b[0;34m.\u001b[0m\u001b[0mclose\u001b[0m\u001b[0;34m(\u001b[0m\u001b[0;34m)\u001b[0m\u001b[0;34m\u001b[0m\u001b[0;34m\u001b[0m\u001b[0m\n",
      "\u001b[0;31mFileNotFoundError\u001b[0m: [Errno 2] No such file or directory: '/oak/stanford/orgs/kipac/users/delon/LensQuEst/map_sims_1.pkl'"
     ]
    }
   ],
   "source": [
    "# In[12]:\n",
    "in_data = {}\n",
    "for file_idx in trange(1,51):\n",
    "    fname = IN_DATA_FNAMES[file_idx-1]\n",
    "    f = open(fname, 'rb') \n",
    "    c_in_data = pickle.load(f) \n",
    "    f.close()\n",
    "    for key in c_in_data:\n",
    "        if(key not in in_data.keys()):\n",
    "            in_data[key] = np.array(c_in_data[key])\n",
    "        else:\n",
    "            in_data[key] = np.vstack( (in_data[key],np.array(c_in_data[key])) )\n",
    "\n",
    "\n",
    "for key in in_data:\n",
    "    print(key, np.shape(in_data[key]))"
   ]
  },
  {
   "cell_type": "code",
   "execution_count": null,
   "id": "f97bca78",
   "metadata": {},
   "outputs": [],
   "source": [
    "ps_data = {}\n",
    "\n",
    "\n",
    "#estimate GRF Nhat\n",
    "ck = 'GRF'\n",
    "for data_idx in trange(500):\n",
    "    curr_data = in_data['totalF_0'][data_idx]\n",
    "    \n",
    "    c_ps_data = {}\n",
    "    c_ps_data[ck] = [0,0,0]\n",
    "    c_ps_data[ck][0], c_ps_data[ck][1], c_ps_data[ck][2] = baseMap.powerSpectrum(dataFourier=curr_data, nBins=nBins)\n",
    "    if(ck not in ps_data.keys()):\n",
    "        ps_data[ck] = np.array([c_ps_data[ck]])\n",
    "    else:\n",
    "        ps_data[ck] = np.vstack(( ps_data[ck], np.array([c_ps_data[ck]])))  "
   ]
  },
  {
   "cell_type": "code",
   "execution_count": null,
   "id": "c406dfd6",
   "metadata": {},
   "outputs": [],
   "source": [
    "ck = 'lensed'\n",
    "for data_idx in trange(500):\n",
    "    curr_data = in_data['totalF_1'][data_idx]\n",
    "    \n",
    "    c_ps_data = {}\n",
    "    c_ps_data[ck] = [0,0,0]\n",
    "    c_ps_data[ck][0], c_ps_data[ck][1], c_ps_data[ck][2] = baseMap.powerSpectrum(dataFourier=curr_data, nBins=nBins)\n",
    "    if(ck not in ps_data.keys()):\n",
    "        ps_data[ck] = np.array([c_ps_data[ck]])\n",
    "    else:\n",
    "        ps_data[ck] = np.vstack(( ps_data[ck], np.array([c_ps_data[ck]])))  "
   ]
  },
  {
   "cell_type": "code",
   "execution_count": null,
   "id": "f3dec13e",
   "metadata": {},
   "outputs": [],
   "source": [
    "L, ClExpected= baseMap.binTheoryPowerSpectrum(ftot, nBins=nBins)"
   ]
  },
  {
   "cell_type": "code",
   "execution_count": null,
   "id": "6055c455",
   "metadata": {},
   "outputs": [],
   "source": [
    "def combine_Cl(Cls_tot):\n",
    "    n_runs = np.shape(Cls_tot)[0]\n",
    "    print(n_runs, np.shape(Cls_tot))\n",
    "    lCen = Cls_tot[0][0]\n",
    "    Cls = np.sum(np.transpose(Cls_tot, axes=[1,2,0])[1], axis=1)/n_runs\n",
    "#     sCls = np.sqrt(np.sum(np.square(np.transpose(Cls_tot, axes=[1,2,0])[2]), axis=1))/n_runs\n",
    "    sCls = np.std(np.transpose(Cls_tot, axes=[1,2,0])[1], axis=1)/np.sqrt(n_runs)\n",
    "    return lCen, Cls, sCls"
   ]
  },
  {
   "cell_type": "code",
   "execution_count": null,
   "id": "99172331",
   "metadata": {},
   "outputs": [],
   "source": [
    "ps_data['GRF'].shape\n",
    "fig = plt.figure(figsize=(16,9))\n",
    "axs=[fig.add_axes((0.2,0.2,.75,.6)), fig.add_axes((0.2,0.0,.75,.2)),  fig.add_axes((0.2,-0.2,.75,.2))]\n",
    "plt.rcParams['text.usetex'] = True\n",
    "\n",
    "plt.rcParams['font.size'] = 20\n",
    "\n",
    "\n",
    "\n",
    "    \n",
    "lCen, Cl, sCl = combine_Cl(ps_data['GRF'])\n",
    "Ipos = np.where(Cl>0)\n",
    "axs[0].errorbar(lCen[Ipos], (Cl[Ipos]), yerr=sCl[Ipos], alpha=.75, \n",
    "                fmt='-', capsize=3, capthick=1, label='PS of GRF data', c='blue')\n",
    "\n",
    "assert((lCen[Ipos] == L[Ipos]).all())\n",
    "\n",
    "axs[1].errorbar(lCen[Ipos], (Cl[Ipos] - ClExpected[Ipos])/ClExpected[Ipos], yerr=sCl[Ipos]/ClExpected[Ipos], alpha=.75, \n",
    "                fmt='-', capsize=3, capthick=1, label='GRF data', c='blue')\n",
    "\n",
    "\n",
    "theoryIpos = np.where(ClExpected > 0)\n",
    "axs[0].plot(L[theoryIpos], ClExpected[theoryIpos], 'red', label=r'$C_L^{\\rm tot}$ [Binned]')    \n",
    "\n",
    "\n",
    "unbinnedCl = np.array(list(map(ftot, L)))\n",
    "axs[0].plot(L[theoryIpos], unbinnedCl[theoryIpos], 'green', label=r'$C_L^{\\rm tot}$ [Unbinned]')    \n",
    "\n",
    "for lCen, Cl, sCl in ps_data['GRF']:\n",
    "    Ipos = np.where(Cl>0)\n",
    "    axs[0].plot(lCen[Ipos], Cl[Ipos], alpha=0.005, color='blue')\n",
    "    assert((lCen[Ipos] == L[Ipos]).all())\n",
    "    axs[1].plot(lCen[Ipos], (Cl[Ipos] - ClExpected[Ipos])/ClExpected[Ipos], alpha=0.01, color='blue')\n",
    "    axs[2].plot(lCen[Ipos], (Cl[Ipos] - unbinnedCl[Ipos])/unbinnedCl[Ipos], alpha=0.01, color='blue')\n",
    "\n",
    "# axs[0].plot(lCen[Ipos], Cl[Ipos], alpha=1, color='blue', label='GRFs')\n",
    "\n",
    "axs[0].legend(frameon=False)\n",
    "axs[0].set_xscale('log')\n",
    "axs[0].set_yscale('log')\n",
    "axs[0].set_xlim(lCen[Ipos][0], lCen[Ipos][-1])\n",
    "axs[1].set_xlim(lCen[Ipos][0], lCen[Ipos][-1])\n",
    "axs[2].set_xlim(lCen[Ipos][0], lCen[Ipos][-1])\n",
    "\n",
    "axs[1].set_xscale('log')\n",
    "# axs[1].set_yscale('log')\n",
    "\n",
    "# axs[1].fill_between([0, 1e20], [-0.001, -0.001], [0.001, 0.001], alpha=1, color='0.85')#, label=r'$<1\\%$ Error')\n",
    "\n",
    "axs[1].axhline(0, c='red')\n",
    "\n",
    "axs[1].set_ylim(-.98e-2, .98e-2)\n",
    "\n",
    "\n",
    "\n",
    "\n",
    "axs[2].set_xscale('log')\n",
    "axs[2].axhline(0, c='green')\n",
    "axs[2].set_ylim(-.98e-1, .98e-1)\n",
    "\n",
    "axs[1].set_ylabel('Binned \\nFrac. \\nResidual')\n",
    "axs[2].set_ylabel('Un-binned \\nFrac. \\nResidual')\n",
    "axs[2].set_xlabel(r'$L$')\n"
   ]
  },
  {
   "cell_type": "code",
   "execution_count": null,
   "id": "d55b8ced",
   "metadata": {},
   "outputs": [],
   "source": [
    "# UH OH !!!!"
   ]
  },
  {
   "cell_type": "code",
   "execution_count": null,
   "id": "b2087c13",
   "metadata": {},
   "outputs": [],
   "source": [
    "ps_data['lensed'].shape\n",
    "fig = plt.figure(figsize=(16,9))\n",
    "axs=[fig.add_axes((0.2,0.2,.75,.6)), fig.add_axes((0.2,0.0,.75,.2)),  fig.add_axes((0.2,-0.2,.75,.2))]\n",
    "plt.rcParams['text.usetex'] = True\n",
    "\n",
    "plt.rcParams['font.size'] = 20\n",
    "\n",
    "\n",
    "\n",
    "    \n",
    "lCen, Cl, sCl = combine_Cl(ps_data['lensed'])\n",
    "Ipos = np.where(Cl>0)\n",
    "axs[0].errorbar(lCen[Ipos], (Cl[Ipos]), yerr=sCl[Ipos], alpha=.75, \n",
    "                fmt='-', capsize=3, capthick=1, label='PS of lensed data', c='blue')\n",
    "\n",
    "assert((lCen[Ipos] == L[Ipos]).all())\n",
    "\n",
    "axs[1].errorbar(lCen[Ipos], (Cl[Ipos] - ClExpected[Ipos])/ClExpected[Ipos], yerr=sCl[Ipos]/ClExpected[Ipos], alpha=.75, \n",
    "                fmt='-', capsize=3, capthick=1, label='lensed data', c='blue')\n",
    "\n",
    "\n",
    "theoryIpos = np.where(ClExpected > 0)\n",
    "axs[0].plot(L[theoryIpos], ClExpected[theoryIpos], 'red', label=r'$C_L^{\\rm tot}$ [Binned]')    \n",
    "\n",
    "\n",
    "unbinnedCl = np.array(list(map(ftot, L)))\n",
    "axs[0].plot(L[theoryIpos], unbinnedCl[theoryIpos], 'green', label=r'$C_L^{\\rm tot}$ [Unbinned]')    \n",
    "\n",
    "for lCen, Cl, sCl in ps_data['lensed']:\n",
    "    Ipos = np.where(Cl>0)\n",
    "    axs[0].plot(lCen[Ipos], Cl[Ipos], alpha=0.005, color='blue')\n",
    "    assert((lCen[Ipos] == L[Ipos]).all())\n",
    "    axs[1].plot(lCen[Ipos], (Cl[Ipos] - ClExpected[Ipos])/ClExpected[Ipos], alpha=0.01, color='blue')\n",
    "    axs[2].plot(lCen[Ipos], (Cl[Ipos] - unbinnedCl[Ipos])/unbinnedCl[Ipos], alpha=0.01, color='blue')\n",
    "\n",
    "\n",
    "axs[0].legend(frameon=False)\n",
    "axs[0].set_xscale('log')\n",
    "axs[0].set_yscale('log')\n",
    "axs[0].set_xlim(lCen[Ipos][0], lCen[Ipos][-1])\n",
    "axs[1].set_xlim(lCen[Ipos][0], lCen[Ipos][-1])\n",
    "axs[2].set_xlim(lCen[Ipos][0], lCen[Ipos][-1])\n",
    "\n",
    "axs[1].set_xscale('log')\n",
    "# axs[1].set_yscale('log')\n",
    "\n",
    "# axs[1].fill_between([0, 1e20], [-0.001, -0.001], [0.001, 0.001], alpha=1, color='0.85')#, label=r'$<1\\%$ Error')\n",
    "\n",
    "axs[1].axhline(0, c='red')\n",
    "\n",
    "axs[1].set_ylim(-.98e-2, .98e-2)\n",
    "\n",
    "\n",
    "\n",
    "\n",
    "axs[2].set_xscale('log')\n",
    "axs[2].axhline(0, c='green')\n",
    "axs[2].set_ylim(-.98e-1, .98e-1)\n",
    "\n",
    "axs[1].set_ylabel('Binned \\nFrac. \\nResidual')\n",
    "axs[2].set_ylabel('Un-binned \\nFrac. \\nResidual')\n",
    "axs[2].set_xlabel(r'$L$')\n"
   ]
  },
  {
   "cell_type": "code",
   "execution_count": null,
   "id": "076d4556",
   "metadata": {},
   "outputs": [],
   "source": []
  }
 ],
 "metadata": {
  "kernelspec": {
   "display_name": "nblensing",
   "language": "python",
   "name": "nblensing"
  },
  "language_info": {
   "codemirror_mode": {
    "name": "ipython",
    "version": 3
   },
   "file_extension": ".py",
   "mimetype": "text/x-python",
   "name": "python",
   "nbconvert_exporter": "python",
   "pygments_lexer": "ipython3",
   "version": "3.9.16"
  }
 },
 "nbformat": 4,
 "nbformat_minor": 5
}
